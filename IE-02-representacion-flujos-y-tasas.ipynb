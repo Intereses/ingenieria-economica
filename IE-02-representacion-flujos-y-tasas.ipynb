{
 "cells": [
  {
   "cell_type": "markdown",
   "metadata": {},
   "source": [
    "Representación de flujos de caja y tasas de interés\n",
    "==="
   ]
  },
  {
   "cell_type": "markdown",
   "metadata": {},
   "source": [
    "Notas de clase sobre ingeniería economica avanzada usando Python\n",
    "\n",
    "**Juan David Velásquez Henao**  \n",
    "jdvelasq@unal.edu.co   \n",
    "Universidad Nacional de Colombia, Sede Medellín  \n",
    "Facultad de Minas  \n",
    "Medellín, Colombia "
   ]
  },
  {
   "cell_type": "markdown",
   "metadata": {},
   "source": [
    "**Software utilizado**\n",
    ">Este es un documento interactivo escrito como un notebook de [Jupyter](http://jupyter.org/) , en el cual se presenta un tutorial sobre finanzas corporativas usando Python. Los notebooks de Jupyter permiten incoporar simultáneamente código, texto, gráficos y ecuaciones. El código presentado en este notebook puede ejecutarse en los sistemas operativos Linux y OS X.  \n",
    "\n",
    ">Haga click [aquí](https://github.com/jdvelasq/guias-de-instalacion) para obtener instrucciones detalladas sobre como instalar Jupyter en Windows y Mac OS X.\n",
    "\n",
    ">Descargue la última versión de este documento a su disco duro; luego, carguelo y ejecutelo en línea en Try [Jupyter!](https://try.jupyter.org/)\n",
    "\n"
   ]
  },
  {
   "cell_type": "markdown",
   "metadata": {},
   "source": [
    "#### Contenido"
   ]
  },
  {
   "cell_type": "markdown",
   "metadata": {},
   "source": [
    ">"
   ]
  },
  {
   "cell_type": "markdown",
   "metadata": {},
   "source": [
    "**Bibliografía**  "
   ]
  },
  {
   "cell_type": "markdown",
   "metadata": {},
   "source": [
    "> * [1] SAS/ETS 14.1 User's Guide, 2015.   \n",
    "* [2] **hp** 12c platinum financial calculator. User's guide. \n",
    "* [3] HP Business Consultant II Owner's manual.\n",
    "* [4] C.S. Park and G.P. Sharp-Bette. Advanced Engineering Economics. John Wiley & Sons, Inc., 1990."
   ]
  },
  {
   "cell_type": "code",
   "execution_count": 1,
   "metadata": {
    "collapsed": false
   },
   "outputs": [],
   "source": [
    "import cashflow as cf"
   ]
  },
  {
   "cell_type": "markdown",
   "metadata": {
    "collapsed": true
   },
   "source": [
    "# Conversión de tasas de interés"
   ]
  },
  {
   "cell_type": "markdown",
   "metadata": {},
   "source": [
    "## Interés anticipado e interés vencido"
   ]
  },
  {
   "cell_type": "markdown",
   "metadata": {},
   "source": [
    "[Contenido](#Contenido)"
   ]
  },
  {
   "cell_type": "markdown",
   "metadata": {},
   "source": [
    "<img src=\"images/antxven.png\" width=500>"
   ]
  },
  {
   "cell_type": "markdown",
   "metadata": {},
   "source": [
    "**Interés vencido:** se paga al final del periodo.  "
   ]
  },
  {
   "cell_type": "markdown",
   "metadata": {},
   "source": [
    "$$F=P(1+r)$$"
   ]
  },
  {
   "cell_type": "markdown",
   "metadata": {},
   "source": [
    "**Interés anticipado:** se paga al inicio del periodo (antes de su causación). En este caso surge una paradoja, que el interés se puede reinvertir a la misma tasa de interés (anticipadamente):"
   ]
  },
  {
   "cell_type": "markdown",
   "metadata": {},
   "source": [
    "$$F = P + Pr_*  + Pr_*^2 + ...$$"
   ]
  },
  {
   "cell_type": "markdown",
   "metadata": {},
   "source": [
    "La suma infinita anterior puede reescribirse como:"
   ]
  },
  {
   "cell_type": "markdown",
   "metadata": {},
   "source": [
    "$$F=P \\frac{1}{1 - r_*}$$"
   ]
  },
  {
   "cell_type": "markdown",
   "metadata": {},
   "source": [
    "Igualando las dos ecuaciones anteriores:"
   ]
  },
  {
   "cell_type": "markdown",
   "metadata": {},
   "source": [
    "$$\\frac{1}{1 - r_*}=1+r ~,~~ r=\\frac{r_*}{1 - r_*} ~,~~ r_*=\\frac{r}{1 + r}$$  "
   ]
  },
  {
   "cell_type": "markdown",
   "metadata": {},
   "source": [
    "Interés efectivo anual: "
   ]
  },
  {
   "cell_type": "markdown",
   "metadata": {},
   "source": [
    "$$r_a=\\left[1+\\left (\\frac{r_*}{1-r_*}\\right)\\right]^n-1$$"
   ]
  },
  {
   "cell_type": "markdown",
   "metadata": {},
   "source": [
    "**`cashflow`** tiene las funciones `nom2eff()` y `eff2nom()` para realizar las conversiones entre nominal (anticipado y vencido) y efectivo respectivamente."
   ]
  },
  {
   "cell_type": "markdown",
   "metadata": {},
   "source": [
    "**Ejemplo.--** Se solicita un prestamo a un año con un interés anticipado del 20%. ¿Determine el interés efectivo pagado por el dinero?"
   ]
  },
  {
   "cell_type": "code",
   "execution_count": 2,
   "metadata": {
    "collapsed": false
   },
   "outputs": [
    {
     "data": {
      "text/plain": [
       "0.25"
      ]
     },
     "execution_count": 2,
     "metadata": {},
     "output_type": "execute_result"
    }
   ],
   "source": [
    "0.2 / (1 - 0.2)"
   ]
  },
  {
   "cell_type": "code",
   "execution_count": 3,
   "metadata": {
    "collapsed": false
   },
   "outputs": [
    {
     "data": {
      "text/plain": [
       "0.25"
      ]
     },
     "execution_count": 3,
     "metadata": {},
     "output_type": "execute_result"
    }
   ],
   "source": [
    "cf.nom2eff(0.20, cyr = -1)"
   ]
  },
  {
   "cell_type": "markdown",
   "metadata": {},
   "source": [
    "**Ejemplo.--** Si se desea obtener una tasa efectiva anual del 36%, ¿cuánto se deberá cobrar en forma anticipada anual para obenerla?"
   ]
  },
  {
   "cell_type": "code",
   "execution_count": 4,
   "metadata": {
    "collapsed": false
   },
   "outputs": [
    {
     "data": {
      "text/plain": [
       "0.2647058823529412"
      ]
     },
     "execution_count": 4,
     "metadata": {},
     "output_type": "execute_result"
    }
   ],
   "source": [
    "0.36 / (1 + 0.36)"
   ]
  },
  {
   "cell_type": "code",
   "execution_count": 5,
   "metadata": {
    "collapsed": false
   },
   "outputs": [
    {
     "data": {
      "text/plain": [
       "0.2647058823529411"
      ]
     },
     "execution_count": 5,
     "metadata": {},
     "output_type": "execute_result"
    }
   ],
   "source": [
    "cf.eff2nom(0.36, cyr = -1)"
   ]
  },
  {
   "cell_type": "markdown",
   "metadata": {},
   "source": [
    "## Interés nominal e interés efectivo"
   ]
  },
  {
   "cell_type": "markdown",
   "metadata": {},
   "source": [
    "[Contenido](#Contenido)"
   ]
  },
  {
   "cell_type": "markdown",
   "metadata": {},
   "source": [
    "**Interés nominal** (r): expresado sobre una base anual para un número M de periodos de pago en el año. "
   ]
  },
  {
   "cell_type": "markdown",
   "metadata": {},
   "source": [
    "**Interés efectivo por periodo de pago **($i$): representa el interés real para cada periodo de pago en el año.  "
   ]
  },
  {
   "cell_type": "markdown",
   "metadata": {},
   "source": [
    "**Interés efectivo anual** ($i_a$): interés real para un periodo único de pago de un año.  "
   ]
  },
  {
   "cell_type": "markdown",
   "metadata": {},
   "source": [
    "$$ i= \\frac{r}{M},$$  \n",
    "$$i_\\alpha = \\left( \\displaystyle 1 + \\frac{r}{M}\\right)^M - 1 $$"
   ]
  },
  {
   "cell_type": "markdown",
   "metadata": {},
   "source": [
    "**Ejemplo.--** Se está considerando abrir una cuenta de ahorros en uno de tres bancos. Cuál banco tienen la tasa de interés más favorable?"
   ]
  },
  {
   "cell_type": "markdown",
   "metadata": {},
   "source": [
    "* Banco #1: 6.72% anual, compuesto semestralmente"
   ]
  },
  {
   "cell_type": "markdown",
   "metadata": {},
   "source": [
    "* Banco #1: 6.70% anual, compuesto trimestralmente."
   ]
  },
  {
   "cell_type": "markdown",
   "metadata": {},
   "source": [
    "* Banco #2: 6.65% anual, compuesto mensualmente."
   ]
  },
  {
   "cell_type": "code",
   "execution_count": 6,
   "metadata": {
    "collapsed": false
   },
   "outputs": [
    {
     "data": {
      "text/plain": [
       "0.0683289600000001"
      ]
     },
     "execution_count": 6,
     "metadata": {},
     "output_type": "execute_result"
    }
   ],
   "source": [
    "cf.nom2eff(0.0672, cyr =  2)  ## Banco 1"
   ]
  },
  {
   "cell_type": "code",
   "execution_count": 7,
   "metadata": {
    "collapsed": false
   },
   "outputs": [
    {
     "data": {
      "text/plain": [
       "0.0687022514028166"
      ]
     },
     "execution_count": 7,
     "metadata": {},
     "output_type": "execute_result"
    }
   ],
   "source": [
    "cf.nom2eff(0.0670, cyr =  4)  ## Banco 2 -- mejor opción "
   ]
  },
  {
   "cell_type": "code",
   "execution_count": 8,
   "metadata": {
    "collapsed": false
   },
   "outputs": [
    {
     "data": {
      "text/plain": [
       "0.0685647762811652"
      ]
     },
     "execution_count": 8,
     "metadata": {},
     "output_type": "execute_result"
    }
   ],
   "source": [
    "cf.nom2eff(0.0665, cyr = 12)  ## Banco 3"
   ]
  },
  {
   "cell_type": "code",
   "execution_count": 9,
   "metadata": {
    "collapsed": false
   },
   "outputs": [
    {
     "data": {
      "text/plain": [
       "[0.0683289600000001, 0.8722861102643793, 0.0685647762811652]"
      ]
     },
     "execution_count": 9,
     "metadata": {},
     "output_type": "execute_result"
    }
   ],
   "source": [
    "## Otra forma\n",
    "cf.nom2eff([0.0672, 0.679, 0.0665], cyr = [2, 4, 12])"
   ]
  },
  {
   "cell_type": "markdown",
   "metadata": {},
   "source": [
    "**Ejemplo.--** Convierta una tasa del 12% anual compuesto semestralmente a anual compuesto mensualmente."
   ]
  },
  {
   "cell_type": "code",
   "execution_count": 10,
   "metadata": {
    "collapsed": false
   },
   "outputs": [
    {
     "data": {
      "text/plain": [
       "0.11710553015030811"
      ]
     },
     "execution_count": 10,
     "metadata": {},
     "output_type": "execute_result"
    }
   ],
   "source": [
    "eff = cf.nom2eff(0.12, cyr = 2) ## efectiva por año \n",
    "cf.eff2nom(eff, cyr = 12)       ## nominal compuesta mensualmente"
   ]
  },
  {
   "cell_type": "markdown",
   "metadata": {},
   "source": [
    "**Ejemplo.--** Sea un interés nominal del 12% capitalizado mensualmente. Calcule:\n",
    "\n",
    "* Tasa efectiva mensual\n",
    "* Tasa efectiva trimestral\n",
    "* Tasa efectiva anual\n",
    "\n",
    "<img src=\"images/tasa-nominal-efectiva.png\" width=600>"
   ]
  },
  {
   "cell_type": "code",
   "execution_count": 11,
   "metadata": {
    "collapsed": false
   },
   "outputs": [
    {
     "data": {
      "text/plain": [
       "0.01"
      ]
     },
     "execution_count": 11,
     "metadata": {},
     "output_type": "execute_result"
    }
   ],
   "source": [
    "## tasa efectiva mensual\n",
    "0.12 / 12"
   ]
  },
  {
   "cell_type": "code",
   "execution_count": 12,
   "metadata": {
    "collapsed": false
   },
   "outputs": [
    {
     "data": {
      "text/plain": [
       "0.030301000000000133"
      ]
     },
     "execution_count": 12,
     "metadata": {},
     "output_type": "execute_result"
    }
   ],
   "source": [
    "## tasa efectiva trimestral\n",
    "cf.nom2eff(3 * 0.12 / 12, cyr = 3)"
   ]
  },
  {
   "cell_type": "code",
   "execution_count": 13,
   "metadata": {
    "collapsed": false
   },
   "outputs": [
    {
     "data": {
      "text/plain": [
       "0.12682503013196977"
      ]
     },
     "execution_count": 13,
     "metadata": {},
     "output_type": "execute_result"
    }
   ],
   "source": [
    "## tasa efectiva anual\n",
    "cf.nom2eff(0.12, 12)"
   ]
  },
  {
   "cell_type": "markdown",
   "metadata": {},
   "source": [
    "## Nomenclatura"
   ]
  },
  {
   "cell_type": "markdown",
   "metadata": {},
   "source": [
    "[Contenido](#Contenido)"
   ]
  },
  {
   "cell_type": "markdown",
   "metadata": {},
   "source": [
    "<img src=\"images/nomenclatura.png\" width=600>"
   ]
  },
  {
   "cell_type": "markdown",
   "metadata": {},
   "source": [
    "---"
   ]
  },
  {
   "cell_type": "markdown",
   "metadata": {},
   "source": [
    "## Ejercicios"
   ]
  },
  {
   "cell_type": "markdown",
   "metadata": {},
   "source": [
    "**Ejercicio.--** Cuál es la tasa efectiva anual equivalente a 15% N.A.M.V. (nominal anual mes vencido)?"
   ]
  },
  {
   "cell_type": "code",
   "execution_count": null,
   "metadata": {
    "collapsed": true
   },
   "outputs": [],
   "source": []
  },
  {
   "cell_type": "markdown",
   "metadata": {},
   "source": [
    "**Ejercicio.--** Cuál es la tasa efectiva anual equivalente a 23% N.A.T.A. (nominal anual trimestre anticipado)?"
   ]
  },
  {
   "cell_type": "code",
   "execution_count": null,
   "metadata": {
    "collapsed": true
   },
   "outputs": [],
   "source": []
  },
  {
   "cell_type": "markdown",
   "metadata": {},
   "source": [
    "**Ejercicio.--** Sea un interés nominal del 39.29% capitalizado mensualmente a cuánto equivale en términos semestrales? (R/ 6.15%)"
   ]
  },
  {
   "cell_type": "code",
   "execution_count": null,
   "metadata": {
    "collapsed": true
   },
   "outputs": [],
   "source": []
  },
  {
   "cell_type": "markdown",
   "metadata": {},
   "source": [
    "**Ejercicio.--** ¿Cuál es el valor futuro de \\$ 609 dentro de 2 años a una tasa del 2% NATV? "
   ]
  },
  {
   "cell_type": "code",
   "execution_count": null,
   "metadata": {
    "collapsed": true
   },
   "outputs": [],
   "source": []
  },
  {
   "cell_type": "markdown",
   "metadata": {},
   "source": [
    "**Ejercicio.--** ¿Cuál es el valor presente de un pago único de \\$ 890 recibido dentro de 6 años a una tasa de 2.7% NATA?   "
   ]
  },
  {
   "cell_type": "code",
   "execution_count": null,
   "metadata": {
    "collapsed": true
   },
   "outputs": [],
   "source": []
  },
  {
   "cell_type": "markdown",
   "metadata": {},
   "source": [
    "**Ejercicio.--** ¿Qué cantidad de dinero se poseerá después de prestar \\$ 2300 al 27% NAMA durante 3 años?"
   ]
  },
  {
   "cell_type": "code",
   "execution_count": null,
   "metadata": {
    "collapsed": true
   },
   "outputs": [],
   "source": []
  },
  {
   "cell_type": "markdown",
   "metadata": {},
   "source": [
    "**Ejercicio.--** ¿Cuál es la tasa efectiva semestral equivalente al 14% NMTA?"
   ]
  },
  {
   "cell_type": "code",
   "execution_count": null,
   "metadata": {
    "collapsed": true
   },
   "outputs": [],
   "source": []
  },
  {
   "cell_type": "markdown",
   "metadata": {},
   "source": [
    "**Ejercicio.--** ¿Cuánto dinero mensual se debe empezar a abonar hoy si se desea reunir \\$ 28700 al final de 5 años y los ahorros rentan el 16%?"
   ]
  },
  {
   "cell_type": "code",
   "execution_count": null,
   "metadata": {
    "collapsed": true
   },
   "outputs": [],
   "source": []
  },
  {
   "cell_type": "markdown",
   "metadata": {
    "collapsed": true
   },
   "source": [
    "**Ejercicio.--**  Se decide ahorrar mensualmente \\$ 900 los cuales depositará al principio de cada mes en una entidad financiera que paga un interés del 30%. ¿Cuánto habrá acumulado al cabo de 2 años?"
   ]
  },
  {
   "cell_type": "code",
   "execution_count": null,
   "metadata": {
    "collapsed": true
   },
   "outputs": [],
   "source": []
  },
  {
   "cell_type": "markdown",
   "metadata": {},
   "source": [
    "---"
   ]
  },
  {
   "cell_type": "markdown",
   "metadata": {},
   "source": [
    "# Representación de tasas de interés usando `cashflow`"
   ]
  },
  {
   "cell_type": "markdown",
   "metadata": {},
   "source": [
    "En la modelación financiera es común tener que representar tasas de interés que cambian en el tiempo. La librería **`cashflow`** permite realizar esta tarea. En la tabla que se presenta a continuación, la columna `n`  indica para que periodos se aplica el valor correspondiente de la tasa (columna `rate`). Por definición, la tasa para el periodo 0 siempre es 0."
   ]
  },
  {
   "cell_type": "code",
   "execution_count": 14,
   "metadata": {
    "collapsed": false
   },
   "outputs": [
    {
     "data": {
      "text/plain": [
       "  time          rate    \n",
       "------------------------\n",
       "  0           0.0000\n",
       "  1-5         0.1000"
      ]
     },
     "execution_count": 14,
     "metadata": {},
     "output_type": "execute_result"
    }
   ],
   "source": [
    "## tasa de interés constante\n",
    "cf.Rate(initRate = 0.1,  # valor inicial del 10%\n",
    "        nper = 5)        # número de periodos (se incluye el periodo cero  \n",
    "                         # por compatibilidad en la representación de flujos\n",
    "                         # de efectivo)"
   ]
  },
  {
   "cell_type": "code",
   "execution_count": 15,
   "metadata": {
    "collapsed": false
   },
   "outputs": [
    {
     "data": {
      "text/plain": [
       "[0, 0.1, 0.1, 0.1, 0.1, 0.1]"
      ]
     },
     "execution_count": 15,
     "metadata": {},
     "output_type": "execute_result"
    }
   ],
   "source": [
    "## lista de tasas (como una lista)\n",
    "cf.Rate(initRate = 0.1, nper = 5).tolist()"
   ]
  },
  {
   "cell_type": "code",
   "execution_count": 16,
   "metadata": {
    "collapsed": false
   },
   "outputs": [
    {
     "data": {
      "text/plain": [
       "  time          rate    \n",
       "------------------------\n",
       "  0           0.0000\n",
       "  1-3         0.1000\n",
       "  4-10        0.2000"
      ]
     },
     "execution_count": 16,
     "metadata": {},
     "output_type": "execute_result"
    }
   ],
   "source": [
    "## en el periodo 4 la tasa cambia de 10% al 20% (cambio único)\n",
    "cf.Rate(initRate = 0.1,            # tasa inicial del 10%\n",
    "        nper = 10,                 # número de periodos\n",
    "        modifications = (4, 0.2))  # tupla (tiempo, valor)"
   ]
  },
  {
   "cell_type": "code",
   "execution_count": 17,
   "metadata": {
    "collapsed": false
   },
   "outputs": [
    {
     "data": {
      "text/plain": [
       "  time          rate    \n",
       "------------------------\n",
       "  0           0.0000\n",
       "  1-2         0.1000\n",
       "  3-5         0.2000\n",
       "  6-10        0.3000"
      ]
     },
     "execution_count": 17,
     "metadata": {},
     "output_type": "execute_result"
    }
   ],
   "source": [
    "## es posible introducir una lista de cambios en el tiempo\n",
    "## mediante una lista de tuplas\n",
    "cf.Rate(initRate = 0.1,                   # tasa inicial del 10%\n",
    "        nper = 10,                        # numero de periodos\n",
    "        modifications = [(3, 0.2),        # cambia en 3 al 20%\n",
    "                         (6, 0.3)])       # cambia en 6 al 30%"
   ]
  },
  {
   "cell_type": "code",
   "execution_count": 18,
   "metadata": {
    "collapsed": false
   },
   "outputs": [
    {
     "data": {
      "text/plain": [
       "  time          rate    \n",
       "------------------------\n",
       "  0           0.0000\n",
       "  1           0.1000\n",
       "  2-3         0.2000\n",
       "  4-6         0.3000"
      ]
     },
     "execution_count": 18,
     "metadata": {},
     "output_type": "execute_result"
    }
   ],
   "source": [
    "## es posible extender al principio y al final \n",
    "## los datos de tasa de interes\n",
    "x = cf.Rate(initRate = 0.1,                   # tasa inicial del 10%\n",
    "            nper = 6,                         # numero de periodos\n",
    "            modifications = [(2, 0.2),        # cambia en 2 al 20%\n",
    "                             (4, 0.3)])       # cambia en 4 al 30%\n",
    "x"
   ]
  },
  {
   "cell_type": "code",
   "execution_count": 19,
   "metadata": {
    "collapsed": false
   },
   "outputs": [
    {
     "data": {
      "text/plain": [
       "  time          rate    \n",
       "------------------------\n",
       "  0           0.0000\n",
       "  1-4         0.1000\n",
       "  5-6         0.2000\n",
       "  7-13        0.3000"
      ]
     },
     "execution_count": 19,
     "metadata": {},
     "output_type": "execute_result"
    }
   ],
   "source": [
    "## desplazamiento en el tiempo\n",
    "x.timeOffset(start = 3,         # desplaza 3 periodos al principio\n",
    "             end   = 4)         # agrega 4 periodos al final\n",
    "x"
   ]
  },
  {
   "cell_type": "markdown",
   "metadata": {},
   "source": [
    "**Ejemplo.--** Se va a tomar un crédito a 48 meses. La tasa inicial es del 3% y aumenta un punto cada año. Represente la tasa de interés."
   ]
  },
  {
   "cell_type": "code",
   "execution_count": 20,
   "metadata": {
    "collapsed": false
   },
   "outputs": [
    {
     "data": {
      "text/plain": [
       "  time          rate    \n",
       "------------------------\n",
       "  0           0.0000\n",
       "  1-12        0.0300\n",
       "  13-24       0.0400\n",
       "  25-36       0.0500\n",
       "  37-48       0.0600"
      ]
     },
     "execution_count": 20,
     "metadata": {},
     "output_type": "execute_result"
    }
   ],
   "source": [
    "cf.Rate(initRate = 0.03,                  # tasa inicial\n",
    "        nper = 48,                        # numero de periodos\n",
    "        modifications = [(13, 0.04),      # tasa para el año 2\n",
    "                         (25, 0.05),      # tasa para el año 3\n",
    "                         (37, 0.06)])     # tasa para el año 4"
   ]
  },
  {
   "cell_type": "markdown",
   "metadata": {},
   "source": [
    "# Representación de flujos genéricos de caja"
   ]
  },
  {
   "cell_type": "markdown",
   "metadata": {},
   "source": [
    "**`cashflow`** también permite la representación de flujos de efectivo en forma similar (pero no igual) a las tasas de interés, pero en este caso las tuplas (time, value) representan valores puntuales en el tiempo.  "
   ]
  },
  {
   "cell_type": "code",
   "execution_count": 21,
   "metadata": {
    "collapsed": false
   },
   "outputs": [
    {
     "data": {
      "text/plain": [
       "  time                Values\n",
       "-----------------------------\n",
       "  0-15                  0.00"
      ]
     },
     "execution_count": 21,
     "metadata": {},
     "output_type": "execute_result"
    }
   ],
   "source": [
    "## por defecto se crea un flujo de efectivo de cero \n",
    "cf.Cashflow(15)"
   ]
  },
  {
   "cell_type": "code",
   "execution_count": 22,
   "metadata": {
    "collapsed": false
   },
   "outputs": [
    {
     "data": {
      "text/plain": [
       "  time                Values\n",
       "-----------------------------\n",
       "  0                 -1000.00\n",
       "  1-15                  0.00"
      ]
     },
     "execution_count": 22,
     "metadata": {},
     "output_type": "execute_result"
    }
   ],
   "source": [
    "## un valor puntual puede ser introducido mediante una tupla\n",
    "cf.Cashflow(15,           # longitud\n",
    "            (0, -1000))   # para t = 0, el valor es de -$1000"
   ]
  },
  {
   "cell_type": "code",
   "execution_count": 23,
   "metadata": {
    "collapsed": false
   },
   "outputs": [
    {
     "data": {
      "text/plain": [
       "  time                Values\n",
       "-----------------------------\n",
       "  0                 -1000.00\n",
       "  1-14                  0.00\n",
       "  15                 1000.00"
      ]
     },
     "execution_count": 23,
     "metadata": {},
     "output_type": "execute_result"
    }
   ],
   "source": [
    "## se pueden especificar varios valores mediante una lista de tuplas\n",
    "cf.Cashflow(15,             # longitud\n",
    "            [( 0, -1000),    # (time, value)\n",
    "             (15,  1000)])   # (time, value)"
   ]
  },
  {
   "cell_type": "code",
   "execution_count": 24,
   "metadata": {
    "collapsed": false
   },
   "outputs": [
    {
     "data": {
      "text/plain": [
       "  time                Values\n",
       "-----------------------------\n",
       "  0                 -1000.00\n",
       "  1-14                  0.00\n",
       "  15                 1000.00"
      ]
     },
     "execution_count": 24,
     "metadata": {},
     "output_type": "execute_result"
    }
   ],
   "source": [
    "## un flujo de caja es un objeto que puede guardarse \n",
    "## en una variable para usarse después\n",
    "x = cf.Cashflow(15,             # longitud\n",
    "                [( 0, -1000),    # (time, value)\n",
    "                 (15,  1000)])   # (time, value)\n",
    "x"
   ]
  },
  {
   "cell_type": "code",
   "execution_count": 25,
   "metadata": {
    "collapsed": false
   },
   "outputs": [
    {
     "data": {
      "text/plain": [
       "-1000"
      ]
     },
     "execution_count": 25,
     "metadata": {},
     "output_type": "execute_result"
    }
   ],
   "source": [
    "## es posible alterar y acceder a valores individuales \n",
    "## para cada periodo de tiempo usando []\n",
    "x[0]"
   ]
  },
  {
   "cell_type": "code",
   "execution_count": 26,
   "metadata": {
    "collapsed": false
   },
   "outputs": [
    {
     "data": {
      "text/plain": [
       "1000"
      ]
     },
     "execution_count": 26,
     "metadata": {},
     "output_type": "execute_result"
    }
   ],
   "source": [
    "x[15]"
   ]
  },
  {
   "cell_type": "code",
   "execution_count": 27,
   "metadata": {
    "collapsed": false
   },
   "outputs": [
    {
     "data": {
      "text/plain": [
       "0"
      ]
     },
     "execution_count": 27,
     "metadata": {},
     "output_type": "execute_result"
    }
   ],
   "source": [
    "x[3]"
   ]
  },
  {
   "cell_type": "code",
   "execution_count": 28,
   "metadata": {
    "collapsed": false
   },
   "outputs": [
    {
     "data": {
      "text/plain": [
       "  time                Values\n",
       "-----------------------------\n",
       "  0                 -1000.00\n",
       "  1                     0.00\n",
       "  2                   200.00\n",
       "  3-14                  0.00\n",
       "  15                 1000.00"
      ]
     },
     "execution_count": 28,
     "metadata": {},
     "output_type": "execute_result"
    }
   ],
   "source": [
    "x[2] = 200\n",
    "x"
   ]
  },
  {
   "cell_type": "markdown",
   "metadata": {},
   "source": [
    "En algunos casos es necesario introducir patrones de flujo más complejos. "
   ]
  },
  {
   "cell_type": "code",
   "execution_count": 29,
   "metadata": {
    "collapsed": false
   },
   "outputs": [
    {
     "data": {
      "text/plain": [
       "  time                Values\n",
       "-----------------------------\n",
       "  0-4                   0.00\n",
       "  5-9                 100.00\n",
       "  10-20                 0.00"
      ]
     },
     "execution_count": 29,
     "metadata": {},
     "output_type": "execute_result"
    }
   ],
   "source": [
    "## para  5 <= t < 10, el valor es $ 100, y 0 en el resto de los casos\n",
    "cf.Cashflow(20,             \n",
    "            [(t, 100) for t in range(5,10)])"
   ]
  },
  {
   "cell_type": "code",
   "execution_count": 30,
   "metadata": {
    "collapsed": false
   },
   "outputs": [
    {
     "data": {
      "text/plain": [
       "  time                Values\n",
       "-----------------------------\n",
       "  0                     0.00\n",
       "  1-5                 100.00\n",
       "  6-10                150.00\n",
       "  11-15               200.00"
      ]
     },
     "execution_count": 30,
     "metadata": {},
     "output_type": "execute_result"
    }
   ],
   "source": [
    "## un flujo escalonado\n",
    "a = [(t, 100) for t in range( 1, 6)]\n",
    "b = [(t, 150) for t in range( 6,11)]\n",
    "c = [(t, 200) for t in range(11,16)]\n",
    "\n",
    "cf.Cashflow(15, a + b + c)"
   ]
  },
  {
   "cell_type": "code",
   "execution_count": 31,
   "metadata": {
    "collapsed": false
   },
   "outputs": [
    {
     "data": {
      "text/plain": [
       "  time                Values\n",
       "-----------------------------\n",
       "  0-4                   0.00\n",
       "  5                   100.00\n",
       "  6                   110.00\n",
       "  7                   120.00\n",
       "  8                   130.00\n",
       "  9                   140.00\n",
       "  10-15                 0.00"
      ]
     },
     "execution_count": 31,
     "metadata": {},
     "output_type": "execute_result"
    }
   ],
   "source": [
    "## flujo con gradiente aritmético (incremento de 10 por periodo)\n",
    "## es posible adicionar o substraer \n",
    "## valores usando las funciones add y sub\n",
    "cf.Cashflow(15).add([(t, 100 + (t-5) * 10) for t in range(5,10)])"
   ]
  },
  {
   "cell_type": "code",
   "execution_count": 32,
   "metadata": {
    "collapsed": false
   },
   "outputs": [
    {
     "data": {
      "text/plain": [
       "  time                Values\n",
       "-----------------------------\n",
       "  0-4                   0.00\n",
       "  5                   100.00\n",
       "  6                   105.00\n",
       "  7                   110.25\n",
       "  8                   115.76\n",
       "  9                   121.55\n",
       "  10-15                 0.00"
      ]
     },
     "execution_count": 32,
     "metadata": {},
     "output_type": "execute_result"
    }
   ],
   "source": [
    "## flujo con gradiente geométrico (aumento del 5% por periodo)\n",
    "cf.Cashflow(15).add([(t, 100 * 1.05 ** (t-5)) for t in range(5,10)])"
   ]
  },
  {
   "cell_type": "code",
   "execution_count": 33,
   "metadata": {
    "collapsed": false
   },
   "outputs": [
    {
     "data": {
      "text/plain": [
       "  time                Values\n",
       "-----------------------------\n",
       "  0-4                   0.00\n",
       "  5                  -100.00\n",
       "  6                  -105.00\n",
       "  7                  -110.25\n",
       "  8                  -115.76\n",
       "  9                  -121.55\n",
       "  10-15                 0.00"
      ]
     },
     "execution_count": 33,
     "metadata": {},
     "output_type": "execute_result"
    }
   ],
   "source": [
    "## flujo con gradiente geométrico (aumento del 5% por periodo)\n",
    "cf.Cashflow(15).sub([(t, 100 * 1.05 ** (t-5)) for t in range(5,10)])"
   ]
  },
  {
   "cell_type": "code",
   "execution_count": 34,
   "metadata": {
    "collapsed": false
   },
   "outputs": [
    {
     "data": {
      "text/plain": [
       "  time                Values\n",
       "-----------------------------\n",
       "  0                     0.00\n",
       "  1                   100.00\n",
       "  2-8                   0.00\n",
       "  9                   100.00\n",
       "  10                    0.00"
      ]
     },
     "execution_count": 34,
     "metadata": {},
     "output_type": "execute_result"
    }
   ],
   "source": [
    "## también es posible sumar dos flujos\n",
    "cf.Cashflow(10, (1, 100)) + cf.Cashflow(10, (9, 100))"
   ]
  },
  {
   "cell_type": "code",
   "execution_count": 35,
   "metadata": {
    "collapsed": false,
    "scrolled": true
   },
   "outputs": [
    {
     "data": {
      "text/plain": [
       "  time                Values\n",
       "-----------------------------\n",
       "  0                     0.00\n",
       "  1                   100.00\n",
       "  2-4                   0.00\n",
       "  5                   100.00\n",
       "  6-8                   0.00\n",
       "  9                   100.00\n",
       "  10                    0.00"
      ]
     },
     "execution_count": 35,
     "metadata": {},
     "output_type": "execute_result"
    }
   ],
   "source": [
    "## también es posible sumar dos flujos\n",
    "sum([cf.Cashflow(10, (1, 100)), cf.Cashflow(10, (9, 100)), cf.Cashflow(10, (5, 100))])"
   ]
  },
  {
   "cell_type": "code",
   "execution_count": 36,
   "metadata": {
    "collapsed": false
   },
   "outputs": [
    {
     "data": {
      "text/plain": [
       "  time                Values\n",
       "-----------------------------\n",
       "  0                     0.00\n",
       "  1                   100.00\n",
       "  2-8                   0.00\n",
       "  9                   100.00\n",
       "  10                    0.00"
      ]
     },
     "execution_count": 36,
     "metadata": {},
     "output_type": "execute_result"
    }
   ],
   "source": [
    "## también es posible sumar dos flujos de diferente longitud\n",
    "cf.Cashflow(5, (1, 100)) + cf.Cashflow(10, (9, 100))"
   ]
  },
  {
   "cell_type": "markdown",
   "metadata": {},
   "source": [
    "---"
   ]
  },
  {
   "cell_type": "markdown",
   "metadata": {},
   "source": [
    "[Contenido](#Contenido)"
   ]
  }
 ],
 "metadata": {
  "kernelspec": {
   "display_name": "Python 3",
   "language": "python",
   "name": "python3"
  },
  "language_info": {
   "codemirror_mode": {
    "name": "ipython",
    "version": 3
   },
   "file_extension": ".py",
   "mimetype": "text/x-python",
   "name": "python",
   "nbconvert_exporter": "python",
   "pygments_lexer": "ipython3",
   "version": "3.5.2"
  }
 },
 "nbformat": 4,
 "nbformat_minor": 0
}
