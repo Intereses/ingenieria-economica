{
 "cells": [
  {
   "cell_type": "markdown",
   "metadata": {
    "slideshow": {
     "slide_type": "slide"
    }
   },
   "source": [
    "Préstamos\n",
    "===\n",
    "\n",
    "**Juan David Velásquez Henao**  \n",
    "jdvelasq@unal.edu.co   \n",
    "Universidad Nacional de Colombia, Sede Medellín  \n",
    "Facultad de Minas  \n",
    "Medellín, Colombia\n",
    "\n",
    "---\n",
    "\n",
    "Haga click [aquí](https://github.com/jdvelasq/ingenieria-economica/blob/master/10-prestamos.ipynb) para acceder a la última versión online.\n",
    "\n",
    "Haga click [aquí](http://nbviewer.jupyter.org/github/jdvelasq/ingenieria-economica/blob/master/10-prestamos.ipynb) para ver la última versión online en `nbviewer`.\n",
    "\n",
    "---"
   ]
  },
  {
   "cell_type": "markdown",
   "metadata": {
    "slideshow": {
     "slide_type": "slide"
    }
   },
   "source": [
    "**Preparación**"
   ]
  },
  {
   "cell_type": "code",
   "execution_count": 1,
   "metadata": {
    "collapsed": true,
    "slideshow": {
     "slide_type": "-"
    }
   },
   "outputs": [],
   "source": [
    "# Importa la librería financiera.\n",
    "# Solo es necesario ejecutar la importación una sola vez.\n",
    "import cashflows as cf"
   ]
  },
  {
   "cell_type": "markdown",
   "metadata": {
    "slideshow": {
     "slide_type": "slide"
    }
   },
   "source": [
    "### Bullet Loan\n",
    "\n",
    "`bullet_loan(amount, nrate, dispoints=0, orgpoints=0, prepmt=None)`\n",
    "\n",
    "En este tipo de préstamo se pagan únicamente intereses durante la vida del crédito; con la última cuota se paga el capital.\n",
    "\n",
    "* `amount` -- monto del crédito.\n",
    "* `nrate` -- tasa nominal de interés.\n",
    "* `dispoints` -- puntos (costo) de descuento como porcentaje de `amount`. Se consideran como intereses anticipados y son deducibles de impuestos.\n",
    "* `orgpoints` -- puntos (costo) de constitución como porcentaje de `amount`. Son costos no deducibles para el pago de impuestos. \n",
    "* `prepmt` -- flujo de efectivo que representa prepago de la deuda."
   ]
  },
  {
   "cell_type": "markdown",
   "metadata": {
    "slideshow": {
     "slide_type": "slide"
    }
   },
   "source": [
    "***Ejemplo.-*** Modele un préstamo de  `$` 1000 a una tasa de interés del 10% y una duración de 10 años."
   ]
  },
  {
   "cell_type": "code",
   "execution_count": 2,
   "metadata": {
    "scrolled": true,
    "slideshow": {
     "slide_type": "fragment"
    }
   },
   "outputs": [
    {
     "data": {
      "text/plain": [
       "t        Beg.    Per.   Total    Int.    Ppal  Ending\n",
       "         Ppal    Rate     Pmt     Pmt     Pmt    Ppal\n",
       "-----------------------------------------------------\n",
       "(0,)     0.00   10.00    0.00    0.00    0.00 1000.00\n",
       "(1,)  1000.00   10.00  100.00  100.00    0.00 1000.00\n",
       "(2,)  1000.00   10.00  100.00  100.00    0.00 1000.00\n",
       "(3,)  1000.00   10.00  100.00  100.00    0.00 1000.00\n",
       "(4,)  1000.00   10.00  100.00  100.00    0.00 1000.00\n",
       "(5,)  1000.00   10.00  100.00  100.00    0.00 1000.00\n",
       "(6,)  1000.00   10.00  100.00  100.00    0.00 1000.00\n",
       "(7,)  1000.00   10.00  100.00  100.00    0.00 1000.00\n",
       "(8,)  1000.00   10.00  100.00  100.00    0.00 1000.00\n",
       "(9,)  1000.00   10.00  100.00  100.00    0.00 1000.00\n",
       "(10,) 1000.00   10.00 1100.00  100.00 1000.00    0.00"
      ]
     },
     "execution_count": 2,
     "metadata": {},
     "output_type": "execute_result"
    }
   ],
   "source": [
    "cf.bullet_loan(amount=1000, \n",
    "               nrate=cf.interest_rate(const_value=10, nper=11), \n",
    "               dispoints=0, \n",
    "               orgpoints=0, \n",
    "               prepmt=None)  "
   ]
  },
  {
   "cell_type": "code",
   "execution_count": 3,
   "metadata": {
    "scrolled": true,
    "slideshow": {
     "slide_type": "slide"
    }
   },
   "outputs": [
    {
     "data": {
      "text/plain": [
       "t        Beg.    Per.   Total    Int.    Ppal  Ending\n",
       "         Ppal    Rate     Pmt     Pmt     Pmt    Ppal\n",
       "-----------------------------------------------------\n",
       "(0,)     0.00   10.00    0.00    0.00    0.00 1000.00\n",
       "(1,)  1000.00   10.00  100.00  100.00    0.00 1000.00\n",
       "(2,)  1000.00   10.00  100.00  100.00    0.00 1000.00\n",
       "(3,)  1000.00   10.00  100.00  100.00    0.00 1000.00\n",
       "(4,)  1000.00   10.00  100.00  100.00    0.00 1000.00\n",
       "(5,)  1000.00   10.00  100.00  100.00    0.00 1000.00\n",
       "(6,)  1000.00   10.00  100.00  100.00    0.00 1000.00\n",
       "(7,)  1000.00   10.00  100.00  100.00    0.00 1000.00\n",
       "(8,)  1000.00   10.00  100.00  100.00    0.00 1000.00\n",
       "(9,)  1000.00   10.00  100.00  100.00    0.00 1000.00\n",
       "(10,) 1000.00   10.00 1100.00  100.00 1000.00    0.00"
      ]
     },
     "execution_count": 3,
     "metadata": {},
     "output_type": "execute_result"
    }
   ],
   "source": [
    "## se puede asignar a una variable\n",
    "x = cf.bullet_loan(amount=1000, \n",
    "                   nrate=cf.interest_rate(const_value=10, nper=11), \n",
    "                   dispoints=0, \n",
    "                   orgpoints=0, \n",
    "                   prepmt=None)  \n",
    "x"
   ]
  },
  {
   "cell_type": "code",
   "execution_count": 4,
   "metadata": {
    "slideshow": {
     "slide_type": "fragment"
    }
   },
   "outputs": [
    {
     "data": {
      "text/plain": [
       "Time Series:\n",
       "Start = (0,)\n",
       "End = (10,)\n",
       "pyr = 1\n",
       "Data = (0,)              0.00 \n",
       "       (1,)-(10,) [10] 100.00 "
      ]
     },
     "execution_count": 4,
     "metadata": {},
     "output_type": "execute_result"
    }
   ],
   "source": [
    "## todos los tipos de créditos tiene funciones \n",
    "## para obtener las columnas de la tabla de \n",
    "## amortizacion como un flujo de efectivo\n",
    "x.intpmt"
   ]
  },
  {
   "cell_type": "code",
   "execution_count": 5,
   "metadata": {
    "slideshow": {
     "slide_type": "fragment"
    }
   },
   "outputs": [
    {
     "data": {
      "text/plain": [
       "1000.0"
      ]
     },
     "execution_count": 5,
     "metadata": {},
     "output_type": "execute_result"
    }
   ],
   "source": [
    "sum(x.intpmt)"
   ]
  },
  {
   "cell_type": "code",
   "execution_count": 6,
   "metadata": {
    "slideshow": {
     "slide_type": "fragment"
    }
   },
   "outputs": [
    {
     "data": {
      "text/plain": [
       "Time Series:\n",
       "Start = (0,)\n",
       "End = (10,)\n",
       "pyr = 1\n",
       "Data = (0,)-(9,) [10]    0.00 \n",
       "       (10,)          1000.00 "
      ]
     },
     "execution_count": 6,
     "metadata": {},
     "output_type": "execute_result"
    }
   ],
   "source": [
    "x.ppalpmt  ## pagos a capital"
   ]
  },
  {
   "cell_type": "code",
   "execution_count": 7,
   "metadata": {
    "slideshow": {
     "slide_type": "fragment"
    }
   },
   "outputs": [
    {
     "data": {
      "text/plain": [
       "Time Series:\n",
       "Start = (0,)\n",
       "End = (10,)\n",
       "pyr = 1\n",
       "Data = (0,)               0.00 \n",
       "       (1,)-(10,) [10] 1000.00 "
      ]
     },
     "execution_count": 7,
     "metadata": {},
     "output_type": "execute_result"
    }
   ],
   "source": [
    "x.begppalbal ## balance inicial del período"
   ]
  },
  {
   "cell_type": "code",
   "execution_count": 8,
   "metadata": {
    "slideshow": {
     "slide_type": "fragment"
    }
   },
   "outputs": [
    {
     "data": {
      "text/plain": [
       "Time Series:\n",
       "Start = (0,)\n",
       "End = (10,)\n",
       "pyr = 1\n",
       "Data = (0,)-(9,) [10] 1000.00 \n",
       "       (10,)             0.00 "
      ]
     },
     "execution_count": 8,
     "metadata": {},
     "output_type": "execute_result"
    }
   ],
   "source": [
    "x.endppalbal ## balance final del período"
   ]
  },
  {
   "cell_type": "markdown",
   "metadata": {
    "slideshow": {
     "slide_type": "slide"
    }
   },
   "source": [
    "***Ejemplo.--*** Para el crédito anterior, suponga que se hace un prepago de la deuda por `$` 500 en `t = 5`."
   ]
  },
  {
   "cell_type": "code",
   "execution_count": 9,
   "metadata": {
    "scrolled": true,
    "slideshow": {
     "slide_type": "fragment"
    }
   },
   "outputs": [
    {
     "data": {
      "text/plain": [
       "t        Beg.    Per.   Total    Int.    Ppal  Ending\n",
       "         Ppal    Rate     Pmt     Pmt     Pmt    Ppal\n",
       "-----------------------------------------------------\n",
       "(0,)     0.00   10.00    0.00    0.00    0.00 1000.00\n",
       "(1,)  1000.00   10.00  100.00  100.00    0.00 1000.00\n",
       "(2,)  1000.00   10.00  100.00  100.00    0.00 1000.00\n",
       "(3,)  1000.00   10.00  100.00  100.00    0.00 1000.00\n",
       "(4,)  1000.00   10.00  100.00  100.00    0.00 1000.00\n",
       "(5,)  1000.00   10.00  600.00  100.00  500.00  500.00\n",
       "(6,)   500.00   10.00   50.00   50.00    0.00  500.00\n",
       "(7,)   500.00   10.00   50.00   50.00    0.00  500.00\n",
       "(8,)   500.00   10.00   50.00   50.00    0.00  500.00\n",
       "(9,)   500.00   10.00   50.00   50.00    0.00  500.00\n",
       "(10,)  500.00   10.00  550.00   50.00  500.00    0.00"
      ]
     },
     "execution_count": 9,
     "metadata": {},
     "output_type": "execute_result"
    }
   ],
   "source": [
    "## tasa de interés\n",
    "nrate = cf.interest_rate(const_value=10, nper=11)\n",
    "\n",
    "## prepago de duda\n",
    "prepmt = cf.cashflow(const_value=0, nper=11, spec=(5,500))\n",
    "\n",
    "## crédito\n",
    "cf.bullet_loan(amount=1000,\n",
    "               nrate=nrate, \n",
    "               dispoints=0, \n",
    "               orgpoints=0, \n",
    "               prepmt=prepmt) "
   ]
  },
  {
   "cell_type": "code",
   "execution_count": 10,
   "metadata": {
    "scrolled": true,
    "slideshow": {
     "slide_type": "slide"
    }
   },
   "outputs": [
    {
     "data": {
      "text/plain": [
       "t        Beg.    Per.   Total    Int.    Ppal  Ending\n",
       "         Ppal    Rate     Pmt     Pmt     Pmt    Ppal\n",
       "-----------------------------------------------------\n",
       "(0,)     0.00   10.00    0.00    0.00    0.00 1000.00\n",
       "(1,)  1000.00   10.00  100.00  100.00    0.00 1000.00\n",
       "(2,)  1000.00   10.00  100.00  100.00    0.00 1000.00\n",
       "(3,)  1000.00   10.00  100.00  100.00    0.00 1000.00\n",
       "(4,)  1000.00   10.00  100.00  100.00    0.00 1000.00\n",
       "(5,)  1000.00   10.00 1100.00  100.00 1000.00    0.00\n",
       "(6,)     0.00   10.00    0.00    0.00    0.00    0.00\n",
       "(7,)     0.00   10.00    0.00    0.00    0.00    0.00\n",
       "(8,)     0.00   10.00    0.00    0.00    0.00    0.00\n",
       "(9,)     0.00   10.00    0.00    0.00    0.00    0.00\n",
       "(10,)    0.00   10.00    0.00    0.00    0.00    0.00"
      ]
     },
     "execution_count": 10,
     "metadata": {},
     "output_type": "execute_result"
    }
   ],
   "source": [
    "## Si el prepago es mayor que la deuda, se ajusta el saldo.\n",
    "prepmt = cf.cashflow(const_value=0, nper=11, spec=(5,5000))\n",
    "\n",
    "cf.bullet_loan(amount=1000,\n",
    "               nrate=nrate, \n",
    "               dispoints=0, \n",
    "               orgpoints=0, \n",
    "               prepmt=prepmt) "
   ]
  },
  {
   "cell_type": "markdown",
   "metadata": {
    "slideshow": {
     "slide_type": "slide"
    }
   },
   "source": [
    "***Ejemplo.--*** Modele el crédito anterior suponiendo que la tasa cambia al 8% a partir de `t = 6`."
   ]
  },
  {
   "cell_type": "code",
   "execution_count": 11,
   "metadata": {
    "scrolled": false,
    "slideshow": {
     "slide_type": "fragment"
    }
   },
   "outputs": [
    {
     "data": {
      "text/plain": [
       "t        Beg.    Per.   Total    Int.    Ppal  Ending\n",
       "         Ppal    Rate     Pmt     Pmt     Pmt    Ppal\n",
       "-----------------------------------------------------\n",
       "(0,)     0.00   10.00    0.00    0.00    0.00 1000.00\n",
       "(1,)  1000.00   10.00  100.00  100.00    0.00 1000.00\n",
       "(2,)  1000.00   10.00  100.00  100.00    0.00 1000.00\n",
       "(3,)  1000.00   10.00  100.00  100.00    0.00 1000.00\n",
       "(4,)  1000.00   10.00  100.00  100.00    0.00 1000.00\n",
       "(5,)  1000.00   10.00  100.00  100.00    0.00 1000.00\n",
       "(6,)  1000.00    8.00   80.00   80.00    0.00 1000.00\n",
       "(7,)  1000.00    8.00   80.00   80.00    0.00 1000.00\n",
       "(8,)  1000.00    8.00   80.00   80.00    0.00 1000.00\n",
       "(9,)  1000.00    8.00   80.00   80.00    0.00 1000.00\n",
       "(10,) 1000.00    8.00 1080.00   80.00 1000.00    0.00"
      ]
     },
     "execution_count": 11,
     "metadata": {},
     "output_type": "execute_result"
    }
   ],
   "source": [
    "nrate = cf.interest_rate(const_value=10, \n",
    "                         nper=11, \n",
    "                         spec=(6,8)) \n",
    "\n",
    "cf.bullet_loan(amount=1000,\n",
    "               nrate=nrate, \n",
    "               dispoints=0, \n",
    "               orgpoints=0, \n",
    "               prepmt=None) \n"
   ]
  },
  {
   "cell_type": "markdown",
   "metadata": {
    "slideshow": {
     "slide_type": "slide"
    }
   },
   "source": [
    "### Balloon loan / tasa fija\n",
    "\n",
    "`fixed_rate_loan(amount, nrate, life, start, pyr=1, \n",
    "   grace=0, dispoints=0, orgpoints=0, prepmt=None, \n",
    "   balloonpmt=None)`\n",
    "\n",
    "\n",
    "En este tipo de crédito la tasa permanece fija durante toda la vida de la deuda. El pago periodico (intereses + capital) es constante. Admite la especificación de cuotas extras (*balloon payments*) pactadas desde el principio del crédito que tienen como fin reducir el pago períodico.\n",
    "\n",
    "\n",
    "* `amount` -- monto del crédito.\n",
    "* `nrate` -- tasa nominal de interés.\n",
    "* `life` -- plazo del crédito.\n",
    "* `start` -- especificación del período de inicio del crédito.\n",
    "* `pyr` -- número de periodos de capitalización por año para la tasa.\n",
    "* `grace` -- número de períodos de gracia antes del pago del capital.\n",
    "* `dispoints` -- puntos (costo) de descuento como porcentaje de `amount`. Se consideran como intereses anticipados y son deducibles de impuestos.\n",
    "* `orgpoints` -- puntos (costo) de constitución como porcentaje de `amount`. Son costos no deducibles para el pago de impuestos. \n",
    "* `prepmt` -- flujo de efectivo que representa prepago de la deuda.\n",
    "* `balloonpmt` -- pagos extra al pago períodico especificados como un objeto cashflow."
   ]
  },
  {
   "cell_type": "markdown",
   "metadata": {
    "collapsed": true,
    "slideshow": {
     "slide_type": "slide"
    }
   },
   "source": [
    "***Ejemplo.--*** Modele un préstamo de  `$` 1000 a un plazo de 10 años, cuotas anuales y una tasa del 10%.  "
   ]
  },
  {
   "cell_type": "code",
   "execution_count": 12,
   "metadata": {
    "scrolled": false,
    "slideshow": {
     "slide_type": "fragment"
    }
   },
   "outputs": [
    {
     "data": {
      "text/plain": [
       "t        Beg.    Per.   Total    Int.    Ppal  Ending\n",
       "         Ppal    Rate     Pmt     Pmt     Pmt    Ppal\n",
       "-----------------------------------------------------\n",
       "(0,)  1000.00   10.00    0.00    0.00    0.00 1000.00\n",
       "(1,)  1000.00   10.00  162.75  100.00   62.75  937.25\n",
       "(2,)   937.25   10.00  162.75   93.73   69.02  868.23\n",
       "(3,)   868.23   10.00  162.75   86.82   75.92  792.31\n",
       "(4,)   792.31   10.00  162.75   79.23   83.51  708.80\n",
       "(5,)   708.80   10.00  162.75   70.88   91.87  616.93\n",
       "(6,)   616.93   10.00  162.75   61.69  101.05  515.88\n",
       "(7,)   515.88   10.00  162.75   51.59  111.16  404.72\n",
       "(8,)   404.72   10.00  162.75   40.47  122.27  282.45\n",
       "(9,)   282.45   10.00  162.75   28.25  134.50  147.95\n",
       "(10,)  147.95   10.00  162.75   14.80  147.95    0.00"
      ]
     },
     "execution_count": 12,
     "metadata": {},
     "output_type": "execute_result"
    }
   ],
   "source": [
    "cf.fixed_rate_loan(amount=1000, # monto\n",
    "                   nrate=10,    # tasa de interés\n",
    "                   life=10,     # número de cuotas\n",
    "                   start=None,\n",
    "                   grace=0,\n",
    "                   dispoints=0,\n",
    "                   orgpoints=0,\n",
    "                   prepmt=None,\n",
    "                   balloonpmt=None)\n"
   ]
  },
  {
   "cell_type": "markdown",
   "metadata": {
    "slideshow": {
     "slide_type": "slide"
    }
   },
   "source": [
    "***Ejemplo.--*** Considere el mismo crédito anterior. ¿Cómo se modifican los pagos períodicos, si se pacta un pago adicional de `$` 200 en los períodos 5 y 10?."
   ]
  },
  {
   "cell_type": "code",
   "execution_count": 13,
   "metadata": {
    "slideshow": {
     "slide_type": "fragment"
    }
   },
   "outputs": [
    {
     "data": {
      "text/plain": [
       "t        Beg.    Per.   Total    Int.    Ppal  Ending\n",
       "         Ppal    Rate     Pmt     Pmt     Pmt    Ppal\n",
       "-----------------------------------------------------\n",
       "(0,)  1000.00   10.00    0.00    0.00    0.00 1000.00\n",
       "(1,)  1000.00   10.00  129.99  100.00   29.99  970.01\n",
       "(2,)   970.01   10.00  129.99   97.00   32.98  937.03\n",
       "(3,)   937.03   10.00  129.99   93.70   36.28  900.75\n",
       "(4,)   900.75   10.00  129.99   90.07   39.91  860.84\n",
       "(5,)   860.84   10.00  329.99   86.08  243.90  616.93\n",
       "(6,)   616.93   10.00  129.99   61.69   68.29  548.64\n",
       "(7,)   548.64   10.00  129.99   54.86   75.12  473.52\n",
       "(8,)   473.52   10.00  129.99   47.35   82.63  390.88\n",
       "(9,)   390.88   10.00  129.99   39.09   90.90  299.99\n",
       "(10,)  299.99   10.00  329.99   30.00  299.99    0.00"
      ]
     },
     "execution_count": 13,
     "metadata": {},
     "output_type": "execute_result"
    }
   ],
   "source": [
    "balloonpmt = cf.cashflow(const_value=0,\n",
    "                        nper=11,\n",
    "                        spec=[(5,200), (10,200)])\n",
    "\n",
    "cf.fixed_rate_loan(amount=1000, # monto\n",
    "                   nrate=10,    # tasa de interés por período\n",
    "                   life=10,     # número de cuotas\n",
    "                   start=None,\n",
    "                   grace=0,\n",
    "                   dispoints=0,\n",
    "                   orgpoints=0,\n",
    "                   prepmt=None,\n",
    "                   balloonpmt=balloonpmt)\n"
   ]
  },
  {
   "cell_type": "markdown",
   "metadata": {
    "slideshow": {
     "slide_type": "slide"
    }
   },
   "source": [
    "***Ejemplo.--*** Considere el caso anterior y un prepago de la deuda de `$` 100 en los períodos 3 y 7."
   ]
  },
  {
   "cell_type": "code",
   "execution_count": 14,
   "metadata": {
    "scrolled": true,
    "slideshow": {
     "slide_type": "fragment"
    }
   },
   "outputs": [
    {
     "data": {
      "text/plain": [
       "t        Beg.    Per.   Total    Int.    Ppal  Ending\n",
       "         Ppal    Rate     Pmt     Pmt     Pmt    Ppal\n",
       "-----------------------------------------------------\n",
       "(0,)  1000.00   10.00    0.00    0.00    0.00 1000.00\n",
       "(1,)  1000.00   10.00  129.99  100.00   29.99  970.01\n",
       "(2,)   970.01   10.00  129.99   97.00   32.98  937.03\n",
       "(3,)   937.03   10.00  229.99   93.70  136.28  800.75\n",
       "(4,)   800.75   10.00  129.99   80.07   49.91  750.84\n",
       "(5,)   750.84   10.00  329.99   75.08  254.90  495.93\n",
       "(6,)   495.93   10.00  129.99   49.59   80.39  415.54\n",
       "(7,)   415.54   10.00  229.99   41.55  188.43  227.11\n",
       "(8,)   227.11   10.00  129.99   22.71  107.28  119.83\n",
       "(9,)   119.83   10.00  129.99   11.98  118.00    1.83\n",
       "(10,)    1.83   10.00    2.01    0.18    1.83    0.00"
      ]
     },
     "execution_count": 14,
     "metadata": {},
     "output_type": "execute_result"
    }
   ],
   "source": [
    "prepmt = cf.cashflow(const_value=0, \n",
    "                     nper = 11, \n",
    "                     spec=[(3, 100), (7, 100)])\n",
    "\n",
    "cf.fixed_rate_loan(amount=1000, \n",
    "                   nrate=10,    \n",
    "                   life=10,     \n",
    "                   start=None,\n",
    "                   grace=0,\n",
    "                   dispoints=0,\n",
    "                   orgpoints=0,\n",
    "                   prepmt=prepmt,\n",
    "                   balloonpmt=balloonpmt)\n",
    "\n",
    "\n"
   ]
  },
  {
   "cell_type": "markdown",
   "metadata": {
    "slideshow": {
     "slide_type": "slide"
    }
   },
   "source": [
    "***Ejemplo.--*** Un crédito *bullet* puede modelarse como un crédito *balloon* usando un prepago al final igual al monto de la deuda."
   ]
  },
  {
   "cell_type": "code",
   "execution_count": 15,
   "metadata": {
    "scrolled": false,
    "slideshow": {
     "slide_type": "fragment"
    }
   },
   "outputs": [
    {
     "data": {
      "text/plain": [
       "t        Beg.    Per.   Total    Int.    Ppal  Ending\n",
       "         Ppal    Rate     Pmt     Pmt     Pmt    Ppal\n",
       "-----------------------------------------------------\n",
       "(0,)  1000.00   10.00    0.00    0.00    0.00 1000.00\n",
       "(1,)  1000.00   10.00  100.00  100.00    0.00 1000.00\n",
       "(2,)  1000.00   10.00  100.00  100.00    0.00 1000.00\n",
       "(3,)  1000.00   10.00  100.00  100.00    0.00 1000.00\n",
       "(4,)  1000.00   10.00  100.00  100.00    0.00 1000.00\n",
       "(5,)  1000.00   10.00  100.00  100.00    0.00 1000.00\n",
       "(6,)  1000.00   10.00  100.00  100.00    0.00 1000.00\n",
       "(7,)  1000.00   10.00  100.00  100.00    0.00 1000.00\n",
       "(8,)  1000.00   10.00  100.00  100.00    0.00 1000.00\n",
       "(9,)  1000.00   10.00  100.00  100.00    0.00 1000.00\n",
       "(10,) 1000.00   10.00 1100.00  100.00 1000.00    0.00"
      ]
     },
     "execution_count": 15,
     "metadata": {},
     "output_type": "execute_result"
    }
   ],
   "source": [
    "balloonpmt = cf.cashflow(const_value=0,\n",
    "                         nper=11,\n",
    "                         spec=(10, 1000))\n",
    "\n",
    "cf.fixed_rate_loan(amount=1000, \n",
    "                   nrate=10,    \n",
    "                   life=10,     \n",
    "                   start=None,\n",
    "                   grace=0,\n",
    "                   dispoints=0,\n",
    "                   orgpoints=0,\n",
    "                   prepmt=None,\n",
    "                   balloonpmt=balloonpmt)\n"
   ]
  },
  {
   "cell_type": "markdown",
   "metadata": {
    "slideshow": {
     "slide_type": "slide"
    }
   },
   "source": [
    "### Abono constante a capital\n",
    "\n",
    "`fixed_ppal_loan(amount, nrate, grace=0, dispoints=0, orgpoints=0,\n",
    "   prepmt=None, balloonpmt=None)`\n",
    "\n",
    "En este tipo de crédito el abono al capital es una cantidad fija durante todos los períodos, de tal forma que el pago total por período es variable (ya que incluye los intereses pagados sobre el saldo de la deuda).\n",
    "\n",
    "* `amount` -- monto del crédito.\n",
    "* `nrate` -- tasa nominal de interés.\n",
    "* `grace` -- número de períodos de gracia antes del pago del capital.\n",
    "* `dispoints` -- puntos (costo) de descuento como porcentaje de `amount`. Se consideran como intereses anticipados y son deducibles de impuestos.\n",
    "* `orgpoints` -- puntos (costo) de constitución como porcentaje de `amount`. Son costos no deducibles para el pago de impuestos. \n",
    "* `prepmt` -- flujo de efectivo que representa prepago de la deuda.\n",
    "* `balloonpmt` -- pagos extra al pago períodico especificados como un objeto cashflow.\n"
   ]
  },
  {
   "cell_type": "markdown",
   "metadata": {
    "slideshow": {
     "slide_type": "slide"
    }
   },
   "source": [
    "***Ejemplo.--*** Modele un crédito por `$` 1000 a 10 años y una tasa del 10%. Los pagos son anuales."
   ]
  },
  {
   "cell_type": "code",
   "execution_count": 16,
   "metadata": {
    "slideshow": {
     "slide_type": "fragment"
    }
   },
   "outputs": [
    {
     "data": {
      "text/plain": [
       "t        Beg.    Per.   Total    Int.    Ppal  Ending\n",
       "         Ppal    Rate     Pmt     Pmt     Pmt    Ppal\n",
       "-----------------------------------------------------\n",
       "(0,)     0.00   10.00    0.00    0.00    0.00 1000.00\n",
       "(1,)  1000.00   10.00  200.00  100.00  100.00  900.00\n",
       "(2,)   900.00   10.00  190.00   90.00  100.00  800.00\n",
       "(3,)   800.00   10.00  180.00   80.00  100.00  700.00\n",
       "(4,)   700.00   10.00  170.00   70.00  100.00  600.00\n",
       "(5,)   600.00   10.00  160.00   60.00  100.00  500.00\n",
       "(6,)   500.00   10.00  150.00   50.00  100.00  400.00\n",
       "(7,)   400.00   10.00  140.00   40.00  100.00  300.00\n",
       "(8,)   300.00   10.00  130.00   30.00  100.00  200.00\n",
       "(9,)   200.00   10.00  120.00   20.00  100.00  100.00\n",
       "(10,)  100.00   10.00  110.00   10.00  100.00    0.00"
      ]
     },
     "execution_count": 16,
     "metadata": {},
     "output_type": "execute_result"
    }
   ],
   "source": [
    "nrate = cf.interest_rate(const_value=10, nper=11)\n",
    "\n",
    "cf.fixed_ppal_loan(amount=1000, \n",
    "                   nrate=nrate, \n",
    "                   grace=0, \n",
    "                   dispoints=0, \n",
    "                   orgpoints=0,\n",
    "                   prepmt=None, \n",
    "                   balloonpmt=None)\n"
   ]
  },
  {
   "cell_type": "code",
   "execution_count": 17,
   "metadata": {
    "slideshow": {
     "slide_type": "slide"
    }
   },
   "outputs": [
    {
     "data": {
      "text/plain": [
       "t        Beg.    Per.   Total    Int.    Ppal  Ending\n",
       "         Ppal    Rate     Pmt     Pmt     Pmt    Ppal\n",
       "-----------------------------------------------------\n",
       "(0,)     0.00   10.00    0.00    0.00    0.00 1000.00\n",
       "(1,)  1000.00   10.00  100.00  100.00    0.00 1000.00\n",
       "(2,)  1000.00   10.00  100.00  100.00    0.00 1000.00\n",
       "(3,)  1000.00   10.00  100.00  100.00    0.00 1000.00\n",
       "(4,)  1000.00   10.00  242.86  100.00  142.86  857.14\n",
       "(5,)   857.14   10.00  228.57   85.71  142.86  714.29\n",
       "(6,)   714.29   10.00  214.29   71.43  142.86  571.43\n",
       "(7,)   571.43   10.00  200.00   57.14  142.86  428.57\n",
       "(8,)   428.57   10.00  185.71   42.86  142.86  285.71\n",
       "(9,)   285.71   10.00  171.43   28.57  142.86  142.86\n",
       "(10,)  142.86   10.00  157.14   14.29  142.86    0.00"
      ]
     },
     "execution_count": 17,
     "metadata": {},
     "output_type": "execute_result"
    }
   ],
   "source": [
    "##\n",
    "## período de gracia de 3\n",
    "##\n",
    "nrate = cf.interest_rate(const_value=10, nper=11)\n",
    "\n",
    "cf.fixed_ppal_loan(amount=1000, \n",
    "                   nrate=nrate, \n",
    "                   grace=3, \n",
    "                   dispoints=0, \n",
    "                   orgpoints=0,\n",
    "                   prepmt=None, \n",
    "                   balloonpmt=None)\n"
   ]
  },
  {
   "cell_type": "code",
   "execution_count": 18,
   "metadata": {
    "slideshow": {
     "slide_type": "slide"
    }
   },
   "outputs": [
    {
     "data": {
      "text/plain": [
       "t        Beg.    Per.   Total    Int.    Ppal  Ending\n",
       "         Ppal    Rate     Pmt     Pmt     Pmt    Ppal\n",
       "-----------------------------------------------------\n",
       "(0,)     0.00   10.00    0.00    0.00    0.00 1000.00\n",
       "(1,)  1000.00   10.00  200.00  100.00  100.00  900.00\n",
       "(2,)   900.00   10.00  190.00   90.00  100.00  800.00\n",
       "(3,)   800.00   10.00  180.00   80.00  100.00  700.00\n",
       "(4,)   700.00   10.00  170.00   70.00  100.00  600.00\n",
       "(5,)   600.00   10.00  160.00   60.00  100.00  500.00\n",
       "(6,)   500.00    8.00  140.00   40.00  100.00  400.00\n",
       "(7,)   400.00    8.00  132.00   32.00  100.00  300.00\n",
       "(8,)   300.00    8.00  124.00   24.00  100.00  200.00\n",
       "(9,)   200.00    8.00  116.00   16.00  100.00  100.00\n",
       "(10,)  100.00    8.00  108.00    8.00  100.00    0.00"
      ]
     },
     "execution_count": 18,
     "metadata": {},
     "output_type": "execute_result"
    }
   ],
   "source": [
    "##\n",
    "## este tipo de crédito admite una tasa de interés variable\n",
    "##\n",
    "nrate = cf.interest_rate(const_value=10, \n",
    "                         nper=11, \n",
    "                         spec=(6,8)) \n",
    "\n",
    "cf.fixed_ppal_loan(amount=1000, \n",
    "                   nrate=nrate, \n",
    "                   grace=0, \n",
    "                   dispoints=0, \n",
    "                   orgpoints=0,\n",
    "                   prepmt=None, \n",
    "                   balloonpmt=None)"
   ]
  },
  {
   "cell_type": "code",
   "execution_count": 19,
   "metadata": {
    "scrolled": true,
    "slideshow": {
     "slide_type": "slide"
    }
   },
   "outputs": [
    {
     "data": {
      "text/plain": [
       "t        Beg.    Per.   Total    Int.    Ppal  Ending\n",
       "         Ppal    Rate     Pmt     Pmt     Pmt    Ppal\n",
       "-----------------------------------------------------\n",
       "(0,)     0.00   10.00    0.00    0.00    0.00 1000.00\n",
       "(1,)  1000.00   10.00  150.00  100.00   50.00  950.00\n",
       "(2,)   950.00   10.00  145.00   95.00   50.00  900.00\n",
       "(3,)   900.00   10.00  140.00   90.00   50.00  850.00\n",
       "(4,)   850.00   10.00  135.00   85.00   50.00  800.00\n",
       "(5,)   800.00   10.00  630.00   80.00  550.00  250.00\n",
       "(6,)   250.00   10.00   75.00   25.00   50.00  200.00\n",
       "(7,)   200.00   10.00   70.00   20.00   50.00  150.00\n",
       "(8,)   150.00   10.00   65.00   15.00   50.00  100.00\n",
       "(9,)   100.00   10.00   60.00   10.00   50.00   50.00\n",
       "(10,)   50.00   10.00   55.00    5.00   50.00    0.00"
      ]
     },
     "execution_count": 19,
     "metadata": {},
     "output_type": "execute_result"
    }
   ],
   "source": [
    "##\n",
    "## este tipo de crédito admite pagos adicionales \n",
    "## programados como abono a la deuda\n",
    "##\n",
    "nrate = cf.interest_rate(const_value=10, nper=11)\n",
    "\n",
    "balloonpmt = cf.cashflow(const_value=0, \n",
    "                         nper=11, \n",
    "                         spec=(5, 500))\n",
    "\n",
    "cf.fixed_ppal_loan(amount=1000, \n",
    "                   nrate=nrate, \n",
    "                   grace=0, \n",
    "                   dispoints=0, \n",
    "                   orgpoints=0,\n",
    "                   prepmt=None, \n",
    "                   balloonpmt=balloonpmt)"
   ]
  },
  {
   "cell_type": "code",
   "execution_count": 20,
   "metadata": {
    "slideshow": {
     "slide_type": "slide"
    }
   },
   "outputs": [
    {
     "data": {
      "text/plain": [
       "t        Beg.    Per.   Total    Int.    Ppal  Ending\n",
       "         Ppal    Rate     Pmt     Pmt     Pmt    Ppal\n",
       "-----------------------------------------------------\n",
       "(0,)     0.00   10.00    0.00    0.00    0.00 1000.00\n",
       "(1,)  1000.00   10.00  150.00  100.00   50.00  950.00\n",
       "(2,)   950.00   10.00  145.00   95.00   50.00  900.00\n",
       "(3,)   900.00   10.00  140.00   90.00   50.00  850.00\n",
       "(4,)   850.00   10.00  135.00   85.00   50.00  800.00\n",
       "(5,)   800.00   10.00  630.00   80.00  550.00  250.00\n",
       "(6,)   250.00    8.00   70.00   20.00   50.00  200.00\n",
       "(7,)   200.00    8.00   66.00   16.00   50.00  150.00\n",
       "(8,)   150.00    8.00   62.00   12.00   50.00  100.00\n",
       "(9,)   100.00    8.00   58.00    8.00   50.00   50.00\n",
       "(10,)   50.00    8.00   54.00    4.00   50.00    0.00"
      ]
     },
     "execution_count": 20,
     "metadata": {},
     "output_type": "execute_result"
    }
   ],
   "source": [
    "##\n",
    "## este tipo de crédito admite \n",
    "## una tasa de interés variable\n",
    "##\n",
    "nrate = cf.interest_rate(const_value=10, \n",
    "                         nper=11,\n",
    "                         spec=(6,8)) \n",
    "\n",
    "balloonpmt = cf.cashflow(const_value=0, \n",
    "                         nper=11, \n",
    "                         spec=(5, 500))\n",
    "\n",
    "cf.fixed_ppal_loan(amount=1000, \n",
    "                   nrate=nrate, \n",
    "                   grace=0, \n",
    "                   dispoints=0, \n",
    "                   orgpoints=0,\n",
    "                   prepmt=None, \n",
    "                   balloonpmt=balloonpmt)"
   ]
  },
  {
   "cell_type": "code",
   "execution_count": 21,
   "metadata": {
    "slideshow": {
     "slide_type": "slide"
    }
   },
   "outputs": [
    {
     "data": {
      "text/plain": [
       "t        Beg.    Per.   Total    Int.    Ppal  Ending\n",
       "         Ppal    Rate     Pmt     Pmt     Pmt    Ppal\n",
       "-----------------------------------------------------\n",
       "(0,)     0.00   10.00    0.00    0.00    0.00 1000.00\n",
       "(1,)  1000.00   10.00  100.00  100.00    0.00 1000.00\n",
       "(2,)  1000.00   10.00  100.00  100.00    0.00 1000.00\n",
       "(3,)  1000.00   10.00  100.00  100.00    0.00 1000.00\n",
       "(4,)  1000.00   10.00  100.00  100.00    0.00 1000.00\n",
       "(5,)  1000.00   10.00  600.00  100.00  500.00  500.00\n",
       "(6,)   500.00    8.00  140.00   40.00  100.00  400.00\n",
       "(7,)   400.00    8.00  132.00   32.00  100.00  300.00\n",
       "(8,)   300.00    8.00  124.00   24.00  100.00  200.00\n",
       "(9,)   200.00    8.00  116.00   16.00  100.00  100.00\n",
       "(10,)  100.00    8.00  108.00    8.00  100.00    0.00"
      ]
     },
     "execution_count": 21,
     "metadata": {},
     "output_type": "execute_result"
    }
   ],
   "source": [
    "##\n",
    "## ejemplo anterior con período de gracia\n",
    "##\n",
    "nrate = cf.interest_rate(const_value=10, \n",
    "                         nper=11,\n",
    "                         spec=(6,8)) \n",
    "\n",
    "balloonpmt = cf.cashflow(const_value=0, \n",
    "                         nper=11, \n",
    "                         spec=(5, 500))\n",
    "\n",
    "cf.fixed_ppal_loan(amount=1000, \n",
    "                   nrate=nrate, \n",
    "                   grace=5, \n",
    "                   dispoints=0, \n",
    "                   orgpoints=0,\n",
    "                   prepmt=None, \n",
    "                   balloonpmt=balloonpmt)"
   ]
  },
  {
   "cell_type": "markdown",
   "metadata": {
    "slideshow": {
     "slide_type": "slide"
    }
   },
   "source": [
    "### Buydown loan\n",
    "\n",
    "`buydown_loan(amount, nrate, grace=0, dispoints=0, \n",
    "   orgpoints=0, prepmt=None)`\n",
    "\n",
    "Este tipo de préstamo es similar a los préstamos de cuota fija (balloon loans) pero con tasa cambiante en el tiempo. No admiten cuotas adicionales para reducir el pago fijo períodico. Cuando hay un cambio en la tasa de interés, el pago períodico total se recalcula para reflejar el cambio de tasa de interés.  \n",
    "\n",
    "* `amount` -- monto del crédito.\n",
    "* `nrate` -- tasa nominal de interés.\n",
    "* `grace` -- número de períodos de gracia antes del pago del capital.\n",
    "* `dispoints` -- puntos (costo) de descuento como porcentaje de `amount`. Se consideran como intereses anticipados y son deducibles de impuestos.\n",
    "* `orgpoints` -- puntos (costo) de constitución como porcentaje de `amount`. Son costos no deducibles para el pago de impuestos. \n",
    "* `prepmt` -- flujo de efectivo que representa prepago de la deuda.\n"
   ]
  },
  {
   "cell_type": "code",
   "execution_count": 22,
   "metadata": {
    "slideshow": {
     "slide_type": "slide"
    }
   },
   "outputs": [
    {
     "data": {
      "text/plain": [
       "t        Beg.    Per.   Total    Int.    Ppal  Ending\n",
       "         Ppal    Rate     Pmt     Pmt     Pmt    Ppal\n",
       "-----------------------------------------------------\n",
       "(0,)  1000.00   10.00    0.00    0.00    0.00 1000.00\n",
       "(1,)  1000.00   10.00  162.75  100.00   62.75  937.25\n",
       "(2,)   937.25   10.00  162.75   93.73   69.02  868.23\n",
       "(3,)   868.23   10.00  162.75   86.82   75.92  792.31\n",
       "(4,)   792.31   10.00  162.75   79.23   83.51  708.80\n",
       "(5,)   708.80   10.00  162.75   70.88   91.87  616.93\n",
       "(6,)   616.93   10.00  162.75   61.69  101.05  515.88\n",
       "(7,)   515.88   10.00  162.75   51.59  111.16  404.72\n",
       "(8,)   404.72   10.00  162.75   40.47  122.27  282.45\n",
       "(9,)   282.45   10.00  162.75   28.25  134.50  147.95\n",
       "(10,)  147.95   10.00  162.75   14.80  147.95    0.00"
      ]
     },
     "execution_count": 22,
     "metadata": {},
     "output_type": "execute_result"
    }
   ],
   "source": [
    "##\n",
    "## los resultados son iguales a un crédito balloon\n",
    "##\n",
    "nrate = cf.interest_rate(const_value=10, \n",
    "                         nper=11)\n",
    "\n",
    "cf.buydown_loan(amount=1000, \n",
    "                nrate=nrate, \n",
    "                dispoints=0, \n",
    "                orgpoints=0, \n",
    "                prepmt=None)\n"
   ]
  },
  {
   "cell_type": "code",
   "execution_count": 23,
   "metadata": {
    "slideshow": {
     "slide_type": "slide"
    }
   },
   "outputs": [
    {
     "data": {
      "text/plain": [
       "t        Beg.    Per.   Total    Int.    Ppal  Ending\n",
       "         Ppal    Rate     Pmt     Pmt     Pmt    Ppal\n",
       "-----------------------------------------------------\n",
       "(0,)  1000.00   10.00    0.00    0.00    0.00 1000.00\n",
       "(1,)  1000.00   10.00  162.75  100.00   62.75  937.25\n",
       "(2,)   937.25   10.00  162.75   93.73   69.02  868.23\n",
       "(3,)   868.23   10.00  162.75   86.82   75.92  792.31\n",
       "(4,)   792.31   10.00  162.75   79.23   83.51  708.80\n",
       "(5,)   708.80    5.00  139.65   35.44  104.21  604.59\n",
       "(6,)   604.59    5.00  139.65   30.23  109.42  495.18\n",
       "(7,)   495.18    5.00  139.65   24.76  114.89  380.29\n",
       "(8,)   380.29    5.00  139.65   19.01  120.63  259.66\n",
       "(9,)   259.66    5.00  139.65   12.98  126.66  133.00\n",
       "(10,)  133.00    5.00  139.65    6.65  133.00    0.00"
      ]
     },
     "execution_count": 23,
     "metadata": {},
     "output_type": "execute_result"
    }
   ],
   "source": [
    "##\n",
    "## cambios en la tasa de interés\n",
    "##\n",
    "nrate = cf.interest_rate(const_value=10, \n",
    "                         nper=11,\n",
    "                         spec=(5,5))\n",
    "\n",
    "cf.buydown_loan(amount=1000, \n",
    "                nrate=nrate, \n",
    "                dispoints=0, \n",
    "                orgpoints=0, \n",
    "                prepmt=None)"
   ]
  },
  {
   "cell_type": "code",
   "execution_count": 24,
   "metadata": {
    "scrolled": true,
    "slideshow": {
     "slide_type": "slide"
    }
   },
   "outputs": [
    {
     "data": {
      "text/plain": [
       "t        Beg.    Per.   Total    Int.    Ppal  Ending\n",
       "         Ppal    Rate     Pmt     Pmt     Pmt    Ppal\n",
       "-----------------------------------------------------\n",
       "(0,)  1000.00   10.00    0.00    0.00    0.00 1000.00\n",
       "(1,)  1000.00   10.00  162.75  100.00   62.75  937.25\n",
       "(2,)   937.25   10.00  162.75   93.73   69.02  868.23\n",
       "(3,)   868.23   10.00  262.75   86.82  175.92  692.31\n",
       "(4,)   692.31   10.00  142.20   69.23   72.97  619.34\n",
       "(5,)   619.34   10.00  142.20   61.93   80.27  539.07\n",
       "(6,)   539.07   10.00  242.20   53.91  188.30  350.77\n",
       "(7,)   350.77   10.00  110.66   35.08   75.58  275.19\n",
       "(8,)   275.19   10.00  110.66   27.52   83.14  192.05\n",
       "(9,)   192.05   10.00  110.66   19.21   91.45  100.60\n",
       "(10,)  100.60   10.00  110.66   10.06  100.60    0.00"
      ]
     },
     "execution_count": 24,
     "metadata": {},
     "output_type": "execute_result"
    }
   ],
   "source": [
    "##\n",
    "## se introducen 2 prepagos por $ 100 cada uno\n",
    "## en t = 3, 6\n",
    "##\n",
    "nrate = cf.interest_rate(const_value=10, \n",
    "                         nper=11)\n",
    "\n",
    "prepmt = cf.cashflow(const_value=0,\n",
    "                     nper=11,\n",
    "                     spec=[(3,100), (6,100)])\n",
    "\n",
    "cf.buydown_loan(amount=1000, \n",
    "                nrate=nrate, \n",
    "                dispoints=0, \n",
    "                orgpoints=0, \n",
    "                prepmt=prepmt)\n"
   ]
  },
  {
   "cell_type": "markdown",
   "metadata": {
    "slideshow": {
     "slide_type": "slide"
    }
   },
   "source": [
    "`to_cashflow(tax_rate=0)`\n",
    "\n",
    "Convierte el crédito a un flujo de fondos equivalente.\n",
    "\n",
    "* `tax_rate` -- impuesto de renta. Se usa para tener en cuenta la reducción del pago por impuesto de renta debido a que los intereses son considerados como costo financiero deducible de impuestos."
   ]
  },
  {
   "cell_type": "code",
   "execution_count": 25,
   "metadata": {},
   "outputs": [
    {
     "data": {
      "text/plain": [
       "Time Series:\n",
       "Start = (0,)\n",
       "End = (10,)\n",
       "pyr = 1\n",
       "Data = (0,)          1000.00 \n",
       "       (1,)-(2,) [2] -162.75 \n",
       "       (3,)          -262.75 \n",
       "       (4,)          -142.20 \n",
       "       (5,)          -142.20 \n",
       "       (6,)          -242.20 \n",
       "       (7,)          -110.66 \n",
       "       (8,)          -110.66 \n",
       "       (9,)          -110.66 \n",
       "       (10,)         -110.66 "
      ]
     },
     "execution_count": 25,
     "metadata": {},
     "output_type": "execute_result"
    }
   ],
   "source": [
    "nrate = cf.interest_rate(const_value=10, \n",
    "                         nper=11)\n",
    "\n",
    "prepmt = cf.cashflow(const_value=0,\n",
    "                     nper=11,\n",
    "                     spec=[(3,100), (6,100)])\n",
    "\n",
    "cf.buydown_loan(amount=1000, \n",
    "                nrate=nrate, \n",
    "                dispoints=0, \n",
    "                orgpoints=0, \n",
    "                prepmt=prepmt).to_cashflow()"
   ]
  },
  {
   "cell_type": "markdown",
   "metadata": {
    "slideshow": {
     "slide_type": "slide"
    }
   },
   "source": [
    "`true_rate(tax_rate=0)`\n",
    "\n",
    "\n",
    "Calcula la tasa real del interés del crédito. Permite la comparación de créditos. Para el cálculo, el préstamo es convertido al flujo de efectivo equivalente teniendo en cuenta lo siguiente:\n",
    "\n",
    "* Los puntos de causación son considerados como no deducibles y son ignorados en el cálculo del beneficio del impuesto de renta.\n",
    "\n",
    "* Los puntos de descuento son considerado como intereses prepagados y son deducibles de impuestos.\n",
    "\n",
    "* Si `tax_rate` es diferente de cero, la tasa de interés verdadera después de impuestos es calculada. Esto implica que en el cálculo solo la porción `(1-tax_rate)` de los intereses (incluyendo los puntos de descuento) es considerada en el cálculo.\n",
    "\n",
    "        \n"
   ]
  },
  {
   "cell_type": "code",
   "execution_count": 26,
   "metadata": {
    "slideshow": {
     "slide_type": "slide"
    }
   },
   "outputs": [
    {
     "data": {
      "text/plain": [
       "9.999999999999943"
      ]
     },
     "execution_count": 26,
     "metadata": {},
     "output_type": "execute_result"
    }
   ],
   "source": [
    "nrate = cf.interest_rate(const_value=10, \n",
    "                         nper=11)\n",
    "\n",
    "prepmt = cf.cashflow(const_value=0,\n",
    "                     nper=11,\n",
    "                     spec=[(3,100), (6,100)])\n",
    "\n",
    "cf.buydown_loan(amount=1000, \n",
    "                nrate=nrate, \n",
    "                dispoints=0, \n",
    "                orgpoints=0, \n",
    "                prepmt=prepmt).true_rate()"
   ]
  },
  {
   "cell_type": "markdown",
   "metadata": {
    "slideshow": {
     "slide_type": "slide"
    }
   },
   "source": [
    "Préstamos\n",
    "===\n",
    "\n",
    "**Juan David Velásquez Henao**  \n",
    "jdvelasq@unal.edu.co   \n",
    "Universidad Nacional de Colombia, Sede Medellín  \n",
    "Facultad de Minas  \n",
    "Medellín, Colombia\n",
    "\n",
    "---\n",
    "\n",
    "Haga click [aquí](https://github.com/jdvelasq/ingenieria-economica/blob/master/10-prestamos.ipynb) para acceder a la última versión online.\n",
    "\n",
    "Haga click [aquí](http://nbviewer.jupyter.org/github/jdvelasq/ingenieria-economica/blob/master/10-prestamos.ipynb) para ver la última versión online en `nbviewer`.\n",
    "\n",
    "---"
   ]
  },
  {
   "cell_type": "markdown",
   "metadata": {
    "slideshow": {
     "slide_type": "slide"
    }
   },
   "source": [
    "**Bibliografía**\n",
    "\n",
    "> * [1] SAS/ETS 14.1 User's Guide, 2015.   \n",
    "* [2] **hp** 12c platinum financial calculator. User's guide. \n",
    "* [3] HP Business Consultant II Owner's manual.\n",
    "* [4] C.S. Park and G.P. Sharp-Bette. Advanced Engineering Economics. John Wiley & Sons, Inc., 1990."
   ]
  }
 ],
 "metadata": {
  "anaconda-cloud": {},
  "celltoolbar": "Slideshow",
  "kernelspec": {
   "display_name": "Python 3",
   "language": "python",
   "name": "python3"
  },
  "language_info": {
   "codemirror_mode": {
    "name": "ipython",
    "version": 3
   },
   "file_extension": ".py",
   "mimetype": "text/x-python",
   "name": "python",
   "nbconvert_exporter": "python",
   "pygments_lexer": "ipython3",
   "version": "3.6.1"
  }
 },
 "nbformat": 4,
 "nbformat_minor": 1
}
