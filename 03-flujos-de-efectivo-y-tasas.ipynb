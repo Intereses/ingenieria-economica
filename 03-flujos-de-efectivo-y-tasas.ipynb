{
 "cells": [
  {
   "cell_type": "markdown",
   "metadata": {
    "slideshow": {
     "slide_type": "slide"
    }
   },
   "source": [
    "Representación de flujos de efectivo y tasas de interés\n",
    "===\n",
    "\n",
    "**Juan David Velásquez Henao**  \n",
    "jdvelasq@unal.edu.co   \n",
    "Universidad Nacional de Colombia, Sede Medellín  \n",
    "Facultad de Minas  \n",
    "Medellín, Colombia\n",
    "\n",
    "---\n",
    "\n",
    "Haga click [aquí](https://github.com/jdvelasq/ingenieria-economica/blob/master/03-flujos-de-efectivo-y-tasas.ipynb) para acceder a la última versión online\n",
    "\n",
    "Haga click [aquí](http://nbviewer.jupyter.org/github/jdvelasq/ingenieria-economica/blob/master/03-flujos-de-efectivo-y-tasas.ipynb) para ver la última versión online en `nbviewer`.\n",
    "\n",
    "---"
   ]
  },
  {
   "cell_type": "markdown",
   "metadata": {
    "slideshow": {
     "slide_type": "slide"
    }
   },
   "source": [
    "**Preparación**  "
   ]
  },
  {
   "cell_type": "code",
   "execution_count": 1,
   "metadata": {
    "collapsed": true
   },
   "outputs": [],
   "source": [
    "# Importa la librería financiera.\n",
    "# Solo es necesario ejecutar la importación una sola vez.\n",
    "import cashflows as cf"
   ]
  },
  {
   "cell_type": "markdown",
   "metadata": {
    "slideshow": {
     "slide_type": "slide"
    }
   },
   "source": [
    "### Función `interest_rate` \n",
    "\n",
    "`interest_rate(const_value=0, start=None, end=None, \n",
    "   nper=None, pyr=1, spec=None)`\n",
    "\n",
    "Crea una serie de tiempo que representa una tasa de interés.\n",
    "\n",
    "* `const_value` -- valor por defecto de la tasa de interés.\n",
    "* `start`-- período de tiempo inicial.\n",
    "* `end` -- período de tiempo final.\n",
    "* `nper`-- número de períodos (longitud de la serie).\n",
    "* `pyr`-- número de períodos de capitalización por año.\n",
    "* `spec` -- especificación de cambios en la tasa de interés."
   ]
  },
  {
   "cell_type": "code",
   "execution_count": 2,
   "metadata": {},
   "outputs": [
    {
     "data": {
      "text/plain": [
       "Time Series:\n",
       "Start = (0,)\n",
       "End = (4,)\n",
       "pyr = 1\n",
       "Data = (0,)-(4,) [5] 0.00 "
      ]
     },
     "execution_count": 2,
     "metadata": {},
     "output_type": "execute_result"
    }
   ],
   "source": [
    "cf.interest_rate(nper=5)"
   ]
  },
  {
   "cell_type": "code",
   "execution_count": 3,
   "metadata": {
    "slideshow": {
     "slide_type": "slide"
    }
   },
   "outputs": [
    {
     "data": {
      "text/plain": [
       "      Qtr0  Qtr1  Qtr2  Qtr3\n",
       "2000 10.00 10.00 10.00 10.00\n",
       "2001 10.00 10.00 10.00 10.00"
      ]
     },
     "execution_count": 3,
     "metadata": {},
     "output_type": "execute_result"
    }
   ],
   "source": [
    "cf.interest_rate(const_value=10,  # tasa de interés\n",
    "                 start=(2000, 0), # primer trimestre del año 2000\n",
    "                 nper=8,          # 8 trimestres\n",
    "                 pyr=4)           # 4 períodos por año"
   ]
  },
  {
   "cell_type": "code",
   "execution_count": 4,
   "metadata": {
    "slideshow": {
     "slide_type": "slide"
    }
   },
   "outputs": [
    {
     "data": {
      "text/plain": [
       "Time Series:\n",
       "Start = (2000, 0)\n",
       "End = (2001, 1)\n",
       "pyr = 6\n",
       "Data = (2000, 0)-(2001, 1) [8] 10.00 "
      ]
     },
     "execution_count": 4,
     "metadata": {},
     "output_type": "execute_result"
    }
   ],
   "source": [
    "cf.interest_rate(const_value=10,    # valor por defecto\n",
    "                 start=(2000, 0),   # primer bimestre del año 2000 \n",
    "                 nper=8,            # 8 bimestres\n",
    "                 pyr=6)             # 6 bimestres por año "
   ]
  },
  {
   "cell_type": "code",
   "execution_count": 5,
   "metadata": {
    "slideshow": {
     "slide_type": "slide"
    }
   },
   "outputs": [
    {
     "data": {
      "text/plain": [
       "      Qtr0  Qtr1  Qtr2  Qtr3\n",
       "2000  1.00  1.00  1.00 10.00\n",
       "2001 10.00 10.00 10.00 10.00"
      ]
     },
     "execution_count": 5,
     "metadata": {},
     "output_type": "execute_result"
    }
   ],
   "source": [
    "cf.interest_rate(const_value=1,        # valor por defecto  \n",
    "                 start=(2000, 0),      # primer trimestre del año 2000\n",
    "                 nper=8,               # ocho trimestres de longitud\n",
    "                 pyr=4,                # capitalización trimestral\n",
    "                 spec=((2000, 3), 10)) # cambia en el 4to trimestre a 10"
   ]
  },
  {
   "cell_type": "code",
   "execution_count": 6,
   "metadata": {
    "slideshow": {
     "slide_type": "slide"
    }
   },
   "outputs": [
    {
     "data": {
      "text/plain": [
       "      Qtr0  Qtr1  Qtr2  Qtr3\n",
       "2000  1.00  1.00  1.00 10.00\n",
       "2001 10.00 10.00 20.00 20.00"
      ]
     },
     "execution_count": 6,
     "metadata": {},
     "output_type": "execute_result"
    }
   ],
   "source": [
    "cf.interest_rate(const_value=1,           # valor por defecto  \n",
    "                 start=(2000, 0),         # primer trimestre del año 2000\n",
    "                 nper=8,                  # ocho trimestres de longitud\n",
    "                 pyr=4,                   # capitalización trimestral\n",
    "                 spec=[(3, 10),           # cambia en el 3r trimestre a 10 \n",
    "                       (6, 20)])          # y en el 6to a 20                                          "
   ]
  },
  {
   "cell_type": "code",
   "execution_count": 7,
   "metadata": {
    "slideshow": {
     "slide_type": "slide"
    }
   },
   "outputs": [
    {
     "data": {
      "text/plain": [
       "   Qtr0  Qtr1  Qtr2  Qtr3\n",
       "0 10.00 20.00 10.00 20.00\n",
       "1 10.00 20.00 10.00 20.00\n",
       "2 10.00 20.00 10.00 20.00\n",
       "3 10.00 20.00 10.00 20.00\n",
       "4 10.00 20.00 10.00 20.00"
      ]
     },
     "execution_count": 7,
     "metadata": {},
     "output_type": "execute_result"
    }
   ],
   "source": [
    "cf.interest_rate(const_value=[10, 20]*10, # especificación como un vector \n",
    "                 pyr=4)                   # capitalización trimestral"
   ]
  },
  {
   "cell_type": "markdown",
   "metadata": {
    "slideshow": {
     "slide_type": "slide"
    }
   },
   "source": [
    "***Ejemplo.--*** Se va a tomar un crédito a 48 meses a partir de enero del 2000. La tasa inicial es del 3% y aumenta un punto cada año. Represente la tasa de interés."
   ]
  },
  {
   "cell_type": "code",
   "execution_count": 8,
   "metadata": {
    "slideshow": {
     "slide_type": "fragment"
    }
   },
   "outputs": [
    {
     "data": {
      "text/plain": [
       "      Jan  Feb  Mar  Apr  May  Jun  Jul  Aug  Sep  Oct  Nov  Dec\n",
       "2000 3.00 3.00 3.00 3.00 3.00 3.00 3.00 3.00 3.00 3.00 3.00 3.00\n",
       "2001 4.00 4.00 4.00 4.00 4.00 4.00 4.00 4.00 4.00 4.00 4.00 4.00\n",
       "2002 5.00 5.00 5.00 5.00 5.00 5.00 5.00 5.00 5.00 5.00 5.00 5.00\n",
       "2003 6.00 6.00 6.00 6.00 6.00 6.00 6.00 6.00 6.00 6.00 6.00 6.00"
      ]
     },
     "execution_count": 8,
     "metadata": {},
     "output_type": "execute_result"
    }
   ],
   "source": [
    "cf.interest_rate(const_value=3,      # valor por defecto\n",
    "                 start=(2000, 0),    # primer trimestre del año 2000\n",
    "                 nper=48,            # longitud de la serie\n",
    "                 pyr=12,             # capitalización mensual\n",
    "                 spec=[(12, 4),      # tasa para el año 2\n",
    "                       (24, 5),      # tasa para el año 3\n",
    "                       (36, 6)])     # tasa para el año 4) "
   ]
  },
  {
   "cell_type": "code",
   "execution_count": 9,
   "metadata": {
    "slideshow": {
     "slide_type": "slide"
    }
   },
   "outputs": [
    {
     "data": {
      "text/plain": [
       "       Jan   Feb   Mar   Apr   May   Jun   Jul   Aug   Sep   Oct   Nov   Dec\n",
       "2000  3.00  3.00  3.00  3.00  3.00 10.00  3.00  3.00  3.00  3.00  3.00  3.00\n",
       "2001  4.00  4.00  4.00  4.00  4.00  4.00  4.00  4.00  4.00  4.00  4.00  4.00\n",
       "2002  5.00  5.00  5.00  5.00  5.00  5.00  5.00  5.00  5.00  5.00  5.00  5.00\n",
       "2003  6.00  6.00  6.00  6.00  6.00  6.00  6.00  6.00  6.00  6.00  6.00  6.00"
      ]
     },
     "execution_count": 9,
     "metadata": {},
     "output_type": "execute_result"
    }
   ],
   "source": [
    "x = cf.interest_rate(const_value=3,   # valor por defecto\n",
    "                     start=(2000, 0), # 1r trimestre del año 2000\n",
    "                     nper=48,         # longitud de la serie\n",
    "                     pyr=12,          # capitalización mensual\n",
    "                     spec=[(12, 4),   # tasa para el año 2\n",
    "                           (24, 5),   # tasa para el año 3\n",
    "                           (36, 6)])  # tasa para el año 4\n",
    "\n",
    "# se cambia el valor de la serie en este punto\n",
    "x[5] = 10                          \n",
    "x"
   ]
  },
  {
   "cell_type": "markdown",
   "metadata": {
    "slideshow": {
     "slide_type": "slide"
    }
   },
   "source": [
    "`cashflow(const_value=0, start=None, end=None, \n",
    "  nper=None, pyr=1, spec=None)`\n",
    "\n",
    "Crea una serie de tiempo que representa un flujo genérico de efectivo.\n",
    "\n",
    "* `const_value` -- valor por defecto.\n",
    "* `start`-- período de tiempo inicial.\n",
    "* `end` -- período de tiempo final.\n",
    "* `nper`-- número de períodos (longitud de la serie).\n",
    "* `pyr`-- número de períodos de capitalización por año.\n",
    "* `spec` -- especificación de cambios en el valor de la serie.\n"
   ]
  },
  {
   "cell_type": "code",
   "execution_count": 10,
   "metadata": {
    "slideshow": {
     "slide_type": "slide"
    }
   },
   "outputs": [
    {
     "data": {
      "text/plain": [
       "     Qtr0 Qtr1 Qtr2 Qtr3\n",
       "2000 1.00 1.00 1.00 1.00\n",
       "2001 1.00 1.00 1.00 1.00"
      ]
     },
     "execution_count": 10,
     "metadata": {},
     "output_type": "execute_result"
    }
   ],
   "source": [
    "cf.cashflow(const_value=1,   # valor constante\n",
    "            start=(2000, 0), # (período mayor, período menor)\n",
    "            nper=8,          # número total de períodos\n",
    "            pyr=4)           # número de períodos por año"
   ]
  },
  {
   "cell_type": "code",
   "execution_count": 11,
   "metadata": {
    "scrolled": true,
    "slideshow": {
     "slide_type": "slide"
    }
   },
   "outputs": [
    {
     "data": {
      "text/plain": [
       "      Qtr0  Qtr1  Qtr2  Qtr3\n",
       "2000  1.00  1.00  1.00 10.00\n",
       "2001  1.00  1.00  1.00  1.00"
      ]
     },
     "execution_count": 11,
     "metadata": {},
     "output_type": "execute_result"
    }
   ],
   "source": [
    "cf.cashflow(const_value=1,         # valor por defecto\n",
    "            start=(2000, 0),       # primer trimestre del año 2000\n",
    "            nper=8,                # longitud\n",
    "            pyr=4,                 # número de períodos por año\n",
    "            spec=((2000, 3), 10))  # ((major, minor), value)\n",
    "                                   # cambia el valor del \n",
    "                                   # trimestre 4 del año 2000"
   ]
  },
  {
   "cell_type": "code",
   "execution_count": 12,
   "metadata": {
    "slideshow": {
     "slide_type": "slide"
    }
   },
   "outputs": [
    {
     "data": {
      "text/plain": [
       "      Qtr0  Qtr1  Qtr2  Qtr3\n",
       "2000  1.00  1.00  1.00 10.00\n",
       "2001  1.00  1.00  1.00 20.00"
      ]
     },
     "execution_count": 12,
     "metadata": {},
     "output_type": "execute_result"
    }
   ],
   "source": [
    "cf.cashflow(const_value=1,          # valor por defecto\n",
    "            start=(2000, 0),        # primer trimestre del año 2000\n",
    "            nper=8,                 # longitud\n",
    "            pyr=4,                  # número de períodos por año\n",
    "            spec=[((2000, 3), 10),  # cambia este valor\n",
    "                  ((2001, 3), 20)]) # cambia este valor"
   ]
  },
  {
   "cell_type": "code",
   "execution_count": 13,
   "metadata": {
    "slideshow": {
     "slide_type": "slide"
    }
   },
   "outputs": [
    {
     "data": {
      "text/plain": [
       "      Qtr0  Qtr1  Qtr2  Qtr3\n",
       "2000  1.00  1.00  1.00 10.00\n",
       "2001  1.00  1.00  1.00  1.00"
      ]
     },
     "execution_count": 13,
     "metadata": {},
     "output_type": "execute_result"
    }
   ],
   "source": [
    "cf.cashflow(const_value=1,    # valor por defecto\n",
    "            start=(2000, 0),  # primer trimestre del año 2000\n",
    "            nper=8,           # longitud\n",
    "            pyr=4,            # número de períodos por año\n",
    "            spec=(3, 10))     # (time, value)\n",
    "                              # cambia el valor del trimestre \n",
    "                              # 4 del año 2000"
   ]
  },
  {
   "cell_type": "code",
   "execution_count": 14,
   "metadata": {
    "slideshow": {
     "slide_type": "slide"
    }
   },
   "outputs": [
    {
     "data": {
      "text/plain": [
       "      Qtr0  Qtr1  Qtr2  Qtr3\n",
       "2000  1.00  1.00  1.00 10.00\n",
       "2001  1.00  1.00  1.00 20.00"
      ]
     },
     "execution_count": 14,
     "metadata": {},
     "output_type": "execute_result"
    }
   ],
   "source": [
    "cf.cashflow(const_value=1,          # valor por defecto\n",
    "            start=(2000, 0),        # primer trimestre del año 2000\n",
    "            nper=8,                 # longitud\n",
    "            pyr=4,                  # número de períodos por año\n",
    "            spec=[(3, 10),          # cambia este valor\n",
    "                  (7, 20)])         # cambia este valor "
   ]
  },
  {
   "cell_type": "code",
   "execution_count": 15,
   "metadata": {
    "slideshow": {
     "slide_type": "slide"
    }
   },
   "outputs": [
    {
     "data": {
      "text/plain": [
       "   Qtr0  Qtr1  Qtr2  Qtr3\n",
       "0 10.00 10.00 10.00 10.00\n",
       "1 10.00 10.00 10.00 10.00\n",
       "2 10.00 10.00"
      ]
     },
     "execution_count": 15,
     "metadata": {},
     "output_type": "execute_result"
    }
   ],
   "source": [
    "cf.cashflow(const_value=[10]*10,    # como serie\n",
    "            pyr=4)                  # trimestres "
   ]
  },
  {
   "cell_type": "code",
   "execution_count": 16,
   "metadata": {
    "slideshow": {
     "slide_type": "slide"
    }
   },
   "outputs": [
    {
     "data": {
      "text/plain": [
       "Time Series:\n",
       "Start = (0,)\n",
       "End = (3,)\n",
       "pyr = 1\n",
       "Data = (0,)-(3,) [4] -10.00 "
      ]
     },
     "execution_count": 16,
     "metadata": {},
     "output_type": "execute_result"
    }
   ],
   "source": [
    "## especificación como lista\n",
    "cf.cashflow(const_value=[-10]*4)  "
   ]
  },
  {
   "cell_type": "code",
   "execution_count": 17,
   "metadata": {
    "slideshow": {
     "slide_type": "slide"
    }
   },
   "outputs": [
    {
     "data": {
      "text/plain": [
       "   Qtr0  Qtr1  Qtr2  Qtr3\n",
       "0  0.00  1.00  2.00 10.00"
      ]
     },
     "execution_count": 17,
     "metadata": {},
     "output_type": "execute_result"
    }
   ],
   "source": [
    "## es posible alterar y acceder a valores individuales \n",
    "## para cada período de tiempo usando []\n",
    "x = cf.cashflow(const_value=[0, 1, 2, 3], pyr=4)  \n",
    "x[3] = 10                                         \n",
    "x  "
   ]
  },
  {
   "cell_type": "code",
   "execution_count": 18,
   "metadata": {
    "slideshow": {
     "slide_type": "fragment"
    }
   },
   "outputs": [
    {
     "data": {
      "text/plain": [
       "10"
      ]
     },
     "execution_count": 18,
     "metadata": {},
     "output_type": "execute_result"
    }
   ],
   "source": [
    "x[3]"
   ]
  },
  {
   "cell_type": "code",
   "execution_count": 19,
   "metadata": {
    "slideshow": {
     "slide_type": "fragment"
    }
   },
   "outputs": [
    {
     "data": {
      "text/plain": [
       "  Qtr0 Qtr1 Qtr2 Qtr3\n",
       "0 0.00 1.00 2.00 0.00"
      ]
     },
     "execution_count": 19,
     "metadata": {},
     "output_type": "execute_result"
    }
   ],
   "source": [
    "x[(0, 3)] = 0\n",
    "x"
   ]
  },
  {
   "cell_type": "code",
   "execution_count": 20,
   "metadata": {
    "slideshow": {
     "slide_type": "fragment"
    }
   },
   "outputs": [
    {
     "data": {
      "text/plain": [
       "2"
      ]
     },
     "execution_count": 20,
     "metadata": {},
     "output_type": "execute_result"
    }
   ],
   "source": [
    "x[(0,2)]  "
   ]
  },
  {
   "cell_type": "code",
   "execution_count": 21,
   "metadata": {
    "slideshow": {
     "slide_type": "slide"
    }
   },
   "outputs": [
    {
     "data": {
      "text/plain": [
       "   Qtr0  Qtr1  Qtr2  Qtr3\n",
       "0 10.00 10.00 10.00 10.00"
      ]
     },
     "execution_count": 21,
     "metadata": {},
     "output_type": "execute_result"
    }
   ],
   "source": [
    "## función valor absoluto\n",
    "abs(cf.cashflow(const_value=[-10]*4,  \n",
    "                pyr=4)) "
   ]
  },
  {
   "cell_type": "markdown",
   "metadata": {
    "slideshow": {
     "slide_type": "slide"
    }
   },
   "source": [
    "**Operaciones entre flujos genéricos de efectivo**"
   ]
  },
  {
   "cell_type": "code",
   "execution_count": 22,
   "metadata": {
    "collapsed": true
   },
   "outputs": [],
   "source": [
    "x = cf.cashflow(const_value=[1]*4, pyr=4)\n",
    "y = cf.cashflow(const_value=[2]*4, pyr=4)"
   ]
  },
  {
   "cell_type": "code",
   "execution_count": 23,
   "metadata": {
    "slideshow": {
     "slide_type": "fragment"
    }
   },
   "outputs": [
    {
     "data": {
      "text/plain": [
       "  Qtr0 Qtr1 Qtr2 Qtr3\n",
       "0 3.00 3.00 3.00 3.00"
      ]
     },
     "execution_count": 23,
     "metadata": {},
     "output_type": "execute_result"
    }
   ],
   "source": [
    "x + y"
   ]
  },
  {
   "cell_type": "code",
   "execution_count": 24,
   "metadata": {
    "scrolled": true,
    "slideshow": {
     "slide_type": "fragment"
    }
   },
   "outputs": [
    {
     "data": {
      "text/plain": [
       "  Qtr0 Qtr1 Qtr2 Qtr3\n",
       "0 2.00 2.00 2.00 2.00"
      ]
     },
     "execution_count": 24,
     "metadata": {},
     "output_type": "execute_result"
    }
   ],
   "source": [
    "x * y"
   ]
  },
  {
   "cell_type": "code",
   "execution_count": 25,
   "metadata": {
    "slideshow": {
     "slide_type": "fragment"
    }
   },
   "outputs": [
    {
     "data": {
      "text/plain": [
       "   Qtr0  Qtr1  Qtr2  Qtr3\n",
       "0 -1.00 -1.00 -1.00 -1.00"
      ]
     },
     "execution_count": 25,
     "metadata": {},
     "output_type": "execute_result"
    }
   ],
   "source": [
    "x - y"
   ]
  },
  {
   "cell_type": "code",
   "execution_count": 26,
   "metadata": {
    "scrolled": true,
    "slideshow": {
     "slide_type": "fragment"
    }
   },
   "outputs": [
    {
     "data": {
      "text/plain": [
       "  Qtr0 Qtr1 Qtr2 Qtr3\n",
       "0 0.00 0.00 0.00 0.00"
      ]
     },
     "execution_count": 26,
     "metadata": {},
     "output_type": "execute_result"
    }
   ],
   "source": [
    "x // y"
   ]
  },
  {
   "cell_type": "markdown",
   "metadata": {
    "slideshow": {
     "slide_type": "slide"
    }
   },
   "source": [
    "**Asignación**"
   ]
  },
  {
   "cell_type": "code",
   "execution_count": 27,
   "metadata": {
    "slideshow": {
     "slide_type": "-"
    }
   },
   "outputs": [
    {
     "data": {
      "text/plain": [
       "  Qtr0 Qtr1 Qtr2 Qtr3\n",
       "0 5.00 5.00 5.00 5.00"
      ]
     },
     "execution_count": 27,
     "metadata": {},
     "output_type": "execute_result"
    }
   ],
   "source": [
    "x = cf.cashflow( const_value=[2]*4, pyr=4)\n",
    "x += cf.cashflow( const_value=[3]*4, pyr=4)\n",
    "x "
   ]
  },
  {
   "cell_type": "code",
   "execution_count": 28,
   "metadata": {
    "slideshow": {
     "slide_type": "fragment"
    }
   },
   "outputs": [
    {
     "data": {
      "text/plain": [
       "  Qtr0 Qtr1 Qtr2 Qtr3\n",
       "0 1.00 1.00 1.00 1.00"
      ]
     },
     "execution_count": 28,
     "metadata": {},
     "output_type": "execute_result"
    }
   ],
   "source": [
    "x = cf.cashflow( const_value=[6]*4, pyr=4)\n",
    "x //= cf.cashflow( const_value=[4]*4, pyr=4)\n",
    "x"
   ]
  },
  {
   "cell_type": "code",
   "execution_count": 29,
   "metadata": {
    "slideshow": {
     "slide_type": "fragment"
    }
   },
   "outputs": [
    {
     "data": {
      "text/plain": [
       "  Qtr0 Qtr1 Qtr2 Qtr3\n",
       "0 6.00 6.00 6.00 6.00"
      ]
     },
     "execution_count": 29,
     "metadata": {},
     "output_type": "execute_result"
    }
   ],
   "source": [
    "x = cf.cashflow( const_value=[2]*4, pyr=4)\n",
    "x *= cf.cashflow( const_value=[3]*4, pyr=4)\n",
    "x "
   ]
  },
  {
   "cell_type": "code",
   "execution_count": 30,
   "metadata": {
    "slideshow": {
     "slide_type": "fragment"
    }
   },
   "outputs": [
    {
     "data": {
      "text/plain": [
       "  Qtr0 Qtr1 Qtr2 Qtr3\n",
       "0 2.00 2.00 2.00 2.00"
      ]
     },
     "execution_count": 30,
     "metadata": {},
     "output_type": "execute_result"
    }
   ],
   "source": [
    "x = cf.cashflow( const_value=[6]*4, pyr=4)\n",
    "x -= cf.cashflow( const_value=[4]*4, pyr=4)\n",
    "x"
   ]
  },
  {
   "cell_type": "code",
   "execution_count": 31,
   "metadata": {
    "slideshow": {
     "slide_type": "slide"
    }
   },
   "outputs": [
    {
     "data": {
      "text/plain": [
       "[6, 6, 6, 6]"
      ]
     },
     "execution_count": 31,
     "metadata": {},
     "output_type": "execute_result"
    }
   ],
   "source": [
    "## convierte el flujo a una lista\n",
    "cf.cashflow(const_value=[6]*4, pyr=4).tolist() "
   ]
  },
  {
   "cell_type": "code",
   "execution_count": 32,
   "metadata": {
    "scrolled": true,
    "slideshow": {
     "slide_type": "slide"
    }
   },
   "outputs": [
    {
     "name": "stdout",
     "output_type": "stream",
     "text": [
      "time    value +------------------+------------------+\n",
      "(0, 0) -10.00           **********\n",
      "(0, 1)   5.00                    *****\n",
      "(0, 2)   0.00                    *\n",
      "(0, 3)  20.00                    ********************\n",
      "(1, 0) -10.00           **********\n",
      "(1, 1)   5.00                    *****\n",
      "(1, 2)   0.00                    *\n",
      "(1, 3)  20.00                    ********************\n",
      "(2, 0) -10.00           **********\n",
      "(2, 1)   5.00                    *****\n",
      "(2, 2)   0.00                    *\n",
      "(2, 3)  20.00                    ********************\n"
     ]
    }
   ],
   "source": [
    "## diagrama de flujo libre\n",
    "cflo = cf.cashflow(const_value=[-10, 5, 0, 20] * 3, pyr=4)\n",
    "cf.cfloplot(cflo)"
   ]
  },
  {
   "cell_type": "markdown",
   "metadata": {
    "slideshow": {
     "slide_type": "slide"
    }
   },
   "source": [
    "En algunos casos es necesario introducir patrones de flujo más complejos. "
   ]
  },
  {
   "cell_type": "code",
   "execution_count": 33,
   "metadata": {},
   "outputs": [
    {
     "data": {
      "text/plain": [
       "Time Series:\n",
       "Start = (0,)\n",
       "End = (8,)\n",
       "pyr = 1\n",
       "Data = (0,)          0.00 \n",
       "       (1,)          1.00 \n",
       "       (2,)-(3,) [2] 2.00 \n",
       "       (4,)          4.00 \n",
       "       (5,)          5.00 \n",
       "       (6,)          6.00 \n",
       "       (7,)          7.00 \n",
       "       (8,)          8.00 "
      ]
     },
     "execution_count": 33,
     "metadata": {},
     "output_type": "execute_result"
    }
   ],
   "source": [
    "cf.cashflow(const_value=[0, 1, 2, 2, 4, 5, 6, 7, 8])"
   ]
  },
  {
   "cell_type": "code",
   "execution_count": 34,
   "metadata": {
    "slideshow": {
     "slide_type": "slide"
    }
   },
   "outputs": [
    {
     "data": {
      "text/plain": [
       "Time Series:\n",
       "Start = (0,)\n",
       "End = (14,)\n",
       "pyr = 1\n",
       "Data = (0,)-(4,)   [5]   0.00 \n",
       "       (5,)-(9,)   [5] 100.00 \n",
       "       (10,)-(14,) [5]   0.00 "
      ]
     },
     "execution_count": 34,
     "metadata": {},
     "output_type": "execute_result"
    }
   ],
   "source": [
    "## para  5 <= t < 10, el valor es $ 100, \n",
    "## y 0 en el resto de los casos\n",
    "cf.cashflow(const_value=0, \n",
    "            nper=15, \n",
    "            pyr=1, \n",
    "            spec=[(t,100) for t in range(5,10)]) "
   ]
  },
  {
   "cell_type": "code",
   "execution_count": 35,
   "metadata": {
    "slideshow": {
     "slide_type": "slide"
    }
   },
   "outputs": [
    {
     "data": {
      "text/plain": [
       "Time Series:\n",
       "Start = (0,)\n",
       "End = (19,)\n",
       "pyr = 1\n",
       "Data = (0,)              0.00 \n",
       "       (1,)-(4,)   [4] 100.00 \n",
       "       (5,)              0.00 \n",
       "       (6,)-(9,)   [4] 150.00 \n",
       "       (10,)             0.00 \n",
       "       (11,)-(12,) [2] 200.00 \n",
       "       (13,)-(19,) [7]   0.00 "
      ]
     },
     "execution_count": 35,
     "metadata": {},
     "output_type": "execute_result"
    }
   ],
   "source": [
    "## un flujo escalonado\n",
    "a = [(t, 100) for t in range( 1,  5)]\n",
    "b = [(t, 150) for t in range( 6, 10)]\n",
    "c = [(t, 200) for t in range(11, 13)]\n",
    "cf.cashflow(const_value=0, \n",
    "            nper=20, \n",
    "            pyr=1, \n",
    "            spec=a + b + c) # concatena a, b y c"
   ]
  },
  {
   "cell_type": "code",
   "execution_count": 36,
   "metadata": {
    "scrolled": true,
    "slideshow": {
     "slide_type": "slide"
    }
   },
   "outputs": [
    {
     "data": {
      "text/plain": [
       "Time Series:\n",
       "Start = (0,)\n",
       "End = (19,)\n",
       "pyr = 1\n",
       "Data = (0,)-(4,)   [5]    0.00 \n",
       "       (5,)             100.00 \n",
       "       (6,)             105.00 \n",
       "       (7,)             110.25 \n",
       "       (8,)             115.76 \n",
       "       (9,)             121.55 \n",
       "       (10,)-(19,) [10]   0.00 "
      ]
     },
     "execution_count": 36,
     "metadata": {},
     "output_type": "execute_result"
    }
   ],
   "source": [
    "## flujo con gradiente geométrico (aumento del 5% por período)\n",
    "cf.cashflow(const_value=0, \n",
    "            nper=20, \n",
    "            pyr=1, \n",
    "            spec=[(t, 100 * 1.05 ** (t-5)) for t in range(5,10)])"
   ]
  },
  {
   "cell_type": "markdown",
   "metadata": {
    "slideshow": {
     "slide_type": "slide"
    }
   },
   "source": [
    "***Ejercicio.--***  Represente los siguientes flujos de fondos y luego cómpute y grafique su suma.\n",
    "\n",
    "<img src=\"images/sesion-3-flujos.png\" width=\"750\">"
   ]
  },
  {
   "cell_type": "markdown",
   "metadata": {
    "slideshow": {
     "slide_type": "slide"
    }
   },
   "source": [
    "Representación de flujos de efectivo y tasas de interés\n",
    "===\n",
    "\n",
    "**Juan David Velásquez Henao**  \n",
    "jdvelasq@unal.edu.co   \n",
    "Universidad Nacional de Colombia, Sede Medellín  \n",
    "Facultad de Minas  \n",
    "Medellín, Colombia\n",
    "\n",
    "---\n",
    "\n",
    "Haga click [aquí](https://github.com/jdvelasq/ingenieria-economica/blob/master/03-flujos-de-efectivo-y-tasas.ipynb) para acceder a la última versión online\n",
    "\n",
    "Haga click [aquí](http://nbviewer.jupyter.org/github/jdvelasq/ingenieria-economica/blob/master/03-flujos-de-efectivo-y-tasas.ipynb) para ver la última versión online en `nbviewer`.\n",
    "\n",
    "---"
   ]
  }
 ],
 "metadata": {
  "anaconda-cloud": {},
  "celltoolbar": "Slideshow",
  "kernelspec": {
   "display_name": "Python 3",
   "language": "python",
   "name": "python3"
  },
  "language_info": {
   "codemirror_mode": {
    "name": "ipython",
    "version": 3
   },
   "file_extension": ".py",
   "mimetype": "text/x-python",
   "name": "python",
   "nbconvert_exporter": "python",
   "pygments_lexer": "ipython3",
   "version": "3.6.1"
  }
 },
 "nbformat": 4,
 "nbformat_minor": 1
}
