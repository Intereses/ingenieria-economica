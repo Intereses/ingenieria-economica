{
 "cells": [
  {
   "cell_type": "markdown",
   "metadata": {
    "slideshow": {
     "slide_type": "slide"
    }
   },
   "source": [
    "Depreciación de Activos\n",
    "===\n",
    "\n",
    "**Juan David Velásquez Henao**  \n",
    "jdvelasq@unal.edu.co   \n",
    "Universidad Nacional de Colombia, Sede Medellín  \n",
    "Facultad de Minas  \n",
    "Medellín, Colombia\n",
    "\n",
    "---\n",
    "\n",
    "Haga click [aquí](https://github.com/jdvelasq/ingenieria-economica/blob/master/04-computos-6-depreciacion.ipynb) para acceder a la última versión online\n",
    "\n",
    "Haga click [aquí](http://nbviewer.jupyter.org/github/jdvelasq/ingenieria-economica/blob/master/04-computos-6-depreciacion.ipynb) para ver la última versión online en `nbviewer`."
   ]
  },
  {
   "cell_type": "code",
   "execution_count": 2,
   "metadata": {
    "collapsed": true,
    "slideshow": {
     "slide_type": "slide"
    }
   },
   "outputs": [],
   "source": [
    "import cashflows as cf"
   ]
  },
  {
   "cell_type": "markdown",
   "metadata": {
    "slideshow": {
     "slide_type": "slide"
    }
   },
   "source": [
    "# Cómputos: Modelado de la Depreciación"
   ]
  },
  {
   "cell_type": "markdown",
   "metadata": {
    "slideshow": {
     "slide_type": "slide"
    }
   },
   "source": [
    "La depreciación permite la deducción de los costos de las inversiones (pérdida de valor de ellas) con el fin de reducir el impuesto de renta.\n",
    "\n",
    "#### Depreciación en linea recta\n",
    "\n",
    "La depreciación en todos los años es igual.\n",
    "\n",
    "* $P$ -- valor de compra en libros.\n",
    "\n",
    "* $N$ -- número de años en que ocurre la depreciación (vida útil del activo).\n",
    "\n",
    "* $D_n$ -- depreciación en el año $n$.\n",
    "\n",
    "$$D_n = \\frac{P-F}{N}$$\n",
    "\n",
    "* $F$ -- valor de salvamento al final de la vida útil."
   ]
  },
  {
   "cell_type": "markdown",
   "metadata": {
    "slideshow": {
     "slide_type": "slide"
    }
   },
   "source": [
    "***Ejemplo.--*** Un activo cuesta  \\$ 200 . Si la depreciación ocurre durante 5 años, cuál es su depreciación anual?."
   ]
  },
  {
   "cell_type": "code",
   "execution_count": 6,
   "metadata": {},
   "outputs": [
    {
     "name": "stdout",
     "output_type": "stream",
     "text": [
      "t        Beg.    Cost  Depre.  Accum.    End.\n",
      "         Book                  Depre.    Book\n",
      "        Value                           Value\n",
      "---------------------------------------------\n",
      "(0,)     0.00    0.00    0.00    0.00    0.00\n",
      "(1,)     0.00  200.00    0.00    0.00  200.00\n",
      "(2,)   200.00    0.00   40.00   40.00  160.00\n",
      "(3,)   160.00    0.00   40.00   80.00  120.00\n",
      "(4,)   120.00    0.00   40.00  120.00   80.00\n",
      "(5,)    80.00    0.00   40.00  160.00   40.00\n",
      "(6,)    40.00    0.00   40.00  200.00    0.00\n",
      "(7,)     0.00  200.00    0.00  200.00  200.00\n",
      "(8,)   200.00    0.00   66.67  266.67  133.33\n",
      "(9,)   133.33    0.00   66.67  333.33   66.67\n",
      "(10,)   66.67    0.00   66.67  400.00   -0.00\n",
      "(11,)   -0.00    0.00    0.00  400.00   -0.00\n",
      "(12,)   -0.00    0.00    0.00  400.00   -0.00\n",
      "(13,)   -0.00    0.00    0.00  400.00   -0.00\n",
      "(14,)   -0.00    0.00    0.00  400.00   -0.00\n"
     ]
    }
   ],
   "source": [
    "#\n",
    "# los datos del activo se ingresan como una dupla \n",
    "# conformada asi: (costo, vida util)\n",
    "\n",
    "costs = cf.cashflow(const_value=0, nper=15, spec=[(1, 200), (7, 200)]) # Costo del\n",
    "life = cf.cashflow(const_value=0, nper=15, spec=[(1, 5), (7,3)])\n",
    "#\n",
    "# 'SL' indica la depreciación en linea recta\n",
    "#                        (cost, life)\n",
    "cf.depreciation_sl(costs=costs, life=life,noprint=False)\n",
    "\n",
    "#\n",
    "# el resultado se imprime en forma de tabla:\n",
    "#\n",
    "#  * Beg. Book Value -- representa el valor total de los activos al inicio del periodo\n",
    "#  * Cost -- Costo en activos en el periodo\n",
    "#  * Depre -- depreciación total para el periodo t\n",
    "#  * Accum. Depre --- depreciación acumulada por periodo\n",
    "#  * End.Book Value -- valor final de los activos al final del periodo"
   ]
  },
  {
   "cell_type": "markdown",
   "metadata": {
    "slideshow": {
     "slide_type": "slide"
    }
   },
   "source": [
    "#### Depreciación por suma de los dígitos de los años (o depreciación acelerada)"
   ]
  },
  {
   "cell_type": "markdown",
   "metadata": {},
   "source": [
    "En este método de depreciación se hace mayor al principio y más pequeña al final. Se basa en la progresión desde $N$ hasta 1.\n",
    "\n",
    "$$S = \\sum_{i=1}^N i = \\frac{1}{2} N(N + 1)$$\n",
    "\n",
    "$$D_n = (P - F) * \\frac{(N - n + 1)}{S} = 2 * (P - F) * \\frac{N-n+1}{N(N+1)}$$ "
   ]
  },
  {
   "cell_type": "markdown",
   "metadata": {
    "slideshow": {
     "slide_type": "slide"
    }
   },
   "source": [
    "***Ejemplo.--*** Calcule la depreciación por el método de la suma de los dígitos de los años para el activo del ejemplo anterior."
   ]
  },
  {
   "cell_type": "code",
   "execution_count": 7,
   "metadata": {
    "scrolled": true
   },
   "outputs": [
    {
     "name": "stdout",
     "output_type": "stream",
     "text": [
      "t        Beg.    Cost  Depre.  Accum.    End.\n",
      "         Book                  Depre.    Book\n",
      "        Value                           Value\n",
      "---------------------------------------------\n",
      "(0,)     0.00    0.00    0.00    0.00    0.00\n",
      "(1,)     0.00  200.00    0.00    0.00  200.00\n",
      "(2,)   200.00    0.00   66.67   66.67  133.33\n",
      "(3,)   133.33    0.00   53.33  120.00   80.00\n",
      "(4,)    80.00    0.00   40.00  160.00   40.00\n",
      "(5,)    40.00    0.00   26.67  186.67   13.33\n",
      "(6,)    13.33    0.00   13.33  200.00   -0.00\n",
      "(7,)    -0.00  200.00    0.00  200.00  200.00\n",
      "(8,)   200.00    0.00  100.00  300.00  100.00\n",
      "(9,)   100.00    0.00   66.67  366.67   33.33\n",
      "(10,)   33.33    0.00   33.33  400.00   -0.00\n",
      "(11,)   -0.00    0.00    0.00  400.00   -0.00\n",
      "(12,)   -0.00    0.00    0.00  400.00   -0.00\n",
      "(13,)   -0.00    0.00    0.00  400.00   -0.00\n",
      "(14,)   -0.00    0.00    0.00  400.00   -0.00\n"
     ]
    }
   ],
   "source": [
    "## 'SOYD' -- sum of year's digits\n",
    "cf.depreciation_soyd(costs=costs, life=life,noprint=False) # (cost, life)\n",
    "# noprint es para imprimir la tabla cuando se indica False\n"
   ]
  },
  {
   "cell_type": "markdown",
   "metadata": {
    "slideshow": {
     "slide_type": "slide"
    }
   },
   "source": [
    "#### Modelado de la depreciación usando `cashflow`"
   ]
  },
  {
   "cell_type": "code",
   "execution_count": 8,
   "metadata": {},
   "outputs": [
    {
     "data": {
      "text/plain": [
       "    Qtr0   Qtr1   Qtr2   Qtr3\n",
       "0   0.00   0.00   0.00 250.00\n",
       "1 250.00 250.00 250.00   0.00\n",
       "2   0.00   0.00   0.00 250.00\n",
       "3 250.00 250.00 250.00   0.00"
      ]
     },
     "execution_count": 8,
     "metadata": {},
     "output_type": "execute_result"
    }
   ],
   "source": [
    "##\n",
    "## es posible obtener la columna 'depreciation' como un flujo de efectivo teniendo en cuenta los periodos anuales y\n",
    "## en cuales periodos se reflejaran los costos \n",
    "##\n",
    "costs = cf.cashflow(const_value=0, \n",
    "                    nper=16, \n",
    "                    spec=[(0, 1000), (8, 1000)], \n",
    "                    pyr=4)\n",
    "life = cf.cashflow(const_value=0, \n",
    "                   nper=16, \n",
    "                   spec=[(0, 4), (8, 4)], \n",
    "                   pyr=4)\n",
    "delay22 = cf.cashflow(const_value=0, \n",
    "                      nper=16, \n",
    "                      spec=[(0, 2), (8, 2)],\n",
    "                      pyr=4)\n",
    "\n",
    "cf.depreciation_sl(costs=costs,\n",
    "                   life=life,\n",
    "                   delay=delay22)"
   ]
  },
  {
   "cell_type": "code",
   "execution_count": 75,
   "metadata": {
    "slideshow": {
     "slide_type": "slide"
    }
   },
   "outputs": [
    {
     "name": "stdout",
     "output_type": "stream",
     "text": [
      "t         Beg.    Cost  Depre.  Accum.    End.\n",
      "          Book                  Depre.    Book\n",
      "         Value                           Value\n",
      "----------------------------------------------\n",
      "(0, 0)    0.00 1000.00    0.00    0.00 1000.00\n",
      "(0, 1) 1000.00    0.00    0.00    0.00 1000.00\n",
      "(0, 2) 1000.00    0.00    0.00    0.00 1000.00\n",
      "(0, 3) 1000.00    0.00  250.00  250.00  750.00\n",
      "(1, 0)  750.00    0.00  250.00  500.00  500.00\n",
      "(1, 1)  500.00    0.00  250.00  750.00  250.00\n",
      "(1, 2)  250.00    0.00  250.00 1000.00    0.00\n",
      "(1, 3)    0.00    0.00    0.00 1000.00    0.00\n",
      "(2, 0)    0.00 1000.00    0.00 1000.00 1000.00\n",
      "(2, 1) 1000.00    0.00    0.00 1000.00 1000.00\n",
      "(2, 2) 1000.00    0.00    0.00 1000.00 1000.00\n",
      "(2, 3) 1000.00    0.00  250.00 1250.00  750.00\n",
      "(3, 0)  750.00    0.00  250.00 1500.00  500.00\n",
      "(3, 1)  500.00    0.00  250.00 1750.00  250.00\n",
      "(3, 2)  250.00    0.00  250.00 2000.00    0.00\n",
      "(3, 3)    0.00    0.00    0.00 2000.00    0.00\n"
     ]
    }
   ],
   "source": [
    "##\n",
    "## es posible obtener la tabla de depreciación\n",
    "##\n",
    "cf.depreciation_sl(costs=costs, life=life, delay=delay22, noprint=False)"
   ]
  },
  {
   "cell_type": "markdown",
   "metadata": {
    "slideshow": {
     "slide_type": "slide"
    }
   },
   "source": [
    "#### Efecto de la depreciación sobre el impuesto de renta y el flujo de caja"
   ]
  },
  {
   "cell_type": "markdown",
   "metadata": {},
   "source": [
    "**Caso 1: sin depreciación.**"
   ]
  },
  {
   "cell_type": "code",
   "execution_count": 10,
   "metadata": {},
   "outputs": [
    {
     "data": {
      "text/plain": [
       "Time Series:\n",
       "Start = (0,)\n",
       "End = (4,)\n",
       "pyr = 1\n",
       "Data = (0,)-(4,) [5] 250.00 "
      ]
     },
     "execution_count": 10,
     "metadata": {},
     "output_type": "execute_result"
    }
   ],
   "source": [
    "# crea el flujo de caja\n",
    "i = cf.cashflow(const_value=[500]*5)          # ingresos brutos: $ 500 por periodo\n",
    "g = cf.cashflow(const_value=[250]*5)                         # gastos operativos: $ 250 por periodo\n",
    "x = i-g                                      # ingreso antes de impuestos\n",
    "x"
   ]
  },
  {
   "cell_type": "code",
   "execution_count": 11,
   "metadata": {},
   "outputs": [
    {
     "data": {
      "text/plain": [
       "Time Series:\n",
       "Start = (0,)\n",
       "End = (4,)\n",
       "pyr = 1\n",
       "Data = (0,)-(4,) [5] 162.50 "
      ]
     },
     "execution_count": 11,
     "metadata": {},
     "output_type": "execute_result"
    }
   ],
   "source": [
    "x = x - cf.after_tax_cashflow(x, tax_rate = cf.nominal_rate(const_value=[35] * 5)) # impuesto de renta del 35%\n",
    "x                                              # ingreso despues de impuestos"
   ]
  },
  {
   "cell_type": "markdown",
   "metadata": {
    "slideshow": {
     "slide_type": "slide"
    }
   },
   "source": [
    "**Caso 2: depreciación en linea recta.**"
   ]
  },
  {
   "cell_type": "code",
   "execution_count": 14,
   "metadata": {},
   "outputs": [
    {
     "data": {
      "text/plain": [
       "Time Series:\n",
       "Start = (0,)\n",
       "End = (4,)\n",
       "pyr = 1\n",
       "Data = (0,)           0.00 \n",
       "       (1,)-(4,) [4] 40.00 "
      ]
     },
     "execution_count": 14,
     "metadata": {},
     "output_type": "execute_result"
    }
   ],
   "source": [
    "## considere un activo depreciable\n",
    "d = cf.depreciation_sl(costs=cf.cashflow(const_value=0, nper=5, spec=(0, 200)), \n",
    "                       life=cf.cashflow(const_value=0, nper=5, spec=(0, 5)),\n",
    "                       noprint=True)\n",
    "d"
   ]
  },
  {
   "cell_type": "code",
   "execution_count": 15,
   "metadata": {},
   "outputs": [
    {
     "data": {
      "text/plain": [
       "Time Series:\n",
       "Start = (0,)\n",
       "End = (4,)\n",
       "pyr = 1\n",
       "Data = (0,)-(4,) [5] 250.00 "
      ]
     },
     "execution_count": 15,
     "metadata": {},
     "output_type": "execute_result"
    }
   ],
   "source": [
    "# crea el flujo de caja\n",
    "i = cf.cashflow(const_value=[500]*5)          # ingresos brutos: $ 500 por periodo\n",
    "g = cf.cashflow(const_value=[250]*5)                         # gastos operativos: $ 250 por periodo\n",
    "x = i-g                                      # ingreso antes de impuestos\n",
    "x"
   ]
  },
  {
   "cell_type": "code",
   "execution_count": 16,
   "metadata": {},
   "outputs": [
    {
     "data": {
      "text/plain": [
       "Time Series:\n",
       "Start = (0,)\n",
       "End = (4,)\n",
       "pyr = 1\n",
       "Data = (0,)          250.00 \n",
       "       (1,)-(4,) [4] 210.00 "
      ]
     },
     "execution_count": 16,
     "metadata": {},
     "output_type": "execute_result"
    }
   ],
   "source": [
    "x = x - d                     # depreciacion\n",
    "x                            # ingreso antes de impuestos"
   ]
  },
  {
   "cell_type": "code",
   "execution_count": 17,
   "metadata": {},
   "outputs": [
    {
     "data": {
      "text/plain": [
       "Time Series:\n",
       "Start = (0,)\n",
       "End = (4,)\n",
       "pyr = 1\n",
       "Data = (0,)          162.50 \n",
       "       (1,)-(4,) [4] 136.50 "
      ]
     },
     "execution_count": 17,
     "metadata": {},
     "output_type": "execute_result"
    }
   ],
   "source": [
    "x = x - cf.after_tax_cashflow(x, tax_rate = cf.nominal_rate(const_value=[35] * 5)) # impuesto de renta del 35%\n",
    "x                                              # ingreso despues de impuestos"
   ]
  },
  {
   "cell_type": "code",
   "execution_count": 19,
   "metadata": {},
   "outputs": [
    {
     "data": {
      "text/plain": [
       "Time Series:\n",
       "Start = (0,)\n",
       "End = (4,)\n",
       "pyr = 1\n",
       "Data = (0,)          162.50 \n",
       "       (1,)-(4,) [4] 176.50 "
      ]
     },
     "execution_count": 19,
     "metadata": {},
     "output_type": "execute_result"
    }
   ],
   "source": [
    "x + d  # flujo de caja"
   ]
  },
  {
   "cell_type": "markdown",
   "metadata": {},
   "source": [
    "Note que en el resultado anterior el ingreso después de impuestos es mayor que en el caso 1."
   ]
  },
  {
   "cell_type": "markdown",
   "metadata": {
    "slideshow": {
     "slide_type": "slide"
    }
   },
   "source": [
    "**Caso 2: depreciación acelerada.**"
   ]
  },
  {
   "cell_type": "code",
   "execution_count": 21,
   "metadata": {},
   "outputs": [
    {
     "data": {
      "text/plain": [
       "Time Series:\n",
       "Start = (0,)\n",
       "End = (4,)\n",
       "pyr = 1\n",
       "Data = (0,)    0.00 \n",
       "       (1,)   66.67 \n",
       "       (2,)   53.33 \n",
       "       (3,)   40.00 \n",
       "       (4,)   26.67 "
      ]
     },
     "execution_count": 21,
     "metadata": {},
     "output_type": "execute_result"
    }
   ],
   "source": [
    "## activo depreciable\n",
    "costs=cf.cashflow(const_value=0, nper=5, spec=(0, 200))\n",
    "life=cf.cashflow(const_value=0, nper=5, spec=(0, 5))\n",
    "d =cf.depreciation_soyd(costs=costs, life=life)\n",
    "d"
   ]
  },
  {
   "cell_type": "code",
   "execution_count": 22,
   "metadata": {},
   "outputs": [
    {
     "data": {
      "text/plain": [
       "Time Series:\n",
       "Start = (0,)\n",
       "End = (4,)\n",
       "pyr = 1\n",
       "Data = (0,)-(4,) [5] 250.00 "
      ]
     },
     "execution_count": 22,
     "metadata": {},
     "output_type": "execute_result"
    }
   ],
   "source": [
    "# crea el flujo de caja\n",
    "i = cf.cashflow(const_value=[500]*5)          # ingresos brutos: $ 500 por periodo\n",
    "g = cf.cashflow(const_value=[250]*5)                         # gastos operativos: $ 250 por periodo\n",
    "x = i-g                                      # ingreso antes de impuestos\n",
    "x"
   ]
  },
  {
   "cell_type": "code",
   "execution_count": 23,
   "metadata": {
    "slideshow": {
     "slide_type": "slide"
    }
   },
   "outputs": [
    {
     "data": {
      "text/plain": [
       "Time Series:\n",
       "Start = (0,)\n",
       "End = (4,)\n",
       "pyr = 1\n",
       "Data = (0,)   250.00 \n",
       "       (1,)   183.33 \n",
       "       (2,)   196.67 \n",
       "       (3,)   210.00 \n",
       "       (4,)   223.33 "
      ]
     },
     "execution_count": 23,
     "metadata": {},
     "output_type": "execute_result"
    }
   ],
   "source": [
    "x = x - d                     # depreciacion\n",
    "x                             # ingreso antes de impuestos"
   ]
  },
  {
   "cell_type": "code",
   "execution_count": 24,
   "metadata": {},
   "outputs": [
    {
     "data": {
      "text/plain": [
       "Time Series:\n",
       "Start = (0,)\n",
       "End = (4,)\n",
       "pyr = 1\n",
       "Data = (0,)   162.50 \n",
       "       (1,)   119.17 \n",
       "       (2,)   127.83 \n",
       "       (3,)   136.50 \n",
       "       (4,)   145.17 "
      ]
     },
     "execution_count": 24,
     "metadata": {},
     "output_type": "execute_result"
    }
   ],
   "source": [
    "x = x - cf.after_tax_cashflow(x, tax_rate = cf.nominal_rate(const_value=[35] * 5)) # impuesto de renta del 35%\n",
    "x                                              # ingreso despues de impuestos"
   ]
  },
  {
   "cell_type": "code",
   "execution_count": 25,
   "metadata": {},
   "outputs": [
    {
     "data": {
      "text/plain": [
       "Time Series:\n",
       "Start = (0,)\n",
       "End = (4,)\n",
       "pyr = 1\n",
       "Data = (0,)   162.50 \n",
       "       (1,)   185.83 \n",
       "       (2,)   181.17 \n",
       "       (3,)   176.50 \n",
       "       (4,)   171.83 "
      ]
     },
     "execution_count": 25,
     "metadata": {},
     "output_type": "execute_result"
    }
   ],
   "source": [
    "x + d  # flujo de caja"
   ]
  },
  {
   "cell_type": "markdown",
   "metadata": {
    "slideshow": {
     "slide_type": "slide"
    }
   },
   "source": [
    "Depreciación de Activos\n",
    "===\n",
    "\n",
    "**Juan David Velásquez Henao**  \n",
    "jdvelasq@unal.edu.co   \n",
    "Universidad Nacional de Colombia, Sede Medellín  \n",
    "Facultad de Minas  \n",
    "Medellín, Colombia\n",
    "\n",
    "---\n",
    "\n",
    "Haga click [aquí](https://github.com/jdvelasq/ingenieria-economica/blob/master/04-computos-6-depreciacion.ipynb) para acceder a la última versión online\n",
    "\n",
    "Haga click [aquí](http://nbviewer.jupyter.org/github/jdvelasq/ingenieria-economica/blob/master/04-computos-6-depreciacion.ipynb) para ver la última versión online en `nbviewer`."
   ]
  },
  {
   "cell_type": "markdown",
   "metadata": {
    "slideshow": {
     "slide_type": "slide"
    }
   },
   "source": [
    "**Bibliografía**\n",
    "\n",
    "> * [1] SAS/ETS 14.1 User's Guide, 2015.   \n",
    "* [2] **hp** 12c platinum financial calculator. User's guide. \n",
    "* [3] HP Business Consultant II Owner's manual.\n",
    "* [4] C.S. Park and G.P. Sharp-Bette. Advanced Engineering Economics. John Wiley & Sons, Inc., 1990."
   ]
  }
 ],
 "metadata": {
  "anaconda-cloud": {},
  "celltoolbar": "Slideshow",
  "kernelspec": {
   "display_name": "Python 3",
   "language": "python",
   "name": "python3"
  },
  "language_info": {
   "codemirror_mode": {
    "name": "ipython",
    "version": 3
   },
   "file_extension": ".py",
   "mimetype": "text/x-python",
   "name": "python",
   "nbconvert_exporter": "python",
   "pygments_lexer": "ipython3",
   "version": "3.6.1"
  }
 },
 "nbformat": 4,
 "nbformat_minor": 1
}
