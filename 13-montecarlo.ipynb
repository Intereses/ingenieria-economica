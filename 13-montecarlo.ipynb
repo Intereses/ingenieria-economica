{
 "cells": [
  {
   "cell_type": "markdown",
   "metadata": {},
   "source": [
    "Análisis bajo riesgo\n",
    "===\n",
    "\n",
    "**Juan David Velásquez Henao**  \n",
    "jdvelasq@unal.edu.co   \n",
    "Universidad Nacional de Colombia, Sede Medellín  \n",
    "Facultad de Minas  \n",
    "Medellín, Colombia\n",
    "\n",
    "---\n",
    "\n",
    "Haga click [aquí](https://github.com/jdvelasq/ingenieria-economica/blob/master/13-montecarlo.ipynb) para acceder a la última versión online.\n",
    "\n",
    "Haga click [aquí](http://nbviewer.jupyter.org/github/jdvelasq/ingenieria-economica/blob/master/13-montecarlo.ipynb) para ver la última versión online en `nbviewer`. \n",
    "\n",
    "---"
   ]
  },
  {
   "cell_type": "markdown",
   "metadata": {},
   "source": [
    "A continuación se desarrolla el mismo caso anterior pero considerando que el precio y la producción son variables aleatorias."
   ]
  },
  {
   "cell_type": "code",
   "execution_count": 9,
   "metadata": {
    "collapsed": true
   },
   "outputs": [],
   "source": [
    "import numpy.random as rdn\n",
    "import cashflows as cf"
   ]
  },
  {
   "cell_type": "code",
   "execution_count": 10,
   "metadata": {
    "collapsed": true
   },
   "outputs": [],
   "source": [
    "## se construye una función que recibe la información relevante y retorn el npv\n",
    "\n",
    "def project(marr,\n",
    "            costo,\n",
    "            inversion):\n",
    "    \n",
    "    \n",
    "    precio      = rdn.triangular(  8,  10,  12, 11).tolist()\n",
    "    produccion  = rdn.triangular( 80, 100, 120, 11).tolist()\n",
    "    \n",
    "    \n",
    "    ingre = cf.cashflow(const_value = 0, nper = 11, spec = [(t, precio[t] * produccion[t]) if t > 0 else (0,0) for t in range(11)])    \n",
    "    opera = cf.cashflow(const_value = 0, nper = 11, spec = [(t, costo)                     if t > 0 else (0,0) for t in range(11)])\n",
    "    inver = cf.cashflow(const_value = 0, nper = 11, spec = (0, inversion))\n",
    "    \n",
    "    asset = cf.cashflow(const_value=0, nper=11, spec=(0, inversion))\n",
    "    life  = cf.cashflow(const_value=0, nper=11, spec=(0, 5))\n",
    "    dep   = cf.depreciation_sl(costs = asset, life=life, noprint=True)\n",
    "    \n",
    "    antes = ingre - opera - inver - dep\n",
    "    desp  = cf.after_tax_cashflow(antes, cf.interest_rate([30] * 11))\n",
    "    \n",
    "    neto  = antes + dep\n",
    "    \n",
    "    npv   = cf.timevalue(cflo=neto, prate=marr)\n",
    "    \n",
    "    return npv"
   ]
  },
  {
   "cell_type": "code",
   "execution_count": 11,
   "metadata": {},
   "outputs": [
    {
     "data": {
      "text/plain": [
       "2720.30248058103"
      ]
     },
     "execution_count": 11,
     "metadata": {},
     "output_type": "execute_result"
    }
   ],
   "source": [
    "marr = cf.interest_rate([10] * 11)\n",
    "project(marr, 220, 2000)"
   ]
  },
  {
   "cell_type": "code",
   "execution_count": 12,
   "metadata": {
    "collapsed": true
   },
   "outputs": [],
   "source": [
    "import matplotlib.pyplot as plt\n",
    "%matplotlib inline"
   ]
  },
  {
   "cell_type": "code",
   "execution_count": 13,
   "metadata": {},
   "outputs": [
    {
     "data": {
      "text/plain": [
       "[2390.2804365004367,\n",
       " 3173.0864980332544,\n",
       " 2946.7347665913003,\n",
       " 2632.2937151872343,\n",
       " 2826.322498821684,\n",
       " 2811.5834335874997,\n",
       " 2278.660982966946,\n",
       " 2637.0184150329555,\n",
       " 2857.171723578801]"
      ]
     },
     "execution_count": 13,
     "metadata": {},
     "output_type": "execute_result"
    }
   ],
   "source": [
    "result = []\n",
    "\n",
    "for sim in range(1000):\n",
    "    result.append(project(marr, 220, 2000))\n",
    "result[1:10]"
   ]
  },
  {
   "cell_type": "code",
   "execution_count": 14,
   "metadata": {
    "scrolled": false
   },
   "outputs": [
    {
     "data": {
      "text/plain": [
       "(array([  11.,   45.,  113.,  211.,  226.,  195.,  123.,   56.,   16.,    4.]),\n",
       " array([ 2152.64997667,  2291.95687908,  2431.26378149,  2570.5706839 ,\n",
       "         2709.87758631,  2849.18448872,  2988.49139112,  3127.79829353,\n",
       "         3267.10519594,  3406.41209835,  3545.71900076]),\n",
       " <a list of 10 Patch objects>)"
      ]
     },
     "execution_count": 14,
     "metadata": {},
     "output_type": "execute_result"
    },
    {
     "data": {
      "image/png": "[encoded data removed]",
      "text/plain": [
       "<matplotlib.figure.Figure at 0x10d5b62b0>"
      ]
     },
     "metadata": {},
     "output_type": "display_data"
    }
   ],
   "source": [
    "plt.hist(result)"
   ]
  },
  {
   "cell_type": "markdown",
   "metadata": {},
   "source": [
    "**Ejercicio.--** Incluya en la simulación a las variables costo e inversión."
   ]
  },
  {
   "cell_type": "markdown",
   "metadata": {},
   "source": [
    "Análisis bajo riesgo\n",
    "===\n",
    "\n",
    "**Juan David Velásquez Henao**  \n",
    "jdvelasq@unal.edu.co   \n",
    "Universidad Nacional de Colombia, Sede Medellín  \n",
    "Facultad de Minas  \n",
    "Medellín, Colombia\n",
    "\n",
    "---\n",
    "\n",
    "Haga click [aquí](https://github.com/jdvelasq/ingenieria-economica/blob/master/13-montecarlo.ipynb) para acceder a la última versión online.\n",
    "\n",
    "Haga click [aquí](http://nbviewer.jupyter.org/github/jdvelasq/ingenieria-economica/blob/master/13-montecarlo.ipynb) para ver la última versión online en `nbviewer`. \n",
    "\n",
    "---"
   ]
  }
 ],
 "metadata": {
  "kernelspec": {
   "display_name": "Python 3",
   "language": "python",
   "name": "python3"
  },
  "language_info": {
   "codemirror_mode": {
    "name": "ipython",
    "version": 3
   },
   "file_extension": ".py",
   "mimetype": "text/x-python",
   "name": "python",
   "nbconvert_exporter": "python",
   "pygments_lexer": "ipython3",
   "version": "3.6.1"
  }
 },
 "nbformat": 4,
 "nbformat_minor": 1
}
