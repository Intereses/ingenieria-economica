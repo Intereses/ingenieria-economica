{
 "cells": [
  {
   "cell_type": "markdown",
   "metadata": {
    "slideshow": {
     "slide_type": "slide"
    }
   },
   "source": [
    "Ahorros\n",
    "===\n",
    "\n",
    "**Juan David Velásquez Henao**  \n",
    "jdvelasq@unal.edu.co   \n",
    "Universidad Nacional de Colombia, Sede Medellín  \n",
    "Facultad de Minas  \n",
    "Medellín, Colombia\n",
    "\n",
    "---\n",
    "\n",
    "Haga click [aquí](https://github.com/jdvelasq/ingenieria-economica/blob/master/04-computos-5-ahorros.ipynb) para acceder a la última versión online\n",
    "\n",
    "Haga click [aquí](http://nbviewer.jupyter.org/github/jdvelasq/ingenieria-economica/blob/master/04-computos-5-ahorros.ipynb) para ver la última versión online en `nbviewer`."
   ]
  },
  {
   "cell_type": "code",
   "execution_count": 2,
   "metadata": {
    "collapsed": true,
    "slideshow": {
     "slide_type": "slide"
    }
   },
   "outputs": [],
   "source": [
    "import cashflows as cf"
   ]
  },
  {
   "cell_type": "markdown",
   "metadata": {
    "slideshow": {
     "slide_type": "slide"
    }
   },
   "source": [
    "# Cómputos: Modelado de Cuentas de Ahorros"
   ]
  },
  {
   "cell_type": "markdown",
   "metadata": {
    "slideshow": {
     "slide_type": "slide"
    }
   },
   "source": [
    "**Ejercicio.--** Se abre una cuenta de ahorro que paga el 2% mensual, y hace 12 depósitos de \\$ 100 al principio del mes. A partir del mes 12 (final del mes) realiza retiros mensuales de `$` 60 hasta que no queda dinero en la cuenta. ¿Cuánto es la suma aritmética de los interéses recibidos? (puede usar Microsoft Excel u otra herramienta) "
   ]
  },
  {
   "cell_type": "markdown",
   "metadata": {
    "slideshow": {
     "slide_type": "slide"
    }
   },
   "source": [
    "**`cashflows`** permite el modelado de cuentas de ahorro (e intrumentos financieros similares)."
   ]
  },
  {
   "cell_type": "markdown",
   "metadata": {},
   "source": [
    "****Ejemplo.--**** Se abre una cuenta de ahorro que paga el 2% mensual, y hace 12 depósitos de \\$ 100 al principio del mes. A partir del mes 12 (final del mes) realiza retiros mensuales de `$` 60 hasta que no queda dinero en la cuenta. ¿Cuánto es la suma aritmética de los interéses recibidos? (puede usar Microsoft Excel u otra herramienta) "
   ]
  },
  {
   "cell_type": "code",
   "execution_count": 35,
   "metadata": {},
   "outputs": [
    {
     "data": {
      "text/plain": [
       "Time Series:\n",
       "Start = (0,)\n",
       "End = (12,)\n",
       "pyr = 1\n",
       "Data = (0,)-(12,) [13] 100.00 "
      ]
     },
     "execution_count": 35,
     "metadata": {},
     "output_type": "execute_result"
    }
   ],
   "source": [
    "cflo = cf.cashflow(const_value=[100] * 13)\n",
    "cflo"
   ]
  },
  {
   "cell_type": "code",
   "execution_count": 36,
   "metadata": {},
   "outputs": [
    {
     "data": {
      "text/plain": [
       "Time Series:\n",
       "Start = (0,)\n",
       "End = (12,)\n",
       "pyr = 1\n",
       "Data = (0,)-(12,) [13] 2.00 "
      ]
     },
     "execution_count": 36,
     "metadata": {},
     "output_type": "execute_result"
    }
   ],
   "source": [
    "nrate = cf.nominal_rate([2] * 13)\n",
    "nrate"
   ]
  },
  {
   "cell_type": "code",
   "execution_count": 37,
   "metadata": {
    "scrolled": false,
    "slideshow": {
     "slide_type": "slide"
    }
   },
   "outputs": [
    {
     "name": "stdout",
     "output_type": "stream",
     "text": [
      "t     Beginning   Deposit    Earned    Ending\n",
      "        Balance            Interest   Balance\n",
      "----------------------------------------------\n",
      "(0,)       0.00    100.00      0.00    100.00\n",
      "(1,)     100.00    100.00      2.00    202.00\n",
      "(2,)     202.00    100.00      4.04    306.04\n",
      "(3,)     306.04    100.00      6.12    412.16\n",
      "(4,)     412.16    100.00      8.24    520.40\n",
      "(5,)     520.40    100.00     10.41    630.81\n",
      "(6,)     630.81    100.00     12.62    743.43\n",
      "(7,)     743.43    100.00     14.87    858.30\n",
      "(8,)     858.30    100.00     17.17    975.46\n",
      "(9,)     975.46    100.00     19.51   1094.97\n",
      "(10,)   1094.97    100.00     21.90   1216.87\n",
      "(11,)   1216.87    100.00     24.34   1341.21\n",
      "(12,)   1341.21    100.00     26.82   1468.03\n"
     ]
    }
   ],
   "source": [
    "cf.savings(deposits =  cflo,      # deposito periodico     \n",
    "           initbal  =     0,      # balance inicial\n",
    "           rate     = nrate,      # tasa de interes nominal\n",
    "           noprint  = False)      # imprime la tabla "
   ]
  },
  {
   "cell_type": "code",
   "execution_count": 38,
   "metadata": {
    "collapsed": true,
    "slideshow": {
     "slide_type": "slide"
    }
   },
   "outputs": [],
   "source": [
    "x, y = cf.savings(deposits = cflo,      # deposito periodico     \n",
    "                  initbal  = 0,         # balance inicial\n",
    "                  rate     = nrate,     # tasa de interes mensual \n",
    "                  noprint  = True)      # no imprime la tabla  "
   ]
  },
  {
   "cell_type": "code",
   "execution_count": 42,
   "metadata": {
    "scrolled": false
   },
   "outputs": [
    {
     "data": {
      "text/plain": [
       "Time Series:\n",
       "Start = (0,)\n",
       "End = (12,)\n",
       "pyr = 1\n",
       "Data = (0,)     0.00 \n",
       "       (1,)     2.00 \n",
       "       (2,)     4.04 \n",
       "       (3,)     6.12 \n",
       "       (4,)     8.24 \n",
       "       (5,)    10.41 \n",
       "       (6,)    12.62 \n",
       "       (7,)    14.87 \n",
       "       (8,)    17.17 \n",
       "       (9,)    19.51 \n",
       "       (10,)   21.90 \n",
       "       (11,)   24.34 \n",
       "       (12,)   26.82 "
      ]
     },
     "execution_count": 42,
     "metadata": {},
     "output_type": "execute_result"
    }
   ],
   "source": [
    "## intereses como lista \n",
    "x"
   ]
  },
  {
   "cell_type": "code",
   "execution_count": 40,
   "metadata": {},
   "outputs": [
    {
     "data": {
      "text/plain": [
       "Time Series:\n",
       "Start = (0,)\n",
       "End = (12,)\n",
       "pyr = 1\n",
       "Data = (0,)     100.00 \n",
       "       (1,)     202.00 \n",
       "       (2,)     306.04 \n",
       "       (3,)     412.16 \n",
       "       (4,)     520.40 \n",
       "       (5,)     630.81 \n",
       "       (6,)     743.43 \n",
       "       (7,)     858.30 \n",
       "       (8,)     975.46 \n",
       "       (9,)    1094.97 \n",
       "       (10,)   1216.87 \n",
       "       (11,)   1341.21 \n",
       "       (12,)   1468.03 "
      ]
     },
     "execution_count": 40,
     "metadata": {},
     "output_type": "execute_result"
    }
   ],
   "source": [
    "y # balance final"
   ]
  },
  {
   "cell_type": "markdown",
   "metadata": {
    "slideshow": {
     "slide_type": "slide"
    }
   },
   "source": [
    "****Ejemplo.--**** Realice el mismo ejemplo anterior, pero considerando que la tasa de interes es del 4% a partir de $t$ = 5."
   ]
  },
  {
   "cell_type": "code",
   "execution_count": 44,
   "metadata": {},
   "outputs": [
    {
     "name": "stdout",
     "output_type": "stream",
     "text": [
      "t     Beginning   Deposit    Earned    Ending\n",
      "        Balance            Interest   Balance\n",
      "----------------------------------------------\n",
      "(0,)       0.00    100.00      0.00    100.00\n",
      "(1,)     100.00    100.00      2.00    202.00\n",
      "(2,)     202.00    100.00      4.04    306.04\n",
      "(3,)     306.04    100.00      6.12    412.16\n",
      "(4,)     412.16    100.00      8.24    520.40\n",
      "(5,)     520.40    100.00     20.82    641.22\n",
      "(6,)     641.22    100.00     25.65    766.87\n",
      "(7,)     766.87    100.00     30.67    897.54\n",
      "(8,)     897.54    100.00     35.90   1033.45\n",
      "(9,)    1033.45    100.00     41.34   1174.78\n",
      "(10,)   1174.78    100.00     46.99   1321.77\n",
      "(11,)   1321.77    100.00     52.87   1474.65\n",
      "(12,)   1474.65    100.00     58.99   1633.63\n"
     ]
    }
   ],
   "source": [
    "nrate= cf.nominal_rate(const_value=[2] * 13,spec=(5,4))\n",
    "cflo = cf.cashflow(const_value=[100] * 13)\n",
    "x = cf.savings(deposits = cflo,       # deposito periodico     \n",
    "               initbal  =    0,      # balance inicial\n",
    "               rate     =    nrate, # tasa de interes mensual\n",
    "               noprint = False)    \n"
   ]
  },
  {
   "cell_type": "markdown",
   "metadata": {
    "slideshow": {
     "slide_type": "slide"
    }
   },
   "source": [
    "****Ejemplo.--**** Se tiene una cuenta con un saldo inicial de \\$ 100. Se hacen depósitos  al final de cada trimestre por \\$ 50 (se hará el primer depósito en 3 meses). La tasa de interés es del 2% mensual y cambiará a 1% a partir del 13avo mes (incluido). Cuál será el saldo al final de mes 24?. "
   ]
  },
  {
   "cell_type": "code",
   "execution_count": 152,
   "metadata": {},
   "outputs": [
    {
     "name": "stdout",
     "output_type": "stream",
     "text": [
      "t     Beginning   Deposit    Earned    Ending\n",
      "        Balance            Interest   Balance\n",
      "----------------------------------------------\n",
      "(0,)     100.00      0.00      2.00    102.00\n",
      "(1,)     102.00      0.00      2.04    104.04\n",
      "(2,)     104.04      0.00      2.08    106.12\n",
      "(3,)     106.12     50.00      2.12    158.24\n",
      "(4,)     158.24      0.00      3.16    161.41\n",
      "(5,)     161.41      0.00      3.23    164.64\n",
      "(6,)     164.64     50.00      3.29    217.93\n",
      "(7,)     217.93      0.00      4.36    222.29\n",
      "(8,)     222.29      0.00      4.45    226.73\n",
      "(9,)     226.73     50.00      4.53    281.27\n",
      "(10,)    281.27      0.00      5.63    286.89\n",
      "(11,)    286.89      0.00      5.74    292.63\n",
      "(12,)    292.63     50.00      5.85    348.48\n",
      "(13,)    348.48      0.00      3.48    351.97\n",
      "(14,)    351.97      0.00      3.52    355.49\n",
      "(15,)    355.49     50.00      3.55    409.04\n",
      "(16,)    409.04      0.00      4.09    413.13\n",
      "(17,)    413.13      0.00      4.13    417.26\n",
      "(18,)    417.26     50.00      4.17    471.44\n",
      "(19,)    471.44      0.00      4.71    476.15\n",
      "(20,)    476.15      0.00      4.76    480.91\n",
      "(21,)    480.91     50.00      4.81    535.72\n",
      "(22,)    535.72      0.00      5.36    541.08\n",
      "(23,)    541.08      0.00      5.41    546.49\n",
      "(24,)    546.49     50.00      5.46    601.96\n"
     ]
    }
   ],
   "source": [
    "nrate= cf.nominal_rate(const_value=[2] * 25,spec=(13,1))\n",
    "\n",
    "cflo = cf.cashflow(const_value=0, nper=25, spec=[(t*3,50) for t in range(1,9)] )\n",
    "\n",
    "x = cf.savings(deposits = cflo,       # deposito periodico     \n",
    "               initbal  = 100,      # balance inicial\n",
    "               rate     = nrate, # tasa de interes mensual\n",
    "               noprint = False) \n",
    "\n"
   ]
  },
  {
   "cell_type": "markdown",
   "metadata": {
    "slideshow": {
     "slide_type": "slide"
    }
   },
   "source": [
    "Ahorros\n",
    "===\n",
    "\n",
    "**Juan David Velásquez Henao**  \n",
    "jdvelasq@unal.edu.co   \n",
    "Universidad Nacional de Colombia, Sede Medellín  \n",
    "Facultad de Minas  \n",
    "Medellín, Colombia\n",
    "\n",
    "---\n",
    "\n",
    "Haga click [aquí](https://github.com/jdvelasq/ingenieria-economica/blob/master/04-computos-5-ahorros.ipynb) para acceder a la última versión online\n",
    "\n",
    "Haga click [aquí](http://nbviewer.jupyter.org/github/jdvelasq/ingenieria-economica/blob/master/04-computos-5-ahorros.ipynb) para ver la última versión online en `nbviewer`."
   ]
  },
  {
   "cell_type": "markdown",
   "metadata": {
    "slideshow": {
     "slide_type": "slide"
    }
   },
   "source": [
    "**Bibliografía**\n",
    "\n",
    "> * [1] SAS/ETS 14.1 User's Guide, 2015.   \n",
    "* [2] **hp** 12c platinum financial calculator. User's guide. \n",
    "* [3] HP Business Consultant II Owner's manual.\n",
    "* [4] C.S. Park and G.P. Sharp-Bette. Advanced Engineering Economics. John Wiley & Sons, Inc., 1990."
   ]
  }
 ],
 "metadata": {
  "anaconda-cloud": {},
  "celltoolbar": "Slideshow",
  "kernelspec": {
   "display_name": "Python 3",
   "language": "python",
   "name": "python3"
  },
  "language_info": {
   "codemirror_mode": {
    "name": "ipython",
    "version": 3
   },
   "file_extension": ".py",
   "mimetype": "text/x-python",
   "name": "python",
   "nbconvert_exporter": "python",
   "pygments_lexer": "ipython3",
   "version": "3.6.1"
  }
 },
 "nbformat": 4,
 "nbformat_minor": 1
}
