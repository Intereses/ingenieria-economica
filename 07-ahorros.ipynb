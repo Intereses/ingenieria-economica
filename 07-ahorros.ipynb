{
 "cells": [
  {
   "cell_type": "markdown",
   "metadata": {
    "slideshow": {
     "slide_type": "slide"
    }
   },
   "source": [
    "Ahorros\n",
    "===\n",
    "\n",
    "**Juan David Velásquez Henao**  \n",
    "jdvelasq@unal.edu.co   \n",
    "Universidad Nacional de Colombia, Sede Medellín  \n",
    "Facultad de Minas  \n",
    "Medellín, Colombia\n",
    "\n",
    "---\n",
    "\n",
    "Haga click [aquí](https://github.com/jdvelasq/ingenieria-economica/blob/master/07-ahorros.ipynb) para acceder a la última versión online\n",
    "\n",
    "Haga click [aquí](http://nbviewer.jupyter.org/github/jdvelasq/ingenieria-economica/blob/master/07-ahorros.ipynb) para ver la última versión online en `nbviewer`.\n",
    "\n",
    "---"
   ]
  },
  {
   "cell_type": "markdown",
   "metadata": {
    "slideshow": {
     "slide_type": "slide"
    }
   },
   "source": [
    "**Preparación**"
   ]
  },
  {
   "cell_type": "code",
   "execution_count": 1,
   "metadata": {
    "collapsed": true,
    "slideshow": {
     "slide_type": "-"
    }
   },
   "outputs": [],
   "source": [
    "# Importa la librería financiera.\n",
    "# Solo es necesario ejecutar la importación una sola vez.\n",
    "import cashflows as cf"
   ]
  },
  {
   "cell_type": "markdown",
   "metadata": {
    "slideshow": {
     "slide_type": "slide"
    }
   },
   "source": [
    "**Ejercicio.--** Usando Microsoft Excel u otra herramienta solucione el siguiente problema: Se abre una cuenta de ahorro que paga el 24% nominal, y durante 12 meses se hacen depósitos de `$` 100 al principio del mes. A partir del mes 12 (final del mes) realiza retiros mensuales de `$` 60 hasta que no quede dinero en la cuenta. ¿Cuánto es la suma aritmética de los intereses recibidos?"
   ]
  },
  {
   "cell_type": "markdown",
   "metadata": {
    "slideshow": {
     "slide_type": "slide"
    }
   },
   "source": [
    "`savings(deposits, nrate, initbal=0, noprint=True)`\n",
    "\n",
    "Permite modelar cuentas de ahorro.\n",
    "\n",
    "* `deposits`-- flujo de efectivo que representa los depósitos/retiros.\n",
    "* `nrate` -- tasa nominal de interés.\n",
    "* `initbal` -- balance inicial de la cuenta.\n",
    "* `noprint` -- Imprime un informe detallado de los cálculos cuando es `False`."
   ]
  },
  {
   "cell_type": "markdown",
   "metadata": {
    "slideshow": {
     "slide_type": "slide"
    }
   },
   "source": [
    "**Ejemplo.--** Se abre una cuenta de ahorro que paga el 24% nominal, y durante 12 meses se hacen depósitos de `$` 100 al principio del mes. ¿Cuánto es la suma aritmética de los intereses recibidos?"
   ]
  },
  {
   "cell_type": "code",
   "execution_count": 2,
   "metadata": {
    "slideshow": {
     "slide_type": "fragment"
    }
   },
   "outputs": [
    {
     "data": {
      "text/plain": [
       "     Jan    Feb    Mar    Apr    May    Jun    Jul    Aug    Sep    Oct    Nov    Dec\n",
       "0 100.00 100.00 100.00 100.00 100.00 100.00 100.00 100.00 100.00 100.00 100.00   0.00"
      ]
     },
     "execution_count": 2,
     "metadata": {},
     "output_type": "execute_result"
    }
   ],
   "source": [
    "cflo = cf.cashflow(const_value=[100] * 11 + [0], pyr=12)\n",
    "cflo"
   ]
  },
  {
   "cell_type": "code",
   "execution_count": 3,
   "metadata": {
    "slideshow": {
     "slide_type": "fragment"
    }
   },
   "outputs": [
    {
     "data": {
      "text/plain": [
       "    Jan   Feb   Mar   Apr   May   Jun   Jul   Aug   Sep   Oct   Nov   Dec\n",
       "0 24.00 24.00 24.00 24.00 24.00 24.00 24.00 24.00 24.00 24.00 24.00 24.00"
      ]
     },
     "execution_count": 3,
     "metadata": {},
     "output_type": "execute_result"
    }
   ],
   "source": [
    "nrate = cf.interest_rate([24] * 12, pyr=12)\n",
    "nrate"
   ]
  },
  {
   "cell_type": "code",
   "execution_count": 4,
   "metadata": {
    "scrolled": false,
    "slideshow": {
     "slide_type": "fragment"
    }
   },
   "outputs": [
    {
     "name": "stdout",
     "output_type": "stream",
     "text": [
      "t       Beginning   Deposit    Earned    Ending\n",
      "          Balance            Interest   Balance\n",
      "------------------------------------------------\n",
      "(0, 0)     100.00    100.00      2.00    202.00\n",
      "(0, 1)     202.00    100.00      4.04    306.04\n",
      "(0, 2)     306.04    100.00      6.12    412.16\n",
      "(0, 3)     412.16    100.00      8.24    520.40\n",
      "(0, 4)     520.40    100.00     10.41    630.81\n",
      "(0, 5)     630.81    100.00     12.62    743.43\n",
      "(0, 6)     743.43    100.00     14.87    858.30\n",
      "(0, 7)     858.30    100.00     17.17    975.46\n",
      "(0, 8)     975.46    100.00     19.51   1094.97\n",
      "(0, 9)    1094.97    100.00     21.90   1216.87\n",
      "(0, 10)   1216.87    100.00     24.34   1341.21\n",
      "(0, 11)   1341.21      0.00     26.82   1368.03\n"
     ]
    }
   ],
   "source": [
    "cf.savings(deposits =  cflo,      # depósito periodico     \n",
    "           initbal  =   100,      # balance inicial\n",
    "           nrate    = nrate,      # tasa de interés nominal\n",
    "           noprint  = False)      # imprime la tabla "
   ]
  },
  {
   "cell_type": "code",
   "execution_count": 5,
   "metadata": {
    "collapsed": true,
    "slideshow": {
     "slide_type": "slide"
    }
   },
   "outputs": [],
   "source": [
    "x, y = cf.savings(deposits =  cflo,  # depósito períodico     \n",
    "                  initbal  =   100,  # balance inicial\n",
    "                  nrate    = nrate,  # tasa de interés nominal  \n",
    "                  noprint  =  True)  # no imprime la tabla  "
   ]
  },
  {
   "cell_type": "code",
   "execution_count": 6,
   "metadata": {
    "scrolled": false,
    "slideshow": {
     "slide_type": "fragment"
    }
   },
   "outputs": [
    {
     "data": {
      "text/plain": [
       "    Jan   Feb   Mar   Apr   May   Jun   Jul   Aug   Sep   Oct   Nov   Dec\n",
       "0  2.00  4.04  6.12  8.24 10.41 12.62 14.87 17.17 19.51 21.90 24.34 26.82"
      ]
     },
     "execution_count": 6,
     "metadata": {},
     "output_type": "execute_result"
    }
   ],
   "source": [
    "## intereses como lista \n",
    "x"
   ]
  },
  {
   "cell_type": "code",
   "execution_count": 7,
   "metadata": {},
   "outputs": [
    {
     "data": {
      "text/plain": [
       "168.0331522689811"
      ]
     },
     "execution_count": 7,
     "metadata": {},
     "output_type": "execute_result"
    }
   ],
   "source": [
    "## suma aritmética de los intereses\n",
    "sum(x)"
   ]
  },
  {
   "cell_type": "code",
   "execution_count": 8,
   "metadata": {
    "slideshow": {
     "slide_type": "fragment"
    }
   },
   "outputs": [
    {
     "data": {
      "text/plain": [
       "      Jan     Feb     Mar     Apr     May     Jun     Jul     Aug     Sep     Oct     Nov     Dec\n",
       "0  202.00  306.04  412.16  520.40  630.81  743.43  858.30  975.46 1094.97 1216.87 1341.21 1368.03"
      ]
     },
     "execution_count": 8,
     "metadata": {},
     "output_type": "execute_result"
    }
   ],
   "source": [
    "y # balance final"
   ]
  },
  {
   "cell_type": "markdown",
   "metadata": {
    "slideshow": {
     "slide_type": "slide"
    }
   },
   "source": [
    "****Ejemplo.--**** Realice el mismo ejemplo anterior, pero considerando que la tasa de interés es del 16% nominal a partir de $t$ = 5."
   ]
  },
  {
   "cell_type": "code",
   "execution_count": 9,
   "metadata": {
    "slideshow": {
     "slide_type": "fragment"
    }
   },
   "outputs": [
    {
     "name": "stdout",
     "output_type": "stream",
     "text": [
      "t       Beginning   Deposit    Earned    Ending\n",
      "          Balance            Interest   Balance\n",
      "------------------------------------------------\n",
      "(0, 0)     100.00    100.00      2.00    202.00\n",
      "(0, 1)     202.00    100.00      4.04    306.04\n",
      "(0, 2)     306.04    100.00      6.12    412.16\n",
      "(0, 3)     412.16    100.00      8.24    520.40\n",
      "(0, 4)     520.40    100.00     10.41    630.81\n",
      "(0, 5)     630.81    100.00      8.41    739.22\n",
      "(0, 6)     739.22    100.00      9.86    849.08\n",
      "(0, 7)     849.08    100.00     11.32    960.40\n",
      "(0, 8)     960.40    100.00     12.81   1073.21\n",
      "(0, 9)    1073.21    100.00     14.31   1187.52\n",
      "(0, 10)   1187.52    100.00     15.83   1303.35\n",
      "(0, 11)   1303.35      0.00     17.38   1320.73\n"
     ]
    }
   ],
   "source": [
    "## tasa de interés\n",
    "nrate = cf.interest_rate([24] * 12, pyr=12, spec=(5, 16))\n",
    "\n",
    "## depósitos\n",
    "cflo = cf.cashflow(const_value=[100]*11 + [0], pyr = 12)\n",
    "\n",
    "## modelado\n",
    "x = cf.savings(deposits =  cflo,  # deposito periodico     \n",
    "               initbal  =   100,  # balance inicial\n",
    "               nrate    = nrate,  # tasa de interes mensual\n",
    "               noprint  = False)    \n"
   ]
  },
  {
   "cell_type": "markdown",
   "metadata": {
    "slideshow": {
     "slide_type": "slide"
    }
   },
   "source": [
    "****Ejemplo.--**** Se tiene una cuenta con un saldo inicial de `$` 100. Se hacen depósitos  al final de cada trimestre por `$` 50 (se hará el primer depósito en 3 meses). La tasa nominal es del 36% con capitalización mensual y cambiará a 24% a partir del 13avo mes (incluido). ¿Cuál será el saldo al final de mes 24?. "
   ]
  },
  {
   "cell_type": "code",
   "execution_count": 10,
   "metadata": {
    "slideshow": {
     "slide_type": "fragment"
    }
   },
   "outputs": [
    {
     "data": {
      "text/plain": [
       "    Jan   Feb   Mar   Apr   May   Jun   Jul   Aug   Sep   Oct   Nov   Dec\n",
       "0 36.00 36.00 36.00 36.00 36.00 36.00 36.00 36.00 36.00 36.00 36.00 36.00\n",
       "1 24.00 24.00 24.00 24.00 24.00 24.00 24.00 24.00 24.00 24.00 24.00 24.00"
      ]
     },
     "execution_count": 10,
     "metadata": {},
     "output_type": "execute_result"
    }
   ],
   "source": [
    "nrate = cf.interest_rate(const_value=[36]*24, spec=(12,24), pyr=12)\n",
    "nrate"
   ]
  },
  {
   "cell_type": "code",
   "execution_count": 11,
   "metadata": {
    "slideshow": {
     "slide_type": "fragment"
    }
   },
   "outputs": [
    {
     "data": {
      "text/plain": [
       "    Jan   Feb   Mar   Apr   May   Jun   Jul   Aug   Sep   Oct   Nov   Dec\n",
       "0  0.00  0.00 50.00  0.00  0.00 50.00  0.00  0.00 50.00  0.00  0.00 50.00\n",
       "1  0.00  0.00 50.00  0.00  0.00 50.00  0.00  0.00 50.00  0.00  0.00 50.00"
      ]
     },
     "execution_count": 11,
     "metadata": {},
     "output_type": "execute_result"
    }
   ],
   "source": [
    "cflo = cf.cashflow(const_value=0, nper=24, pyr=12, \n",
    "                   spec=[(t*3-1,50) for t in range(1,9)] )\n",
    "cflo"
   ]
  },
  {
   "cell_type": "code",
   "execution_count": 12,
   "metadata": {
    "scrolled": false,
    "slideshow": {
     "slide_type": "fragment"
    }
   },
   "outputs": [
    {
     "name": "stdout",
     "output_type": "stream",
     "text": [
      "t       Beginning   Deposit    Earned    Ending\n",
      "          Balance            Interest   Balance\n",
      "------------------------------------------------\n",
      "(0, 0)     100.00      0.00      3.00    103.00\n",
      "(0, 1)     103.00      0.00      3.09    106.09\n",
      "(0, 2)     106.09     50.00      3.18    159.27\n",
      "(0, 3)     159.27      0.00      4.78    164.05\n",
      "(0, 4)     164.05      0.00      4.92    168.97\n",
      "(0, 5)     168.97     50.00      5.07    224.04\n",
      "(0, 6)     224.04      0.00      6.72    230.76\n",
      "(0, 7)     230.76      0.00      6.92    237.69\n",
      "(0, 8)     237.69     50.00      7.13    294.82\n",
      "(0, 9)     294.82      0.00      8.84    303.66\n",
      "(0, 10)    303.66      0.00      9.11    312.77\n",
      "(0, 11)    312.77     50.00      9.38    372.15\n",
      "(1, 0)     372.15      0.00      7.44    379.60\n",
      "(1, 1)     379.60      0.00      7.59    387.19\n",
      "(1, 2)     387.19     50.00      7.74    444.93\n",
      "(1, 3)     444.93      0.00      8.90    453.83\n",
      "(1, 4)     453.83      0.00      9.08    462.91\n",
      "(1, 5)     462.91     50.00      9.26    522.17\n",
      "(1, 6)     522.17      0.00     10.44    532.61\n",
      "(1, 7)     532.61      0.00     10.65    543.26\n",
      "(1, 8)     543.26     50.00     10.87    604.13\n",
      "(1, 9)     604.13      0.00     12.08    616.21\n",
      "(1, 10)    616.21      0.00     12.32    628.53\n",
      "(1, 11)    628.53     50.00     12.57    691.10\n"
     ]
    }
   ],
   "source": [
    "x = cf.savings(deposits =  cflo, # depósito períodico     \n",
    "               initbal  =   100, # balance inicial\n",
    "               nrate    = nrate, # tasa de interés mensual\n",
    "               noprint  = False) "
   ]
  },
  {
   "cell_type": "markdown",
   "metadata": {
    "slideshow": {
     "slide_type": "slide"
    }
   },
   "source": [
    "**Ejercicio.--** Se abre una cuenta de ahorro que paga el 24% nominal, y durante 12 meses se hacen depósitos de `$` 100 al principio del mes. A partir del mes 12 (final del mes) realiza retiros mensuales de `$` 60 hasta que no quede dinero en la cuenta. ¿Cuánto es la suma aritmética de los intereses recibidos? "
   ]
  },
  {
   "cell_type": "markdown",
   "metadata": {
    "slideshow": {
     "slide_type": "slide"
    }
   },
   "source": [
    "Ahorros\n",
    "===\n",
    "\n",
    "**Juan David Velásquez Henao**  \n",
    "jdvelasq@unal.edu.co   \n",
    "Universidad Nacional de Colombia, Sede Medellín  \n",
    "Facultad de Minas  \n",
    "Medellín, Colombia\n",
    "\n",
    "---\n",
    "\n",
    "Haga click [aquí](https://github.com/jdvelasq/ingenieria-economica/blob/master/07-ahorros.ipynb) para acceder a la última versión online\n",
    "\n",
    "Haga click [aquí](http://nbviewer.jupyter.org/github/jdvelasq/ingenieria-economica/blob/master/07-ahorros.ipynb) para ver la última versión online en `nbviewer`.\n",
    "\n",
    "---"
   ]
  },
  {
   "cell_type": "markdown",
   "metadata": {
    "slideshow": {
     "slide_type": "slide"
    }
   },
   "source": [
    "**Bibliografía**\n",
    "\n",
    "> * [1] SAS/ETS 14.1 User's Guide, 2015.   \n",
    "* [2] **hp** 12c platinum financial calculator. User's guide. \n",
    "* [3] HP Business Consultant II Owner's manual.\n",
    "* [4] C.S. Park and G.P. Sharp-Bette. Advanced Engineering Economics. John Wiley & Sons, Inc., 1990."
   ]
  }
 ],
 "metadata": {
  "anaconda-cloud": {},
  "celltoolbar": "Slideshow",
  "kernelspec": {
   "display_name": "Python 3",
   "language": "python",
   "name": "python3"
  },
  "language_info": {
   "codemirror_mode": {
    "name": "ipython",
    "version": 3
   },
   "file_extension": ".py",
   "mimetype": "text/x-python",
   "name": "python",
   "nbconvert_exporter": "python",
   "pygments_lexer": "ipython3",
   "version": "3.6.1"
  }
 },
 "nbformat": 4,
 "nbformat_minor": 1
}
