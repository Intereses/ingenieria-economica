{
 "cells": [
  {
   "cell_type": "markdown",
   "metadata": {
    "slideshow": {
     "slide_type": "slide"
    }
   },
   "source": [
    "Conversión de Monedas\n",
    "===\n",
    "\n",
    "**Juan David Velásquez Henao**  \n",
    "jdvelasq@unal.edu.co   \n",
    "Universidad Nacional de Colombia, Sede Medellín  \n",
    "Facultad de Minas  \n",
    "Medellín, Colombia\n",
    "\n",
    "---\n",
    "\n",
    "Haga click [aquí](https://github.com/jdvelasq/ingenieria-economica/blob/master/06-conversion-monedas.ipynb) para acceder a la última versión online.\n",
    "\n",
    "Haga click [aquí](http://nbviewer.jupyter.org/github/jdvelasq/ingenieria-economica/blob/master/06-conversion-monedas.ipynb) para ver la última versión online en `nbviewer`.\n",
    "\n",
    "---"
   ]
  },
  {
   "cell_type": "markdown",
   "metadata": {
    "slideshow": {
     "slide_type": "slide"
    }
   },
   "source": [
    "**Preparación**"
   ]
  },
  {
   "cell_type": "code",
   "execution_count": 1,
   "metadata": {
    "collapsed": true
   },
   "outputs": [],
   "source": [
    "# Importa la librería financiera.\n",
    "# Solo es necesario ejecutar la importación una sola vez.\n",
    "import cashflows as cf"
   ]
  },
  {
   "cell_type": "markdown",
   "metadata": {
    "slideshow": {
     "slide_type": "slide"
    }
   },
   "source": [
    "### Devaluación\n",
    "\n",
    "<img src=\"images/devaluacion.png\" width=600>\n",
    "\n",
    "$$d=\\frac{f-f_e}{1+f_e},~~~~1+d=\\frac{1+f}{1+f_e}$$"
   ]
  },
  {
   "cell_type": "markdown",
   "metadata": {
    "slideshow": {
     "slide_type": "slide"
    }
   },
   "source": [
    "### Cálculos con moneda extranjera\n",
    "\n",
    "* $i$ -- tasa equivalente de interés en moneda local.  \n",
    "* $i_e$ -- tasa de interés en moneda extranjera.\n",
    "* $d$ -- tasa de devaluación de la moneda local frente a la moneda extranjera.    \n",
    "* $f$ -- tasa de inflación interna. \n",
    "* $f_e$ -- tasa de inflación externa.\n",
    "\n",
    "Interés equivalente para un préstamo en moneda extranjera:\n",
    "\n",
    "$$1+i=(1+i_e)(1+d)$$"
   ]
  },
  {
   "cell_type": "markdown",
   "metadata": {
    "slideshow": {
     "slide_type": "slide"
    }
   },
   "source": [
    "***Ejemplo.--*** ¿Cuál es la rentabilidad en pesos de un proyecto extranjero que ofrece una rentabilidad del 1.5% mensual?, se estima una devaluación mensual de 2.0%"
   ]
  },
  {
   "cell_type": "code",
   "execution_count": 2,
   "metadata": {
    "slideshow": {
     "slide_type": "fragment"
    }
   },
   "outputs": [
    {
     "data": {
      "text/plain": [
       "0.0353"
      ]
     },
     "execution_count": 2,
     "metadata": {},
     "output_type": "execute_result"
    }
   ],
   "source": [
    "round((1 + 0.015) * (1 + 0.020) - 1, 4)"
   ]
  },
  {
   "cell_type": "markdown",
   "metadata": {
    "slideshow": {
     "slide_type": "slide"
    }
   },
   "source": [
    "`currency_conversion(cflo, exchange_rate=1, \n",
    "  devaluation=None, base_date=0)`\n",
    "\n",
    "Convierte un flujo de efectivo de moneda extranjera a moneda local usando la tasa de cambio especificada.\n",
    "\n",
    "* `cflo`-- flujo de efectivo en moneda extranjera.\n",
    "* `exchange_rate` -- tasa de cambio.\n",
    "* `devaluation` -- devaluación de la moneda local frente a la extranjera expresada como una tasa nominal.\n",
    "* `base_date` -- período base para realizar los cálculos de devaluación."
   ]
  },
  {
   "cell_type": "markdown",
   "metadata": {
    "slideshow": {
     "slide_type": "slide"
    }
   },
   "source": [
    "***Ejemplo.--*** Considere un flujo de efectivo constante de `$` 1000 durante 10 períodos. Conviértalo a moneda extranjera si la tasa de cambio es de `$` 2. "
   ]
  },
  {
   "cell_type": "code",
   "execution_count": 3,
   "metadata": {
    "slideshow": {
     "slide_type": "fragment"
    }
   },
   "outputs": [
    {
     "data": {
      "text/plain": [
       "Time Series:\n",
       "Start = (0,)\n",
       "End = (9,)\n",
       "pyr = 1\n",
       "Data = (0,)-(9,) [10] 2000.00 "
      ]
     },
     "execution_count": 3,
     "metadata": {},
     "output_type": "execute_result"
    }
   ],
   "source": [
    "cf.currency_conversion(cflo=cf.cashflow([1000]*10), \n",
    "                       exchange_rate=2)"
   ]
  },
  {
   "cell_type": "markdown",
   "metadata": {
    "slideshow": {
     "slide_type": "slide"
    }
   },
   "source": [
    "***Ejemplo.--*** Considere el mismo caso anterior con una devaluación por período del 1%."
   ]
  },
  {
   "cell_type": "code",
   "execution_count": 4,
   "metadata": {
    "slideshow": {
     "slide_type": "fragment"
    }
   },
   "outputs": [
    {
     "data": {
      "text/plain": [
       "Time Series:\n",
       "Start = (0,)\n",
       "End = (9,)\n",
       "pyr = 1\n",
       "Data = (0,)   2000.00 \n",
       "       (1,)   2020.00 \n",
       "       (2,)   2040.20 \n",
       "       (3,)   2060.60 \n",
       "       (4,)   2081.21 \n",
       "       (5,)   2102.02 \n",
       "       (6,)   2123.04 \n",
       "       (7,)   2144.27 \n",
       "       (8,)   2165.71 \n",
       "       (9,)   2187.37 "
      ]
     },
     "execution_count": 4,
     "metadata": {},
     "output_type": "execute_result"
    }
   ],
   "source": [
    "cf.currency_conversion(cflo=cf.cashflow([1000]*10), \n",
    "                       exchange_rate=2, \n",
    "                       devaluation=cf.interest_rate(const_value=[1]*10))"
   ]
  },
  {
   "cell_type": "markdown",
   "metadata": {
    "slideshow": {
     "slide_type": "slide"
    }
   },
   "source": [
    "***Ejemplo.--*** Considere el mismo caso anterior pero usando el período 10 como base. "
   ]
  },
  {
   "cell_type": "code",
   "execution_count": 5,
   "metadata": {
    "slideshow": {
     "slide_type": "fragment"
    }
   },
   "outputs": [
    {
     "data": {
      "text/plain": [
       "Time Series:\n",
       "Start = (0,)\n",
       "End = (9,)\n",
       "pyr = 1\n",
       "Data = (0,)   1828.68 \n",
       "       (1,)   1846.97 \n",
       "       (2,)   1865.44 \n",
       "       (3,)   1884.09 \n",
       "       (4,)   1902.93 \n",
       "       (5,)   1921.96 \n",
       "       (6,)   1941.18 \n",
       "       (7,)   1960.59 \n",
       "       (8,)   1980.20 \n",
       "       (9,)   2000.00 "
      ]
     },
     "execution_count": 5,
     "metadata": {},
     "output_type": "execute_result"
    }
   ],
   "source": [
    "cf.currency_conversion(cflo=cf.cashflow([1000]*10), \n",
    "                       exchange_rate=2, \n",
    "                       devaluation=cf.interest_rate(const_value=[1]*10),\n",
    "                       base_date = 9)"
   ]
  },
  {
   "cell_type": "markdown",
   "metadata": {
    "slideshow": {
     "slide_type": "slide"
    }
   },
   "source": [
    "***Ejercicio.--*** Un proyecto de generación de energía eléctrica genera ventas trimestrales totales de `$` 100 durante el primer año, `$` 112 para el segundo y `$` 120 para el tercer año. Si la tasa de cambio es de 3 para el primer trimestre, se devalua al 0.75% durante los primeros 7 trimestres primer año; se revalua al 0.42% durante el resto del período de análisis, compute las ventas trimestrales totales en moneda extranjera. "
   ]
  },
  {
   "cell_type": "markdown",
   "metadata": {
    "slideshow": {
     "slide_type": "slide"
    }
   },
   "source": [
    "Conversión de Monedas\n",
    "===\n",
    "\n",
    "**Juan David Velásquez Henao**  \n",
    "jdvelasq@unal.edu.co   \n",
    "Universidad Nacional de Colombia, Sede Medellín  \n",
    "Facultad de Minas  \n",
    "Medellín, Colombia\n",
    "\n",
    "---\n",
    "\n",
    "Haga click [aquí](https://github.com/jdvelasq/ingenieria-economica/blob/master/06-conversion-monedas.ipynb) para acceder a la última versión online.\n",
    "\n",
    "Haga click [aquí](http://nbviewer.jupyter.org/github/jdvelasq/ingenieria-economica/blob/master/06-conversion-monedas.ipynb) para ver la última versión online en `nbviewer`.\n",
    "\n",
    "---"
   ]
  }
 ],
 "metadata": {
  "anaconda-cloud": {},
  "celltoolbar": "Slideshow",
  "kernelspec": {
   "display_name": "Python 3",
   "language": "python",
   "name": "python3"
  },
  "language_info": {
   "codemirror_mode": {
    "name": "ipython",
    "version": 3
   },
   "file_extension": ".py",
   "mimetype": "text/x-python",
   "name": "python",
   "nbconvert_exporter": "python",
   "pygments_lexer": "ipython3",
   "version": "3.6.1"
  }
 },
 "nbformat": 4,
 "nbformat_minor": 1
}
