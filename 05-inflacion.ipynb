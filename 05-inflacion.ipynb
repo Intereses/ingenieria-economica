{
 "cells": [
  {
   "cell_type": "markdown",
   "metadata": {
    "slideshow": {
     "slide_type": "slide"
    }
   },
   "source": [
    "Inflación\n",
    "===\n",
    "\n",
    "**Juan David Velásquez Henao**  \n",
    "jdvelasq@unal.edu.co   \n",
    "Universidad Nacional de Colombia, Sede Medellín  \n",
    "Facultad de Minas  \n",
    "Medellín, Colombia\n",
    "\n",
    "---\n",
    "\n",
    "Haga click [aquí](https://github.com/jdvelasq/ingenieria-economica/blob/master/05-inflacion.ipynb) para acceder a la última versión online\n",
    "\n",
    "Haga click [aquí](http://nbviewer.jupyter.org/github/jdvelasq/ingenieria-economica/blob/master/05-inflacion.ipynb) para ver la última versión online en `nbviewer`.\n",
    "\n",
    "---"
   ]
  },
  {
   "cell_type": "markdown",
   "metadata": {
    "slideshow": {
     "slide_type": "slide"
    }
   },
   "source": [
    "**Preparación**"
   ]
  },
  {
   "cell_type": "code",
   "execution_count": 1,
   "metadata": {
    "collapsed": true
   },
   "outputs": [],
   "source": [
    "# Importa la librería financiera.\n",
    "# Solo es necesario ejecutar la importación una sola vez.\n",
    "import cashflows as cf"
   ]
  },
  {
   "cell_type": "markdown",
   "metadata": {
    "collapsed": true,
    "slideshow": {
     "slide_type": "slide"
    }
   },
   "source": [
    "### Inflación\n",
    "\n",
    "Se define como la pérdida de poder adquisitivo de la moneda. Existen diferentes medidas:\n",
    "\n",
    "* Indice de precios del consumidos (IPC).\n",
    "* Indice de precios del productor (IPP).\n",
    "* Medidas derivadas a partir del producto interno bruto.\n",
    "\n",
    "Tasa promedio de inflación: tasa porcentual anual que representa el incremento de los precios sobre un período de un año respecto al año anterior."
   ]
  },
  {
   "cell_type": "markdown",
   "metadata": {
    "slideshow": {
     "slide_type": "slide"
    }
   },
   "source": [
    "### Tratamiento de la inflación\n",
    "\n",
    "* Precios constantes.\n",
    "* Precios corrientes.\n",
    "* Tasa de interés del mercado $(i)$. Incluye una componente de utilidad económica y una de inflación.\n",
    "* Tasa de interés libre de inflación $(i')$. Representa únicamente la componente de utilidad económica.\n",
    "* Tasa de inflación general $(f)$. Incremento promedio anual en los precios de los bienes y servicios."
   ]
  },
  {
   "cell_type": "markdown",
   "metadata": {
    "slideshow": {
     "slide_type": "slide"
    }
   },
   "source": [
    "### Relaciones de equivalencia\n",
    "\n",
    "* $F_n'$: valor en moneda **constante** (en precios del período 0) que ocurren en el flujo de caja al final del período $n$.  \n",
    "\n",
    "* $F_n$: valor en moneda **corriente** que ocurren en el flujo de caja al final del período $n$.  \n",
    "\n",
    "Conversión entre moneda constante y corriente: \n",
    "\n",
    "$$F_n=F_n^{'}~(1+f)^n$$   \n",
    "\n",
    "Valor presente:\n",
    "\n",
    "$$P=F_n^{'}~(1+i^{'})^{-n} = F_n^{'}~(1+i)^{-n}$$ \n",
    "\n",
    "Relación entre tasas:\n",
    "\n",
    "$$i^{'}=\\frac{i-f}{1+f}$$ \n",
    "\n",
    "$$(1+i^{'})(1+f)=1+i$$"
   ]
  },
  {
   "cell_type": "markdown",
   "metadata": {
    "slideshow": {
     "slide_type": "slide"
    }
   },
   "source": [
    "`const2curr(cflo, inflation, base_date=0)`\n",
    "\n",
    "`curr2const(cflo, inflation, base_date=0)`\n",
    "\n",
    "Convierte un flujo de efectivo en corrientes a constante y viceversa.\n",
    "\n",
    "* `cflo` -- flujo de efectivo.\n",
    "* `inflation` -- tasa de inflación por período.\n",
    "* `base_date` -- período base para realizar los cálculos."
   ]
  },
  {
   "cell_type": "markdown",
   "metadata": {
    "slideshow": {
     "slide_type": "slide"
    }
   },
   "source": [
    "***Ejemplo.--*** Considere un flujo de caja constante de `$` 1000. Conviértalo a dinero del período 0 usando una inflación del 5% por período. "
   ]
  },
  {
   "cell_type": "code",
   "execution_count": 2,
   "metadata": {
    "slideshow": {
     "slide_type": "fragment"
    }
   },
   "outputs": [
    {
     "data": {
      "text/plain": [
       "Time Series:\n",
       "Start = (0,)\n",
       "End = (9,)\n",
       "pyr = 1\n",
       "Data = (0,)-(9,) [10] 1000.00 "
      ]
     },
     "execution_count": 2,
     "metadata": {},
     "output_type": "execute_result"
    }
   ],
   "source": [
    "x = cf.cashflow(const_value=[1000]*10)\n",
    "x"
   ]
  },
  {
   "cell_type": "code",
   "execution_count": 3,
   "metadata": {
    "scrolled": true,
    "slideshow": {
     "slide_type": "fragment"
    }
   },
   "outputs": [
    {
     "data": {
      "text/plain": [
       "Time Series:\n",
       "Start = (0,)\n",
       "End = (9,)\n",
       "pyr = 1\n",
       "Data = (0,)   1000.00 \n",
       "       (1,)   1050.00 \n",
       "       (2,)   1102.50 \n",
       "       (3,)   1157.63 \n",
       "       (4,)   1215.51 \n",
       "       (5,)   1276.28 \n",
       "       (6,)   1340.10 \n",
       "       (7,)   1407.10 \n",
       "       (8,)   1477.46 \n",
       "       (9,)   1551.33 "
      ]
     },
     "execution_count": 3,
     "metadata": {},
     "output_type": "execute_result"
    }
   ],
   "source": [
    "cf.const2curr(cflo=x, \n",
    "              inflation=cf.interest_rate(const_value=[5]*10))"
   ]
  },
  {
   "cell_type": "markdown",
   "metadata": {
    "slideshow": {
     "slide_type": "slide"
    }
   },
   "source": [
    "***Ejemplo.--*** Considere el mismo ejemplo anterior. Conviertalo a dinero del período 10."
   ]
  },
  {
   "cell_type": "code",
   "execution_count": 4,
   "metadata": {
    "slideshow": {
     "slide_type": "fragment"
    }
   },
   "outputs": [
    {
     "data": {
      "text/plain": [
       "Time Series:\n",
       "Start = (0,)\n",
       "End = (9,)\n",
       "pyr = 1\n",
       "Data = (0,)    644.61 \n",
       "       (1,)    676.84 \n",
       "       (2,)    710.68 \n",
       "       (3,)    746.22 \n",
       "       (4,)    783.53 \n",
       "       (5,)    822.70 \n",
       "       (6,)    863.84 \n",
       "       (7,)    907.03 \n",
       "       (8,)    952.38 \n",
       "       (9,)   1000.00 "
      ]
     },
     "execution_count": 4,
     "metadata": {},
     "output_type": "execute_result"
    }
   ],
   "source": [
    "cf.const2curr(cflo=x, \n",
    "              inflation=cf.interest_rate(const_value=[5]*10),\n",
    "              base_date=9)"
   ]
  },
  {
   "cell_type": "markdown",
   "metadata": {
    "slideshow": {
     "slide_type": "slide"
    }
   },
   "source": [
    "**Ejemplo.--** Considere un flujo de caja constante de `$` 1000. Conviértalo a dinero del período 0 usando una inflación inicial del 5% por período. La inflación cambia al 10% a partir del período 5."
   ]
  },
  {
   "cell_type": "code",
   "execution_count": 5,
   "metadata": {
    "slideshow": {
     "slide_type": "fragment"
    }
   },
   "outputs": [
    {
     "name": "stdout",
     "output_type": "stream",
     "text": [
      "time   value +------------------+------------------+\n",
      "(0,) 1000.00                    ********************\n",
      "(1,) 1000.00                    ********************\n",
      "(2,) 1000.00                    ********************\n",
      "(3,) 1000.00                    ********************\n",
      "(4,) 1000.00                    ********************\n",
      "(5,) 1000.00                    ********************\n",
      "(6,) 1000.00                    ********************\n",
      "(7,) 1000.00                    ********************\n",
      "(8,) 1000.00                    ********************\n",
      "(9,) 1000.00                    ********************\n"
     ]
    }
   ],
   "source": [
    "## flujo de caja\n",
    "x = cf.cashflow(const_value=[1000]*10)\n",
    "cf.cfloplot(x)"
   ]
  },
  {
   "cell_type": "code",
   "execution_count": 6,
   "metadata": {
    "slideshow": {
     "slide_type": "fragment"
    }
   },
   "outputs": [
    {
     "name": "stdout",
     "output_type": "stream",
     "text": [
      "time value +------------------+------------------+\n",
      "(0,)  5.00                    **********\n",
      "(1,)  5.00                    **********\n",
      "(2,)  5.00                    **********\n",
      "(3,)  5.00                    **********\n",
      "(4,)  5.00                    **********\n",
      "(5,) 10.00                    ********************\n",
      "(6,) 10.00                    ********************\n",
      "(7,) 10.00                    ********************\n",
      "(8,) 10.00                    ********************\n",
      "(9,) 10.00                    ********************\n"
     ]
    }
   ],
   "source": [
    "## inflación\n",
    "inflation = cf.interest_rate(const_value=[5]*10, spec=(5,10))\n",
    "cf.cfloplot(inflation)"
   ]
  },
  {
   "cell_type": "code",
   "execution_count": 7,
   "metadata": {
    "scrolled": true,
    "slideshow": {
     "slide_type": "fragment"
    }
   },
   "outputs": [
    {
     "data": {
      "text/plain": [
       "Time Series:\n",
       "Start = (0,)\n",
       "End = (9,)\n",
       "pyr = 1\n",
       "Data = (0,)   1000.00 \n",
       "       (1,)   1050.00 \n",
       "       (2,)   1102.50 \n",
       "       (3,)   1157.63 \n",
       "       (4,)   1215.51 \n",
       "       (5,)   1337.06 \n",
       "       (6,)   1470.76 \n",
       "       (7,)   1617.84 \n",
       "       (8,)   1779.62 \n",
       "       (9,)   1957.58 "
      ]
     },
     "execution_count": 7,
     "metadata": {},
     "output_type": "execute_result"
    }
   ],
   "source": [
    "cf.const2curr(cflo=x, inflation=inflation)"
   ]
  },
  {
   "cell_type": "markdown",
   "metadata": {
    "slideshow": {
     "slide_type": "slide"
    }
   },
   "source": [
    "Inflación\n",
    "===\n",
    "\n",
    "**Juan David Velásquez Henao**  \n",
    "jdvelasq@unal.edu.co   \n",
    "Universidad Nacional de Colombia, Sede Medellín  \n",
    "Facultad de Minas  \n",
    "Medellín, Colombia\n",
    "\n",
    "---\n",
    "\n",
    "Haga click [aquí](https://github.com/jdvelasq/ingenieria-economica/blob/master/05-inflacion.ipynb) para acceder a la última versión online\n",
    "\n",
    "Haga click [aquí](http://nbviewer.jupyter.org/github/jdvelasq/ingenieria-economica/blob/master/05-inflacion.ipynb) para ver la última versión online en `nbviewer`.\n",
    "\n",
    "---"
   ]
  }
 ],
 "metadata": {
  "anaconda-cloud": {},
  "celltoolbar": "Slideshow",
  "kernelspec": {
   "display_name": "Python 3",
   "language": "python",
   "name": "python3"
  },
  "language_info": {
   "codemirror_mode": {
    "name": "ipython",
    "version": 3
   },
   "file_extension": ".py",
   "mimetype": "text/x-python",
   "name": "python",
   "nbconvert_exporter": "python",
   "pygments_lexer": "ipython3",
   "version": "3.6.1"
  }
 },
 "nbformat": 4,
 "nbformat_minor": 1
}
