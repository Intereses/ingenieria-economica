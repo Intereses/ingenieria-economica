{
 "cells": [
  {
   "cell_type": "markdown",
   "metadata": {},
   "source": [
    "Modelos de Valor del Dinero en el Tiempo\n",
    "==="
   ]
  },
  {
   "cell_type": "markdown",
   "metadata": {},
   "source": [
    "Notas de clase sobre ingeniería economica avanzada usando Python\n",
    "\n",
    "**Juan David Velásquez Henao**  \n",
    "jdvelasq@unal.edu.co   \n",
    "Universidad Nacional de Colombia, Sede Medellín  \n",
    "Facultad de Minas  \n",
    "Medellín, Colombia "
   ]
  },
  {
   "cell_type": "markdown",
   "metadata": {},
   "source": [
    "**Software utilizado**\n",
    ">Este es un documento interactivo escrito como un notebook de [Jupyter](http://jupyter.org/) , en el cual se presenta un tutorial sobre finanzas corporativas usando Python. Los notebooks de Jupyter permiten incoporar simultáneamente código, texto, gráficos y ecuaciones. El código presentado en este notebook puede ejecutarse en los sistemas operativos Linux y OS X.  \n",
    "\n",
    ">Haga click [aquí](https://github.com/jdvelasq/guias-de-instalacion) para obtener instrucciones detalladas sobre como instalar Jupyter en Windows y Mac OS X.\n",
    "\n",
    ">Descargue la última versión de este documento a su disco duro; luego, carguelo y ejecutelo en línea en Try [Jupyter!](https://try.jupyter.org/)\n",
    "\n"
   ]
  },
  {
   "cell_type": "markdown",
   "metadata": {},
   "source": [
    "#### Contenido"
   ]
  },
  {
   "cell_type": "markdown",
   "metadata": {},
   "source": [
    ">* "
   ]
  },
  {
   "cell_type": "markdown",
   "metadata": {},
   "source": [
    "**Bibliografía** "
   ]
  },
  {
   "cell_type": "markdown",
   "metadata": {},
   "source": [
    "> * [1] SAS/ETS 14.1 User's Guide, 2015.   \n",
    "* [2] **hp** 12c platinum financial calculator. User's guide. \n",
    "* [3] HP Business Consultant II Owner's manual.\n",
    "* [4] C.S. Park and G.P. Sharp-Bette. Advanced Engineering Economics. John Wiley & Sons, Inc., 1990."
   ]
  },
  {
   "cell_type": "markdown",
   "metadata": {},
   "source": [
    "# Diagrama de flujo de dinero"
   ]
  },
  {
   "cell_type": "markdown",
   "metadata": {},
   "source": [
    "Para la realización de cálculos financieros, el flujo de dinero en el tiempo es representado mediante el diagrama de flujo de dinero. En este, las flechas hacia arriba representan dinero recibido, mientras que las flechas hacia abajo representan dinero pagado."
   ]
  },
  {
   "cell_type": "markdown",
   "metadata": {},
   "source": [
    "<img src=\"images/cash-flow.png\" width=600>"
   ]
  },
  {
   "cell_type": "markdown",
   "metadata": {},
   "source": [
    "# Valor del dinero en el tiempo"
   ]
  },
  {
   "cell_type": "markdown",
   "metadata": {},
   "source": [
    "[Contenido](#Contenido)"
   ]
  },
  {
   "cell_type": "markdown",
   "metadata": {},
   "source": [
    "Un peso hoy vale más que un peso mañana, debido a que un peso hoy se puede invertir (hoy) para obtener intereses."
   ]
  },
  {
   "cell_type": "markdown",
   "metadata": {},
   "source": [
    "<img src=\"images/cashflow-1-period.png\" width=600>"
   ]
  },
  {
   "cell_type": "markdown",
   "metadata": {},
   "source": [
    "De forma general:"
   ]
  },
  {
   "cell_type": "markdown",
   "metadata": {},
   "source": [
    "* $PV$ -- Valor actual\n",
    "* $FV$ -- valor futuro (FV) \n",
    "* $r$ -- tasa de interés  "
   ]
  },
  {
   "cell_type": "markdown",
   "metadata": {},
   "source": [
    "$$FV = PV \\times (1 + r)$$   "
   ]
  },
  {
   "cell_type": "markdown",
   "metadata": {},
   "source": [
    "$$PV= \\left( \\displaystyle\\frac{1}{1+r}\\right) \\times FV $$"
   ]
  },
  {
   "cell_type": "markdown",
   "metadata": {},
   "source": [
    "Componentes de la tasa de interés:"
   ]
  },
  {
   "cell_type": "markdown",
   "metadata": {},
   "source": [
    " $$1+r = \\left( \\displaystyle\\ 1 + r_\\alpha\\right) \\left( \\displaystyle\\ 1 + f\\right) \\left( \\displaystyle\\ 1 + r_\\pi\\right)$$\n",
    " "
   ]
  },
  {
   "cell_type": "markdown",
   "metadata": {},
   "source": [
    "* $r_{α}$ -- Interés real"
   ]
  },
  {
   "cell_type": "markdown",
   "metadata": {},
   "source": [
    "* $f$ -- Inflación"
   ]
  },
  {
   "cell_type": "markdown",
   "metadata": {},
   "source": [
    "* $r_{π}$ -- Componente de riesgo"
   ]
  },
  {
   "cell_type": "markdown",
   "metadata": {},
   "source": [
    "# Interés simple"
   ]
  },
  {
   "cell_type": "markdown",
   "metadata": {},
   "source": [
    "En el interés simple se reciben directamente los intereses del capital sin reinvertirlos. Es típico en algunos tipos de préstamos."
   ]
  },
  {
   "cell_type": "markdown",
   "metadata": {},
   "source": [
    "**Ejemplo.--** [2, pag. 43] Un amigo necesita un préstamo de 450 por 60 días. Usted le presta a un interés simple del 7%, calculado sobre una base anual de 360 días. Cuál es la cantidad total que usted debe recibir al final de periodo?"
   ]
  },
  {
   "cell_type": "markdown",
   "metadata": {},
   "source": [
    "<img src=\"images/simple-interest.png\" width=350>"
   ]
  },
  {
   "cell_type": "code",
   "execution_count": 1,
   "metadata": {
    "collapsed": false
   },
   "outputs": [
    {
     "data": {
      "text/plain": [
       "-455.25"
      ]
     },
     "execution_count": 1,
     "metadata": {},
     "output_type": "execute_result"
    }
   ],
   "source": [
    "## cálculo manual\n",
    "-450 * (1 + 0.07 * 60 / 360)"
   ]
  },
  {
   "cell_type": "markdown",
   "metadata": {},
   "source": [
    "**Ejemplo.--** [2, pag. 43] Realice el mismo ejemplo anterior sobre una base de 365 días."
   ]
  },
  {
   "cell_type": "code",
   "execution_count": 2,
   "metadata": {
    "collapsed": false,
    "scrolled": true
   },
   "outputs": [
    {
     "data": {
      "text/plain": [
       "-455.17808219178085"
      ]
     },
     "execution_count": 2,
     "metadata": {},
     "output_type": "execute_result"
    }
   ],
   "source": [
    "## cálculo manual\n",
    "-450 * (1 + 0.07 * 60 / 365)"
   ]
  },
  {
   "cell_type": "markdown",
   "metadata": {},
   "source": [
    "**Ejemplo.--** ¿Qué cantidad de dinero se poseerá después de prestar \\$ 2300 al 25% de interés simple anual durante 3 años? "
   ]
  },
  {
   "cell_type": "code",
   "execution_count": 3,
   "metadata": {
    "collapsed": false
   },
   "outputs": [
    {
     "data": {
      "text/plain": [
       "4025.0"
      ]
     },
     "execution_count": 3,
     "metadata": {},
     "output_type": "execute_result"
    }
   ],
   "source": [
    "## cálculo manual\n",
    "2300 * (1 + 0.25 * 3)"
   ]
  },
  {
   "cell_type": "markdown",
   "metadata": {},
   "source": [
    "---"
   ]
  },
  {
   "cell_type": "markdown",
   "metadata": {},
   "source": [
    "**Ejercicio.--** ¿Qué cantidad de dinero se poseerá después de prestar \\$ 10000 al 30% de interés simple anual durante 2 años? (R/ \\$ 16000)"
   ]
  },
  {
   "cell_type": "code",
   "execution_count": null,
   "metadata": {
    "collapsed": false
   },
   "outputs": [],
   "source": []
  },
  {
   "cell_type": "markdown",
   "metadata": {},
   "source": [
    "---"
   ]
  },
  {
   "cell_type": "markdown",
   "metadata": {},
   "source": [
    "# Interés compuesto"
   ]
  },
  {
   "cell_type": "markdown",
   "metadata": {},
   "source": [
    "[Contenido](#Contenido)"
   ]
  },
  {
   "cell_type": "markdown",
   "metadata": {},
   "source": [
    "En el interés simple se reciben directamente los pagos del interés. En el interés compuesto, los intereses se suman al capital $(P)$, tal que se reciben intereses sobre los intereses de periodos pasados."
   ]
  },
  {
   "cell_type": "markdown",
   "metadata": {},
   "source": [
    "![alt text](images/interes-simple-y-compuesto.png \"intereses\")"
   ]
  },
  {
   "cell_type": "markdown",
   "metadata": {},
   "source": [
    "Diferencia:\n",
    "$$P[(1+i)^N-1]-iNP = P[(1+i)^N-(1+iN)]$$\n"
   ]
  },
  {
   "cell_type": "markdown",
   "metadata": {},
   "source": [
    "# Concepto de equivalencia financiera"
   ]
  },
  {
   "cell_type": "markdown",
   "metadata": {},
   "source": [
    "[Contenido](#Contenido)"
   ]
  },
  {
   "cell_type": "markdown",
   "metadata": {},
   "source": [
    "Dos flujos de fondos son equivalentes a la tasa de interés $r$ si el uno puede ser convertido en el otro usando las tranformaciones apropiadas de interés compuesto."
   ]
  },
  {
   "cell_type": "markdown",
   "metadata": {},
   "source": [
    "<img src=\"images/equivalencia.png\" width=700>"
   ]
  },
  {
   "cell_type": "markdown",
   "metadata": {},
   "source": [
    "# Modelos de valor del dinero en el tiempo"
   ]
  },
  {
   "cell_type": "markdown",
   "metadata": {},
   "source": [
    "[Contenido](#Contenido)"
   ]
  },
  {
   "cell_type": "markdown",
   "metadata": {},
   "source": [
    "## Equivalencia entre un pago actual y un pago futuro."
   ]
  },
  {
   "cell_type": "markdown",
   "metadata": {},
   "source": [
    "[Contenido](#Contenido)"
   ]
  },
  {
   "cell_type": "markdown",
   "metadata": {},
   "source": [
    "<img src=\"images/equiv-pago-actual-futuro-disc.png\" width=400>"
   ]
  },
  {
   "cell_type": "markdown",
   "metadata": {},
   "source": [
    "$$F = - P * (1+r)^n$$"
   ]
  },
  {
   "cell_type": "markdown",
   "metadata": {},
   "source": [
    "$$P = - F * (1 + r)^{-n} = -\\frac{F}{(1+r)^n}$$"
   ]
  },
  {
   "cell_type": "markdown",
   "metadata": {},
   "source": [
    "Para resolver este tipo de problemas se requieren tres de las cuatro variables de la formula."
   ]
  },
  {
   "cell_type": "markdown",
   "metadata": {},
   "source": [
    "---"
   ]
  },
  {
   "cell_type": "markdown",
   "metadata": {},
   "source": [
    "**Ejercicio.--** Exprese $r$ en función de $P$, $F$ y $n$."
   ]
  },
  {
   "cell_type": "code",
   "execution_count": null,
   "metadata": {
    "collapsed": true
   },
   "outputs": [],
   "source": []
  },
  {
   "cell_type": "markdown",
   "metadata": {},
   "source": [
    "**Ejercicio.--** Exprese $n$ en función de $P$, $F$ y $r$."
   ]
  },
  {
   "cell_type": "code",
   "execution_count": null,
   "metadata": {
    "collapsed": true
   },
   "outputs": [],
   "source": []
  },
  {
   "cell_type": "markdown",
   "metadata": {},
   "source": [
    "---"
   ]
  },
  {
   "cell_type": "markdown",
   "metadata": {},
   "source": [
    "**Ejemplo.--** ¿Cuánto dinero se deberá invertir hoy si se quiere obtener al final de 5 años \\$ 7800 a un interés trimestral del 2%?"
   ]
  },
  {
   "cell_type": "markdown",
   "metadata": {},
   "source": [
    "<img src=\"images/sesion-1-ejemplo-1.png\" width=400>"
   ]
  },
  {
   "cell_type": "code",
   "execution_count": 4,
   "metadata": {
    "collapsed": false,
    "scrolled": true
   },
   "outputs": [
    {
     "data": {
      "text/plain": [
       "-5249.176398242848"
      ]
     },
     "execution_count": 4,
     "metadata": {},
     "output_type": "execute_result"
    }
   ],
   "source": [
    "-7800 / ((1 + 0.02) ** 20)"
   ]
  },
  {
   "cell_type": "markdown",
   "metadata": {},
   "source": [
    "**Ejemplo.--** Cual es el valor futuro de \\$ 730 dentro de un año con un interés mensual del 2.3%"
   ]
  },
  {
   "cell_type": "code",
   "execution_count": 5,
   "metadata": {
    "collapsed": false,
    "scrolled": true
   },
   "outputs": [
    {
     "data": {
      "text/plain": [
       "959.0261838317085"
      ]
     },
     "execution_count": 5,
     "metadata": {},
     "output_type": "execute_result"
    }
   ],
   "source": [
    "730 * (1 + 0.023)**12"
   ]
  },
  {
   "cell_type": "markdown",
   "metadata": {},
   "source": [
    "## Equivalencia entre un pago actual y una serie de pagos iguales perpetuos."
   ]
  },
  {
   "cell_type": "markdown",
   "metadata": {},
   "source": [
    "[Contenido](#Contenido)"
   ]
  },
  {
   "cell_type": "markdown",
   "metadata": {},
   "source": [
    "<img src=\"images/equiv-pmt-inf.png\" width=300>"
   ]
  },
  {
   "cell_type": "markdown",
   "metadata": {},
   "source": [
    "Se calcula $P$ como el valor presente de los pagos iguales $A$:"
   ]
  },
  {
   "cell_type": "markdown",
   "metadata": {},
   "source": [
    "$$ P=\\frac{A}{(1+r)} + \\frac{A}{(1+r)^2} + ... $$"
   ]
  },
  {
   "cell_type": "markdown",
   "metadata": {},
   "source": [
    "Sumando $A$ a ambos lados de la ecuación:"
   ]
  },
  {
   "cell_type": "markdown",
   "metadata": {},
   "source": [
    "$$P+A~=~A \\left [  1 + \\left(\\frac{1}{1+r}\\right) + \\left(\\frac{1}{1+r}\\right) ^2 + ... \\right ]~=~A\\left [ \\frac{1}{1-\\left(\\frac{1}{1+r}\\right)}\\right] ~=~ A + \\frac{A}{r}$$"
   ]
  },
  {
   "cell_type": "markdown",
   "metadata": {},
   "source": [
    "Al despejar $P$ se obtiene:"
   ]
  },
  {
   "cell_type": "markdown",
   "metadata": {},
   "source": [
    "$$P=\\frac{A}{r}$$"
   ]
  },
  {
   "cell_type": "markdown",
   "metadata": {},
   "source": [
    "## Equivalencia pagos iguales finitos."
   ]
  },
  {
   "cell_type": "markdown",
   "metadata": {},
   "source": [
    "[Contenido](#Contenido)"
   ]
  },
  {
   "cell_type": "markdown",
   "metadata": {},
   "source": [
    "<img src=\"images/equiv-pmt-finitos.png\" width=500>"
   ]
  },
  {
   "cell_type": "markdown",
   "metadata": {},
   "source": [
    "Las formulas financieras para anualidades se obtienen al considerar la resta de dos anualidades infinitas; la primera se inicia en el instánte 0 y la segunda en el instánte $n$:   "
   ]
  },
  {
   "cell_type": "markdown",
   "metadata": {},
   "source": [
    "$$F~=~ P\\times(1+r)^n - P^* ~=~\\frac{A}{r} \\times (1+r)^n - \\frac{A}{r} ~=~ A \\left [ \\frac{(1 + r)^n -1}{r} \\right ]$$"
   ]
  },
  {
   "cell_type": "markdown",
   "metadata": {},
   "source": [
    "---"
   ]
  },
  {
   "cell_type": "markdown",
   "metadata": {},
   "source": [
    "**Ejercicio.--** Derive la ecuación para calcular el valor presente ($P$) en función de $A$, $r$ y $n$."
   ]
  },
  {
   "cell_type": "markdown",
   "metadata": {
    "collapsed": true
   },
   "source": [
    "$$\\frac{1}{8} * A ^2$$"
   ]
  },
  {
   "cell_type": "markdown",
   "metadata": {},
   "source": [
    "**Ejercicio.--** Escriba $A$ en función de $P$, $r$ y $n$."
   ]
  },
  {
   "cell_type": "code",
   "execution_count": null,
   "metadata": {
    "collapsed": true
   },
   "outputs": [],
   "source": []
  },
  {
   "cell_type": "markdown",
   "metadata": {},
   "source": [
    "**Ejercicio.--** Escriba $r$ en función de $P$, $n$ y $A$."
   ]
  },
  {
   "cell_type": "code",
   "execution_count": null,
   "metadata": {
    "collapsed": true
   },
   "outputs": [],
   "source": []
  },
  {
   "cell_type": "markdown",
   "metadata": {},
   "source": [
    "**Ejercicio.--** Escriba $n$ en función de $n$ en función de $P$, $A$ y $r$."
   ]
  },
  {
   "cell_type": "code",
   "execution_count": null,
   "metadata": {
    "collapsed": true
   },
   "outputs": [],
   "source": []
  },
  {
   "cell_type": "markdown",
   "metadata": {},
   "source": [
    "**Ejercicio.--** Cuál tasa de interés hace que los siguientes flujos sean equivalentes?"
   ]
  },
  {
   "cell_type": "markdown",
   "metadata": {},
   "source": [
    "* Recibir \\$ 1000 hoy."
   ]
  },
  {
   "cell_type": "markdown",
   "metadata": {},
   "source": [
    "* Recibir \\$ 600 al final del periodo 1 y otros \\$ 600 al final del periodo 2."
   ]
  },
  {
   "cell_type": "markdown",
   "metadata": {},
   "source": [
    "<img src=\"images/sesion-1-ejemplo-2.png\" width=400>"
   ]
  },
  {
   "cell_type": "code",
   "execution_count": null,
   "metadata": {
    "collapsed": true
   },
   "outputs": [],
   "source": []
  },
  {
   "cell_type": "markdown",
   "metadata": {},
   "source": [
    "---"
   ]
  },
  {
   "cell_type": "markdown",
   "metadata": {},
   "source": [
    "## Modo de pago de anualidades finitas"
   ]
  },
  {
   "cell_type": "markdown",
   "metadata": {},
   "source": [
    "[Contenido](#Contenido)"
   ]
  },
  {
   "cell_type": "markdown",
   "metadata": {},
   "source": [
    "En el caso de pagos iguales periodicos, es posible establecer el pago al principio o al final del periodo. "
   ]
  },
  {
   "cell_type": "markdown",
   "metadata": {},
   "source": [
    "<img src=\"images/payment-mode.png\" width=500>"
   ]
  },
  {
   "cell_type": "markdown",
   "metadata": {},
   "source": [
    "---"
   ]
  },
  {
   "cell_type": "markdown",
   "metadata": {},
   "source": [
    "**Ejercicio.--** Derive las ecuaciones de equivalencia entre una anualidad finita anticipada y su valor futuro equivalente y despeje $A$, $F$, $r$ y $n$."
   ]
  },
  {
   "cell_type": "markdown",
   "metadata": {},
   "source": [
    "<img src=\"images/eqiv-pmt-ant-finita.png\" width=400>"
   ]
  },
  {
   "cell_type": "code",
   "execution_count": null,
   "metadata": {
    "collapsed": true
   },
   "outputs": [],
   "source": []
  },
  {
   "cell_type": "markdown",
   "metadata": {},
   "source": [
    "---"
   ]
  },
  {
   "cell_type": "markdown",
   "metadata": {},
   "source": [
    "## Modelo general de equivalencia"
   ]
  },
  {
   "cell_type": "markdown",
   "metadata": {},
   "source": [
    "Los modelos de valor de dinero en el tiempo (TVM -- time value of money) se basan en los siguientes esquemas."
   ]
  },
  {
   "cell_type": "markdown",
   "metadata": {},
   "source": [
    "<img src=\"images/tvm.png\" width=700>"
   ]
  },
  {
   "cell_type": "markdown",
   "metadata": {},
   "source": [
    "---"
   ]
  },
  {
   "cell_type": "markdown",
   "metadata": {},
   "source": [
    "**Ejercicio.--** ¿Cuál es el valor de A para que los dos flujos sean equivalentes usando una tasa ($r$) del 8%?"
   ]
  },
  {
   "cell_type": "markdown",
   "metadata": {},
   "source": [
    "<img src=\"images/ejercicio-A.png\" width=500>"
   ]
  },
  {
   "cell_type": "code",
   "execution_count": null,
   "metadata": {
    "collapsed": true
   },
   "outputs": [],
   "source": []
  },
  {
   "cell_type": "markdown",
   "metadata": {},
   "source": [
    "---"
   ]
  },
  {
   "cell_type": "markdown",
   "metadata": {},
   "source": [
    "# Flujos típicos"
   ]
  },
  {
   "cell_type": "markdown",
   "metadata": {},
   "source": [
    "[Contenido](#Contenido)"
   ]
  },
  {
   "cell_type": "markdown",
   "metadata": {},
   "source": [
    "Para resolver un problema, primero se debe identificar el flujo de efectivo típico [2, pag. 48]"
   ]
  },
  {
   "cell_type": "markdown",
   "metadata": {},
   "source": [
    "<img src=\"images/flujos-tipicos.png\" width=700>"
   ]
  },
  {
   "cell_type": "markdown",
   "metadata": {},
   "source": [
    "---"
   ]
  },
  {
   "cell_type": "markdown",
   "metadata": {},
   "source": [
    "**Ejercicio.--** Cuál es el valor presente de un bono (obligación) a dos años, cuyo pago (principal) es de \\$ 100, con pagos trimestrales de intereses a una tasa del 10%?"
   ]
  },
  {
   "cell_type": "code",
   "execution_count": null,
   "metadata": {
    "collapsed": true
   },
   "outputs": [],
   "source": []
  },
  {
   "cell_type": "markdown",
   "metadata": {},
   "source": [
    "---"
   ]
  },
  {
   "cell_type": "markdown",
   "metadata": {},
   "source": [
    "# Libreria cashflows"
   ]
  },
  {
   "cell_type": "markdown",
   "metadata": {},
   "source": [
    "**`cashflows`** es una librería para la ejecución de cálculos financieros. Las funciones implementadas son similares a las usadas en Microsoft Excel, las calculadoras financieras y otros softwares similares."
   ]
  },
  {
   "cell_type": "code",
   "execution_count": 2,
   "metadata": {
    "collapsed": false
   },
   "outputs": [],
   "source": [
    "# importa la librería financiera.\n",
    "# solo es necesario ejecutar la importación una sola vez.\n",
    "import cashflows as cf"
   ]
  },
  {
   "cell_type": "markdown",
   "metadata": {},
   "source": [
    "**`tvm`** es un modelo para la realización de cálculos simples del valor del dinero en el tiempo. Este modelo usa variables internas para almacenar la información y funciones para realizar los cálculos."
   ]
  },
  {
   "cell_type": "markdown",
   "metadata": {},
   "source": [
    "Nomenclatura para los parámetros:"
   ]
  },
  {
   "cell_type": "markdown",
   "metadata": {},
   "source": [
    "* `pval` -- valor presente."
   ]
  },
  {
   "cell_type": "markdown",
   "metadata": {},
   "source": [
    "* `fval` -- valor futuro."
   ]
  },
  {
   "cell_type": "markdown",
   "metadata": {},
   "source": [
    "* `pmt` -- pago periodico."
   ]
  },
  {
   "cell_type": "markdown",
   "metadata": {},
   "source": [
    "* `nper` -- cantidad de periodos."
   ]
  },
  {
   "cell_type": "markdown",
   "metadata": {},
   "source": [
    "* `nrate` -- tasa de interés por periodo."
   ]
  },
  {
   "cell_type": "markdown",
   "metadata": {},
   "source": [
    "* `pyr` -- número de periodos por año."
   ]
  },
  {
   "cell_type": "markdown",
   "metadata": {},
   "source": [
    "* `when` -- momento del periodo en que se paga la anualidad: `'end'` (o 0) indica el pago al final del periodo; `'begin'` (o 1) indica el pago al principio del periodo."
   ]
  },
  {
   "cell_type": "markdown",
   "metadata": {},
   "source": [
    "Nomenclatura para las funciones de equivalencia financiera:"
   ]
  },
  {
   "cell_type": "markdown",
   "metadata": {},
   "source": [
    "* `pvfv(pval=None, fval=None, nrate=None, nper=None, pyr=1, noprint=True)` -- valor presente - valor futuro."
   ]
  },
  {
   "cell_type": "markdown",
   "metadata": {},
   "source": [
    "* `pmtfv(pmt=None, fval=None, nrate=None, nper=None, pyr=1, noprint=True)` -- pago periodico - valor futuro."
   ]
  },
  {
   "cell_type": "markdown",
   "metadata": {},
   "source": [
    "* `pvpmt(pmt=None, pval=None, nrate=None, nper=None, pyr=1, noprint=True)` -- valor presente - pago periodico."
   ]
  },
  {
   "cell_type": "markdown",
   "metadata": {},
   "source": [
    "* `tvmm(pval=None, fval=None, pmt=None, nrate=None, nper=None, due=0, pyr=1, noprint=True)` -- modelos de valor del dinero en el tiempo."
   ]
  },
  {
   "cell_type": "markdown",
   "metadata": {},
   "source": [
    "* `amortize(pval=None, fval=None, pmt=None, nrate=None, nper=None, due=0, pyr=1, noprint=True)` -- imprime la tabla de amortizaciones para los cálculos realizados."
   ]
  },
  {
   "cell_type": "markdown",
   "metadata": {},
   "source": [
    "A continuación se presentan varios ejemplos de su uso."
   ]
  },
  {
   "cell_type": "markdown",
   "metadata": {},
   "source": [
    "**Ejemplo (cuenta de ahorros).--** [3, pág. 88] Se depositan \\$ 2000 en una cuenta de ahorros que paga un interés anual del 7.2% (calculado anualmente). Si no se hacen otros depósitos en la cuenta, cuanto tiempo se requiere para que la cuenta tenga \\$ 3000? R/ 5.83"
   ]
  },
  {
   "cell_type": "markdown",
   "metadata": {},
   "source": [
    "<img src=\"images/sesion-1-ejemplo-4.png\" width=350>"
   ]
  },
  {
   "cell_type": "code",
   "execution_count": 7,
   "metadata": {
    "collapsed": false
   },
   "outputs": [
    {
     "data": {
      "text/plain": [
       "5.8318433820838607"
      ]
     },
     "execution_count": 7,
     "metadata": {},
     "output_type": "execute_result"
    }
   ],
   "source": [
    "cf.pvfv(nrate =     7.2, # tasa de interes\n",
    "        pval  = -2000,     # valor presente\n",
    "        fval  = +3000)     # valor futuro"
   ]
  },
  {
   "cell_type": "code",
   "execution_count": 8,
   "metadata": {
    "collapsed": false,
    "scrolled": true
   },
   "outputs": [
    {
     "data": {
      "text/plain": [
       "3035.2796326007801"
      ]
     },
     "execution_count": 8,
     "metadata": {},
     "output_type": "execute_result"
    }
   ],
   "source": [
    "# Ya que nper es un valor entre 5 y 6, se requieren 6 años \n",
    "# para tener un balance de al menos $ 3000.\n",
    "# El balance al final de los seis años es (R/ 3035.28):\n",
    "cf.pvfv(nrate =     7.2, # tasa de interes\n",
    "        pval  = -2000,   # valor presente\n",
    "        nper  = 6)       # numero de periodos"
   ]
  },
  {
   "cell_type": "markdown",
   "metadata": {},
   "source": [
    "**Ejemplo (cuenta de ahorro).--** ¿Cuánto dinero se deberá invertir hoy si se quiere obtener al final de 5 años \\$ 7800 a un interés trimestral del 2%? R/ -5249.18"
   ]
  },
  {
   "cell_type": "markdown",
   "metadata": {},
   "source": [
    "<img src=\"images/sesion-1-ejemplo-1.png\" width=400>"
   ]
  },
  {
   "cell_type": "code",
   "execution_count": 3,
   "metadata": {
    "collapsed": false,
    "scrolled": false
   },
   "outputs": [
    {
     "data": {
      "text/plain": [
       "-5249.1763998779916"
      ]
     },
     "execution_count": 3,
     "metadata": {},
     "output_type": "execute_result"
    }
   ],
   "source": [
    "cf.pvfv(nrate =    2.0,  # tasa de interes\n",
    "        fval =  7800,    # valor futuro \n",
    "        pyr  = 1,\n",
    "        nper =   5*4)    # número de periodos: 5 años * 4 trimestres por año\n",
    "# calcula el valor presente"
   ]
  },
  {
   "cell_type": "markdown",
   "metadata": {},
   "source": [
    "**Ejemplo (valorización).--** Cuál es el valor futuro de \\$ 730 dentro de un año con un interés mensual del 2.3%? R/ \\$ 959.03 "
   ]
  },
  {
   "cell_type": "markdown",
   "metadata": {},
   "source": [
    "<img src=\"images/sesion-1-ejemplo-3.png\" width=350>"
   ]
  },
  {
   "cell_type": "code",
   "execution_count": 10,
   "metadata": {
    "collapsed": false
   },
   "outputs": [
    {
     "data": {
      "text/plain": [
       "959.02618246764553"
      ]
     },
     "execution_count": 10,
     "metadata": {},
     "output_type": "execute_result"
    }
   ],
   "source": [
    "cf.pvfv(nrate =  2.3, \n",
    "       nper =   12, \n",
    "       pval = -730)"
   ]
  },
  {
   "cell_type": "markdown",
   "metadata": {},
   "source": [
    " **Ejemplo (leasing).--** [3, pág 02] Se hace un leasing por una maquinaria por 4 años (48 meses) con pagos mensuales de \\$ 2400; se debe pagar una cuota adicional de \\$ 2400 al principio del leasing para reemplazar la última cuota (que ocurre al principio del mes 48). El contrato incluye una opción de compra al final del periodo de leasing por \\$ 15000. Cual valor capitalizado del leasing para una tasa del 1.5% mensual? "
   ]
  },
  {
   "cell_type": "markdown",
   "metadata": {},
   "source": [
    "<img src=\"images/sesion-1-ejemplo-5.png\" width=350>"
   ]
  },
  {
   "cell_type": "code",
   "execution_count": 11,
   "metadata": {
    "collapsed": false
   },
   "outputs": [
    {
     "data": {
      "text/plain": [
       "81735.575590862747"
      ]
     },
     "execution_count": 11,
     "metadata": {},
     "output_type": "execute_result"
    }
   ],
   "source": [
    "# se pagan 47 cuotas de $ 2400 al principio del mes.\n",
    "cf.tvmm(nper  =     47,\n",
    "        pmt   =  -2400,\n",
    "        due   =      1,\n",
    "        fval  =      0,\n",
    "        nrate =      1.5)\n",
    "# valor presente de las 47 cuotas al principio del periodo R/ $ 81735.58"
   ]
  },
  {
   "cell_type": "code",
   "execution_count": 12,
   "metadata": {
    "collapsed": false,
    "scrolled": true
   },
   "outputs": [
    {
     "data": {
      "text/plain": [
       "84135.575590862747"
      ]
     },
     "execution_count": 12,
     "metadata": {},
     "output_type": "execute_result"
    }
   ],
   "source": [
    "x = _ + 2400 # + cuota adicional al principio del leasing  R/ $ 84135.58\n",
    "x"
   ]
  },
  {
   "cell_type": "code",
   "execution_count": 13,
   "metadata": {
    "collapsed": false
   },
   "outputs": [
    {
     "data": {
      "text/plain": [
       "91476.001017201139"
      ]
     },
     "execution_count": 13,
     "metadata": {},
     "output_type": "execute_result"
    }
   ],
   "source": [
    "x + cf.pvfv(nper  =     48,\n",
    "            fval  = -15000,\n",
    "            nrate =      1.5)  # opcion de compra R/ $ 91476.00\n",
    "\n"
   ]
  },
  {
   "cell_type": "markdown",
   "metadata": {},
   "source": [
    "**Ejemplo (hipoteca).--** [2, pág. 50] Se hará un préstamo de \\$ 35000 con un interes del (10.5% / 12). Si se hacen pagos mensuales de \\$ 325 al final de cada mes, cuánto tiempo se requiere para cancelar la deuda?  "
   ]
  },
  {
   "cell_type": "code",
   "execution_count": 14,
   "metadata": {
    "collapsed": false
   },
   "outputs": [
    {
     "data": {
      "text/plain": [
       "327.43926528279928"
      ]
     },
     "execution_count": 14,
     "metadata": {},
     "output_type": "execute_result"
    }
   ],
   "source": [
    "## crea una instancia del modelo y se almacena en una variable\n",
    "m = cf.tvmm(nrate =    10.5/12, # tasa de interes\n",
    "             pval = 35000,      # valor presente  \n",
    "             pmt  =  -325,\n",
    "             fval =     0,\n",
    "             due  =     0)      # 'end' \n",
    "m"
   ]
  },
  {
   "cell_type": "markdown",
   "metadata": {},
   "source": [
    "Si se hacen 327 pagos de \\$ 325, cuánto será el pago No. 328? "
   ]
  },
  {
   "cell_type": "code",
   "execution_count": 15,
   "metadata": {
    "collapsed": false
   },
   "outputs": [
    {
     "data": {
      "text/plain": [
       "-141.86862789513543"
      ]
     },
     "execution_count": 15,
     "metadata": {},
     "output_type": "execute_result"
    }
   ],
   "source": [
    "# pago en exceso el valor de la deuda\n",
    "m = cf.tvmm(nrate =    10.5/12, # tasa de interes\n",
    "             pval = 35000,      # valor presente  \n",
    "             pmt  =  -325,\n",
    "             nper =   327,\n",
    "             due  =     0)      # 'end' \n",
    "m"
   ]
  },
  {
   "cell_type": "code",
   "execution_count": 16,
   "metadata": {
    "collapsed": false
   },
   "outputs": [
    {
     "data": {
      "text/plain": [
       "181.89002161078213"
      ]
     },
     "execution_count": 16,
     "metadata": {},
     "output_type": "execute_result"
    }
   ],
   "source": [
    "# pago en exceso el valor de la deuda\n",
    "m * (1 + 10.5/12/100) + 325"
   ]
  },
  {
   "cell_type": "markdown",
   "metadata": {},
   "source": [
    "Se se hacen únicamente 327 pagos, cuál es el valor del pago final para cancelar completamente la deuda?"
   ]
  },
  {
   "cell_type": "code",
   "execution_count": 17,
   "metadata": {
    "collapsed": false
   },
   "outputs": [
    {
     "data": {
      "text/plain": [
       "-141.86862789513543"
      ]
     },
     "execution_count": 17,
     "metadata": {},
     "output_type": "execute_result"
    }
   ],
   "source": [
    "m = cf.tvmm(nrate =    10.5/12, # tasa de interes\n",
    "             pval = 35000,      # valor presente  \n",
    "             pmt  =  -325,\n",
    "             nper =   327,\n",
    "             due  =     0)      # 'end' \n",
    "m"
   ]
  },
  {
   "cell_type": "code",
   "execution_count": 18,
   "metadata": {
    "collapsed": false
   },
   "outputs": [
    {
     "data": {
      "text/plain": [
       "-466.86862789513543"
      ]
     },
     "execution_count": 18,
     "metadata": {},
     "output_type": "execute_result"
    }
   ],
   "source": [
    "-325 + m"
   ]
  },
  {
   "cell_type": "markdown",
   "metadata": {},
   "source": [
    "**Ejemplo.--** [2, pág. 53] Se abre una cuenta hoy con un depósito de \\$ 775. La tasa de interés es de (6.25%/24). Si se siguen realizando depósitos de \\$ 50, cuánto tiempo se requiere para alcanzar un saldo de \\$ 4000?   "
   ]
  },
  {
   "cell_type": "code",
   "execution_count": 19,
   "metadata": {
    "collapsed": false
   },
   "outputs": [
    {
     "data": {
      "text/plain": [
       "57.548385170743252"
      ]
     },
     "execution_count": 19,
     "metadata": {},
     "output_type": "execute_result"
    }
   ],
   "source": [
    "cf.tvmm(nrate =  6.25/24, # tasa de interes\n",
    "        pval   = -775,    # deposito inicial  \n",
    "        pmt    =  -50,    # depositos periodicos\n",
    "        fval   = 4000,    # saldo final\n",
    "        due    = 0)       # depositos al final del periodo \n"
   ]
  },
  {
   "cell_type": "code",
   "execution_count": 20,
   "metadata": {
    "collapsed": false
   },
   "outputs": [
    {
     "data": {
      "text/plain": [
       "4027.2656060308091"
      ]
     },
     "execution_count": 20,
     "metadata": {},
     "output_type": "execute_result"
    }
   ],
   "source": [
    "# saldo al final de 58 periodos\n",
    "cf.tvmm(nrate  =    6.25/24, # tasa de interes\n",
    "        nper   =   58,       # numero de periodos\n",
    "        pval   = -775,       # deposito inicial  \n",
    "        pmt    =  -50,       # depositos periodicos\n",
    "        due    = 0)          # depositos al final del periodo "
   ]
  },
  {
   "cell_type": "markdown",
   "metadata": {},
   "source": [
    "**Ejemplo.--** [2, pág. 55] Qué tasa de interés debe obtenerse para acumular \\$ 10000 en 32 periodos si se hace una inversión de \\$ 6000? R/ 1.61%"
   ]
  },
  {
   "cell_type": "code",
   "execution_count": 21,
   "metadata": {
    "collapsed": false
   },
   "outputs": [
    {
     "data": {
      "text/plain": [
       "1.6091394935432066"
      ]
     },
     "execution_count": 21,
     "metadata": {},
     "output_type": "execute_result"
    }
   ],
   "source": [
    "cf.pvfv(pval = -6000,         # deposito inicial\n",
    "        nper =    32,         # numero de periodos\n",
    "        fval = 10000)         # saldo final"
   ]
  },
  {
   "cell_type": "code",
   "execution_count": 22,
   "metadata": {
    "collapsed": false
   },
   "outputs": [
    {
     "data": {
      "text/plain": [
       "1.6091394935432066"
      ]
     },
     "execution_count": 22,
     "metadata": {},
     "output_type": "execute_result"
    }
   ],
   "source": [
    "cf.tvmm(pval = -6000,     # deposito inicial\n",
    "        nper =    32,     # numero de periodos\n",
    "        pmt  = 0,         # pago periodico\n",
    "        fval = 10000)     # saldo final"
   ]
  },
  {
   "cell_type": "markdown",
   "metadata": {},
   "source": [
    "**Ejemplo.--** [2, pág. 57] Si se va a realizar un leasing a una tasa de interés de (5.9%/12) y se deben realizar 48 pagos de \\$ 450 y un pago inicial de \\$ 1500 al constituirse el crédito, cuál es el monto del préstamo?"
   ]
  },
  {
   "cell_type": "code",
   "execution_count": 23,
   "metadata": {
    "collapsed": false
   },
   "outputs": [
    {
     "data": {
      "text/plain": [
       "19198.600408593771"
      ]
     },
     "execution_count": 23,
     "metadata": {},
     "output_type": "execute_result"
    }
   ],
   "source": [
    "cf.pvpmt(pmt   =  -450,      # pago mensual\n",
    "         nrate =     5.9/12, # tasa de interés\n",
    "         nper  =    48)      # numero de periodos"
   ]
  },
  {
   "cell_type": "code",
   "execution_count": 24,
   "metadata": {
    "collapsed": false
   },
   "outputs": [
    {
     "data": {
      "text/plain": [
       "20698.600408593771"
      ]
     },
     "execution_count": 24,
     "metadata": {},
     "output_type": "execute_result"
    }
   ],
   "source": [
    "_ + 1500"
   ]
  },
  {
   "cell_type": "markdown",
   "metadata": {},
   "source": [
    "**Ejemplo.--** [2, pág. 58] Cuánto se puede pagar por una propiedad que generará un flujo neto anual de \\$ 17500 durante 5 años, si al final la propiedad se puede vender en \\$ 540.000? (la tasa de interés es del 12%)  "
   ]
  },
  {
   "cell_type": "code",
   "execution_count": 25,
   "metadata": {
    "collapsed": false
   },
   "outputs": [
    {
     "data": {
      "text/plain": [
       "-369494.08562908118"
      ]
     },
     "execution_count": 25,
     "metadata": {},
     "output_type": "execute_result"
    }
   ],
   "source": [
    "cf.tvmm(pmt   =  17500,   # pago periodico anual\n",
    "        fval  = 540000,   # valor de venta\n",
    "        nrate =     12.0, # tasa de interés\n",
    "        nper  =      5)   # numero de periodos"
   ]
  },
  {
   "cell_type": "markdown",
   "metadata": {},
   "source": [
    "**Ejemplo.--** [2, pág. 59] Calcule el pago mensual de una hipoteca por \\$ 243400 pagada en 348 meses a una tasa del 5.25%/12."
   ]
  },
  {
   "cell_type": "code",
   "execution_count": 26,
   "metadata": {
    "collapsed": false
   },
   "outputs": [
    {
     "data": {
      "text/plain": [
       "-1363.2868774076235"
      ]
     },
     "execution_count": 26,
     "metadata": {},
     "output_type": "execute_result"
    }
   ],
   "source": [
    "cf.pvpmt(pval  = 243400,       # monto\n",
    "         nrate =      5.25/12, # tasa de interés\n",
    "         nper  =    348)       # numero de periodos"
   ]
  },
  {
   "cell_type": "markdown",
   "metadata": {},
   "source": [
    "**Ejemplo.--** [2, pág. 59] Cuánto es el monto periodico que debe consignarse mensualmente en una cuenta de ahorros si el saldo inicial es de \\$ 3200, el saldo final es de \\$ 60000, la tasa es de 9.75%/2 y plazo es de 30 meses? "
   ]
  },
  {
   "cell_type": "code",
   "execution_count": 27,
   "metadata": {
    "collapsed": false
   },
   "outputs": [
    {
     "data": {
      "text/plain": [
       "-717.44030300066242"
      ]
     },
     "execution_count": 27,
     "metadata": {},
     "output_type": "execute_result"
    }
   ],
   "source": [
    "cf.tvmm(pval  = -3200,      # apertura\n",
    "        fval  = 60000,      # saldo futuro\n",
    "        nper  =    30,      # numero de periodos\n",
    "        nrate =     9.75/2) # tasa de interés"
   ]
  },
  {
   "cell_type": "markdown",
   "metadata": {},
   "source": [
    "**Ejemplo.--** [2, pág. 61] Si se tiene una hipoteca de \\$ 243400 con un pago mensual de \\$ 1363.29 en 348 meses a una tasa del 5.25%/12, cuál es el pago que debe realizarse en la cuota 60 para cancelar completamente la deuda?"
   ]
  },
  {
   "cell_type": "code",
   "execution_count": 28,
   "metadata": {
    "collapsed": false
   },
   "outputs": [
    {
     "data": {
      "text/plain": [
       "-222975.98179576019"
      ]
     },
     "execution_count": 28,
     "metadata": {},
     "output_type": "execute_result"
    }
   ],
   "source": [
    "cf.tvmm(pval  = 243400,        # monto\n",
    "        nrate =      5.25/12,  # tasa de interés\n",
    "        pmt   =  -1363.29,     # pago mensual\n",
    "        nper  =     60)        # numero de periodos"
   ]
  },
  {
   "cell_type": "markdown",
   "metadata": {},
   "source": [
    "**Ejemplo.--** [2, pág. 61] Si se consignan \\$ 50 al principio de cada mes en una nueva cuenta que paga 6.25%/12, cuál es el saldo al final de 24 meses?   "
   ]
  },
  {
   "cell_type": "code",
   "execution_count": 29,
   "metadata": {
    "collapsed": false
   },
   "outputs": [
    {
     "data": {
      "text/plain": [
       "1281.3359267030764"
      ]
     },
     "execution_count": 29,
     "metadata": {},
     "output_type": "execute_result"
    }
   ],
   "source": [
    "cf.tvmm(pval  =   0,        # monto\n",
    "        nrate =   6.25/12,  # tasa de interés\n",
    "        pmt   = -50.0,      # pago mensual\n",
    "        due   =   1,        # pago al principio del periodo\n",
    "        nper  =  24)        # numero de periodos"
   ]
  },
  {
   "cell_type": "markdown",
   "metadata": {},
   "source": [
    "**Ejemplo.--** [2, 62] Se compra una propiedad por \\$ 32000. Si se presenta una depreciación del 2% por año, cuál será el valor de la propiedad al final de 6 años? R/ \\$ 28346.96"
   ]
  },
  {
   "cell_type": "code",
   "execution_count": 30,
   "metadata": {
    "collapsed": false
   },
   "outputs": [
    {
     "data": {
      "text/plain": [
       "28346.956187077209"
      ]
     },
     "execution_count": 30,
     "metadata": {},
     "output_type": "execute_result"
    }
   ],
   "source": [
    "cf.pvfv(pval  = -32000,\n",
    "        nrate =     -2.0,   \n",
    "        nper  =      6)"
   ]
  },
  {
   "cell_type": "markdown",
   "metadata": {},
   "source": [
    "**Ejemplo.--** [3, pág. 81] Se está financiando la compra de un carro nuevo con un leasing a tres años a una tasa de interés del 10.5%/12. El precio del carro es de \\$ 7250. Se debe realizar un pago inicial de \\$ 1500. Cuánto es el pago mensual si los pagos se hacen al final del mes? "
   ]
  },
  {
   "cell_type": "code",
   "execution_count": 31,
   "metadata": {
    "collapsed": false
   },
   "outputs": [
    {
     "data": {
      "text/plain": [
       "-186.88905015194925"
      ]
     },
     "execution_count": 31,
     "metadata": {},
     "output_type": "execute_result"
    }
   ],
   "source": [
    "cf.pvpmt(pval  = 7250-1500,\n",
    "         nrate =   10.5/12,   \n",
    "         nper  =   36)"
   ]
  },
  {
   "cell_type": "code",
   "execution_count": 32,
   "metadata": {
    "collapsed": false
   },
   "outputs": [
    {
     "data": {
      "text/plain": [
       "0.56260172700844047"
      ]
     },
     "execution_count": 32,
     "metadata": {},
     "output_type": "execute_result"
    }
   ],
   "source": [
    "# si se desea reducir el pago periodico en $ 10, cual tasa de interés debería obtenerse.\n",
    "cf.pvpmt(pval = 7250-1500,\n",
    "         pmt  = -176.89,   \n",
    "         nper =   36)"
   ]
  },
  {
   "cell_type": "markdown",
   "metadata": {},
   "source": [
    "**Ejemplo.--** [3, pág. 82] El pago máximo mensual por una hipoteca a 30 años es de \\$ 630. Si usted puede realizar un pago inicial de \\$ 12.000 y la tasa es de 11.5%/12, cuál es el precio máximo de la propiedad?"
   ]
  },
  {
   "cell_type": "code",
   "execution_count": 33,
   "metadata": {
    "collapsed": false
   },
   "outputs": [
    {
     "data": {
      "text/plain": [
       "75617.636073352623"
      ]
     },
     "execution_count": 33,
     "metadata": {},
     "output_type": "execute_result"
    }
   ],
   "source": [
    "cf.pvpmt(pmt   =  -630,   \n",
    "         nrate =    11.5/12,\n",
    "         nper  = 30*12) + 12000"
   ]
  },
  {
   "cell_type": "markdown",
   "metadata": {},
   "source": [
    "**Ejemplo.--** [3, pág. 83] Se constituye una hipoteca a 25 años por un monto de \\$ 75250 y una tasa de interés mensual de 13.8%/12. (a) cuál es el pago mensual; (b) Si se anticipa la venta de la propiedad al final de 4 años, cuánto debe pagarse para cancelar la deuda?   "
   ]
  },
  {
   "cell_type": "code",
   "execution_count": 34,
   "metadata": {
    "collapsed": false
   },
   "outputs": [
    {
     "data": {
      "text/plain": [
       "-894.33055797115355"
      ]
     },
     "execution_count": 34,
     "metadata": {},
     "output_type": "execute_result"
    }
   ],
   "source": [
    "# (a) R/ $ 894.33\n",
    "cf.pvpmt(pval = 75250,   \n",
    "         nrate =   13.8/12,\n",
    "         nper = 25*12) "
   ]
  },
  {
   "cell_type": "code",
   "execution_count": 35,
   "metadata": {
    "collapsed": false
   },
   "outputs": [
    {
     "data": {
      "text/plain": [
       "-73408.811623403832"
      ]
     },
     "execution_count": 35,
     "metadata": {},
     "output_type": "execute_result"
    }
   ],
   "source": [
    "# (b) R/ $ -73408.81\n",
    "cf.tvmm(pval  = 75250, \n",
    "        pmt   =  -894.33,\n",
    "        nrate =    13.8/12,\n",
    "        nper  =  4*12) "
   ]
  },
  {
   "cell_type": "markdown",
   "metadata": {},
   "source": [
    "**Ejemplo (ahorro programado).--** Se abre una cuenta ahorros con un depósito inicial de \\$ 2000, y posteriormente se hacen depósitos quincenales de \\$ 80 durante 15 años. La cuenta paga un interés del 0.346% quincenal. Cuánto dinero habrá en la cuenta después del último depósito? R/ 63988.44 "
   ]
  },
  {
   "cell_type": "code",
   "execution_count": 36,
   "metadata": {
    "collapsed": false
   },
   "outputs": [
    {
     "data": {
      "text/plain": [
       "63988.433987522512"
      ]
     },
     "execution_count": 36,
     "metadata": {},
     "output_type": "execute_result"
    }
   ],
   "source": [
    "cf.tvmm(pval  =   -2000,\n",
    "        pmt   =     -80,\n",
    "        nper  = 15*12*2,\n",
    "        nrate =       0.346)"
   ]
  },
  {
   "cell_type": "markdown",
   "metadata": {},
   "source": [
    "**Ejemplo (leasing).--** Se hace un leasing por 3 años para un carro nuevo que vale hoy \\$ 13500, con la opción de comprar el carro por \\$ 7500 al final del leasing. Cuánto es el pago mensual si el interés es del 1.16% mensual? (tenga en cuenta que en el leasing se paga la cuota al principio del periodo) R/ $ 288.49"
   ]
  },
  {
   "cell_type": "code",
   "execution_count": 37,
   "metadata": {
    "collapsed": false
   },
   "outputs": [
    {
     "data": {
      "text/plain": [
       "-288.4862833217752"
      ]
     },
     "execution_count": 37,
     "metadata": {},
     "output_type": "execute_result"
    }
   ],
   "source": [
    "cf.tvmm(pval  =   13500,\n",
    "        fval  =   -7500,\n",
    "        nper  =      36,\n",
    "        due   =       1,\n",
    "        nrate =       1.16)"
   ]
  },
  {
   "cell_type": "markdown",
   "metadata": {},
   "source": [
    "**Ejemplo (préstamo).--** Se va a comprar un equipo con un préstamo por \\$ 35000 con pagos mensuales de \\$ 325 mensuales. Si la tasa de interés es del 0.88% mensual, cuántos periodos se requieren para realizar el pago de la deuda?"
   ]
  },
  {
   "cell_type": "code",
   "execution_count": 38,
   "metadata": {
    "collapsed": false
   },
   "outputs": [
    {
     "data": {
      "text/plain": [
       "336.76995140884333"
      ]
     },
     "execution_count": 38,
     "metadata": {},
     "output_type": "execute_result"
    }
   ],
   "source": [
    "x = cf.pvpmt(pval  = 35000,\n",
    "             nrate =     0.88,\n",
    "             pmt   =  -325)\n",
    "x # R/ 336.77"
   ]
  },
  {
   "cell_type": "code",
   "execution_count": 39,
   "metadata": {
    "collapsed": false
   },
   "outputs": [
    {
     "data": {
      "text/plain": [
       "74.513808694551699"
      ]
     },
     "execution_count": 39,
     "metadata": {},
     "output_type": "execute_result"
    }
   ],
   "source": [
    "# OPCION 1: se hace nper = 337 para calcular cuanto se paga \n",
    "# como excedente en la última cuota. R/ $ 74.51\n",
    "cf.tvmm(pval = 35000,\n",
    "        pmt   = -325,\n",
    "        nrate =    0.88,\n",
    "        nper  =  337)\n"
   ]
  },
  {
   "cell_type": "code",
   "execution_count": 40,
   "metadata": {
    "collapsed": false
   },
   "outputs": [
    {
     "data": {
      "text/plain": [
       "250.4861913054483"
      ]
     },
     "execution_count": 40,
     "metadata": {},
     "output_type": "execute_result"
    }
   ],
   "source": [
    "325 - _  # Pago final, restando el excedente.  R/ \\$ 250.49"
   ]
  },
  {
   "cell_type": "code",
   "execution_count": 41,
   "metadata": {
    "collapsed": false
   },
   "outputs": [
    {
     "data": {
      "text/plain": [
       "-248.30114126228727"
      ]
     },
     "execution_count": 41,
     "metadata": {},
     "output_type": "execute_result"
    }
   ],
   "source": [
    "# OPCION 2: Se hace un pago adicional con la \n",
    "# cuota 336 para cancelar el préstamo\n",
    "cf.tvmm(pval = 35000,\n",
    "        pmt   = -325,\n",
    "        nrate =    0.88,\n",
    "        nper  =  336)"
   ]
  },
  {
   "cell_type": "code",
   "execution_count": 42,
   "metadata": {
    "collapsed": false
   },
   "outputs": [
    {
     "data": {
      "text/plain": [
       "-573.30114126228727"
      ]
     },
     "execution_count": 42,
     "metadata": {},
     "output_type": "execute_result"
    }
   ],
   "source": [
    "-325 + _ # pago final: cuota actual + saldo por cancelar"
   ]
  },
  {
   "cell_type": "markdown",
   "metadata": {},
   "source": [
    "**Ejemplo (cálculo de la tasa de interés).--** Si hoy se ahorran \\$ 6000 y sin hacer más depósitos se tienen \\$ 10000 al cabo de 8 años, ¿cuál es la tasa de interés, si los intereses son liquidados trimestralmente? R/ 1.61%"
   ]
  },
  {
   "cell_type": "code",
   "execution_count": 43,
   "metadata": {
    "collapsed": false
   },
   "outputs": [
    {
     "data": {
      "text/plain": [
       "1.6091394935432066"
      ]
     },
     "execution_count": 43,
     "metadata": {},
     "output_type": "execute_result"
    }
   ],
   "source": [
    "cf.pvfv(pval =   -6000,\n",
    "        fval =  +10000,\n",
    "        nper =     4*8)"
   ]
  },
  {
   "cell_type": "markdown",
   "metadata": {},
   "source": [
    "**Ejemplo (inversión).--** Se comprarán unas bodegas para arrendamiento. Si el arriendo es de \\$ 17500 anual, y las bodegas se venden al final del año 5 por \\$ 540000. Cuál es el monto máximo que puede pagarse por las bodegas si la tasa es del 12% anual?  R/ \\$ 369494.09"
   ]
  },
  {
   "cell_type": "code",
   "execution_count": 44,
   "metadata": {
    "collapsed": false
   },
   "outputs": [
    {
     "data": {
      "text/plain": [
       "-369494.08562908118"
      ]
     },
     "execution_count": 44,
     "metadata": {},
     "output_type": "execute_result"
    }
   ],
   "source": [
    "cf.tvmm(fval  = 540000,\n",
    "        pmt   =  17500,\n",
    "        nrate =     12.0,   \n",
    "        nper  =      5)"
   ]
  },
  {
   "cell_type": "markdown",
   "metadata": {},
   "source": [
    "**Ejemplo (ahorro programado).--** Si al principio de cada mes se ahorran \\$ 100 a una tasa del 2% durante 24 meses, ¿cuánto dinero se tendrá al final del mes 24?."
   ]
  },
  {
   "cell_type": "code",
   "execution_count": 45,
   "metadata": {
    "collapsed": false
   },
   "outputs": [
    {
     "data": {
      "text/plain": [
       "3103.0299723236531"
      ]
     },
     "execution_count": 45,
     "metadata": {},
     "output_type": "execute_result"
    }
   ],
   "source": [
    "cf.tvmm(nrate =    2.0,\n",
    "        pval  =    0,\n",
    "        nper  =   24,\n",
    "        pmt   = -100,\n",
    "        due   =    1)"
   ]
  },
  {
   "cell_type": "markdown",
   "metadata": {},
   "source": [
    "**Ejemplo (préstamo).--** Se desea determinar el valor de las cuotas mensuales iguales que se deberán pagar por un préstamo de \\$ 16700 financiado a 5 años al 2% mensual"
   ]
  },
  {
   "cell_type": "code",
   "execution_count": 46,
   "metadata": {
    "collapsed": false
   },
   "outputs": [
    {
     "data": {
      "text/plain": [
       "-480.42502929096554"
      ]
     },
     "execution_count": 46,
     "metadata": {},
     "output_type": "execute_result"
    }
   ],
   "source": [
    "cf.pvpmt(nrate =      2.0,\n",
    "         pval  =  16700,\n",
    "         nper  =   5*12)"
   ]
  },
  {
   "cell_type": "markdown",
   "metadata": {},
   "source": [
    "**Ejemplo (préstamo con pago final adicional).--** Se realiza una hipoteca por \\$ 243400 a 5 años y con una tasa de interes de 0.12% con pagos mensuales de \\$ 4000 y un pago adicional en el último mes. ¿cuál es el valor de dicho pago adicional?"
   ]
  },
  {
   "cell_type": "code",
   "execution_count": 47,
   "metadata": {
    "collapsed": false,
    "scrolled": true
   },
   "outputs": [
    {
     "data": {
      "text/plain": [
       "-12863.296612548758"
      ]
     },
     "execution_count": 47,
     "metadata": {},
     "output_type": "execute_result"
    }
   ],
   "source": [
    "cf.tvmm(nrate =       0.12,\n",
    "        pval  =  243400,\n",
    "        nper  =    5*12,\n",
    "        pmt   =   -4000)"
   ]
  },
  {
   "cell_type": "markdown",
   "metadata": {},
   "source": [
    "**Ejemplo.--** Cuál será el valor futuro de \\$100, \\$ 200, \\$ 300 y \\$ 400 en 5 años a una tasa de interés de 3% anual? "
   ]
  },
  {
   "cell_type": "code",
   "execution_count": 48,
   "metadata": {
    "collapsed": false,
    "scrolled": false
   },
   "outputs": [
    {
     "data": {
      "text/plain": [
       "[-115.92740796091358,\n",
       " -231.8548153909136,\n",
       " -347.78222282091355,\n",
       " -463.70963025091356]"
      ]
     },
     "execution_count": 48,
     "metadata": {},
     "output_type": "execute_result"
    }
   ],
   "source": [
    "cf.pvfv(pval  =  [100, 200, 300, 400], # una de las variables puede ser un vector\n",
    "        nper  =  5,\n",
    "        nrate =  3.0)"
   ]
  },
  {
   "cell_type": "markdown",
   "metadata": {},
   "source": [
    "**Ejemplo.--** Cuál será el valor futuro de \\$100 en 1, 2, 3 y 4 años a una tasa de interés de 3% anual? "
   ]
  },
  {
   "cell_type": "code",
   "execution_count": 49,
   "metadata": {
    "collapsed": false
   },
   "outputs": [
    {
     "data": {
      "text/plain": [
       "[-103.0000001, -106.09000020299999, -109.27270030909, -112.55088141836272]"
      ]
     },
     "execution_count": 49,
     "metadata": {},
     "output_type": "execute_result"
    }
   ],
   "source": [
    "cf.pvfv(pval  =  100, # una de las variables puede ser un vector\n",
    "        nper  =    [1, 2, 3, 4],\n",
    "        nrate =    3.0)"
   ]
  },
  {
   "cell_type": "markdown",
   "metadata": {},
   "source": [
    "**Ejemplo.--** Cuál será el valor futuro de \\$100 si se invierte a un año al 1%, a 2 años al 1.5% y a 3 años al 1.7%, con una capitalización anual? "
   ]
  },
  {
   "cell_type": "code",
   "execution_count": 50,
   "metadata": {
    "collapsed": false
   },
   "outputs": [
    {
     "data": {
      "text/plain": [
       "[-101.0000001, -103.02250020149998, -105.18719160512887]"
      ]
     },
     "execution_count": 50,
     "metadata": {},
     "output_type": "execute_result"
    }
   ],
   "source": [
    "cf.tvmm(pval  =  100,               # si varias variables son listas\n",
    "        pmt   =    0,               # todas ellas deben tener la misma\n",
    "        nper  =    [1,   2,   3],   # longitud\n",
    "        nrate =    [1.0, 1.5, 1.7]) # "
   ]
  },
  {
   "cell_type": "markdown",
   "metadata": {},
   "source": [
    "**Ejemplo.--** Cuál es la amortización para los siguientes préstamos? (`fv` es el pago final residual (como en el leasing)\n",
    "```\n",
    "      plazo    5,        5,       6,       7\n",
    "      pv     100,      110,     110,     105\n",
    "      fv     -20,      -10,     -20,       0\n",
    "      tasa     0.020,    0.017,   0.016,   0.017\n",
    "      \n",
    "```"
   ]
  },
  {
   "cell_type": "code",
   "execution_count": 51,
   "metadata": {
    "collapsed": false
   },
   "outputs": [
    {
     "data": {
      "text/plain": [
       "[-17.372671528345773,\n",
       " -21.201461428344242,\n",
       " -16.1711096183316,\n",
       " -16.037190189122793]"
      ]
     },
     "execution_count": 51,
     "metadata": {},
     "output_type": "execute_result"
    }
   ],
   "source": [
    "cf.tvmm(pval  = [ 100,   110,   110,   105   ],\n",
    "        fval  = [ -20,   -10,   -20,     0   ],         \n",
    "        nper  = [   5,     5,     6,     7   ], \n",
    "        nrate = [   2.0,   1.7,   1.6,   1.7 ])"
   ]
  },
  {
   "cell_type": "markdown",
   "metadata": {},
   "source": [
    "**Ejemplo (tablas de amortización - Parte 1).--** Construya la tabla de amortización (balance) para un préstamo de  \\$ 1000 a 6 meses con pagos mensuales iguales a una tasa de interés del 1% mensual. "
   ]
  },
  {
   "cell_type": "code",
   "execution_count": 52,
   "metadata": {
    "collapsed": false
   },
   "outputs": [],
   "source": [
    "# principal, interest, payment, balance\n",
    "ppal, interest, payment, balance = cf.amortize(pval=1000, fval=0, pmt=None, nrate=1.0, nper=6, due=0)"
   ]
  },
  {
   "cell_type": "code",
   "execution_count": 53,
   "metadata": {
    "collapsed": false,
    "scrolled": false
   },
   "outputs": [
    {
     "data": {
      "text/plain": [
       "[0,\n",
       " -162.54836671088106,\n",
       " -164.17385037798988,\n",
       " -165.81558888176977,\n",
       " -167.47374477058747,\n",
       " -169.14848221829334,\n",
       " -170.83996704047627]"
      ]
     },
     "execution_count": 53,
     "metadata": {},
     "output_type": "execute_result"
    }
   ],
   "source": [
    "ppal"
   ]
  },
  {
   "cell_type": "code",
   "execution_count": 54,
   "metadata": {
    "collapsed": false
   },
   "outputs": [
    {
     "data": {
      "text/plain": [
       "-999.99999999999773"
      ]
     },
     "execution_count": 54,
     "metadata": {},
     "output_type": "execute_result"
    }
   ],
   "source": [
    "sum(ppal)"
   ]
  },
  {
   "cell_type": "code",
   "execution_count": 55,
   "metadata": {
    "collapsed": false
   },
   "outputs": [
    {
     "data": {
      "text/plain": [
       "[0,\n",
       " 10.0,\n",
       " 8.37451633289119,\n",
       " 6.7327778291112912,\n",
       " 5.0746219402935928,\n",
       " 3.3998844925877183,\n",
       " 1.7083996704047848]"
      ]
     },
     "execution_count": 55,
     "metadata": {},
     "output_type": "execute_result"
    }
   ],
   "source": [
    "interest"
   ]
  },
  {
   "cell_type": "code",
   "execution_count": 56,
   "metadata": {
    "collapsed": false
   },
   "outputs": [
    {
     "data": {
      "text/plain": [
       "35.290200265288583"
      ]
     },
     "execution_count": 56,
     "metadata": {},
     "output_type": "execute_result"
    }
   ],
   "source": [
    "sum(interest)"
   ]
  },
  {
   "cell_type": "code",
   "execution_count": 57,
   "metadata": {
    "collapsed": false
   },
   "outputs": [
    {
     "data": {
      "text/plain": [
       "[0,\n",
       " -172.54836671088106,\n",
       " -172.54836671088106,\n",
       " -172.54836671088106,\n",
       " -172.54836671088106,\n",
       " -172.54836671088106,\n",
       " -172.54836671088106]"
      ]
     },
     "execution_count": 57,
     "metadata": {},
     "output_type": "execute_result"
    }
   ],
   "source": [
    "payment"
   ]
  },
  {
   "cell_type": "code",
   "execution_count": 58,
   "metadata": {
    "collapsed": false
   },
   "outputs": [
    {
     "data": {
      "text/plain": [
       "-1035.2902002652863"
      ]
     },
     "execution_count": 58,
     "metadata": {},
     "output_type": "execute_result"
    }
   ],
   "source": [
    "sum(payment)"
   ]
  },
  {
   "cell_type": "markdown",
   "metadata": {},
   "source": [
    "---"
   ]
  },
  {
   "cell_type": "markdown",
   "metadata": {},
   "source": [
    "# Ejercicios"
   ]
  },
  {
   "cell_type": "markdown",
   "metadata": {},
   "source": [
    "**Ejercicio.--** Si un banco promete una tasa anual del 8% ¿Cuál será el valor que se obtendrá al final de 3 años de una inversion de \\$ 4500? (R/ \\$ 5668.70)"
   ]
  },
  {
   "cell_type": "code",
   "execution_count": null,
   "metadata": {
    "collapsed": false
   },
   "outputs": [],
   "source": []
  },
  {
   "cell_type": "markdown",
   "metadata": {},
   "source": [
    "**Ejercicio.--** ¿Cuál es el valor presente de un pago único de \\$ 1500 recibido dentro de 2 años si la tasa de interés es de 2.7% mensual? (R/ \\$ -791.41)"
   ]
  },
  {
   "cell_type": "code",
   "execution_count": null,
   "metadata": {
    "collapsed": false
   },
   "outputs": [],
   "source": []
  },
  {
   "cell_type": "markdown",
   "metadata": {},
   "source": [
    "**Ejercicio.--** ¿Cuál es el valor futuro de \\$ 609 dentro de 2 años a una tasa de interes mensual de 2%? (R/ $ 979.54) "
   ]
  },
  {
   "cell_type": "code",
   "execution_count": null,
   "metadata": {
    "collapsed": true
   },
   "outputs": [],
   "source": []
  },
  {
   "cell_type": "markdown",
   "metadata": {},
   "source": [
    "**Ejercicio.--** ¿Cuál es el valor presente de un pago único de \\$ 890 recibido dentro de 6 años a una tasa de interés  trimestral de 2.7%? (R/ \\$ 469.57)   "
   ]
  },
  {
   "cell_type": "code",
   "execution_count": null,
   "metadata": {
    "collapsed": false
   },
   "outputs": [],
   "source": []
  },
  {
   "cell_type": "markdown",
   "metadata": {},
   "source": [
    "**Ejercicio.--** ¿Qué cantidad de dinero se poseerá después de prestar \\$ 2300 al 25% de interés compuesto anual durante 3 años?"
   ]
  },
  {
   "cell_type": "code",
   "execution_count": null,
   "metadata": {
    "collapsed": false,
    "scrolled": true
   },
   "outputs": [],
   "source": []
  },
  {
   "cell_type": "markdown",
   "metadata": {
    "collapsed": true
   },
   "source": [
    "**Ejercicio.--** ¿Qué cantidad de dinero se poseerá después de prestar \\$ 10000 al 30% de interés anual durante 2 años? (R/ \\$ 16900)"
   ]
  },
  {
   "cell_type": "code",
   "execution_count": null,
   "metadata": {
    "collapsed": false
   },
   "outputs": [],
   "source": []
  },
  {
   "cell_type": "markdown",
   "metadata": {},
   "source": [
    "**Ejercicio.--** ¿cuánto dinero se deberá abonar mensualmente (al principio del mes) si se desea reunir \\$ 28700 al final de 5 años y los ahorros rentan el 4% mensuales? (R/ \\$ 120.59)"
   ]
  },
  {
   "cell_type": "code",
   "execution_count": null,
   "metadata": {
    "collapsed": false
   },
   "outputs": [],
   "source": []
  },
  {
   "cell_type": "markdown",
   "metadata": {},
   "source": [
    "**Ejercicio.--**  Se decide ahorrar mensualmente \\$ 900 los cuales depositará al principio de cada mes en una entidad\n",
    "financiera que paga un interés del 2.5% mensual. ¿Cuánto habrá acumulado al cabo de 2 años? (R/ \\$ 29114.13)  "
   ]
  },
  {
   "cell_type": "code",
   "execution_count": null,
   "metadata": {
    "collapsed": false
   },
   "outputs": [],
   "source": []
  },
  {
   "cell_type": "markdown",
   "metadata": {},
   "source": [
    "**Ejercicio.--** Suponga que usted quiere asegurarse de que puede financiar la educación universitaria de su hija dentro de 14 años a partir de hoy. Su hija retirará \\$ 500 al inicio de cada mes de una cuenta de ahorros durante 4 años. ¿Cuánto se tiene que depositar hoy en la cuenta si el interés es del 1% mensual?"
   ]
  },
  {
   "cell_type": "code",
   "execution_count": null,
   "metadata": {
    "collapsed": true
   },
   "outputs": [],
   "source": []
  },
  {
   "cell_type": "markdown",
   "metadata": {},
   "source": [
    "**Ejercicio.--** Calcule la cantidad de pago en 29 años de una hipoteca de \\$ 243400 con un interés anual de 5.25%."
   ]
  },
  {
   "cell_type": "code",
   "execution_count": null,
   "metadata": {
    "collapsed": true
   },
   "outputs": [],
   "source": []
  },
  {
   "cell_type": "markdown",
   "metadata": {},
   "source": [
    "**Ejercicio.--** Mirando hacia la jubilación, usted desea acumular \\$ 60000 después de 15 años haciendo depósitos en una cuenta que paga 5.3% de interés semestral. Usted abre la cuenta con un depósito de \\$ 3200 con la intención de hacer depósitos semestrales, comenzando seis meses más tarde a partir de sus ingresos. Calcular la cantidad de dinero que se deberá depositar semestralmente (no se consigna al final del último semestre). "
   ]
  },
  {
   "cell_type": "code",
   "execution_count": null,
   "metadata": {
    "collapsed": true
   },
   "outputs": [],
   "source": []
  },
  {
   "cell_type": "markdown",
   "metadata": {},
   "source": [
    "**Ejercicio.--** Se va a realizar un préstamo de \\$ 35000 a un interés de 0.91% (mensual) y con pagos mensuales de \\$ 325 al final de cada mes. ¿Cuántos meses se requieren para pagar el préstamo?.  "
   ]
  },
  {
   "cell_type": "code",
   "execution_count": null,
   "metadata": {
    "collapsed": false
   },
   "outputs": [],
   "source": []
  },
  {
   "cell_type": "markdown",
   "metadata": {
    "collapsed": true
   },
   "source": [
    "---"
   ]
  },
  {
   "cell_type": "markdown",
   "metadata": {},
   "source": [
    "[Contenido](#Contenido)"
   ]
  }
 ],
 "metadata": {
  "anaconda-cloud": {},
  "kernelspec": {
   "display_name": "Python [default]",
   "language": "python",
   "name": "python3"
  },
  "language_info": {
   "codemirror_mode": {
    "name": "ipython",
    "version": 3
   },
   "file_extension": ".py",
   "mimetype": "text/x-python",
   "name": "python",
   "nbconvert_exporter": "python",
   "pygments_lexer": "ipython3",
   "version": "3.5.2"
  }
 },
 "nbformat": 4,
 "nbformat_minor": 0
}
