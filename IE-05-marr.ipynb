{
 "cells": [
  {
   "cell_type": "markdown",
   "metadata": {},
   "source": [
    "Tasa atractiva mínima (MARR)\n",
    "==="
   ]
  },
  {
   "cell_type": "markdown",
   "metadata": {},
   "source": [
    "Notas de clase sobre ingeniería economica avanzada usando Python\n",
    "\n",
    "**Juan David Velásquez Henao**  \n",
    "jdvelasq@unal.edu.co   \n",
    "Universidad Nacional de Colombia, Sede Medellín  \n",
    "Facultad de Minas  \n",
    "Medellín, Colombia  "
   ]
  },
  {
   "cell_type": "markdown",
   "metadata": {},
   "source": [
    "**Software utilizado**\n",
    ">Este es un documento interactivo escrito como un notebook de [Jupyter](http://jupyter.org/) , en el cual se presenta un tutorial sobre finanzas corporativas usando Python. Los notebooks de Jupyter permiten incoporar simultáneamente código, texto, gráficos y ecuaciones. El código presentado en este notebook puede ejecutarse en los sistemas operativos Linux y OS X.  \n",
    "\n",
    ">Haga click [aquí](https://github.com/jdvelasq/guias-de-instalacion) para obtener instrucciones detalladas sobre como instalar Jupyter en Windows y Mac OS X.\n",
    "\n",
    ">Descargue la última versión de este documento a su disco duro; luego, carguelo y ejecutelo en línea en Try [Jupyter!](https://try.jupyter.org/)\n",
    "\n"
   ]
  },
  {
   "cell_type": "markdown",
   "metadata": {},
   "source": [
    "#### Contenido"
   ]
  },
  {
   "cell_type": "markdown",
   "metadata": {},
   "source": [
    ">"
   ]
  },
  {
   "cell_type": "markdown",
   "metadata": {},
   "source": [
    "**Bibliografía**"
   ]
  },
  {
   "cell_type": "markdown",
   "metadata": {},
   "source": [
    "> * [1] SAS/ETS 14.1 User's Guide, 2015.   \n",
    "* [2] **hp** 12c platinum financial calculator. User's guide. \n",
    "* [3] HP Business Consultant II Owner's manual.\n",
    "* [4] C.S. Park and G.P. Sharp-Bette. Advanced Engineering Economics. John Wiley & Sons, Inc., 1990."
   ]
  },
  {
   "cell_type": "markdown",
   "metadata": {},
   "source": [
    "# Problema del costo de capital"
   ]
  },
  {
   "cell_type": "markdown",
   "metadata": {},
   "source": [
    "* A medida que se invierte más capital los rendimientos obtenidos son menores (es más dificil acceder a inversiones con rentabilidades altas)."
   ]
  },
  {
   "cell_type": "markdown",
   "metadata": {},
   "source": [
    "* A medida que se presta más capital los interses son más altos (es más dificil acceder a créditos baratos)"
   ]
  },
  {
   "cell_type": "markdown",
   "metadata": {},
   "source": [
    "* Si se tiene un proyecto cuyos fondos provienen del aporte de los socios y de diferentes esquemas de financiación, ¿cómo se calculá el costo de dichos fondos?."
   ]
  },
  {
   "cell_type": "markdown",
   "metadata": {},
   "source": [
    "<img src=\"images/wacc-explain.png\" width=850>"
   ]
  },
  {
   "cell_type": "markdown",
   "metadata": {},
   "source": [
    "# Caso práctico"
   ]
  },
  {
   "cell_type": "markdown",
   "metadata": {},
   "source": [
    "Una compañía tiene las siguientes fuentes de financiamiento:"
   ]
  },
  {
   "cell_type": "markdown",
   "metadata": {},
   "source": [
    "* Un total de \\$ 4000 por la emisión de 4.000 acciones. Se espera un dividendo de \\$ 0.25 por acción para los próximos años."
   ]
  },
  {
   "cell_type": "markdown",
   "metadata": {},
   "source": [
    "* Un préstamo bancario (Préstamo 1) de \\$ 2.000. El préstamo se paga en 4 cuotas iguales a capital más intereses sobre el saldo total de deuda liquidados a una tasa efectiva de interés del 20%. En el momento del desembolso se cobró una comisión bancaria de \\$ 50."
   ]
  },
  {
   "cell_type": "markdown",
   "metadata": {},
   "source": [
    "* Un préstamo bancario (Préstamo 2) de \\$ 1.000 con descuento de 24 puntos. El préstamo se paga en 4 cuotas totales iguales que incluyen intereses más capital. La tasa de interés es del 20%."
   ]
  },
  {
   "cell_type": "markdown",
   "metadata": {},
   "source": [
    "* La venta de un bono con pago principal de \\$ 5.000, el cual fue vendido por \\$ 4.000. El capital se dedimirá en 4 periodos y se pagarán intereses a una tasa del 7%. El bono tiene un costo de venta de \\$ 50."
   ]
  },
  {
   "cell_type": "markdown",
   "metadata": {},
   "source": [
    "El impuesto de renta es del 30%."
   ]
  },
  {
   "cell_type": "markdown",
   "metadata": {},
   "source": [
    "**Solución**"
   ]
  },
  {
   "cell_type": "code",
   "execution_count": 1,
   "metadata": {
    "collapsed": false
   },
   "outputs": [],
   "source": [
    "import cashflow as cf"
   ]
  },
  {
   "cell_type": "code",
   "execution_count": 2,
   "metadata": {
    "collapsed": true
   },
   "outputs": [],
   "source": [
    "##\n",
    "## Se tienen cuatro fuentes de capital con diferentes costos\n",
    "## sus datos se almacenarar en las siguientes listas:\n",
    "##\n",
    "monto   = [0] * 4\n",
    "interes = [0] * 4"
   ]
  },
  {
   "cell_type": "code",
   "execution_count": 3,
   "metadata": {
    "collapsed": false
   },
   "outputs": [],
   "source": [
    "## emision de acciones\n",
    "## --------------------------------------\n",
    "monto[0]   = 4000\n",
    "interes[0] = 0.25 / 1.0  # tasa de descueto de la accion"
   ]
  },
  {
   "cell_type": "code",
   "execution_count": 4,
   "metadata": {
    "collapsed": false
   },
   "outputs": [
    {
     "data": {
      "text/plain": [
       "\n",
       "   t          Beginning         Total      Interest     Principal        Ending\n",
       "              Principal       Payment       Payment       Payment     Principal\n",
       "--------------------------------------------------------------------------------\n",
       "   0            2000.00         50.00          0.00          0.00       2000.00\n",
       "   1            2000.00        900.00        400.00        500.00       1500.00\n",
       "   2            1500.00        800.00        300.00        500.00       1000.00\n",
       "   3            1000.00        700.00        200.00        500.00        500.00\n",
       "   4             500.00        600.00        100.00        500.00          0.00"
      ]
     },
     "execution_count": 4,
     "metadata": {},
     "output_type": "execute_result"
    }
   ],
   "source": [
    "## préstamo 1.\n",
    "## -------------------------------------------------------\n",
    "## \n",
    "credito1 = cf.fixedLoan(amount     = 2000,     # monto\n",
    "                        rate       =    0.20,  # tasa de interés\n",
    "                        life       =    4,     # número de cuotas\n",
    "                        orgpoints  = 50/2000)  # costos de originación\n",
    "credito1           "
   ]
  },
  {
   "cell_type": "markdown",
   "metadata": {},
   "source": [
    "En la modelación de créditos con **`cashflow`** se consideran dos tipos de costos:"
   ]
  },
  {
   "cell_type": "markdown",
   "metadata": {},
   "source": [
    "* Los puntos de descuento (dispoints) como porcentaje sobre el monto de la deuda. Estos son una forma de pago de intereses por anticipado con el fin de bajar la tasa de interés del crédito. "
   ]
  },
  {
   "cell_type": "markdown",
   "metadata": {},
   "source": [
    "* Los puntos de originación (orgpoints) como porcentaje del monto de deuda. Son los costos de constitución del crédito y no son considerados como intereses."
   ]
  },
  {
   "cell_type": "markdown",
   "metadata": {},
   "source": [
    "Ya que los intereses de los créditos pueden descontarse como costos financieros, estos disminuyen el pago del impuesto de renta. Por consiguiente, en el análisis de los créditos debe tenerse en cuenta el beneficio por pago de intereses el cual equivale a los impuestos pagados por periodo multiplicados por la tasa del impuesto de renta. Ya que los puntos de descuento son intereses, estos se tienen en cuenta en el cálculo de este beneficio."
   ]
  },
  {
   "cell_type": "code",
   "execution_count": 5,
   "metadata": {
    "collapsed": false
   },
   "outputs": [
    {
     "data": {
      "text/plain": [
       "  time                Values\n",
       "-----------------------------\n",
       "  0                  1950.00\n",
       "  1                  -900.00\n",
       "  2                  -800.00\n",
       "  3                  -700.00\n",
       "  4                  -600.00"
      ]
     },
     "execution_count": 5,
     "metadata": {},
     "output_type": "execute_result"
    }
   ],
   "source": [
    "## flujo de caja para el crédito antes de impuestos\n",
    "credito1.toCashflow(taxRate = 0.00)"
   ]
  },
  {
   "cell_type": "code",
   "execution_count": 6,
   "metadata": {
    "collapsed": false
   },
   "outputs": [
    {
     "data": {
      "text/plain": [
       "  time                Values\n",
       "-----------------------------\n",
       "  0                  1950.00\n",
       "  1                  -780.00\n",
       "  2                  -710.00\n",
       "  3                  -640.00\n",
       "  4                  -570.00"
      ]
     },
     "execution_count": 6,
     "metadata": {},
     "output_type": "execute_result"
    }
   ],
   "source": [
    "## flujo de caja para el crédito antes de impuestos\n",
    "## note que no hay cambio para el valor con t=0\n",
    "credito1.toCashflow(taxRate = 0.30)"
   ]
  },
  {
   "cell_type": "code",
   "execution_count": 7,
   "metadata": {
    "collapsed": false
   },
   "outputs": [
    {
     "data": {
      "text/plain": [
       "0.15316757055069052"
      ]
     },
     "execution_count": 7,
     "metadata": {},
     "output_type": "execute_result"
    }
   ],
   "source": [
    "## la tasa efectiva pagada por el crédito es \n",
    "## aquella que hace el valor presente cero para\n",
    "## el flujo de caja anterior (antes o después de \n",
    "## impuestos)\n",
    "credito1.trueRate(taxRate = 0.30)"
   ]
  },
  {
   "cell_type": "code",
   "execution_count": 8,
   "metadata": {
    "collapsed": true
   },
   "outputs": [],
   "source": [
    "## se almacenna los datos para este credito\n",
    "monto[1]   = 2000\n",
    "interes[1] = credito1.trueRate(taxRate = 0.30)"
   ]
  },
  {
   "cell_type": "code",
   "execution_count": 9,
   "metadata": {
    "collapsed": false
   },
   "outputs": [
    {
     "data": {
      "text/plain": [
       "\n",
       "   t          Beginning         Total      Interest     Principal        Ending\n",
       "              Principal       Payment       Payment       Payment     Principal\n",
       "--------------------------------------------------------------------------------\n",
       "   0            1000.00        240.00        240.00          0.00       1000.00\n",
       "   1            1000.00        386.29        200.00        186.29        813.71\n",
       "   2             813.71        386.29        162.74        223.55        590.16\n",
       "   3             590.16        386.29        118.03        268.26        321.91\n",
       "   4             321.91        386.29         64.38        321.91          0.00"
      ]
     },
     "execution_count": 9,
     "metadata": {},
     "output_type": "execute_result"
    }
   ],
   "source": [
    "## préstamo 2.\n",
    "## -------------------------------------------------------\n",
    "## \n",
    "credito2 = cf.balloonLoan(amount     = 1000,     # monto\n",
    "                          rate       =    0.20,  # tasa de interés\n",
    "                          life       =    4,     # número de cuotas\n",
    "                          dispoints  =    0.24)  # costos de originación\n",
    "credito2 "
   ]
  },
  {
   "cell_type": "code",
   "execution_count": 10,
   "metadata": {
    "collapsed": false
   },
   "outputs": [
    {
     "data": {
      "text/plain": [
       "  time                Values\n",
       "-----------------------------\n",
       "  0                   832.00\n",
       "  1                  -326.29\n",
       "  2                  -337.47\n",
       "  3                  -350.88\n",
       "  4                  -366.97"
      ]
     },
     "execution_count": 10,
     "metadata": {},
     "output_type": "execute_result"
    }
   ],
   "source": [
    "credito2.toCashflow(taxRate = 0.30)"
   ]
  },
  {
   "cell_type": "code",
   "execution_count": 11,
   "metadata": {
    "collapsed": false
   },
   "outputs": [
    {
     "data": {
      "text/plain": [
       "0.2333658454862202"
      ]
     },
     "execution_count": 11,
     "metadata": {},
     "output_type": "execute_result"
    }
   ],
   "source": [
    "credito2.trueRate(taxRate = 0.30)"
   ]
  },
  {
   "cell_type": "code",
   "execution_count": 12,
   "metadata": {
    "collapsed": true
   },
   "outputs": [],
   "source": [
    "## se almacenna los datos para este credito\n",
    "monto[2]   = 1000\n",
    "interes[2] = credito2.trueRate(taxRate = 0.30)"
   ]
  },
  {
   "cell_type": "code",
   "execution_count": 13,
   "metadata": {
    "collapsed": false
   },
   "outputs": [
    {
     "data": {
      "text/plain": [
       "\n",
       "   t          Beginning         Total      Interest     Principal        Ending\n",
       "              Principal       Payment       Payment       Payment     Principal\n",
       "--------------------------------------------------------------------------------\n",
       "   0            5000.00       1050.00       1000.00          0.00       5000.00\n",
       "   1            5000.00        350.00        350.00          0.00       5000.00\n",
       "   2            5000.00        350.00        350.00          0.00       5000.00\n",
       "   3            5000.00        350.00        350.00          0.00       5000.00\n",
       "   4            5000.00       5350.00        350.00       5000.00          0.00"
      ]
     },
     "execution_count": 13,
     "metadata": {},
     "output_type": "execute_result"
    }
   ],
   "source": [
    "## préstamo 3.\n",
    "## -------------------------------------------------------\n",
    "## \n",
    "credito3 = cf.bulletLoan( amount     = 5000,     # monto\n",
    "                          rate       =    0.07,  # tasa de interés\n",
    "                          life       =    4,     # número de cuotas\n",
    "                          orgpoints  =    0.01,  # costos de originación\n",
    "                          dispoints  =    0.20)  # puntos de descuento\n",
    "credito3 "
   ]
  },
  {
   "cell_type": "code",
   "execution_count": 14,
   "metadata": {
    "collapsed": false
   },
   "outputs": [
    {
     "data": {
      "text/plain": [
       "  time                Values\n",
       "-----------------------------\n",
       "  0                  4250.00\n",
       "  1-3                -245.00\n",
       "  4                 -5245.00"
      ]
     },
     "execution_count": 14,
     "metadata": {},
     "output_type": "execute_result"
    }
   ],
   "source": [
    "credito3.toCashflow(taxRate = 0.30)"
   ]
  },
  {
   "cell_type": "code",
   "execution_count": 15,
   "metadata": {
    "collapsed": false
   },
   "outputs": [
    {
     "data": {
      "text/plain": [
       "0.0959014617168048"
      ]
     },
     "execution_count": 15,
     "metadata": {},
     "output_type": "execute_result"
    }
   ],
   "source": [
    "credito3.trueRate(taxRate = 0.30)"
   ]
  },
  {
   "cell_type": "code",
   "execution_count": 16,
   "metadata": {
    "collapsed": true
   },
   "outputs": [],
   "source": [
    "## se almacenan los datos de este crédito\n",
    "monto[3]   = 5000\n",
    "interes[3] = credito3.trueRate(taxRate = 0.30)"
   ]
  },
  {
   "cell_type": "code",
   "execution_count": 17,
   "metadata": {
    "collapsed": false
   },
   "outputs": [
    {
     "data": {
      "text/plain": [
       "[4000, 2000, 1000, 5000]"
      ]
     },
     "execution_count": 17,
     "metadata": {},
     "output_type": "execute_result"
    }
   ],
   "source": [
    "## montos\n",
    "monto"
   ]
  },
  {
   "cell_type": "code",
   "execution_count": 18,
   "metadata": {
    "collapsed": false
   },
   "outputs": [
    {
     "data": {
      "text/plain": [
       "[0.25, 0.15316757055069052, 0.2333658454862202, 0.0959014617168048]"
      ]
     },
     "execution_count": 18,
     "metadata": {},
     "output_type": "execute_result"
    }
   ],
   "source": [
    "## tasas\n",
    "interes"
   ]
  },
  {
   "cell_type": "code",
   "execution_count": 19,
   "metadata": {
    "collapsed": false
   },
   "outputs": [
    {
     "data": {
      "text/plain": [
       "0.16826735793096878"
      ]
     },
     "execution_count": 19,
     "metadata": {},
     "output_type": "execute_result"
    }
   ],
   "source": [
    "## Costo ponderado del capital (WACC)\n",
    "## -------------------------------------------------------------\n",
    "## es el promdio ponderado de las tasas por \n",
    "## el porcentaje de capital correspondiente a cada fuente\n",
    "##\n",
    "s    = sum(monto)           # capital total\n",
    "wacc = sum([x*r/s for x, r in zip(monto, interes)])\n",
    "wacc"
   ]
  },
  {
   "cell_type": "markdown",
   "metadata": {},
   "source": [
    "---"
   ]
  },
  {
   "cell_type": "markdown",
   "metadata": {},
   "source": [
    "[Contenido](#Contenido)"
   ]
  }
 ],
 "metadata": {
  "kernelspec": {
   "display_name": "Python 3",
   "language": "python",
   "name": "python3"
  },
  "language_info": {
   "codemirror_mode": {
    "name": "ipython",
    "version": 3
   },
   "file_extension": ".py",
   "mimetype": "text/x-python",
   "name": "python",
   "nbconvert_exporter": "python",
   "pygments_lexer": "ipython3",
   "version": "3.5.2"
  }
 },
 "nbformat": 4,
 "nbformat_minor": 0
}
