{
 "cells": [
  {
   "cell_type": "markdown",
   "metadata": {
    "slideshow": {
     "slide_type": "slide"
    }
   },
   "source": [
    "Depreciación de Activos\n",
    "===\n",
    "\n",
    "**Juan David Velásquez Henao**  \n",
    "jdvelasq@unal.edu.co   \n",
    "Universidad Nacional de Colombia, Sede Medellín  \n",
    "Facultad de Minas  \n",
    "Medellín, Colombia\n",
    "\n",
    "---\n",
    "\n",
    "Haga click [aquí](https://github.com/jdvelasq/ingenieria-economica/blob/master/08-depreciacion.ipynb) para acceder a la última versión online\n",
    "\n",
    "Haga click [aquí](http://nbviewer.jupyter.org/github/jdvelasq/ingenieria-economica/blob/master/08-depreciacion.ipynb) para ver la última versión online en `nbviewer`.\n",
    "\n",
    "---"
   ]
  },
  {
   "cell_type": "code",
   "execution_count": 1,
   "metadata": {
    "collapsed": true,
    "slideshow": {
     "slide_type": "slide"
    }
   },
   "outputs": [],
   "source": [
    "# Importa la librería financiera.\n",
    "# Solo es necesario ejecutar la importación una sola vez.\n",
    "import cashflows as cf"
   ]
  },
  {
   "cell_type": "markdown",
   "metadata": {
    "slideshow": {
     "slide_type": "slide"
    }
   },
   "source": [
    "#### Depreciación en línea recta\n",
    "\n",
    "La depreciación permite la deducción de los costos de las inversiones (pérdida de valor de ellas) con el fin de reducir el impuesto de renta.\n",
    "\n",
    "La depreciación en todos los años es igual.\n",
    "\n",
    "* $P$ -- valor de compra en libros.\n",
    "\n",
    "* $N$ -- número de años en que ocurre la depreciación (vida útil del activo).\n",
    "\n",
    "* $D_n$ -- depreciación en el año $n$.\n",
    "\n",
    "* $F$ -- valor de salvamento al final de la vida útil.\n",
    "\n",
    "$$D_n = \\frac{P-F}{N}$$"
   ]
  },
  {
   "cell_type": "markdown",
   "metadata": {
    "slideshow": {
     "slide_type": "slide"
    }
   },
   "source": [
    "***Ejemplo.--*** Un activo cuesta  `$` 200. Si la depreciación ocurre durante 5 años, ¿cuál es su depreciación anual?."
   ]
  },
  {
   "cell_type": "code",
   "execution_count": 2,
   "metadata": {
    "slideshow": {
     "slide_type": "fragment"
    }
   },
   "outputs": [
    {
     "data": {
      "text/plain": [
       "Time Series:\n",
       "Start = (0,)\n",
       "End = (5,)\n",
       "pyr = 1\n",
       "Data = (0,)          200.00 \n",
       "       (1,)-(5,) [5]   0.00 "
      ]
     },
     "execution_count": 2,
     "metadata": {},
     "output_type": "execute_result"
    }
   ],
   "source": [
    "costs = cf.cashflow(const_value=0,  # valor 0 por defecto\n",
    "                    nper=6,         # compra + vida útil\n",
    "                    spec=(0, 200))  # compra en el período 0\n",
    "costs"
   ]
  },
  {
   "cell_type": "code",
   "execution_count": 3,
   "metadata": {
    "scrolled": true,
    "slideshow": {
     "slide_type": "fragment"
    }
   },
   "outputs": [
    {
     "data": {
      "text/plain": [
       "Time Series:\n",
       "Start = (0,)\n",
       "End = (5,)\n",
       "pyr = 1\n",
       "Data = (0,)          5.00 \n",
       "       (1,)-(5,) [5] 0.00 "
      ]
     },
     "execution_count": 3,
     "metadata": {},
     "output_type": "execute_result"
    }
   ],
   "source": [
    "life  = cf.cashflow(const_value=0, # vida util = 0\n",
    "                    nper=6,        # compra + vida útil\n",
    "                    spec=(0, 5))   # vida útil del activo\n",
    "life"
   ]
  },
  {
   "cell_type": "code",
   "execution_count": 4,
   "metadata": {
    "slideshow": {
     "slide_type": "fragment"
    }
   },
   "outputs": [
    {
     "name": "stdout",
     "output_type": "stream",
     "text": [
      "t       Beg.    Cost  Depre.  Accum.    End.\n",
      "        Book                  Depre.    Book\n",
      "       Value                           Value\n",
      "--------------------------------------------\n",
      "(0,)    0.00  200.00    0.00    0.00  200.00\n",
      "(1,)  200.00    0.00   40.00   40.00  160.00\n",
      "(2,)  160.00    0.00   40.00   80.00  120.00\n",
      "(3,)  120.00    0.00   40.00  120.00   80.00\n",
      "(4,)   80.00    0.00   40.00  160.00   40.00\n",
      "(5,)   40.00    0.00   40.00  200.00    0.00\n"
     ]
    }
   ],
   "source": [
    "cf.depreciation_sl(costs=costs,    # costos de las inversiones \n",
    "                   life=life,      # vida útil de cada inversión\n",
    "                   noprint=False)  # imprime el reporte"
   ]
  },
  {
   "cell_type": "markdown",
   "metadata": {
    "slideshow": {
     "slide_type": "slide"
    }
   },
   "source": [
    "***Ejemplo.--*** En $t=1$ se compra un activo por valor de `$` 200 y en $t=7$ otro activo por valor de `$` 300. Los activos tienen vidas útiles de 5 y 10 años respectivamente. Calcule la depreciación total anual para cada año."
   ]
  },
  {
   "cell_type": "code",
   "execution_count": 5,
   "metadata": {
    "slideshow": {
     "slide_type": "fragment"
    }
   },
   "outputs": [
    {
     "data": {
      "text/plain": [
       "Time Series:\n",
       "Start = (0,)\n",
       "End = (19,)\n",
       "pyr = 1\n",
       "Data = (0,)              0.00 \n",
       "       (1,)            200.00 \n",
       "       (2,)-(6,)  [5]    0.00 \n",
       "       (7,)            300.00 \n",
       "       (8,)-(19,) [12]   0.00 "
      ]
     },
     "execution_count": 5,
     "metadata": {},
     "output_type": "execute_result"
    }
   ],
   "source": [
    "costs = cf.cashflow(const_value=0,   # valor por defecto \n",
    "                    nper=20,         # cantidad de períodos\n",
    "                    spec=[(1, 200),  # primer activo\n",
    "                          (7, 300)]) # segundo activo\n",
    "\n",
    "costs"
   ]
  },
  {
   "cell_type": "code",
   "execution_count": 6,
   "metadata": {
    "slideshow": {
     "slide_type": "fragment"
    }
   },
   "outputs": [
    {
     "data": {
      "text/plain": [
       "Time Series:\n",
       "Start = (0,)\n",
       "End = (19,)\n",
       "pyr = 1\n",
       "Data = (0,)             0.00 \n",
       "       (1,)             5.00 \n",
       "       (2,)-(6,)  [5]   0.00 \n",
       "       (7,)            10.00 \n",
       "       (8,)-(19,) [12]  0.00 "
      ]
     },
     "execution_count": 6,
     "metadata": {},
     "output_type": "execute_result"
    }
   ],
   "source": [
    "life = cf.cashflow(const_value=0,    # valor por defecto \n",
    "                   nper=20,          # cantidad de períodos\n",
    "                   spec=[(1,  5),    # primer activo\n",
    "                         (7, 10)])   # segundo activo\n",
    "life"
   ]
  },
  {
   "cell_type": "code",
   "execution_count": 7,
   "metadata": {
    "slideshow": {
     "slide_type": "fragment"
    }
   },
   "outputs": [
    {
     "name": "stdout",
     "output_type": "stream",
     "text": [
      "t        Beg.    Cost  Depre.  Accum.    End.\n",
      "         Book                  Depre.    Book\n",
      "        Value                           Value\n",
      "---------------------------------------------\n",
      "(0,)     0.00    0.00    0.00    0.00    0.00\n",
      "(1,)     0.00  200.00    0.00    0.00  200.00\n",
      "(2,)   200.00    0.00   40.00   40.00  160.00\n",
      "(3,)   160.00    0.00   40.00   80.00  120.00\n",
      "(4,)   120.00    0.00   40.00  120.00   80.00\n",
      "(5,)    80.00    0.00   40.00  160.00   40.00\n",
      "(6,)    40.00    0.00   40.00  200.00    0.00\n",
      "(7,)     0.00  300.00    0.00  200.00  300.00\n",
      "(8,)   300.00    0.00   30.00  230.00  270.00\n",
      "(9,)   270.00    0.00   30.00  260.00  240.00\n",
      "(10,)  240.00    0.00   30.00  290.00  210.00\n",
      "(11,)  210.00    0.00   30.00  320.00  180.00\n",
      "(12,)  180.00    0.00   30.00  350.00  150.00\n",
      "(13,)  150.00    0.00   30.00  380.00  120.00\n",
      "(14,)  120.00    0.00   30.00  410.00   90.00\n",
      "(15,)   90.00    0.00   30.00  440.00   60.00\n",
      "(16,)   60.00    0.00   30.00  470.00   30.00\n",
      "(17,)   30.00    0.00   30.00  500.00    0.00\n",
      "(18,)    0.00    0.00    0.00  500.00    0.00\n",
      "(19,)    0.00    0.00    0.00  500.00    0.00\n"
     ]
    }
   ],
   "source": [
    "cf.depreciation_sl(costs=costs,    # inversiones\n",
    "                   life=life,      # vida útil\n",
    "                   noprint=False)  # imprime el reporte\n"
   ]
  },
  {
   "cell_type": "markdown",
   "metadata": {
    "slideshow": {
     "slide_type": "slide"
    }
   },
   "source": [
    "#### Depreciación por suma de los dígitos de los años (o depreciación acelerada)\n",
    "\n",
    "En este método de depreciación se hace mayor al principio y más pequeña al final. Se basa en la progresión desde $N$ hasta 1.\n",
    "\n",
    "$$S = \\sum_{i=1}^N i = \\frac{1}{2} N(N + 1)$$\n",
    "\n",
    "$$D_n = (P - F) * \\frac{(N - n + 1)}{S} = 2 * (P - F) * \\frac{N-n+1}{N(N+1)}$$ "
   ]
  },
  {
   "cell_type": "markdown",
   "metadata": {
    "slideshow": {
     "slide_type": "slide"
    }
   },
   "source": [
    "***Ejemplo.--*** Un activo cuesta  `$` 200. Si la depreciación ocurre durante 5 años, ¿cuál es su depreciación anual?."
   ]
  },
  {
   "cell_type": "code",
   "execution_count": 8,
   "metadata": {
    "collapsed": true,
    "slideshow": {
     "slide_type": "fragment"
    }
   },
   "outputs": [],
   "source": [
    "costs = cf.cashflow(const_value=0,  # valor 0 por defecto\n",
    "                    nper=6,         # compra + vida útil\n",
    "                    spec=(0, 200))  # compra en el período 0\n",
    "\n",
    "\n",
    "life  = cf.cashflow(const_value=0,  # vida util = 0\n",
    "                    nper=6,         # compra + vida útil\n",
    "                    spec=(0, 5))    # vida útil del activo"
   ]
  },
  {
   "cell_type": "code",
   "execution_count": 9,
   "metadata": {
    "slideshow": {
     "slide_type": "fragment"
    }
   },
   "outputs": [
    {
     "name": "stdout",
     "output_type": "stream",
     "text": [
      "t       Beg.    Cost  Depre.  Accum.    End.\n",
      "        Book                  Depre.    Book\n",
      "       Value                           Value\n",
      "--------------------------------------------\n",
      "(0,)    0.00  200.00    0.00    0.00  200.00\n",
      "(1,)  200.00    0.00   66.67   66.67  133.33\n",
      "(2,)  133.33    0.00   53.33  120.00   80.00\n",
      "(3,)   80.00    0.00   40.00  160.00   40.00\n",
      "(4,)   40.00    0.00   26.67  186.67   13.33\n",
      "(5,)   13.33    0.00   13.33  200.00   -0.00\n"
     ]
    }
   ],
   "source": [
    "cf.depreciation_soyd(costs=costs,    # costos de las inversiones \n",
    "                     life=life,      # vida útil de cada inversión\n",
    "                     noprint=False)  # imprime el reporte"
   ]
  },
  {
   "cell_type": "markdown",
   "metadata": {
    "slideshow": {
     "slide_type": "slide"
    }
   },
   "source": [
    "### Efecto de la depreciación sobre el impuesto de renta y el flujo de caja"
   ]
  },
  {
   "cell_type": "markdown",
   "metadata": {},
   "source": [
    "**Caso 1: sin depreciación.**"
   ]
  },
  {
   "cell_type": "code",
   "execution_count": 10,
   "metadata": {
    "collapsed": true,
    "slideshow": {
     "slide_type": "fragment"
    }
   },
   "outputs": [],
   "source": [
    "## impuesto de renta del 35%\n",
    "tax_rate = cf.interest_rate(const_value=[35] * 6)"
   ]
  },
  {
   "cell_type": "code",
   "execution_count": 11,
   "metadata": {
    "slideshow": {
     "slide_type": "fragment"
    }
   },
   "outputs": [
    {
     "data": {
      "text/plain": [
       "Time Series:\n",
       "Start = (0,)\n",
       "End = (5,)\n",
       "pyr = 1\n",
       "Data = (0,)            0.00 \n",
       "       (1,)-(5,) [5] 250.00 "
      ]
     },
     "execution_count": 11,
     "metadata": {},
     "output_type": "execute_result"
    }
   ],
   "source": [
    "## crea el flujo de caja\n",
    "i = cf.cashflow(const_value=[0] + [500]*5) # ingresos brutos\n",
    "g = cf.cashflow(const_value=[0] + [250]*5) # gastos operativos\n",
    "\n",
    "## ingreso antes de impuestos\n",
    "x = i-g                                    \n",
    "x"
   ]
  },
  {
   "cell_type": "code",
   "execution_count": 12,
   "metadata": {
    "slideshow": {
     "slide_type": "fragment"
    }
   },
   "outputs": [
    {
     "data": {
      "text/plain": [
       "Time Series:\n",
       "Start = (0,)\n",
       "End = (5,)\n",
       "pyr = 1\n",
       "Data = (0,)            0.00 \n",
       "       (1,)-(5,) [5] 162.50 "
      ]
     },
     "execution_count": 12,
     "metadata": {},
     "output_type": "execute_result"
    }
   ],
   "source": [
    "x = x - cf.after_tax_cashflow(x, \n",
    "                              tax_rate=tax_rate) \n",
    "x                                                "
   ]
  },
  {
   "cell_type": "markdown",
   "metadata": {
    "slideshow": {
     "slide_type": "slide"
    }
   },
   "source": [
    "**Caso 2: depreciación en linea recta.**"
   ]
  },
  {
   "cell_type": "code",
   "execution_count": 13,
   "metadata": {
    "slideshow": {
     "slide_type": "fragment"
    }
   },
   "outputs": [
    {
     "data": {
      "text/plain": [
       "Time Series:\n",
       "Start = (0,)\n",
       "End = (5,)\n",
       "pyr = 1\n",
       "Data = (0,)           0.00 \n",
       "       (1,)-(5,) [5] 40.00 "
      ]
     },
     "execution_count": 13,
     "metadata": {},
     "output_type": "execute_result"
    }
   ],
   "source": [
    "## considere un activo depreciable\n",
    "\n",
    "costs = cf.cashflow(const_value=0, nper=6, spec=(0, 200))\n",
    "life  = cf.cashflow(const_value=0, nper=6, spec=(0, 5))\n",
    "\n",
    "d = cf.depreciation_sl(costs=costs, \n",
    "                       life=life,\n",
    "                       noprint=True)\n",
    "\n",
    "d"
   ]
  },
  {
   "cell_type": "code",
   "execution_count": 14,
   "metadata": {
    "slideshow": {
     "slide_type": "fragment"
    }
   },
   "outputs": [
    {
     "data": {
      "text/plain": [
       "Time Series:\n",
       "Start = (0,)\n",
       "End = (5,)\n",
       "pyr = 1\n",
       "Data = (0,)            0.00 \n",
       "       (1,)-(5,) [5] 250.00 "
      ]
     },
     "execution_count": 14,
     "metadata": {},
     "output_type": "execute_result"
    }
   ],
   "source": [
    "## crea el flujo de caja\n",
    "i = cf.cashflow(const_value=[0]+[500]*5) # ingresos brutos\n",
    "g = cf.cashflow(const_value=[0]+[250]*5) # gastos operativos\n",
    "\n",
    "## ingreso antes de impuestos\n",
    "x = i-g                                    \n",
    "x"
   ]
  },
  {
   "cell_type": "code",
   "execution_count": 15,
   "metadata": {
    "slideshow": {
     "slide_type": "fragment"
    }
   },
   "outputs": [
    {
     "data": {
      "text/plain": [
       "Time Series:\n",
       "Start = (0,)\n",
       "End = (5,)\n",
       "pyr = 1\n",
       "Data = (0,)            0.00 \n",
       "       (1,)-(5,) [5] 210.00 "
      ]
     },
     "execution_count": 15,
     "metadata": {},
     "output_type": "execute_result"
    }
   ],
   "source": [
    "x = x - d   # resta la depreciacion\n",
    "x           # ingreso antes de impuestos"
   ]
  },
  {
   "cell_type": "code",
   "execution_count": 16,
   "metadata": {
    "slideshow": {
     "slide_type": "fragment"
    }
   },
   "outputs": [
    {
     "data": {
      "text/plain": [
       "Time Series:\n",
       "Start = (0,)\n",
       "End = (5,)\n",
       "pyr = 1\n",
       "Data = (0,)            0.00 \n",
       "       (1,)-(5,) [5] 136.50 "
      ]
     },
     "execution_count": 16,
     "metadata": {},
     "output_type": "execute_result"
    }
   ],
   "source": [
    "x = x - cf.after_tax_cashflow(x, \n",
    "                              tax_rate=tax_rate) \n",
    "x "
   ]
  },
  {
   "cell_type": "code",
   "execution_count": 17,
   "metadata": {
    "slideshow": {
     "slide_type": "fragment"
    }
   },
   "outputs": [
    {
     "data": {
      "text/plain": [
       "Time Series:\n",
       "Start = (0,)\n",
       "End = (5,)\n",
       "pyr = 1\n",
       "Data = (0,)            0.00 \n",
       "       (1,)-(5,) [5] 176.50 "
      ]
     },
     "execution_count": 17,
     "metadata": {},
     "output_type": "execute_result"
    }
   ],
   "source": [
    "x + d  # flujo de caja"
   ]
  },
  {
   "cell_type": "markdown",
   "metadata": {},
   "source": [
    "Note que en el resultado anterior el ingreso después de impuestos es mayor que en el caso 1."
   ]
  },
  {
   "cell_type": "markdown",
   "metadata": {
    "slideshow": {
     "slide_type": "slide"
    }
   },
   "source": [
    "**Caso 2: depreciación acelerada.**"
   ]
  },
  {
   "cell_type": "code",
   "execution_count": 18,
   "metadata": {},
   "outputs": [
    {
     "data": {
      "text/plain": [
       "Time Series:\n",
       "Start = (0,)\n",
       "End = (5,)\n",
       "pyr = 1\n",
       "Data = (0,)    0.00 \n",
       "       (1,)   66.67 \n",
       "       (2,)   53.33 \n",
       "       (3,)   40.00 \n",
       "       (4,)   26.67 \n",
       "       (5,)   13.33 "
      ]
     },
     "execution_count": 18,
     "metadata": {},
     "output_type": "execute_result"
    }
   ],
   "source": [
    "costs = cf.cashflow(const_value=0,  # valor 0 por defecto\n",
    "                    nper=6,         # compra + vida útil\n",
    "                    spec=(0, 200))  # compra en el período 0\n",
    "\n",
    "\n",
    "life  = cf.cashflow(const_value=0,  # vida util = 0\n",
    "                    nper=6,         # compra + vida útil\n",
    "                    spec=(0, 5))    # vida útil del activo\n",
    "\n",
    "d = cf.depreciation_soyd(costs=costs, life=life)\n",
    "d"
   ]
  },
  {
   "cell_type": "code",
   "execution_count": 19,
   "metadata": {
    "slideshow": {
     "slide_type": "fragment"
    }
   },
   "outputs": [
    {
     "data": {
      "text/plain": [
       "Time Series:\n",
       "Start = (0,)\n",
       "End = (5,)\n",
       "pyr = 1\n",
       "Data = (0,)            0.00 \n",
       "       (1,)-(5,) [5] 250.00 "
      ]
     },
     "execution_count": 19,
     "metadata": {},
     "output_type": "execute_result"
    }
   ],
   "source": [
    "## crea el flujo de caja\n",
    "i = cf.cashflow(const_value=[0]+[500]*5) # ingresos brutos\n",
    "g = cf.cashflow(const_value=[0]+[250]*5) # gastos operativos\n",
    "\n",
    "## ingreso antes de impuestos\n",
    "x = i-g                                    \n",
    "x"
   ]
  },
  {
   "cell_type": "code",
   "execution_count": 20,
   "metadata": {
    "slideshow": {
     "slide_type": "fragment"
    }
   },
   "outputs": [
    {
     "data": {
      "text/plain": [
       "Time Series:\n",
       "Start = (0,)\n",
       "End = (5,)\n",
       "pyr = 1\n",
       "Data = (0,)     0.00 \n",
       "       (1,)   183.33 \n",
       "       (2,)   196.67 \n",
       "       (3,)   210.00 \n",
       "       (4,)   223.33 \n",
       "       (5,)   236.67 "
      ]
     },
     "execution_count": 20,
     "metadata": {},
     "output_type": "execute_result"
    }
   ],
   "source": [
    "x = x - d                     # depreciacion\n",
    "x                             # ingreso antes de impuestos"
   ]
  },
  {
   "cell_type": "code",
   "execution_count": 21,
   "metadata": {
    "slideshow": {
     "slide_type": "fragment"
    }
   },
   "outputs": [
    {
     "data": {
      "text/plain": [
       "Time Series:\n",
       "Start = (0,)\n",
       "End = (5,)\n",
       "pyr = 1\n",
       "Data = (0,)     0.00 \n",
       "       (1,)   119.17 \n",
       "       (2,)   127.83 \n",
       "       (3,)   136.50 \n",
       "       (4,)   145.17 \n",
       "       (5,)   153.83 "
      ]
     },
     "execution_count": 21,
     "metadata": {},
     "output_type": "execute_result"
    }
   ],
   "source": [
    "x = x - cf.after_tax_cashflow(x, tax_rate=tax_rate) \n",
    "x                                              "
   ]
  },
  {
   "cell_type": "code",
   "execution_count": 22,
   "metadata": {
    "scrolled": true,
    "slideshow": {
     "slide_type": "fragment"
    }
   },
   "outputs": [
    {
     "data": {
      "text/plain": [
       "Time Series:\n",
       "Start = (0,)\n",
       "End = (5,)\n",
       "pyr = 1\n",
       "Data = (0,)     0.00 \n",
       "       (1,)   185.83 \n",
       "       (2,)   181.17 \n",
       "       (3,)   176.50 \n",
       "       (4,)   171.83 \n",
       "       (5,)   167.17 "
      ]
     },
     "execution_count": 22,
     "metadata": {},
     "output_type": "execute_result"
    }
   ],
   "source": [
    "x + d  # flujo de caja"
   ]
  },
  {
   "cell_type": "markdown",
   "metadata": {
    "slideshow": {
     "slide_type": "slide"
    }
   },
   "source": [
    "***Ejercicio.--*** Una empresa de energía eléctrica compra un nuevo edificio por `$` 1000 que puede depreciar en 10 años usando el método de la línea recta. Y, simultáneamente,  repotencia una turbina por `$` 300, la cual puede ser depreciada a 10 años usando el método de la suma de los dígitos de los años. Compute la depreciación total para cada año. "
   ]
  },
  {
   "cell_type": "markdown",
   "metadata": {
    "slideshow": {
     "slide_type": "slide"
    }
   },
   "source": [
    "Depreciación de Activos\n",
    "===\n",
    "\n",
    "**Juan David Velásquez Henao**  \n",
    "jdvelasq@unal.edu.co   \n",
    "Universidad Nacional de Colombia, Sede Medellín  \n",
    "Facultad de Minas  \n",
    "Medellín, Colombia\n",
    "\n",
    "---\n",
    "\n",
    "Haga click [aquí](https://github.com/jdvelasq/ingenieria-economica/blob/master/08-depreciacion.ipynb) para acceder a la última versión online\n",
    "\n",
    "Haga click [aquí](http://nbviewer.jupyter.org/github/jdvelasq/ingenieria-economica/blob/master/08-depreciacion.ipynb) para ver la última versión online en `nbviewer`.\n",
    "\n",
    "---"
   ]
  },
  {
   "cell_type": "markdown",
   "metadata": {
    "slideshow": {
     "slide_type": "slide"
    }
   },
   "source": [
    "**Bibliografía**\n",
    "\n",
    "> * [1] SAS/ETS 14.1 User's Guide, 2015.   \n",
    "* [2] **hp** 12c platinum financial calculator. User's guide. \n",
    "* [3] HP Business Consultant II Owner's manual.\n",
    "* [4] C.S. Park and G.P. Sharp-Bette. Advanced Engineering Economics. John Wiley & Sons, Inc., 1990."
   ]
  }
 ],
 "metadata": {
  "anaconda-cloud": {},
  "celltoolbar": "Slideshow",
  "kernelspec": {
   "display_name": "Python 3",
   "language": "python",
   "name": "python3"
  },
  "language_info": {
   "codemirror_mode": {
    "name": "ipython",
    "version": 3
   },
   "file_extension": ".py",
   "mimetype": "text/x-python",
   "name": "python",
   "nbconvert_exporter": "python",
   "pygments_lexer": "ipython3",
   "version": "3.6.1"
  }
 },
 "nbformat": 4,
 "nbformat_minor": 1
}
