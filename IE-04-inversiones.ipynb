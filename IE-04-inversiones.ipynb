{
 "cells": [
  {
   "cell_type": "markdown",
   "metadata": {},
   "source": [
    "Inversiones\n",
    "==="
   ]
  },
  {
   "cell_type": "markdown",
   "metadata": {},
   "source": [
    "Notas de clase sobre ingeniería economica avanzada usando Python\n",
    "\n",
    "**Juan David Velásquez Henao**  \n",
    "jdvelasq@unal.edu.co   \n",
    "Universidad Nacional de Colombia, Sede Medellín  \n",
    "Facultad de Minas  \n",
    "Medellín, Colombia  "
   ]
  },
  {
   "cell_type": "markdown",
   "metadata": {},
   "source": [
    "**Software utilizado**\n",
    ">Este es un documento interactivo escrito como un notebook de [Jupyter](http://jupyter.org/) , en el cual se presenta un tutorial sobre finanzas corporativas usando Python. Los notebooks de Jupyter permiten incoporar simultáneamente código, texto, gráficos y ecuaciones. El código presentado en este notebook puede ejecutarse en los sistemas operativos Linux y OS X.  \n",
    "\n",
    ">Haga click [aquí](https://github.com/jdvelasq/guias-de-instalacion) para obtener instrucciones detalladas sobre como instalar Jupyter en Windows y Mac OS X.\n",
    "\n",
    ">Descargue la última versión de este documento a su disco duro; luego, carguelo y ejecutelo en línea en Try [Jupyter!](https://try.jupyter.org/)\n",
    "\n"
   ]
  },
  {
   "cell_type": "markdown",
   "metadata": {},
   "source": [
    "#### Contenido"
   ]
  },
  {
   "cell_type": "markdown",
   "metadata": {},
   "source": [
    ">"
   ]
  },
  {
   "cell_type": "markdown",
   "metadata": {},
   "source": [
    "**Bibliografía**"
   ]
  },
  {
   "cell_type": "markdown",
   "metadata": {},
   "source": [
    "> * [1] SAS/ETS 14.1 User's Guide, 2015.   \n",
    "* [2] **hp** 12c platinum financial calculator. User's guide. \n",
    "* [3] HP Business Consultant II Owner's manual.\n",
    "* [4] C.S. Park and G.P. Sharp-Bette. Advanced Engineering Economics. John Wiley & Sons, Inc., 1990."
   ]
  },
  {
   "cell_type": "code",
   "execution_count": 1,
   "metadata": {
    "collapsed": false
   },
   "outputs": [],
   "source": [
    "import cashflow as cf"
   ]
  },
  {
   "cell_type": "markdown",
   "metadata": {},
   "source": [
    "# Depreciación"
   ]
  },
  {
   "cell_type": "markdown",
   "metadata": {},
   "source": [
    "[Contenido](#Contenido)"
   ]
  },
  {
   "cell_type": "markdown",
   "metadata": {},
   "source": [
    "Permite la deducción de los costos de las inversiones (pérdida de valor de ellas) con el fin de reducir el impuesto de renta."
   ]
  },
  {
   "cell_type": "markdown",
   "metadata": {},
   "source": [
    "## Depreciación en linea recta"
   ]
  },
  {
   "cell_type": "markdown",
   "metadata": {},
   "source": [
    "[Contenido](#Contenido)"
   ]
  },
  {
   "cell_type": "markdown",
   "metadata": {},
   "source": [
    "La depreciación en todos los años es igual."
   ]
  },
  {
   "cell_type": "markdown",
   "metadata": {},
   "source": [
    "* $P$ -- valor de compra en libros."
   ]
  },
  {
   "cell_type": "markdown",
   "metadata": {},
   "source": [
    "* $N$ -- número de años en que ocurre la depreciación (vida útil del activo)."
   ]
  },
  {
   "cell_type": "markdown",
   "metadata": {},
   "source": [
    "* $D_n$ -- depreciación en el año $n$."
   ]
  },
  {
   "cell_type": "markdown",
   "metadata": {},
   "source": [
    "$$D_n = \\frac{P-F}{N}$$"
   ]
  },
  {
   "cell_type": "markdown",
   "metadata": {},
   "source": [
    "* $F$ -- valor de salvamento al final de la vida útil."
   ]
  },
  {
   "cell_type": "markdown",
   "metadata": {},
   "source": [
    "**Ejemplo.--** Un activo cuesta  \\$ 200 y su valor de salvamento es \\$ 50. Si la depreciación ocurre durante 5 años, cuál es su depreciación anual?."
   ]
  },
  {
   "cell_type": "code",
   "execution_count": 2,
   "metadata": {
    "collapsed": false
   },
   "outputs": [
    {
     "data": {
      "text/plain": [
       "   t     StartBookValue     Investment   Depreciation   EndBookValue\n",
       "----------------------------------------------------------------------\n",
       "   0               0.00         200.00           0.00         200.00\n",
       "   1             200.00           0.00          30.00         170.00\n",
       "   2             170.00           0.00          30.00         140.00\n",
       "   3             140.00           0.00          30.00         110.00\n",
       "   4             110.00           0.00          30.00          80.00\n",
       "   5              80.00           0.00          30.00          50.00"
      ]
     },
     "execution_count": 2,
     "metadata": {},
     "output_type": "execute_result"
    }
   ],
   "source": [
    "#\n",
    "# los datos del activo se ingresan como una tripleta \n",
    "# conformada asi: (costo, periodo de compra, vida uitl, valor de salvamento)\n",
    "# 'SL' indica la depreciación en linea recta\n",
    "#                            (cost, time, life, salvalue)\n",
    "cf.Depreciation(assetsdata = ( 200,    0,    5,       50 ),  \n",
    "                method   = 'SL')\n",
    "\n",
    "#\n",
    "# el resultado se imprime en forma de tabla:\n",
    "#\n",
    "#  * StartBookValue -- representa el valor total de los activos al inicio del periodo\n",
    "#  * Investment -- cantidad de dinero invertida en acttivos en el periodo\n",
    "#  * Depreciation -- depreciación total para el periodo t\n",
    "#  * EndBookValue -- valor final de los activos al final del periodo\n",
    "#"
   ]
  },
  {
   "cell_type": "markdown",
   "metadata": {},
   "source": [
    "## Depreciación por suma de los dígitos de los años (o depreciación acelerada)"
   ]
  },
  {
   "cell_type": "markdown",
   "metadata": {},
   "source": [
    "[Contenido](#Contenido)"
   ]
  },
  {
   "cell_type": "markdown",
   "metadata": {},
   "source": [
    "En este método de depreciación se hace mayor al principio y más pequeña al final. Se basa en la progresión desde $N$ hasta 1."
   ]
  },
  {
   "cell_type": "markdown",
   "metadata": {},
   "source": [
    "$$S = \\sum_{i=1}^N i = \\frac{1}{2} N(N + 1)$$"
   ]
  },
  {
   "cell_type": "markdown",
   "metadata": {},
   "source": [
    "$$D_n = (P - F) * \\frac{(N - n + 1)}{S} = 2 * (P - F) * \\frac{N-n+1}{N(N+1)}$$ "
   ]
  },
  {
   "cell_type": "markdown",
   "metadata": {},
   "source": [
    "**Ejemplo.--** Calcule la depreciación por el método de la suma de los dígitos de los años para el activo del ejemplo anterior."
   ]
  },
  {
   "cell_type": "code",
   "execution_count": 3,
   "metadata": {
    "collapsed": false,
    "scrolled": true
   },
   "outputs": [
    {
     "data": {
      "text/plain": [
       "   t     StartBookValue     Investment   Depreciation   EndBookValue\n",
       "----------------------------------------------------------------------\n",
       "   0               0.00         200.00           0.00         200.00\n",
       "   1             200.00           0.00          50.00         150.00\n",
       "   2             150.00           0.00          40.00         110.00\n",
       "   3             110.00           0.00          30.00          80.00\n",
       "   4              80.00           0.00          20.00          60.00\n",
       "   5              60.00           0.00          10.00          50.00"
      ]
     },
     "execution_count": 3,
     "metadata": {},
     "output_type": "execute_result"
    }
   ],
   "source": [
    "## 'SOYD' -- sum of year's digits\n",
    "cf.Depreciation(assetsdata = [(200, 0, 5, 50 )], # (cost, time, life, salvalue)\n",
    "                method   = 'SOYD')"
   ]
  },
  {
   "cell_type": "markdown",
   "metadata": {},
   "source": [
    "## Modelado de la depreciación usando `cashflow`"
   ]
  },
  {
   "cell_type": "code",
   "execution_count": 4,
   "metadata": {
    "collapsed": false
   },
   "outputs": [
    {
     "data": {
      "text/plain": [
       "   t     StartBookValue     Investment   Depreciation   EndBookValue\n",
       "----------------------------------------------------------------------\n",
       "   0               0.00           0.00           0.00           0.00\n",
       "   1               0.00         200.00           0.00         200.00\n",
       "   2             200.00           0.00          30.00         170.00\n",
       "   3             170.00           0.00          30.00         140.00\n",
       "   4             140.00           0.00          30.00         110.00\n",
       "   5             110.00           0.00          30.00          80.00\n",
       "   6              80.00           0.00          30.00          50.00"
      ]
     },
     "execution_count": 4,
     "metadata": {},
     "output_type": "execute_result"
    }
   ],
   "source": [
    "##\n",
    "## los datos de los activos pueden representarse como una lista de tuplas\n",
    "##\n",
    "cf.Depreciation(assetsdata = [(200, 1, 5, 50 )], \n",
    "                method   = 'SL')"
   ]
  },
  {
   "cell_type": "code",
   "execution_count": 5,
   "metadata": {
    "collapsed": false
   },
   "outputs": [
    {
     "data": {
      "text/plain": [
       "   t     StartBookValue     Investment   Depreciation   EndBookValue\n",
       "----------------------------------------------------------------------\n",
       "   0               0.00           0.00           0.00           0.00\n",
       "   1               0.00         200.00           0.00         200.00\n",
       "   2             200.00           0.00          30.00         170.00\n",
       "   3             170.00           0.00          30.00         140.00\n",
       "   4             140.00           0.00          30.00         110.00\n",
       "   5             110.00           0.00          30.00          80.00\n",
       "   6              80.00           0.00          30.00          50.00\n",
       "   7              50.00           0.00           0.00          50.00\n",
       "   8              50.00           0.00           0.00          50.00\n",
       "   9              50.00           0.00           0.00          50.00\n",
       "  10              50.00           0.00           0.00          50.00"
      ]
     },
     "execution_count": 5,
     "metadata": {},
     "output_type": "execute_result"
    }
   ],
   "source": [
    "##\n",
    "## también es posible indicar el número de periodos para los cuales\n",
    "## se desea calcular la depreciacion\n",
    "##\n",
    "##                           (cost, time, life, salvalue)\n",
    "cf.Depreciation(assetsdata = [(200,    1,    5,       50)], \n",
    "                method   = 'SL',\n",
    "                nper = 10)"
   ]
  },
  {
   "cell_type": "code",
   "execution_count": 6,
   "metadata": {
    "collapsed": false
   },
   "outputs": [
    {
     "data": {
      "text/plain": [
       "   t     StartBookValue     Investment   Depreciation   EndBookValue\n",
       "----------------------------------------------------------------------\n",
       "   0               0.00           0.00           0.00           0.00\n",
       "   1               0.00         200.00           0.00         200.00\n",
       "   2             200.00           0.00          30.00         170.00\n",
       "   3             170.00           0.00          30.00         140.00"
      ]
     },
     "execution_count": 6,
     "metadata": {},
     "output_type": "execute_result"
    }
   ],
   "source": [
    "##                           (cost, time, life, salvalue)\n",
    "cf.Depreciation(assetsdata = [(200,    1,    5,       50)], \n",
    "                method   = 'SL',\n",
    "                nper = 3)"
   ]
  },
  {
   "cell_type": "code",
   "execution_count": 7,
   "metadata": {
    "collapsed": false
   },
   "outputs": [
    {
     "data": {
      "text/plain": [
       "   t     StartBookValue     Investment   Depreciation   EndBookValue\n",
       "----------------------------------------------------------------------\n",
       "   0               0.00           0.00           0.00           0.00\n",
       "   1               0.00         200.00           0.00         200.00\n",
       "   2             200.00           0.00          40.00         160.00\n",
       "   3             160.00           0.00          40.00         120.00\n",
       "   4             120.00           0.00          40.00          80.00\n",
       "   5              80.00           0.00          40.00          40.00\n",
       "   6              40.00           0.00          40.00           0.00\n",
       "   7               0.00           0.00           0.00           0.00\n",
       "   8               0.00         200.00           0.00         200.00\n",
       "   9             200.00           0.00          40.00         160.00\n",
       "  10             160.00           0.00          40.00         120.00\n",
       "  11             120.00           0.00          40.00          80.00\n",
       "  12              80.00           0.00          40.00          40.00\n",
       "  13              40.00           0.00          40.00           0.00\n",
       "  14               0.00           0.00           0.00           0.00\n",
       "  15               0.00           0.00           0.00           0.00"
      ]
     },
     "execution_count": 7,
     "metadata": {},
     "output_type": "execute_result"
    }
   ],
   "source": [
    "##\n",
    "## es posible especificar más de un activo.\n",
    "##\n",
    "##                           (cost, time, life, salvalue)\n",
    "cf.Depreciation(assetsdata = [(200,    1,    5,        0),   # activo 1\n",
    "                              (200,    8,    5,        0)],  # activo 2\n",
    "                method   = 'SL',\n",
    "                nper = 15)"
   ]
  },
  {
   "cell_type": "code",
   "execution_count": 8,
   "metadata": {
    "collapsed": false
   },
   "outputs": [
    {
     "data": {
      "text/plain": [
       "  time                Values\n",
       "-----------------------------\n",
       "  0-1                   0.00\n",
       "  2-6                 -40.00\n",
       "  7-8                   0.00\n",
       "  9-13                -40.00\n",
       "  14-15                 0.00"
      ]
     },
     "execution_count": 8,
     "metadata": {},
     "output_type": "execute_result"
    }
   ],
   "source": [
    "##\n",
    "## es posible obtener la columna 'depreciation' como un flujo de efectivo\n",
    "##\n",
    "cf.Depreciation(assetsdata = [(200,    1,    5,        0),   # activo 1\n",
    "                              (200,    8,    5,        0)],  # activo 2\n",
    "                method   = 'SL',\n",
    "                nper = 15).depreciation()"
   ]
  },
  {
   "cell_type": "code",
   "execution_count": 9,
   "metadata": {
    "collapsed": false
   },
   "outputs": [
    {
     "data": {
      "text/plain": [
       "  time                Values\n",
       "-----------------------------\n",
       "  0                     0.00\n",
       "  1                  -200.00\n",
       "  2-7                   0.00\n",
       "  8                  -200.00\n",
       "  9-15                  0.00"
      ]
     },
     "execution_count": 9,
     "metadata": {},
     "output_type": "execute_result"
    }
   ],
   "source": [
    "##\n",
    "## es posible obtener la columna 'investment' como un flujo de efectivo\n",
    "##\n",
    "cf.Depreciation(assetsdata = [(200,    1,    5,        0),   # activo 1\n",
    "                              (200,    8,    5,        0)],  # activo 2\n",
    "                method   = 'SL',\n",
    "                nper = 15).investment()"
   ]
  },
  {
   "cell_type": "markdown",
   "metadata": {},
   "source": [
    "## Efecto de la depreciación sobre el impuesto de renta y el flujo de caja"
   ]
  },
  {
   "cell_type": "markdown",
   "metadata": {},
   "source": [
    "[Contenido](#Contenido)"
   ]
  },
  {
   "cell_type": "markdown",
   "metadata": {},
   "source": [
    "**Caso 1: sin depreciación.**"
   ]
  },
  {
   "cell_type": "code",
   "execution_count": 10,
   "metadata": {
    "collapsed": false
   },
   "outputs": [
    {
     "data": {
      "text/plain": [
       "  time                Values\n",
       "-----------------------------\n",
       "  0-5                 250.00"
      ]
     },
     "execution_count": 10,
     "metadata": {},
     "output_type": "execute_result"
    }
   ],
   "source": [
    "# crea el flujo de caja\n",
    "x = cf.Cashflow(5, spec = 500)          # ingresos brutos: $ 500 por periodo\n",
    "x.sub(spec = 250)                       # gastos operativos: $ 250 por periodo\n",
    "x                                       # ingreso antes de impuestos"
   ]
  },
  {
   "cell_type": "code",
   "execution_count": 11,
   "metadata": {
    "collapsed": false
   },
   "outputs": [
    {
     "data": {
      "text/plain": [
       "  time                Values\n",
       "-----------------------------\n",
       "  0-5                 162.50"
      ]
     },
     "execution_count": 11,
     "metadata": {},
     "output_type": "execute_result"
    }
   ],
   "source": [
    "x = x + cf.afterTaxCashflow(x, taxRate = 0.35) # impuesto de renta del 35%\n",
    "x                                              # ingreso despues de impuestos"
   ]
  },
  {
   "cell_type": "markdown",
   "metadata": {},
   "source": [
    "**Caso 2: depreciación en linea recta.**"
   ]
  },
  {
   "cell_type": "code",
   "execution_count": 12,
   "metadata": {
    "collapsed": false
   },
   "outputs": [
    {
     "data": {
      "text/plain": [
       "  time                Values\n",
       "-----------------------------\n",
       "  0                     0.00\n",
       "  1-5                 -30.00"
      ]
     },
     "execution_count": 12,
     "metadata": {},
     "output_type": "execute_result"
    }
   ],
   "source": [
    "## considere un activo depreciable\n",
    "d = cf.Depreciation(assetsdata = (150, 0, 5, 0), method   = 'SL').depreciation()\n",
    "d"
   ]
  },
  {
   "cell_type": "code",
   "execution_count": 13,
   "metadata": {
    "collapsed": false
   },
   "outputs": [
    {
     "data": {
      "text/plain": [
       "  time                Values\n",
       "-----------------------------\n",
       "  0-5                 250.00"
      ]
     },
     "execution_count": 13,
     "metadata": {},
     "output_type": "execute_result"
    }
   ],
   "source": [
    "# crea el flujo de caja\n",
    "x = cf.Cashflow(5, spec = 500)   # ingresos brutos: $ 500 por periodo\n",
    "x.sub(spec = 250)                # gastos operativos: $ 250 por periodo\n",
    "x"
   ]
  },
  {
   "cell_type": "code",
   "execution_count": 14,
   "metadata": {
    "collapsed": false
   },
   "outputs": [
    {
     "data": {
      "text/plain": [
       "  time                Values\n",
       "-----------------------------\n",
       "  0                   250.00\n",
       "  1-5                 220.00"
      ]
     },
     "execution_count": 14,
     "metadata": {},
     "output_type": "execute_result"
    }
   ],
   "source": [
    "x = x + d                     # depreciacion\n",
    "x                             # ingreso antes de impuestos"
   ]
  },
  {
   "cell_type": "code",
   "execution_count": 15,
   "metadata": {
    "collapsed": false
   },
   "outputs": [
    {
     "data": {
      "text/plain": [
       "  time                Values\n",
       "-----------------------------\n",
       "  0                   162.50\n",
       "  1-5                 143.00"
      ]
     },
     "execution_count": 15,
     "metadata": {},
     "output_type": "execute_result"
    }
   ],
   "source": [
    "x = x + cf.afterTaxCashflow(x, taxRate = 0.35) # impuesto de renta del 35%\n",
    "x                                              # ingreso despues de impuestos"
   ]
  },
  {
   "cell_type": "code",
   "execution_count": 16,
   "metadata": {
    "collapsed": false
   },
   "outputs": [
    {
     "data": {
      "text/plain": [
       "  time                Values\n",
       "-----------------------------\n",
       "  0                   162.50\n",
       "  1-5                 173.00"
      ]
     },
     "execution_count": 16,
     "metadata": {},
     "output_type": "execute_result"
    }
   ],
   "source": [
    "x - d  # flujo de caja"
   ]
  },
  {
   "cell_type": "markdown",
   "metadata": {},
   "source": [
    "Note que en el resultado anterior el ingreso después de impuestos es mayor que en el caso 1."
   ]
  },
  {
   "cell_type": "markdown",
   "metadata": {},
   "source": [
    "**Caso 2: depreciación acelerada.**"
   ]
  },
  {
   "cell_type": "code",
   "execution_count": 17,
   "metadata": {
    "collapsed": false
   },
   "outputs": [
    {
     "data": {
      "text/plain": [
       "  time                Values\n",
       "-----------------------------\n",
       "  0                     0.00\n",
       "  1                   -50.00\n",
       "  2                   -40.00\n",
       "  3                   -30.00\n",
       "  4                   -20.00\n",
       "  5                   -10.00"
      ]
     },
     "execution_count": 17,
     "metadata": {},
     "output_type": "execute_result"
    }
   ],
   "source": [
    "## activo depreciable\n",
    "d = cf.Depreciation(assetsdata = (150, 0, 5, 0), method   = 'SOYD').depreciation()\n",
    "d"
   ]
  },
  {
   "cell_type": "code",
   "execution_count": 18,
   "metadata": {
    "collapsed": false
   },
   "outputs": [
    {
     "data": {
      "text/plain": [
       "  time                Values\n",
       "-----------------------------\n",
       "  0-5                 250.00"
      ]
     },
     "execution_count": 18,
     "metadata": {},
     "output_type": "execute_result"
    }
   ],
   "source": [
    "# crea el flujo de caja\n",
    "x = cf.Cashflow(5, spec = 500)   # ingresos brutos: $ 500 por periodo\n",
    "x.sub(spec = 250)                # gastos operativos: $ 250 por periodo\n",
    "x"
   ]
  },
  {
   "cell_type": "code",
   "execution_count": 19,
   "metadata": {
    "collapsed": false
   },
   "outputs": [
    {
     "data": {
      "text/plain": [
       "  time                Values\n",
       "-----------------------------\n",
       "  0                   250.00\n",
       "  1                   200.00\n",
       "  2                   210.00\n",
       "  3                   220.00\n",
       "  4                   230.00\n",
       "  5                   240.00"
      ]
     },
     "execution_count": 19,
     "metadata": {},
     "output_type": "execute_result"
    }
   ],
   "source": [
    "x = x + d                     # depreciacion\n",
    "x                             # ingreso antes de impuestos"
   ]
  },
  {
   "cell_type": "code",
   "execution_count": 20,
   "metadata": {
    "collapsed": false
   },
   "outputs": [
    {
     "data": {
      "text/plain": [
       "  time                Values\n",
       "-----------------------------\n",
       "  0                   162.50\n",
       "  1                   130.00\n",
       "  2                   136.50\n",
       "  3                   143.00\n",
       "  4                   149.50\n",
       "  5                   156.00"
      ]
     },
     "execution_count": 20,
     "metadata": {},
     "output_type": "execute_result"
    }
   ],
   "source": [
    "x = x + cf.afterTaxCashflow(x, taxRate = 0.35) # impuesto de renta del 35%\n",
    "x                                              # ingreso despues de impuestos"
   ]
  },
  {
   "cell_type": "code",
   "execution_count": 21,
   "metadata": {
    "collapsed": false
   },
   "outputs": [
    {
     "data": {
      "text/plain": [
       "  time                Values\n",
       "-----------------------------\n",
       "  0                   162.50\n",
       "  1                   180.00\n",
       "  2                   176.50\n",
       "  3                   173.00\n",
       "  4                   169.50\n",
       "  5                   166.00"
      ]
     },
     "execution_count": 21,
     "metadata": {},
     "output_type": "execute_result"
    }
   ],
   "source": [
    "x - d  # flujo de caja"
   ]
  },
  {
   "cell_type": "markdown",
   "metadata": {},
   "source": [
    "# Cuentas de Ahorros"
   ]
  },
  {
   "cell_type": "markdown",
   "metadata": {},
   "source": [
    "[Contenido](#Contenido)"
   ]
  },
  {
   "cell_type": "markdown",
   "metadata": {},
   "source": [
    "**Ejercicio.--** Construya el balance para 12 meses, si habre una cuenta de ahorro que paga el 2% mensual, y hace 12 depósitos de \\$ 100 (puede usar Microsoft Excel)."
   ]
  },
  {
   "cell_type": "code",
   "execution_count": null,
   "metadata": {
    "collapsed": true
   },
   "outputs": [],
   "source": []
  },
  {
   "cell_type": "markdown",
   "metadata": {},
   "source": [
    "**Ejercicio.--** Para el ejercicio anterior, cuánto es la suma de los intereses aritmética de los intereses recibidos?"
   ]
  },
  {
   "cell_type": "code",
   "execution_count": null,
   "metadata": {
    "collapsed": true
   },
   "outputs": [],
   "source": []
  },
  {
   "cell_type": "markdown",
   "metadata": {},
   "source": [
    "**Ejercicio.--** Construya el balance para 12 meses, si usted tiene una cuenta de ahorro que paga el 2% mensual con un capital inicial de \\$ 1000, y hace retiros mensuales de \\$ 100 iniciando hoy (puede usar Microsoft Excel)."
   ]
  },
  {
   "cell_type": "code",
   "execution_count": null,
   "metadata": {
    "collapsed": true
   },
   "outputs": [],
   "source": []
  },
  {
   "cell_type": "markdown",
   "metadata": {},
   "source": [
    "**Ejercicio.--** Para el ejercicio anterior, cuánto es la suma de los intereses aritmética de los intereses recibidos?"
   ]
  },
  {
   "cell_type": "code",
   "execution_count": null,
   "metadata": {
    "collapsed": true
   },
   "outputs": [],
   "source": []
  },
  {
   "cell_type": "markdown",
   "metadata": {},
   "source": [
    "# Modelado de cuentas de ahorro usando cashflow"
   ]
  },
  {
   "cell_type": "markdown",
   "metadata": {},
   "source": [
    "[Contenido](#Contenido)"
   ]
  },
  {
   "cell_type": "markdown",
   "metadata": {},
   "source": [
    "**`cashflow`** permite el modelado de cuentas de ahorro (e intrumentos financieros similares)."
   ]
  },
  {
   "cell_type": "markdown",
   "metadata": {},
   "source": [
    "**Ejemplo.--** Construya el balance para 12 meses, si habre una cuenta de ahorro que paga el 2% mensual, y hace 13 depósitos de \\$ 100 (con el primer depósito se abre la cuenta)."
   ]
  },
  {
   "cell_type": "code",
   "execution_count": 22,
   "metadata": {
    "collapsed": false,
    "scrolled": true
   },
   "outputs": [
    {
     "data": {
      "text/plain": [
       "\n",
       "   t          Beginning        Deposit      Interest        Ending\n",
       "                balance                                    balance\n",
       "-------------------------------------------------------------------\n",
       "   0               0.00        100.00          0.00        100.00\n",
       "   1             100.00        100.00          2.00        202.00\n",
       "   2             202.00        100.00          4.04        306.04\n",
       "   3             306.04        100.00          6.12        412.16\n",
       "   4             412.16        100.00          8.24        520.40\n",
       "   5             520.40        100.00         10.41        630.81\n",
       "   6             630.81        100.00         12.62        743.43\n",
       "   7             743.43        100.00         14.87        858.30\n",
       "   8             858.30        100.00         17.17        975.46\n",
       "   9             975.46        100.00         19.51       1094.97\n",
       "  10            1094.97        100.00         21.90       1216.87\n",
       "  11            1216.87        100.00         24.34       1341.21\n",
       "  12            1341.21        100.00         26.82       1468.03"
      ]
     },
     "execution_count": 22,
     "metadata": {},
     "output_type": "execute_result"
    }
   ],
   "source": [
    "x = cf.Savings(deposits = 100,       # deposito periodico     \n",
    "               initbal  =    0,      # balance inicial\n",
    "               rate     =    0.02,   # tasa de interes mensual \n",
    "               nper     =   12)      # número de periodos\n",
    "x"
   ]
  },
  {
   "cell_type": "code",
   "execution_count": 23,
   "metadata": {
    "collapsed": false
   },
   "outputs": [
    {
     "data": {
      "text/plain": [
       "  time                Values\n",
       "-----------------------------\n",
       "  0                     0.00\n",
       "  1                     2.00\n",
       "  2                     4.04\n",
       "  3                     6.12\n",
       "  4                     8.24\n",
       "  5                    10.41\n",
       "  6                    12.62\n",
       "  7                    14.87\n",
       "  8                    17.17\n",
       "  9                    19.51\n",
       "  10                   21.90\n",
       "  11                   24.34\n",
       "  12                   26.82"
      ]
     },
     "execution_count": 23,
     "metadata": {},
     "output_type": "execute_result"
    }
   ],
   "source": [
    "x.interest()  ## intereses obtenidos como un flujo de efectivo"
   ]
  },
  {
   "cell_type": "code",
   "execution_count": 24,
   "metadata": {
    "collapsed": false,
    "scrolled": true
   },
   "outputs": [
    {
     "data": {
      "text/plain": [
       "[0,\n",
       " 2.0,\n",
       " 4.04,\n",
       " 6.120800000000001,\n",
       " 8.243216,\n",
       " 10.40808032,\n",
       " 12.616241926399999,\n",
       " 14.868566764927998,\n",
       " 17.16593810022656,\n",
       " 19.50925686223109,\n",
       " 21.89944199947571,\n",
       " 24.337430839465224,\n",
       " 26.82417945625453]"
      ]
     },
     "execution_count": 24,
     "metadata": {},
     "output_type": "execute_result"
    }
   ],
   "source": [
    "x.interest().tolist() ## intereses como lista "
   ]
  },
  {
   "cell_type": "code",
   "execution_count": 25,
   "metadata": {
    "collapsed": false
   },
   "outputs": [
    {
     "data": {
      "text/plain": [
       "168.03315226898113"
      ]
     },
     "execution_count": 25,
     "metadata": {},
     "output_type": "execute_result"
    }
   ],
   "source": [
    "sum(x.interest().tolist()) ## suma aritmética de los intereses"
   ]
  },
  {
   "cell_type": "code",
   "execution_count": 26,
   "metadata": {
    "collapsed": false
   },
   "outputs": [
    {
     "data": {
      "text/plain": [
       "[100,\n",
       " 202.0,\n",
       " 306.04,\n",
       " 412.1608,\n",
       " 520.404016,\n",
       " 630.8120963199999,\n",
       " 743.4283382463999,\n",
       " 858.2969050113279,\n",
       " 975.4628431115544,\n",
       " 1094.9720999737854,\n",
       " 1216.8715419732612,\n",
       " 1341.2089728127264,\n",
       " 1468.033152268981]"
      ]
     },
     "execution_count": 26,
     "metadata": {},
     "output_type": "execute_result"
    }
   ],
   "source": [
    "x.endbal().tolist()"
   ]
  },
  {
   "cell_type": "code",
   "execution_count": 27,
   "metadata": {
    "collapsed": false
   },
   "outputs": [
    {
     "data": {
      "text/plain": [
       "[100, 100, 100, 100, 100, 100, 100, 100, 100, 100, 100, 100, 100]"
      ]
     },
     "execution_count": 27,
     "metadata": {},
     "output_type": "execute_result"
    }
   ],
   "source": [
    "x.deposits().tolist()"
   ]
  },
  {
   "cell_type": "code",
   "execution_count": 28,
   "metadata": {
    "collapsed": false
   },
   "outputs": [
    {
     "data": {
      "text/plain": [
       "  time                Values\n",
       "-----------------------------\n",
       "  0-12                  0.00"
      ]
     },
     "execution_count": 28,
     "metadata": {},
     "output_type": "execute_result"
    }
   ],
   "source": [
    "x.toCashflow()"
   ]
  },
  {
   "cell_type": "markdown",
   "metadata": {},
   "source": [
    "**Ejemplo.--** Realice el mismo ejemplo anterior, pero considerando que la tasa de interes es del 4% a partir de $t$ = 5."
   ]
  },
  {
   "cell_type": "code",
   "execution_count": 29,
   "metadata": {
    "collapsed": false
   },
   "outputs": [
    {
     "data": {
      "text/plain": [
       "\n",
       "   t          Beginning        Deposit      Interest        Ending\n",
       "                balance                                    balance\n",
       "-------------------------------------------------------------------\n",
       "   0               0.00        100.00          0.00        100.00\n",
       "   1             100.00        100.00          2.00        202.00\n",
       "   2             202.00        100.00          4.04        306.04\n",
       "   3             306.04        100.00          6.12        412.16\n",
       "   4             412.16        100.00          8.24        520.40\n",
       "   5             520.40        100.00         20.82        641.22\n",
       "   6             641.22        100.00         25.65        766.87\n",
       "   7             766.87        100.00         30.67        897.54\n",
       "   8             897.54        100.00         35.90       1033.45\n",
       "   9            1033.45        100.00         41.34       1174.78\n",
       "  10            1174.78        100.00         46.99       1321.77\n",
       "  11            1321.77        100.00         52.87       1474.65\n",
       "  12            1474.65        100.00         58.99       1633.63"
      ]
     },
     "execution_count": 29,
     "metadata": {},
     "output_type": "execute_result"
    }
   ],
   "source": [
    "cf.Savings(deposits = 100,            \n",
    "           initbal  =    0,      \n",
    "           rate     =    cf.Rate(0.02, 12, (5, 0.04)),    \n",
    "           nper     =   12)      "
   ]
  },
  {
   "cell_type": "markdown",
   "metadata": {},
   "source": [
    "**Ejemplo.--** Se tiene una cuenta con un saldo inicial de \\$ 100. Se hacen depósitos  al final de cada trimestre por \\$ 50 (se hará el primer depósito en 3 meses). La tasa de interés es del 2% mensual y cambiará a 1% a partir del 13avo mes (incluido). Cuál será el saldo al final de mes 24?. "
   ]
  },
  {
   "cell_type": "code",
   "execution_count": 30,
   "metadata": {
    "collapsed": false
   },
   "outputs": [
    {
     "data": {
      "text/plain": [
       "\n",
       "   t          Beginning        Deposit      Interest        Ending\n",
       "                balance                                    balance\n",
       "-------------------------------------------------------------------\n",
       "   0             100.00          0.00          0.00        100.00\n",
       "   1             100.00          0.00          2.00        102.00\n",
       "   2             102.00          0.00          2.04        104.04\n",
       "   3             104.04         50.00          2.08        156.12\n",
       "   4             156.12          0.00          3.12        159.24\n",
       "   5             159.24          0.00          3.18        162.43\n",
       "   6             162.43         50.00          3.25        215.68\n",
       "   7             215.68          0.00          4.31        219.99\n",
       "   8             219.99          0.00          4.40        224.39\n",
       "   9             224.39         50.00          4.49        278.88\n",
       "  10             278.88          0.00          5.58        284.46\n",
       "  11             284.46          0.00          5.69        290.14\n",
       "  12             290.14         50.00          5.80        345.95\n",
       "  13             345.95          0.00          3.46        349.41\n",
       "  14             349.41          0.00          3.49        352.90\n",
       "  15             352.90         50.00          3.53        406.43\n",
       "  16             406.43          0.00          4.06        410.49\n",
       "  17             410.49          0.00          4.10        414.60\n",
       "  18             414.60         50.00          4.15        468.75\n",
       "  19             468.75          0.00          4.69        473.43\n",
       "  20             473.43          0.00          4.73        478.17\n",
       "  21             478.17         50.00          4.78        532.95\n",
       "  22             532.95          0.00          5.33        538.28\n",
       "  23             538.28          0.00          5.38        543.66\n",
       "  24             543.66         50.00          5.44        599.10"
      ]
     },
     "execution_count": 30,
     "metadata": {},
     "output_type": "execute_result"
    }
   ],
   "source": [
    "x = cf.Savings(deposits = cf.Cashflow(24, [(t, 50) for t in range(3,25,3)]),            \n",
    "               initbal  = 100,      \n",
    "               rate     = cf.Rate(0.02, 24, (13, 0.01)),    \n",
    "               nper     =  24)\n",
    "x"
   ]
  },
  {
   "cell_type": "code",
   "execution_count": 31,
   "metadata": {
    "collapsed": false
   },
   "outputs": [
    {
     "data": {
      "text/plain": [
       "99.0974304203861"
      ]
     },
     "execution_count": 31,
     "metadata": {},
     "output_type": "execute_result"
    }
   ],
   "source": [
    "## sum aritmética de los intereses\n",
    "sum(x.interest())"
   ]
  },
  {
   "cell_type": "code",
   "execution_count": 32,
   "metadata": {
    "collapsed": false
   },
   "outputs": [
    {
     "data": {
      "text/plain": [
       "400"
      ]
     },
     "execution_count": 32,
     "metadata": {},
     "output_type": "execute_result"
    }
   ],
   "source": [
    "## suma aritmética de los depositos\n",
    "sum(x.deposits())"
   ]
  },
  {
   "cell_type": "code",
   "execution_count": 33,
   "metadata": {
    "collapsed": false
   },
   "outputs": [
    {
     "data": {
      "text/plain": [
       "499.0974304203861"
      ]
     },
     "execution_count": 33,
     "metadata": {},
     "output_type": "execute_result"
    }
   ],
   "source": [
    "sum(x.deposits() + x.interest())"
   ]
  },
  {
   "cell_type": "markdown",
   "metadata": {},
   "source": [
    "# Préstamos"
   ]
  },
  {
   "cell_type": "markdown",
   "metadata": {},
   "source": [
    "## Bullet Loan"
   ]
  },
  {
   "cell_type": "markdown",
   "metadata": {},
   "source": [
    "Este es un tipo de préstamo en que se pagan únicamente intereses durante la vida del crédito; con la última cuota se paga el capital."
   ]
  },
  {
   "cell_type": "markdown",
   "metadata": {},
   "source": [
    "En el siguiente ejemplo se usa **`cashflow`** para modelar un préstamo de \\$ 1000 a una tasa de interés del 10% y una duración de 10 periodos de tiempo."
   ]
  },
  {
   "cell_type": "code",
   "execution_count": 34,
   "metadata": {
    "collapsed": false
   },
   "outputs": [
    {
     "data": {
      "text/plain": [
       "\n",
       "   t          Beginning         Total      Interest     Principal        Ending\n",
       "              Principal       Payment       Payment       Payment     Principal\n",
       "--------------------------------------------------------------------------------\n",
       "   0            1000.00          0.00          0.00          0.00       1000.00\n",
       "   1            1000.00        100.00        100.00          0.00       1000.00\n",
       "   2            1000.00        100.00        100.00          0.00       1000.00\n",
       "   3            1000.00        100.00        100.00          0.00       1000.00\n",
       "   4            1000.00        100.00        100.00          0.00       1000.00\n",
       "   5            1000.00        100.00        100.00          0.00       1000.00\n",
       "   6            1000.00        100.00        100.00          0.00       1000.00\n",
       "   7            1000.00        100.00        100.00          0.00       1000.00\n",
       "   8            1000.00        100.00        100.00          0.00       1000.00\n",
       "   9            1000.00        100.00        100.00          0.00       1000.00\n",
       "  10            1000.00       1100.00        100.00       1000.00          0.00"
      ]
     },
     "execution_count": 34,
     "metadata": {},
     "output_type": "execute_result"
    }
   ],
   "source": [
    "x = cf.bulletLoan(amount     = 1000,     # monto\n",
    "                  rate       =    0.10,  # tasa de interes\n",
    "                  life       =   10)     # número de cuotas\n",
    "x"
   ]
  },
  {
   "cell_type": "code",
   "execution_count": 35,
   "metadata": {
    "collapsed": false
   },
   "outputs": [
    {
     "data": {
      "text/plain": [
       "  time                Values\n",
       "-----------------------------\n",
       "  0                     0.00\n",
       "  1-10                100.00"
      ]
     },
     "execution_count": 35,
     "metadata": {},
     "output_type": "execute_result"
    }
   ],
   "source": [
    "##\n",
    "## todos los tipos de créditos tiene funciones \n",
    "## para obtener las columnas de la tabla de \n",
    "## amortizacion como un flujo de efectivo\n",
    "##\n",
    "x.interest()"
   ]
  },
  {
   "cell_type": "code",
   "execution_count": 36,
   "metadata": {
    "collapsed": false
   },
   "outputs": [
    {
     "data": {
      "text/plain": [
       "1000.0"
      ]
     },
     "execution_count": 36,
     "metadata": {},
     "output_type": "execute_result"
    }
   ],
   "source": [
    "sum(x.interest())"
   ]
  },
  {
   "cell_type": "code",
   "execution_count": 37,
   "metadata": {
    "collapsed": false
   },
   "outputs": [
    {
     "data": {
      "text/plain": [
       "  time                Values\n",
       "-----------------------------\n",
       "  0-9                   0.00\n",
       "  10                 1000.00"
      ]
     },
     "execution_count": 37,
     "metadata": {},
     "output_type": "execute_result"
    }
   ],
   "source": [
    "x.ppalpmt()  ## pagos a capital"
   ]
  },
  {
   "cell_type": "code",
   "execution_count": 38,
   "metadata": {
    "collapsed": false
   },
   "outputs": [
    {
     "data": {
      "text/plain": [
       "  time                Values\n",
       "-----------------------------\n",
       "  0-10               1000.00"
      ]
     },
     "execution_count": 38,
     "metadata": {},
     "output_type": "execute_result"
    }
   ],
   "source": [
    "x.begbal() ## balance inicial del periodo"
   ]
  },
  {
   "cell_type": "code",
   "execution_count": 39,
   "metadata": {
    "collapsed": false
   },
   "outputs": [
    {
     "data": {
      "text/plain": [
       "  time                Values\n",
       "-----------------------------\n",
       "  0-9                1000.00\n",
       "  10                    0.00"
      ]
     },
     "execution_count": 39,
     "metadata": {},
     "output_type": "execute_result"
    }
   ],
   "source": [
    "x.endbal() ## balance final del periodo"
   ]
  },
  {
   "cell_type": "code",
   "execution_count": 40,
   "metadata": {
    "collapsed": false
   },
   "outputs": [
    {
     "data": {
      "text/plain": [
       "\n",
       "   t          Beginning         Total      Interest     Principal        Ending\n",
       "              Principal       Payment       Payment       Payment     Principal\n",
       "--------------------------------------------------------------------------------\n",
       "   0            1000.00          0.00          0.00          0.00       1000.00\n",
       "   1            1000.00        100.00        100.00          0.00       1000.00\n",
       "   2            1000.00        100.00        100.00          0.00       1000.00\n",
       "   3            1000.00        100.00        100.00          0.00       1000.00\n",
       "   4            1000.00        100.00        100.00          0.00       1000.00\n",
       "   5            1000.00        600.00        100.00        500.00        500.00\n",
       "   6             500.00         50.00         50.00          0.00        500.00\n",
       "   7             500.00         50.00         50.00          0.00        500.00\n",
       "   8             500.00         50.00         50.00          0.00        500.00\n",
       "   9             500.00         50.00         50.00          0.00        500.00\n",
       "  10             500.00        550.00         50.00        500.00          0.00"
      ]
     },
     "execution_count": 40,
     "metadata": {},
     "output_type": "execute_result"
    }
   ],
   "source": [
    "##\n",
    "## se admiten el prepago de la deuda sin penalizacion\n",
    "## a continuación se modela un prepago de deuda de \\$ 500 en t = 5\n",
    "##\n",
    "cf.bulletLoan(amount     = 1000,                         # monto\n",
    "              rate       =    0.10,                      # tasa de interés\n",
    "              life       =   10,                         # número de cuotas\n",
    "              prepmt     =    cf.Cashflow(10, (5, 500))) # prepago de $ 1000 en t = 5"
   ]
  },
  {
   "cell_type": "code",
   "execution_count": 41,
   "metadata": {
    "collapsed": false
   },
   "outputs": [
    {
     "data": {
      "text/plain": [
       "\n",
       "   t          Beginning         Total      Interest     Principal        Ending\n",
       "              Principal       Payment       Payment       Payment     Principal\n",
       "--------------------------------------------------------------------------------\n",
       "   0            1000.00          0.00          0.00          0.00       1000.00\n",
       "   1            1000.00        100.00        100.00          0.00       1000.00\n",
       "   2            1000.00        100.00        100.00          0.00       1000.00\n",
       "   3            1000.00        100.00        100.00          0.00       1000.00\n",
       "   4            1000.00        100.00        100.00          0.00       1000.00\n",
       "   5            1000.00       1100.00        100.00       1000.00          0.00\n",
       "   6               0.00          0.00          0.00          0.00          0.00\n",
       "   7               0.00          0.00          0.00          0.00          0.00\n",
       "   8               0.00          0.00          0.00          0.00          0.00\n",
       "   9               0.00          0.00          0.00          0.00          0.00\n",
       "  10               0.00          0.00          0.00          0.00          0.00"
      ]
     },
     "execution_count": 41,
     "metadata": {},
     "output_type": "execute_result"
    }
   ],
   "source": [
    "##\n",
    "## Si el prepago de deuda es superior al monto, \n",
    "## se ajusta al saldo\n",
    "##\n",
    "cf.bulletLoan(amount     = 1000, \n",
    "              rate       =    0.10, \n",
    "              life       =   10, \n",
    "              prepmt     =    cf.Cashflow(10, (5, 5000)))"
   ]
  },
  {
   "cell_type": "code",
   "execution_count": 42,
   "metadata": {
    "collapsed": false,
    "scrolled": true
   },
   "outputs": [
    {
     "data": {
      "text/plain": [
       "\n",
       "   t          Beginning         Total      Interest     Principal        Ending\n",
       "              Principal       Payment       Payment       Payment     Principal\n",
       "--------------------------------------------------------------------------------\n",
       "   0            1000.00          0.00          0.00          0.00       1000.00\n",
       "   1            1000.00        100.00        100.00          0.00       1000.00\n",
       "   2            1000.00        100.00        100.00          0.00       1000.00\n",
       "   3            1000.00        100.00        100.00          0.00       1000.00\n",
       "   4            1000.00        100.00        100.00          0.00       1000.00\n",
       "   5            1000.00        100.00        100.00          0.00       1000.00\n",
       "   6            1000.00         80.00         80.00          0.00       1000.00\n",
       "   7            1000.00         80.00         80.00          0.00       1000.00\n",
       "   8            1000.00         80.00         80.00          0.00       1000.00\n",
       "   9            1000.00         80.00         80.00          0.00       1000.00\n",
       "  10            1000.00       1080.00         80.00       1000.00          0.00"
      ]
     },
     "execution_count": 42,
     "metadata": {},
     "output_type": "execute_result"
    }
   ],
   "source": [
    "##\n",
    "## este tipo de crédito admite una tasa de interés variable\n",
    "##\n",
    "cf.bulletLoan(amount     = 1000,  # monto\n",
    "              rate       =    cf.Rate(initRate = 0.10,              # tasa de interes\n",
    "                                      nper = 10,                    # número de periodos del crédito\n",
    "                                      modifications = (6, 0.08)),   # cambia en el periodo 6\n",
    "              life       =   10) # número de cuotas"
   ]
  },
  {
   "cell_type": "markdown",
   "metadata": {},
   "source": [
    "## Fixed loan"
   ]
  },
  {
   "cell_type": "code",
   "execution_count": 43,
   "metadata": {
    "collapsed": false
   },
   "outputs": [
    {
     "data": {
      "text/plain": [
       "\n",
       "   t          Beginning         Total      Interest     Principal        Ending\n",
       "              Principal       Payment       Payment       Payment     Principal\n",
       "--------------------------------------------------------------------------------\n",
       "   0            1000.00          0.00          0.00          0.00       1000.00\n",
       "   1            1000.00        200.00        100.00        100.00        900.00\n",
       "   2             900.00        190.00         90.00        100.00        800.00\n",
       "   3             800.00        180.00         80.00        100.00        700.00\n",
       "   4             700.00        170.00         70.00        100.00        600.00\n",
       "   5             600.00        160.00         60.00        100.00        500.00\n",
       "   6             500.00        150.00         50.00        100.00        400.00\n",
       "   7             400.00        140.00         40.00        100.00        300.00\n",
       "   8             300.00        130.00         30.00        100.00        200.00\n",
       "   9             200.00        120.00         20.00        100.00        100.00\n",
       "  10             100.00        110.00         10.00        100.00          0.00"
      ]
     },
     "execution_count": 43,
     "metadata": {},
     "output_type": "execute_result"
    }
   ],
   "source": [
    "##\n",
    "## Este tipo es similar a las anteriores, pero siempre \n",
    "## se abona la misma cantidad a capital. El pago periodico\n",
    "## es igual al abono a capital más el interés sobre saldos.\n",
    "##\n",
    "cf.fixedLoan(amount     = 1000,      # monto\n",
    "               rate     =    0.10,   # tasa de interés por periodo\n",
    "               life     =   10)      # número de cuotas"
   ]
  },
  {
   "cell_type": "code",
   "execution_count": 44,
   "metadata": {
    "collapsed": false
   },
   "outputs": [
    {
     "data": {
      "text/plain": [
       "\n",
       "   t          Beginning         Total      Interest     Principal        Ending\n",
       "              Principal       Payment       Payment       Payment     Principal\n",
       "--------------------------------------------------------------------------------\n",
       "   0            1000.00          0.00          0.00          0.00       1000.00\n",
       "   1            1000.00        100.00        100.00          0.00       1000.00\n",
       "   2            1000.00        100.00        100.00          0.00       1000.00\n",
       "   3            1000.00        100.00        100.00          0.00       1000.00\n",
       "   4            1000.00        200.00        100.00        100.00        900.00\n",
       "   5             900.00        190.00         90.00        100.00        800.00\n",
       "   6             800.00        180.00         80.00        100.00        700.00\n",
       "   7             700.00        170.00         70.00        100.00        600.00\n",
       "   8             600.00        160.00         60.00        100.00        500.00\n",
       "   9             500.00        150.00         50.00        100.00        400.00\n",
       "  10             400.00        140.00         40.00        100.00        300.00\n",
       "  11             300.00        130.00         30.00        100.00        200.00\n",
       "  12             200.00        120.00         20.00        100.00        100.00\n",
       "  13             100.00        110.00         10.00        100.00          0.00"
      ]
     },
     "execution_count": 44,
     "metadata": {},
     "output_type": "execute_result"
    }
   ],
   "source": [
    "##\n",
    "## periodo de gracia\n",
    "##\n",
    "cf.fixedLoan(amount     = 1000,      # monto\n",
    "               rate     =    0.10,   # tasa de interés por periodo\n",
    "               grace    =    3,      # periodo de gracia\n",
    "               life     =   10)      # número de cuotas"
   ]
  },
  {
   "cell_type": "code",
   "execution_count": 45,
   "metadata": {
    "collapsed": false
   },
   "outputs": [
    {
     "data": {
      "text/plain": [
       "\n",
       "   t          Beginning         Total      Interest     Principal        Ending\n",
       "              Principal       Payment       Payment       Payment     Principal\n",
       "--------------------------------------------------------------------------------\n",
       "   0            1000.00          0.00          0.00          0.00       1000.00\n",
       "   1            1000.00        200.00        100.00        100.00        900.00\n",
       "   2             900.00        190.00         90.00        100.00        800.00\n",
       "   3             800.00        180.00         80.00        100.00        700.00\n",
       "   4             700.00        170.00         70.00        100.00        600.00\n",
       "   5             600.00        160.00         60.00        100.00        500.00\n",
       "   6             500.00        140.00         40.00        100.00        400.00\n",
       "   7             400.00        132.00         32.00        100.00        300.00\n",
       "   8             300.00        124.00         24.00        100.00        200.00\n",
       "   9             200.00        116.00         16.00        100.00        100.00\n",
       "  10             100.00        108.00          8.00        100.00          0.00"
      ]
     },
     "execution_count": 45,
     "metadata": {},
     "output_type": "execute_result"
    }
   ],
   "source": [
    "##\n",
    "## este tipo de crédito admite una tasa de interés variable\n",
    "##\n",
    "cf.fixedLoan(amount     = 1000,  # monto\n",
    "             rate       =    cf.Rate(initRate = 0.10,              # tasa de interes\n",
    "                                     nper = 10,                    # número de periodos del crédito\n",
    "                                     modifications = (6, 0.08)),   # cambia en el periodo 6\n",
    "             life       =   10) # número de cuotas"
   ]
  },
  {
   "cell_type": "code",
   "execution_count": 46,
   "metadata": {
    "collapsed": false,
    "scrolled": true
   },
   "outputs": [
    {
     "data": {
      "text/plain": [
       "\n",
       "   t          Beginning         Total      Interest     Principal        Ending\n",
       "              Principal       Payment       Payment       Payment     Principal\n",
       "--------------------------------------------------------------------------------\n",
       "   0            1000.00          0.00          0.00          0.00       1000.00\n",
       "   1            1000.00        150.00        100.00         50.00        950.00\n",
       "   2             950.00        145.00         95.00         50.00        900.00\n",
       "   3             900.00        140.00         90.00         50.00        850.00\n",
       "   4             850.00        135.00         85.00         50.00        800.00\n",
       "   5             800.00        630.00         80.00        550.00        250.00\n",
       "   6             250.00         75.00         25.00         50.00        200.00\n",
       "   7             200.00         70.00         20.00         50.00        150.00\n",
       "   8             150.00         65.00         15.00         50.00        100.00\n",
       "   9             100.00         60.00         10.00         50.00         50.00\n",
       "  10              50.00         55.00          5.00         50.00          0.00"
      ]
     },
     "execution_count": 46,
     "metadata": {},
     "output_type": "execute_result"
    }
   ],
   "source": [
    "##\n",
    "## este tipo de crédito admite pagos adicionales programados\n",
    "## como abono a la deuda\n",
    "##\n",
    "cf.fixedLoan(amount     = 1000,     # monto\n",
    "             rate       =    0.10,  # tasa de interés\n",
    "             life       =   10,     # número de cuotas\n",
    "             balloonpmt = cf.Cashflow(10, (5, 500)))"
   ]
  },
  {
   "cell_type": "code",
   "execution_count": 47,
   "metadata": {
    "collapsed": false
   },
   "outputs": [
    {
     "data": {
      "text/plain": [
       "\n",
       "   t          Beginning         Total      Interest     Principal        Ending\n",
       "              Principal       Payment       Payment       Payment     Principal\n",
       "--------------------------------------------------------------------------------\n",
       "   0            1000.00          0.00          0.00          0.00       1000.00\n",
       "   1            1000.00        150.00        100.00         50.00        950.00\n",
       "   2             950.00        145.00         95.00         50.00        900.00\n",
       "   3             900.00        140.00         90.00         50.00        850.00\n",
       "   4             850.00        135.00         85.00         50.00        800.00\n",
       "   5             800.00        630.00         80.00        550.00        250.00\n",
       "   6             250.00         70.00         20.00         50.00        200.00\n",
       "   7             200.00         66.00         16.00         50.00        150.00\n",
       "   8             150.00         62.00         12.00         50.00        100.00\n",
       "   9             100.00         58.00          8.00         50.00         50.00\n",
       "  10              50.00         54.00          4.00         50.00          0.00"
      ]
     },
     "execution_count": 47,
     "metadata": {},
     "output_type": "execute_result"
    }
   ],
   "source": [
    "##\n",
    "## este tipo de crédito admite una tasa de interés variable\n",
    "##\n",
    "cf.fixedLoan(amount     = 1000,  # monto\n",
    "             rate       =    cf.Rate(initRate = 0.10,              # tasa de interes\n",
    "                                     nper = 10,                    # número de periodos del crédito\n",
    "                                     modifications = (6, 0.08)),   # cambia en el periodo 6\n",
    "             life       =   10, # número de cuotas\n",
    "             balloonpmt = cf.Cashflow(10, (5, 500)))"
   ]
  },
  {
   "cell_type": "code",
   "execution_count": 48,
   "metadata": {
    "collapsed": false
   },
   "outputs": [
    {
     "data": {
      "text/plain": [
       "\n",
       "   t          Beginning         Total      Interest     Principal        Ending\n",
       "              Principal       Payment       Payment       Payment     Principal\n",
       "--------------------------------------------------------------------------------\n",
       "   0            1000.00          0.00          0.00          0.00       1000.00\n",
       "   1            1000.00        100.00        100.00          0.00       1000.00\n",
       "   2            1000.00        100.00        100.00          0.00       1000.00\n",
       "   3            1000.00        100.00        100.00          0.00       1000.00\n",
       "   4            1000.00        100.00        100.00          0.00       1000.00\n",
       "   5            1000.00        600.00        100.00        500.00        500.00\n",
       "   6             500.00         90.00         40.00         50.00        450.00\n",
       "   7             450.00         86.00         36.00         50.00        400.00\n",
       "   8             400.00         82.00         32.00         50.00        350.00\n",
       "   9             350.00         78.00         28.00         50.00        300.00\n",
       "  10             300.00         74.00         24.00         50.00        250.00\n",
       "  11             250.00         70.00         20.00         50.00        200.00\n",
       "  12             200.00         66.00         16.00         50.00        150.00\n",
       "  13             150.00         62.00         12.00         50.00        100.00\n",
       "  14             100.00         58.00          8.00         50.00         50.00\n",
       "  15              50.00         54.00          4.00         50.00          0.00"
      ]
     },
     "execution_count": 48,
     "metadata": {},
     "output_type": "execute_result"
    }
   ],
   "source": [
    "##\n",
    "## ejemplo anterior con periodo de gracia\n",
    "##\n",
    "cf.fixedLoan(amount     = 1000,  # monto\n",
    "             rate       =    cf.Rate(initRate = 0.10,              # tasa de interes\n",
    "                                     nper = 10,                    # número de periodos del crédito\n",
    "                                     modifications = (6, 0.08)),   # cambia en el periodo 6\n",
    "             life       =   10, # número de cuotas\n",
    "             grace      =    5,\n",
    "             balloonpmt = cf.Cashflow(10, (5, 500)))"
   ]
  },
  {
   "cell_type": "markdown",
   "metadata": {
    "collapsed": true
   },
   "source": [
    "## Ballon loan"
   ]
  },
  {
   "cell_type": "markdown",
   "metadata": {
    "collapsed": true
   },
   "source": [
    "En este tipo de créditos el pago se realiza en cuotas fijas. La tasa de interés es fija (no cambia en el tiempo). En el siguiente ejemplo se modela un préstamo de \\$ 1000 a un plazo de 10 años y una tasa del 10%.  "
   ]
  },
  {
   "cell_type": "code",
   "execution_count": 49,
   "metadata": {
    "collapsed": false,
    "scrolled": true
   },
   "outputs": [
    {
     "data": {
      "text/plain": [
       "\n",
       "   t          Beginning         Total      Interest     Principal        Ending\n",
       "              Principal       Payment       Payment       Payment     Principal\n",
       "--------------------------------------------------------------------------------\n",
       "   0            1000.00          0.00          0.00          0.00       1000.00\n",
       "   1            1000.00        162.75        100.00         62.75        937.25\n",
       "   2             937.25        162.75         93.73         69.02        868.23\n",
       "   3             868.23        162.75         86.82         75.92        792.31\n",
       "   4             792.31        162.75         79.23         83.51        708.80\n",
       "   5             708.80        162.75         70.88         91.87        616.93\n",
       "   6             616.93        162.75         61.69        101.05        515.88\n",
       "   7             515.88        162.75         51.59        111.16        404.72\n",
       "   8             404.72        162.75         40.47        122.27        282.45\n",
       "   9             282.45        162.75         28.25        134.50        147.95\n",
       "  10             147.95        162.75         14.80        147.95          0.00"
      ]
     },
     "execution_count": 49,
     "metadata": {},
     "output_type": "execute_result"
    }
   ],
   "source": [
    "cf.balloonLoan(amount     = 1000,      # monto\n",
    "               rate       =    0.10,   # tasa de interés por periodo\n",
    "               life       =   10)      # número de cuotas"
   ]
  },
  {
   "cell_type": "code",
   "execution_count": 50,
   "metadata": {
    "collapsed": false
   },
   "outputs": [
    {
     "data": {
      "text/plain": [
       "\n",
       "   t          Beginning         Total      Interest     Principal        Ending\n",
       "              Principal       Payment       Payment       Payment     Principal\n",
       "--------------------------------------------------------------------------------\n",
       "   0            1000.00          0.00          0.00          0.00       1000.00\n",
       "   1            1000.00        100.00        100.00          0.00       1000.00\n",
       "   2            1000.00        100.00        100.00          0.00       1000.00\n",
       "   3            1000.00        100.00        100.00          0.00       1000.00\n",
       "   4            1000.00        162.75        100.00         62.75        937.25\n",
       "   5             937.25        162.75         93.73         69.02        868.23\n",
       "   6             868.23        162.75         86.82         75.92        792.31\n",
       "   7             792.31        162.75         79.23         83.51        708.80\n",
       "   8             708.80        162.75         70.88         91.87        616.93\n",
       "   9             616.93        162.75         61.69        101.05        515.88\n",
       "  10             515.88        162.75         51.59        111.16        404.72\n",
       "  11             404.72        162.75         40.47        122.27        282.45\n",
       "  12             282.45        162.75         28.25        134.50        147.95\n",
       "  13             147.95        162.75         14.80        147.95          0.00"
      ]
     },
     "execution_count": 50,
     "metadata": {},
     "output_type": "execute_result"
    }
   ],
   "source": [
    "##\n",
    "## es posible considerar un periodo de gracia \n",
    "## para el inicio del pago de capital\n",
    "##\n",
    "cf.balloonLoan(amount     = 1000,      # monto\n",
    "               rate       =    0.10,   # tasa de interés\n",
    "               grace      =    3,      # número de periodos de gracia\n",
    "               life       =   10)      # número de cuotas"
   ]
  },
  {
   "cell_type": "code",
   "execution_count": 51,
   "metadata": {
    "collapsed": false
   },
   "outputs": [
    {
     "data": {
      "text/plain": [
       "\n",
       "   t          Beginning         Total      Interest     Principal        Ending\n",
       "              Principal       Payment       Payment       Payment     Principal\n",
       "--------------------------------------------------------------------------------\n",
       "   0            1000.00          0.00          0.00          0.00       1000.00\n",
       "   1            1000.00        129.99        100.00         29.99        970.01\n",
       "   2             970.01        129.99         97.00         32.98        937.03\n",
       "   3             937.03        129.99         93.70         36.28        900.75\n",
       "   4             900.75        129.99         90.07         39.91        860.84\n",
       "   5             860.84        329.99         86.08        243.90        616.93\n",
       "   6             616.93        129.99         61.69         68.29        548.64\n",
       "   7             548.64        129.99         54.86         75.12        473.52\n",
       "   8             473.52        129.99         47.35         82.63        390.88\n",
       "   9             390.88        129.99         39.09         90.90        299.99\n",
       "  10             299.99        329.99         30.00        299.99          0.00"
      ]
     },
     "execution_count": 51,
     "metadata": {},
     "output_type": "execute_result"
    }
   ],
   "source": [
    "##\n",
    "## en éste tipo de crédito es posible considerar pagos adicionales\n",
    "## a los pagos periodicos con el fin de disminuir el monto periodico\n",
    "## en el siguiente ejemplo se supone pagos de \\$ 200\n",
    "## en los periodos 5 y 10\n",
    "##\n",
    "cf.balloonLoan(amount     = 1000, \n",
    "               rate       =    0.10, \n",
    "               life       =   10, \n",
    "               prepmt     = None, \n",
    "               ballonpmt  = cf.Cashflow(10, [(5, 200), (10, 200)]))\n",
    "##\n",
    "## note que las cuotas periodicas pasan de $ 162.75 a $ 129.99\n",
    "##"
   ]
  },
  {
   "cell_type": "code",
   "execution_count": 52,
   "metadata": {
    "collapsed": false,
    "scrolled": true
   },
   "outputs": [
    {
     "data": {
      "text/plain": [
       "\n",
       "   t          Beginning         Total      Interest     Principal        Ending\n",
       "              Principal       Payment       Payment       Payment     Principal\n",
       "--------------------------------------------------------------------------------\n",
       "   0            1000.00          0.00          0.00          0.00       1000.00\n",
       "   1            1000.00        129.99        100.00         29.99        970.01\n",
       "   2             970.01        129.99         97.00         32.98        937.03\n",
       "   3             937.03        229.99         93.70        136.28        800.75\n",
       "   4             800.75        129.99         80.07         49.91        750.84\n",
       "   5             750.84        329.99         75.08        254.90        495.93\n",
       "   6             495.93        129.99         49.59         80.39        415.54\n",
       "   7             415.54        229.99         41.55        188.43        227.11\n",
       "   8             227.11        129.99         22.71        107.28        119.83\n",
       "   9             119.83        129.99         11.98        118.00          1.83\n",
       "  10               1.83          2.01          0.18          1.83          0.00"
      ]
     },
     "execution_count": 52,
     "metadata": {},
     "output_type": "execute_result"
    }
   ],
   "source": [
    "##\n",
    "## este tipo de créditos tambien admiten el prepago de deuda\n",
    "## a continuación se modela el caso anterior con un prepago\n",
    "## de $ 100 en los periodos 3 y 7\n",
    "##\n",
    "cf.balloonLoan(amount     = 1000, \n",
    "               rate       =    0.10, \n",
    "               life       =   10, \n",
    "               prepmt     = cf.Cashflow(10, [(3, 100), ( 7, 100)]), \n",
    "               ballonpmt  = cf.Cashflow(10, [(5, 200), (10, 200)]))"
   ]
  },
  {
   "cell_type": "code",
   "execution_count": 53,
   "metadata": {
    "collapsed": false,
    "scrolled": true
   },
   "outputs": [
    {
     "data": {
      "text/plain": [
       "\n",
       "   t          Beginning         Total      Interest     Principal        Ending\n",
       "              Principal       Payment       Payment       Payment     Principal\n",
       "--------------------------------------------------------------------------------\n",
       "   0            1000.00          0.00          0.00          0.00       1000.00\n",
       "   1            1000.00        100.00        100.00          0.00       1000.00\n",
       "   2            1000.00        100.00        100.00          0.00       1000.00\n",
       "   3            1000.00        100.00        100.00          0.00       1000.00\n",
       "   4            1000.00        100.00        100.00          0.00       1000.00\n",
       "   5            1000.00        100.00        100.00          0.00       1000.00\n",
       "   6            1000.00        100.00        100.00          0.00       1000.00\n",
       "   7            1000.00        100.00        100.00          0.00       1000.00\n",
       "   8            1000.00        100.00        100.00          0.00       1000.00\n",
       "   9            1000.00        100.00        100.00          0.00       1000.00\n",
       "  10            1000.00       1100.00        100.00       1000.00          0.00"
      ]
     },
     "execution_count": 53,
     "metadata": {},
     "output_type": "execute_result"
    }
   ],
   "source": [
    "##\n",
    "## un crédito bullet puede modelarse como balloon \n",
    "## usando un prepago igual al monto de la deuda \n",
    "## \n",
    "cf.balloonLoan(amount    = 1000, \n",
    "               rate      =    0.10, \n",
    "               life      =   10, \n",
    "               ballonpmt = cf.Cashflow(10, (10, 1000)))"
   ]
  },
  {
   "cell_type": "markdown",
   "metadata": {},
   "source": [
    "## Buydown loans"
   ]
  },
  {
   "cell_type": "markdown",
   "metadata": {},
   "source": [
    "Este tipo de préstamo es similar a los préstamos de cuota fija (balloon loans) pero con tasa cambiante en el tiempo. No admiten cuotas adicionales para reducir el pago fijo periodico. Cuando hay un cambio en la tasa de interés, el pago periodico total se recalcula para reflejar el cambio de tasa de interés.  "
   ]
  },
  {
   "cell_type": "code",
   "execution_count": 54,
   "metadata": {
    "collapsed": false
   },
   "outputs": [
    {
     "data": {
      "text/plain": [
       "\n",
       "   t          Beginning         Total      Interest     Principal        Ending\n",
       "              Principal       Payment       Payment       Payment     Principal\n",
       "--------------------------------------------------------------------------------\n",
       "   0            1000.00          0.00          0.00          0.00       1000.00\n",
       "   1            1000.00        162.75        100.00         62.75        937.25\n",
       "   2             937.25        162.75         93.73         69.02        868.23\n",
       "   3             868.23        162.75         86.82         75.92        792.31\n",
       "   4             792.31        162.75         79.23         83.51        708.80\n",
       "   5             708.80        162.75         70.88         91.87        616.93\n",
       "   6             616.93        162.75         61.69        101.05        515.88\n",
       "   7             515.88        162.75         51.59        111.16        404.72\n",
       "   8             404.72        162.75         40.47        122.27        282.45\n",
       "   9             282.45        162.75         28.25        134.50        147.95\n",
       "  10             147.95        162.75         14.80        147.95          0.00"
      ]
     },
     "execution_count": 54,
     "metadata": {},
     "output_type": "execute_result"
    }
   ],
   "source": [
    "##\n",
    "## los resultados son iguales a un crédito balloon\n",
    "##\n",
    "cf.buydownLoan(amount     = 1000, \n",
    "               rate       =    0.10, \n",
    "               life       =   10)"
   ]
  },
  {
   "cell_type": "code",
   "execution_count": 55,
   "metadata": {
    "collapsed": false
   },
   "outputs": [
    {
     "data": {
      "text/plain": [
       "\n",
       "   t          Beginning         Total      Interest     Principal        Ending\n",
       "              Principal       Payment       Payment       Payment     Principal\n",
       "--------------------------------------------------------------------------------\n",
       "   0            1000.00          0.00          0.00          0.00       1000.00\n",
       "   1            1000.00        162.75        100.00         62.75        937.25\n",
       "   2             937.25        162.75         93.73         69.02        868.23\n",
       "   3             868.23        162.75         86.82         75.92        792.31\n",
       "   4             792.31        162.75         79.23         83.51        708.80\n",
       "   5             708.80        139.65         35.44        104.21        604.59\n",
       "   6             604.59        139.65         30.23        109.42        495.18\n",
       "   7             495.18        139.65         24.76        114.89        380.29\n",
       "   8             380.29        139.65         19.01        120.63        259.66\n",
       "   9             259.66        139.65         12.98        126.66        133.00\n",
       "  10             133.00        139.65          6.65        133.00          0.00"
      ]
     },
     "execution_count": 55,
     "metadata": {},
     "output_type": "execute_result"
    }
   ],
   "source": [
    "##\n",
    "## cambios en la tasa de interés\n",
    "##\n",
    "cf.buydownLoan(amount     = 1000, \n",
    "               rate       =    cf.Rate(0.10, 10, (5, 0.05)), \n",
    "               life       =   10)"
   ]
  },
  {
   "cell_type": "code",
   "execution_count": 56,
   "metadata": {
    "collapsed": false
   },
   "outputs": [
    {
     "data": {
      "text/plain": [
       "\n",
       "   t          Beginning         Total      Interest     Principal        Ending\n",
       "              Principal       Payment       Payment       Payment     Principal\n",
       "--------------------------------------------------------------------------------\n",
       "   0            1000.00          0.00          0.00          0.00       1000.00\n",
       "   1            1000.00        162.75        100.00         62.75        937.25\n",
       "   2             937.25        162.75         93.73         69.02        868.23\n",
       "   3             868.23        262.75         86.82        175.92        692.31\n",
       "   4             692.31        142.20         69.23         72.97        619.34\n",
       "   5             619.34        142.20         61.93         80.27        539.07\n",
       "   6             539.07        242.20         53.91        188.30        350.77\n",
       "   7             350.77        110.66         35.08         75.58        275.19\n",
       "   8             275.19        110.66         27.52         83.14        192.05\n",
       "   9             192.05        110.66         19.21         91.45        100.60\n",
       "  10             100.60        110.66         10.06        100.60          0.00"
      ]
     },
     "execution_count": 56,
     "metadata": {},
     "output_type": "execute_result"
    }
   ],
   "source": [
    "##\n",
    "## se introducen 2 prepagos por $ 100 cada uno\n",
    "## en t = 3, 6\n",
    "##\n",
    "cf.buydownLoan(amount     = 1000, \n",
    "               rate       =    0.10, \n",
    "               life       =   10, \n",
    "               prepmt     = cf.Cashflow(10, [(3, 100), (6, 100)]))"
   ]
  },
  {
   "cell_type": "markdown",
   "metadata": {},
   "source": [
    "---"
   ]
  },
  {
   "cell_type": "markdown",
   "metadata": {},
   "source": [
    "**Ejercicio.--** Verifique manualmente todos los cálculos realizados para los diferentes tipos de créditos."
   ]
  },
  {
   "cell_type": "code",
   "execution_count": null,
   "metadata": {
    "collapsed": true
   },
   "outputs": [],
   "source": []
  },
  {
   "cell_type": "markdown",
   "metadata": {},
   "source": [
    "---"
   ]
  },
  {
   "cell_type": "markdown",
   "metadata": {},
   "source": [
    "[Contenido](#Contenido)"
   ]
  }
 ],
 "metadata": {
  "kernelspec": {
   "display_name": "Python 3",
   "language": "python",
   "name": "python3"
  },
  "language_info": {
   "codemirror_mode": {
    "name": "ipython",
    "version": 3
   },
   "file_extension": ".py",
   "mimetype": "text/x-python",
   "name": "python",
   "nbconvert_exporter": "python",
   "pygments_lexer": "ipython3",
   "version": "3.5.2"
  }
 },
 "nbformat": 4,
 "nbformat_minor": 0
}
