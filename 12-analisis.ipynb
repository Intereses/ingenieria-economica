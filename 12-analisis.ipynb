{
 "cells": [
  {
   "cell_type": "markdown",
   "metadata": {
    "slideshow": {
     "slide_type": "slide"
    }
   },
   "source": [
    "Análisis de Flujos de Fondos\n",
    "===\n",
    "\n",
    "**Juan David Velásquez Henao**  \n",
    "jdvelasq@unal.edu.co   \n",
    "Universidad Nacional de Colombia, Sede Medellín  \n",
    "Facultad de Minas  \n",
    "Medellín, Colombia\n",
    "\n",
    "---\n",
    "\n",
    "Haga click [aquí](https://github.com/jdvelasq/ingenieria-economica/blob/master/11-analisis.ipynb) para acceder a la última versión online.\n",
    "\n",
    "Haga click [aquí](http://nbviewer.jupyter.org/github/jdvelasq/ingenieria-economica/blob/master/11-analisis.ipynb) para ver la última versión online en `nbviewer`. \n",
    "\n",
    "---"
   ]
  },
  {
   "cell_type": "markdown",
   "metadata": {
    "slideshow": {
     "slide_type": "slide"
    }
   },
   "source": [
    "### Criterio del valor presente neto \n",
    "\n",
    "<img src=\"images/analysis.png\" width=\"650\">"
   ]
  },
  {
   "cell_type": "markdown",
   "metadata": {
    "slideshow": {
     "slide_type": "slide"
    }
   },
   "source": [
    "**Criterio del valor presente.**\n",
    "\n",
    "$$PV(r) = \\sum_{t=0}^N \\frac{F_t}{(1+r)^t}$$\n",
    "\n",
    "* Si $PV(r) > 0$, acepte.\n",
    "* Si $PV(r) = 0$, indiferencia.\n",
    "* Si $PV(r) < 0$, rechace."
   ]
  },
  {
   "cell_type": "markdown",
   "metadata": {
    "slideshow": {
     "slide_type": "fragment"
    }
   },
   "source": [
    "**Criterio del valor futuro.**\n",
    "\n",
    "$$FV(r) = \\sum_{t=0}^N \\frac{F_t}{(1+r)^{N-t}}$$\n",
    "\n",
    "* Si $FV(r) > 0$, acepte.\n",
    "* Si $FV(r) = 0$, indiferencia.\n",
    "* Si $FV(r) < 0$, rechace."
   ]
  },
  {
   "cell_type": "markdown",
   "metadata": {
    "slideshow": {
     "slide_type": "fragment"
    }
   },
   "source": [
    "**Criterio del equivalente uniforme períodico.**\n",
    "\n",
    "$$UPE(r) = PV(r) * \\frac{r * (1+r)^N}{(1+r)^N-1}$$\n",
    "\n",
    "* Si $UPE(r) > 0$, acepte.\n",
    "* Si $UPE(r) = 0$, indiferencia.\n",
    "* Si $UPE(r) < 0$, rechace."
   ]
  },
  {
   "cell_type": "markdown",
   "metadata": {
    "slideshow": {
     "slide_type": "fragment"
    }
   },
   "source": [
    "**Nota 1.** $r$ es la MARR y puede variar de período a período.\n",
    "\n",
    "**Nota 2.** El $PV(r)$ representa el excedente que se gana sobre la alternativa de invertir a una tasa de $r$."
   ]
  },
  {
   "cell_type": "markdown",
   "metadata": {
    "slideshow": {
     "slide_type": "slide"
    }
   },
   "source": [
    "`timevalue(cflo, marr, base_date=0)`\n",
    "\n",
    "donde:\n",
    "\n",
    "* `cflo` -- flujo neto de efectivo.\n",
    "* `marr` -- tasa mínima atractiva de retorno.\n",
    "* `base_date` -- período base para calcular el valor equivalente.\n",
    "\n",
    "La función retorna el valor único equivalente. Para `base_date=0` corresponde al valor presente neto; para `base_date = nper` corresponde al valor futuro neto.\n"
   ]
  },
  {
   "cell_type": "markdown",
   "metadata": {
    "slideshow": {
     "slide_type": "slide"
    }
   },
   "source": [
    "**Ejemplo.--** Calcule los indicadores para el siguiente flujo de efectivo, si la tasa de descuento es del 10%.\n",
    "\n",
    "<img src=\"images/diagrama-vpn.png\" width=\"350\">"
   ]
  },
  {
   "cell_type": "code",
   "execution_count": 1,
   "metadata": {
    "slideshow": {
     "slide_type": "fragment"
    }
   },
   "outputs": [
    {
     "data": {
      "text/plain": [
       "Time Series:\n",
       "Start = (0,)\n",
       "End = (5,)\n",
       "pyr = 1\n",
       "Data = (0,)   -1000.00 \n",
       "       (1,)     400.00 \n",
       "       (2,)     360.00 \n",
       "       (3,)     320.00 \n",
       "       (4,)     280.00 \n",
       "       (5,)     240.00 "
      ]
     },
     "execution_count": 1,
     "metadata": {},
     "output_type": "execute_result"
    }
   ],
   "source": [
    "import cashflows as cf\n",
    "\n",
    "cflo = cf.cashflow(const_value=0,\n",
    "                   nper=6, \n",
    "                   spec=[(0, -1000),\n",
    "                         (1,   400),\n",
    "                         (2,   360),\n",
    "                         (3,   320),\n",
    "                         (4,   280),\n",
    "                         (5,   240)])\n",
    "cflo"
   ]
  },
  {
   "cell_type": "code",
   "execution_count": 2,
   "metadata": {
    "slideshow": {
     "slide_type": "fragment"
    }
   },
   "outputs": [
    {
     "data": {
      "text/plain": [
       "241.84264611831009"
      ]
     },
     "execution_count": 2,
     "metadata": {},
     "output_type": "execute_result"
    }
   ],
   "source": [
    "## valor presente neto\n",
    "cf.timevalue(cflo  = cflo,\n",
    "              marr = cf.interest_rate([10]*6)  )"
   ]
  },
  {
   "cell_type": "code",
   "execution_count": 3,
   "metadata": {
    "slideshow": {
     "slide_type": "fragment"
    }
   },
   "outputs": [
    {
     "data": {
      "text/plain": [
       "389.4900000000001"
      ]
     },
     "execution_count": 3,
     "metadata": {},
     "output_type": "execute_result"
    }
   ],
   "source": [
    "## valor futuro neto\n",
    "cf.timevalue(cflo  = cflo,\n",
    "              marr = cf.interest_rate([10]*6),\n",
    "              base_date = 5  )"
   ]
  },
  {
   "cell_type": "code",
   "execution_count": 4,
   "metadata": {
    "slideshow": {
     "slide_type": "slide"
    }
   },
   "outputs": [
    {
     "data": {
      "text/plain": [
       "[241.84264611831009, 241.84264611831009, 241.84264611831009]"
      ]
     },
     "execution_count": 4,
     "metadata": {},
     "output_type": "execute_result"
    }
   ],
   "source": [
    "## la función puede recibir simultaneamente varios flujos de efectivo\n",
    "cf.timevalue(cflo  = [cflo, cflo, cflo],\n",
    "              marr = cf.interest_rate([10]*6))"
   ]
  },
  {
   "cell_type": "code",
   "execution_count": 5,
   "metadata": {
    "slideshow": {
     "slide_type": "fragment"
    }
   },
   "outputs": [
    {
     "data": {
      "text/plain": [
       "[241.84264611831009, 1.2789769243681803e-13, -170.96201652064556]"
      ]
     },
     "execution_count": 5,
     "metadata": {},
     "output_type": "execute_result"
    }
   ],
   "source": [
    "# o varias tasas de interes\n",
    "marr1 = cf.interest_rate([10]*6)\n",
    "marr2 = cf.interest_rate([20]*6)\n",
    "marr3 = cf.interest_rate([30]*6)\n",
    "\n",
    "cf.timevalue(cflo  = cflo,\n",
    "              marr = [marr1, marr2, marr3])"
   ]
  },
  {
   "cell_type": "code",
   "execution_count": 6,
   "metadata": {
    "slideshow": {
     "slide_type": "fragment"
    }
   },
   "outputs": [
    {
     "data": {
      "text/plain": [
       "[241.84264611831009, 1.2789769243681803e-13, -170.96201652064556]"
      ]
     },
     "execution_count": 6,
     "metadata": {},
     "output_type": "execute_result"
    }
   ],
   "source": [
    "## o una tasa de descuento para cada flujo de efectivo\n",
    "marr1 = cf.interest_rate([10]*6)\n",
    "marr2 = cf.interest_rate([20]*6)\n",
    "marr3 = cf.interest_rate([30]*6)\n",
    "\n",
    "cf.timevalue(cflo  = [cflo, cflo, cflo],\n",
    "              marr = [marr1, marr2, marr3])"
   ]
  },
  {
   "cell_type": "markdown",
   "metadata": {
    "slideshow": {
     "slide_type": "slide"
    }
   },
   "source": [
    "### Tasa interna de retorno (IRR)\n",
    "\n",
    "$r^*$ -- tasa interna de retorno (irr). Es la tasa que hace el valor presente igual a cero.\n",
    "\n",
    "$$PV(r^*) = \\sum_{t=0}^N \\frac{F_t}{(1+r^*)^t} ~=~0$$"
   ]
  },
  {
   "cell_type": "markdown",
   "metadata": {
    "slideshow": {
     "slide_type": "fragment"
    }
   },
   "source": [
    "**Ejemplo.--** Calcule la irr para el ejemplo anterior."
   ]
  },
  {
   "cell_type": "code",
   "execution_count": 7,
   "metadata": {},
   "outputs": [
    {
     "data": {
      "text/plain": [
       "20.000000000000018"
      ]
     },
     "execution_count": 7,
     "metadata": {},
     "output_type": "execute_result"
    }
   ],
   "source": [
    "cf.irr(cflo)"
   ]
  },
  {
   "cell_type": "markdown",
   "metadata": {
    "slideshow": {
     "slide_type": "slide"
    }
   },
   "source": [
    "### Tasa Interna de Retorno Modificada\n",
    "\n",
    "<img src=\"images/mirr.png\" width=650>\n",
    "\n",
    "$$(1+MIRR)^N = \\frac{\\sum_{t=0}^N \\max(F_t,0) * (1+r_1)^{N-t} }{ \\sum_{t=0}^N \\min(F_t,0) * (1+r_2)^{-t} }$$\n",
    "\n",
    "$r_1$ -- tasa de reinversión.   \n",
    "$r_2$ -- tasa de financiamiento."
   ]
  },
  {
   "cell_type": "code",
   "execution_count": 8,
   "metadata": {
    "scrolled": true,
    "slideshow": {
     "slide_type": "fragment"
    }
   },
   "outputs": [
    {
     "data": {
      "text/plain": [
       "9.8560543306117854"
      ]
     },
     "execution_count": 8,
     "metadata": {},
     "output_type": "execute_result"
    }
   ],
   "source": [
    "cf.mirr(cflo=cflo, finance_rate=0, reinvest_rate=0)"
   ]
  },
  {
   "cell_type": "code",
   "execution_count": 9,
   "metadata": {
    "slideshow": {
     "slide_type": "fragment"
    }
   },
   "outputs": [
    {
     "data": {
      "text/plain": [
       "[20.000000000000018, 20.000000000000018, 20.000000000000018]"
      ]
     },
     "execution_count": 9,
     "metadata": {},
     "output_type": "execute_result"
    }
   ],
   "source": [
    "## la función puede recibir varios flujos de fondos simulataneamente.\n",
    "cf.irr([cflo, cflo, cflo])"
   ]
  },
  {
   "cell_type": "markdown",
   "metadata": {
    "collapsed": true,
    "slideshow": {
     "slide_type": "slide"
    }
   },
   "source": [
    "### Análisis de sensibilidad\n",
    "\n",
    "Se realiza variando una de las variables del problema para determinar el efecto en el indicador utilizado.\n",
    "\n",
    "**Ejemplo.--** Se tiene un proyecto con la siguiente información:\n",
    "\n",
    "* Años de operación: 10\n",
    "* Años de construcción: 1\n",
    "* Producción: 1000 unidades por año\n",
    "* Precio de venta: `$` 10 por unidad\n",
    "* Costos operativos: `$` 220 por año\n",
    "* Costos de inversión: `$` 2000 depreciables a 10 años.\n",
    "* MARR = 10%\n",
    "* Impuesto de renta: 30%\n",
    "\n",
    "Construya la gráfica de sensibilidad del npv a la producción, el precio de venta y la inversión."
   ]
  },
  {
   "cell_type": "code",
   "execution_count": 10,
   "metadata": {
    "collapsed": true,
    "slideshow": {
     "slide_type": "slide"
    }
   },
   "outputs": [],
   "source": [
    "## se construye una función que recibe la información \n",
    "## relevante y retorn el npv\n",
    "\n",
    "def project(marr,\n",
    "            produccion, \n",
    "            precio, \n",
    "            costo,\n",
    "            inversion):\n",
    "    \n",
    "    # ingresos operativos\n",
    "    ingre = cf.cashflow(const_value=precio*produccion, \n",
    "                        nper=11, \n",
    "                        spec=(0,0)) \n",
    "    \n",
    "    # costos operativos\n",
    "    opera = cf.cashflow(const_value=costo, \n",
    "                        nper=11, \n",
    "                        spec=(0, 0))\n",
    "    \n",
    "    # inversión\n",
    "    inver = cf.cashflow(const_value=0, \n",
    "                        nper=11, \n",
    "                        spec=(0, inversion))\n",
    "    \n",
    "    # vida útil de la inversión\n",
    "    life = cf.cashflow(const_value=0, \n",
    "                       nper=11, \n",
    "                       spec=(0, 10))\n",
    "    \n",
    "    # depreciación\n",
    "    dep = cf.depreciation_sl(costs=inver,\n",
    "                             life=life,\n",
    "                             noprint=True)\n",
    "                               \n",
    "                        \n",
    "    # utilidad antes de impuestos\n",
    "    antes = ingre - opera - inver - dep\n",
    "    \n",
    "    \n",
    "    impue = cf.after_tax_cashflow(antes, \n",
    "                                  tax_rate=cf.interest_rate(const_value=[30]*11))\n",
    "    \n",
    "    neto = antes + impue\n",
    "    \n",
    "    npv = cf.timevalue(cflo=neto,\n",
    "                       marr=cf.interest_rate([marr]*11))\n",
    "    \n",
    "    return npv"
   ]
  },
  {
   "cell_type": "code",
   "execution_count": 11,
   "metadata": {
    "slideshow": {
     "slide_type": "slide"
    }
   },
   "outputs": [
    {
     "data": {
      "text/plain": [
       "2633.0035977013285"
      ]
     },
     "execution_count": 11,
     "metadata": {},
     "output_type": "execute_result"
    }
   ],
   "source": [
    "project(marr=10, produccion=100, precio=10, costo=220, inversion=2000)"
   ]
  },
  {
   "cell_type": "code",
   "execution_count": 12,
   "metadata": {
    "slideshow": {
     "slide_type": "fragment"
    }
   },
   "outputs": [
    {
     "data": {
      "text/plain": [
       "[3059.4013748018465, 2633.0035977013285, 2260.2681634217906]"
      ]
     },
     "execution_count": 12,
     "metadata": {},
     "output_type": "execute_result"
    }
   ],
   "source": [
    "## resultados para diferentes valores de la MARR\n",
    "x=[]\n",
    "for i in [8, 10, 12]:\n",
    "    x.append(project( i, 100, 10, 220, 2000))\n",
    "x"
   ]
  },
  {
   "cell_type": "code",
   "execution_count": 13,
   "metadata": {
    "slideshow": {
     "slide_type": "fragment"
    }
   },
   "outputs": [
    {
     "data": {
      "text/plain": [
       "[3352.521087197972,\n",
       " 2992.7623424496505,\n",
       " 2633.0035977013285,\n",
       " 2273.244852953007,\n",
       " 1913.486108204685]"
      ]
     },
     "execution_count": 13,
     "metadata": {},
     "output_type": "execute_result"
    }
   ],
   "source": [
    "## resultados para diferentes valores de la inversión\n",
    "[project(10, 100, 10, 220, x) for x in [1600, 1800, 2000, 2200, 2400]]"
   ]
  },
  {
   "cell_type": "code",
   "execution_count": 14,
   "metadata": {
    "slideshow": {
     "slide_type": "fragment"
    }
   },
   "outputs": [
    {
     "data": {
      "text/plain": [
       "[1035.4161502181119,\n",
       " 1834.2098739597204,\n",
       " 2633.0035977013285,\n",
       " 3431.797321442937,\n",
       " 4230.591045184545]"
      ]
     },
     "execution_count": 14,
     "metadata": {},
     "output_type": "execute_result"
    }
   ],
   "source": [
    "## resultados para diferentes valores del precio\n",
    "[project(10, 100, x, 220, 2000) for x in [8, 9, 10, 11, 12]]"
   ]
  },
  {
   "cell_type": "code",
   "execution_count": 15,
   "metadata": {
    "collapsed": true,
    "slideshow": {
     "slide_type": "slide"
    }
   },
   "outputs": [],
   "source": [
    "import matplotlib.pyplot as plt\n",
    "%matplotlib inline"
   ]
  },
  {
   "cell_type": "code",
   "execution_count": 16,
   "metadata": {
    "collapsed": true,
    "slideshow": {
     "slide_type": "fragment"
    }
   },
   "outputs": [],
   "source": [
    "precio = [8, 9, 10, 11, 12]\n",
    "y = [project(0.10, 100, x, 220, 2000) for x in precio]"
   ]
  },
  {
   "cell_type": "code",
   "execution_count": 17,
   "metadata": {
    "scrolled": true,
    "slideshow": {
     "slide_type": "fragment"
    }
   },
   "outputs": [
    {
     "data": {
      "text/plain": [
       "[<matplotlib.lines.Line2D at 0x112449b70>]"
      ]
     },
     "execution_count": 17,
     "metadata": {},
     "output_type": "execute_result"
    },
    {
     "data": {
      "image/png": "[encoded data removed]",
      "text/plain": [
       "<matplotlib.figure.Figure at 0x10e07fd30>"
      ]
     },
     "metadata": {},
     "output_type": "display_data"
    }
   ],
   "source": [
    "plt.plot(precio, y)"
   ]
  },
  {
   "cell_type": "markdown",
   "metadata": {
    "slideshow": {
     "slide_type": "slide"
    }
   },
   "source": [
    "**Ejercicio.--** Grafique las sensibilidades al costo y a la producción."
   ]
  },
  {
   "cell_type": "markdown",
   "metadata": {
    "slideshow": {
     "slide_type": "slide"
    }
   },
   "source": [
    "Análisis de Flujos de Fondos\n",
    "===\n",
    "\n",
    "**Juan David Velásquez Henao**  \n",
    "jdvelasq@unal.edu.co   \n",
    "Universidad Nacional de Colombia, Sede Medellín  \n",
    "Facultad de Minas  \n",
    "Medellín, Colombia\n",
    "\n",
    "---\n",
    "\n",
    "Haga click [aquí](https://github.com/jdvelasq/ingenieria-economica/blob/master/11-analisis.ipynb) para acceder a la última versión online.\n",
    "\n",
    "Haga click [aquí](http://nbviewer.jupyter.org/github/jdvelasq/ingenieria-economica/blob/master/11-analisis.ipynb) para ver la última versión online en `nbviewer`. \n",
    "\n",
    "---"
   ]
  }
 ],
 "metadata": {
  "anaconda-cloud": {},
  "celltoolbar": "Slideshow",
  "kernelspec": {
   "display_name": "Python 3",
   "language": "python",
   "name": "python3"
  },
  "language_info": {
   "codemirror_mode": {
    "name": "ipython",
    "version": 3
   },
   "file_extension": ".py",
   "mimetype": "text/x-python",
   "name": "python",
   "nbconvert_exporter": "python",
   "pygments_lexer": "ipython3",
   "version": "3.6.1"
  }
 },
 "nbformat": 4,
 "nbformat_minor": 1
}
