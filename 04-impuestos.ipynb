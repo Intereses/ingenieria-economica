{
 "cells": [
  {
   "cell_type": "markdown",
   "metadata": {
    "slideshow": {
     "slide_type": "slide"
    }
   },
   "source": [
    "Impuestos Corporativos\n",
    "===\n",
    "\n",
    "**Juan David Velásquez Henao**  \n",
    "jdvelasq@unal.edu.co   \n",
    "Universidad Nacional de Colombia, Sede Medellín  \n",
    "Facultad de Minas  \n",
    "Medellín, Colombia\n",
    "\n",
    "---\n",
    "\n",
    "Haga click [aquí](https://github.com/jdvelasq/ingenieria-economica/blob/master/04-impuestos.ipynb) para acceder a la última versión online\n",
    "\n",
    "Haga click [aquí](http://nbviewer.jupyter.org/github/jdvelasq/ingenieria-economica/blob/master/04-impuestos.ipynb) para ver la última versión online en `nbviewer`.\n",
    "\n",
    "---"
   ]
  },
  {
   "cell_type": "markdown",
   "metadata": {
    "slideshow": {
     "slide_type": "slide"
    }
   },
   "source": [
    "**Preparación**"
   ]
  },
  {
   "cell_type": "code",
   "execution_count": 1,
   "metadata": {
    "collapsed": true
   },
   "outputs": [],
   "source": [
    "# Importa la librería financiera.\n",
    "# Solo es necesario ejecutar la importación una sola vez.\n",
    "import cashflows as cf"
   ]
  },
  {
   "cell_type": "markdown",
   "metadata": {
    "slideshow": {
     "slide_type": "slide"
    }
   },
   "source": [
    "**Tipos de Impuestos**.\n",
    "\n",
    "* Impuestos sobre activos tangibles o intangibles.\n",
    "* Licencias para establecimiento de negocios.\n",
    "* Impuestos al consumo sobre productos básicos.\n",
    "* Impuestos a las ventas.\n",
    "* Impuestos a la renta.\n",
    "\n",
    "**Deducciones.**\n",
    "\n",
    "El impuesto de renta es calculado como el ingreso bruto menos las deducciones permitidas:\n",
    "\n",
    "* Salarios.\n",
    "* Rentas.\n",
    "* Intereses pagados.\n",
    "* Publicidad.\n",
    "* Planes de pensión.\n",
    "* Gastos de investigación.\n",
    "* Depreciación, amortización y agotamiento."
   ]
  },
  {
   "cell_type": "markdown",
   "metadata": {
    "slideshow": {
     "slide_type": "slide"
    }
   },
   "source": [
    "`after_tax_cashflow(cflo, tax_rate)`\n",
    "\n",
    "* `cflo`-- flujo de efectivo\n",
    "* `tax_rate` -- tasa de interés.\n",
    "\n",
    "Retorna el flujo de efectivo después de impuestos. Nóte que los impuestos sólo se calculan para valores positivos. "
   ]
  },
  {
   "cell_type": "markdown",
   "metadata": {
    "slideshow": {
     "slide_type": "slide"
    }
   },
   "source": [
    "***Ejemplo.--*** Sea un flujo constante de `$` 1000 para los períodos 1 a 5 y `$` -90 para los períodos 6 a 10. Calcule el impuesto de renta para una tasa impositiva del 30%.  "
   ]
  },
  {
   "cell_type": "code",
   "execution_count": 2,
   "metadata": {
    "slideshow": {
     "slide_type": "fragment"
    }
   },
   "outputs": [
    {
     "name": "stdout",
     "output_type": "stream",
     "text": [
      "time   value +------------------+------------------+\n",
      "(0,) 1000.00                    ********************\n",
      "(1,) 1000.00                    ********************\n",
      "(2,) 1000.00                    ********************\n",
      "(3,) 1000.00                    ********************\n",
      "(4,) 1000.00                    ********************\n",
      "(5,)  -90.00                    *\n",
      "(6,)  -90.00                    *\n",
      "(7,)  -90.00                    *\n",
      "(8,)  -90.00                    *\n",
      "(9,)  -90.00                    *\n"
     ]
    }
   ],
   "source": [
    "# representación del flujo de fondos\n",
    "cflo = cf.cashflow(const_value=1000,  \n",
    "                   nper=10, \n",
    "                   spec=[(t,-90) for t in range(5,10)])\n",
    "cf.cfloplot(cflo) "
   ]
  },
  {
   "cell_type": "code",
   "execution_count": 3,
   "metadata": {
    "collapsed": true,
    "slideshow": {
     "slide_type": "fragment"
    }
   },
   "outputs": [],
   "source": [
    "## cómputo del impuesto\n",
    "tax_rate = cf.interest_rate(const_value=[30] * 10)"
   ]
  },
  {
   "cell_type": "code",
   "execution_count": 4,
   "metadata": {
    "slideshow": {
     "slide_type": "fragment"
    }
   },
   "outputs": [
    {
     "name": "stdout",
     "output_type": "stream",
     "text": [
      "time  value +------------------+------------------+\n",
      "(0,) 300.00                    ********************\n",
      "(1,) 300.00                    ********************\n",
      "(2,) 300.00                    ********************\n",
      "(3,) 300.00                    ********************\n",
      "(4,) 300.00                    ********************\n",
      "(5,)   0.00                    *\n",
      "(6,)   0.00                    *\n",
      "(7,)   0.00                    *\n",
      "(8,)   0.00                    *\n",
      "(9,)   0.00                    *\n"
     ]
    }
   ],
   "source": [
    "## calcula el impuesto\n",
    "x = cf.after_tax_cashflow(cflo,              # flujo de efectivo\n",
    "                          tax_rate=tax_rate) # impuesto de renta\n",
    "cf.cfloplot(x)"
   ]
  },
  {
   "cell_type": "markdown",
   "metadata": {
    "slideshow": {
     "slide_type": "slide"
    }
   },
   "source": [
    "***Ejemplo.--*** Considere un flujo de caja de `$` 100, y una duración de 10 períodos. Calcule el impuesto de renta si la tasa es del 30% para los períodos 1 a 5 y del 35% para los períodos restantes. "
   ]
  },
  {
   "cell_type": "code",
   "execution_count": 5,
   "metadata": {
    "scrolled": true,
    "slideshow": {
     "slide_type": "fragment"
    }
   },
   "outputs": [
    {
     "name": "stdout",
     "output_type": "stream",
     "text": [
      "time value +------------------+------------------+\n",
      "(0,) 30.00                    *****************\n",
      "(1,) 30.00                    *****************\n",
      "(2,) 30.00                    *****************\n",
      "(3,) 30.00                    *****************\n",
      "(4,) 30.00                    *****************\n",
      "(5,) 35.00                    ********************\n",
      "(6,) 35.00                    ********************\n",
      "(7,) 35.00                    ********************\n",
      "(8,) 35.00                    ********************\n",
      "(9,) 35.00                    ********************\n"
     ]
    }
   ],
   "source": [
    "cflo = cf.cashflow(const_value=[100]*10)\n",
    "\n",
    "tax_rate = cf.interest_rate(const_value=[30]*10, spec=(5,35))\n",
    "\n",
    "x = cf.after_tax_cashflow(cflo,              # flujo de efectivo\n",
    "                          tax_rate=tax_rate) # impuesto de renta\n",
    "cf.cfloplot(x)"
   ]
  },
  {
   "cell_type": "markdown",
   "metadata": {
    "slideshow": {
     "slide_type": "slide"
    }
   },
   "source": [
    "***Ejercicio.--***  Si el flujo neto de efectivo es `$` 1000 por trimestre para el primer año, `$` 1300 por trimestre para el segundo y `$` 1600 por trimestre para el tercer año, calcule el flujo de efectivo correspodiente a los impuestos pagados, si la tasa es del 30% para el primer año, y 35% para los años restantes."
   ]
  },
  {
   "cell_type": "markdown",
   "metadata": {
    "slideshow": {
     "slide_type": "slide"
    }
   },
   "source": [
    "Impuestos\n",
    "===\n",
    "\n",
    "**Juan David Velásquez Henao**  \n",
    "jdvelasq@unal.edu.co   \n",
    "Universidad Nacional de Colombia, Sede Medellín  \n",
    "Facultad de Minas  \n",
    "Medellín, Colombia\n",
    "\n",
    "---\n",
    "\n",
    "Haga click [aquí](https://github.com/jdvelasq/ingenieria-economica/blob/master/04-impuestos.ipynb) para acceder a la última versión online\n",
    "\n",
    "Haga click [aquí](http://nbviewer.jupyter.org/github/jdvelasq/ingenieria-economica/blob/master/04-impuestos.ipynb) para ver la última versión online en `nbviewer`.\n",
    "\n",
    "---"
   ]
  }
 ],
 "metadata": {
  "anaconda-cloud": {},
  "celltoolbar": "Slideshow",
  "kernelspec": {
   "display_name": "Python 3",
   "language": "python",
   "name": "python3"
  },
  "language_info": {
   "codemirror_mode": {
    "name": "ipython",
    "version": 3
   },
   "file_extension": ".py",
   "mimetype": "text/x-python",
   "name": "python",
   "nbconvert_exporter": "python",
   "pygments_lexer": "ipython3",
   "version": "3.6.1"
  }
 },
 "nbformat": 4,
 "nbformat_minor": 1
}
