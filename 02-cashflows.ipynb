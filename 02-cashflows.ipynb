{
 "cells": [
  {
   "cell_type": "markdown",
   "metadata": {},
   "source": [
    "Librería Cashflows\n",
    "==="
   ]
  },
  {
   "cell_type": "markdown",
   "metadata": {},
   "source": [
    "Notas de clase sobre ingeniería economica avanzada usando Python\n",
    "\n",
    "**Juan David Velásquez Henao**  \n",
    "jdvelasq@unal.edu.co   \n",
    "Universidad Nacional de Colombia, Sede Medellín  \n",
    "Facultad de Minas  \n",
    "Medellín, Colombia "
   ]
  },
  {
   "cell_type": "markdown",
   "metadata": {},
   "source": [
    "**Software utilizado**\n",
    ">Este es un documento interactivo escrito como un notebook de [Jupyter](http://jupyter.org/) , en el cual se presenta un tutorial sobre finanzas corporativas usando Python. Los notebooks de Jupyter permiten incoporar simultáneamente código, texto, gráficos y ecuaciones. El código presentado en este notebook puede ejecutarse en los sistemas operativos Linux y OS X.  \n",
    "\n",
    ">Haga click [aquí](https://github.com/jdvelasq/guias-de-instalacion) para obtener instrucciones detalladas sobre como instalar Jupyter en Windows y Mac OS X.\n",
    "\n",
    ">Descargue la última versión de este documento a su disco duro; luego, carguelo y ejecutelo en línea en Try [Jupyter!](https://try.jupyter.org/)\n",
    "\n"
   ]
  },
  {
   "cell_type": "markdown",
   "metadata": {},
   "source": [
    "#### Contenido"
   ]
  },
  {
   "cell_type": "markdown",
   "metadata": {},
   "source": [
    ">* "
   ]
  },
  {
   "cell_type": "markdown",
   "metadata": {},
   "source": [
    "**Bibliografía** "
   ]
  },
  {
   "cell_type": "markdown",
   "metadata": {},
   "source": [
    "> * [1] SAS/ETS 14.1 User's Guide, 2015.   \n",
    "* [2] **hp** 12c platinum financial calculator. User's guide. \n",
    "* [3] HP Business Consultant II Owner's manual.\n",
    "* [4] C.S. Park and G.P. Sharp-Bette. Advanced Engineering Economics. John Wiley & Sons, Inc., 1990."
   ]
  },
  {
   "cell_type": "markdown",
   "metadata": {},
   "source": [
    "**`cashflows`** es una librería para la ejecución de cálculos financieros. Las funciones implementadas son similares a las usadas en Microsoft Excel, las calculadoras financieras y otros softwares similares. "
   ]
  },
  {
   "cell_type": "code",
   "execution_count": 2,
   "metadata": {},
   "outputs": [],
   "source": [
    "# importa la librería financiera.\n",
    "# solo es necesario ejecutar la importación una sola vez.\n",
    "import cashflows as cf"
   ]
  },
  {
   "cell_type": "markdown",
   "metadata": {},
   "source": [
    "# Función `pvfv`"
   ]
  },
  {
   "cell_type": "markdown",
   "metadata": {},
   "source": [
    "`pvfv(pval=None, fval=None, nrate=None, nper=None, pyr=1, noprint=True)` "
   ]
  },
  {
   "cell_type": "markdown",
   "metadata": {},
   "source": [
    "<img src=\"images/pvfv.png\" width=400>"
   ]
  },
  {
   "cell_type": "markdown",
   "metadata": {},
   "source": [
    "La función `pvfv` returna el valor faltante en la siguiente ecuación:"
   ]
  },
  {
   "cell_type": "markdown",
   "metadata": {},
   "source": [
    "$$fval = - pval * \\left(1 + \\frac{nrate}{pyr}\\right) ^ {nper}$$"
   ]
  },
  {
   "cell_type": "markdown",
   "metadata": {},
   "source": [
    "donde:"
   ]
  },
  {
   "cell_type": "markdown",
   "metadata": {},
   "source": [
    "* `pval` -- valor presente."
   ]
  },
  {
   "cell_type": "markdown",
   "metadata": {},
   "source": [
    "* `fval` -- valor futuro."
   ]
  },
  {
   "cell_type": "markdown",
   "metadata": {},
   "source": [
    "* `nper` -- cantidad de periodos."
   ]
  },
  {
   "cell_type": "markdown",
   "metadata": {},
   "source": [
    "* `nrate` -- tasa de interés nominal."
   ]
  },
  {
   "cell_type": "markdown",
   "metadata": {},
   "source": [
    "* `pyr` -- número de periodos de capitalización por año."
   ]
  },
  {
   "cell_type": "code",
   "execution_count": null,
   "metadata": {
    "collapsed": true
   },
   "outputs": [],
   "source": []
  },
  {
   "cell_type": "markdown",
   "metadata": {},
   "source": [
    "**Ejemplo (cuenta de ahorros).--** [3, pág. 88] Se depositan \\$ 2000 en una cuenta de ahorros que paga un interés anual del 7.2% (calculado anualmente). Si no se hacen otros depósitos en la cuenta, cuanto tiempo se requiere para que la cuenta tenga \\$ 3000? R/ 5.83"
   ]
  },
  {
   "cell_type": "markdown",
   "metadata": {},
   "source": [
    "<img src=\"images/sesion-1-ejemplo-4.png\" width=350>"
   ]
  },
  {
   "cell_type": "code",
   "execution_count": 7,
   "metadata": {},
   "outputs": [
    {
     "data": {
      "text/plain": [
       "5.8318433820838607"
      ]
     },
     "execution_count": 7,
     "metadata": {},
     "output_type": "execute_result"
    }
   ],
   "source": [
    "cf.pvfv(nrate =     7.2, # tasa de interes\n",
    "        pval  = -2000,     # valor presente\n",
    "        fval  = +3000)     # valor futuro"
   ]
  },
  {
   "cell_type": "code",
   "execution_count": 8,
   "metadata": {
    "scrolled": true
   },
   "outputs": [
    {
     "data": {
      "text/plain": [
       "3035.2796326007801"
      ]
     },
     "execution_count": 8,
     "metadata": {},
     "output_type": "execute_result"
    }
   ],
   "source": [
    "# Ya que nper es un valor entre 5 y 6, se requieren 6 años \n",
    "# para tener un balance de al menos $ 3000.\n",
    "# El balance al final de los seis años es (R/ 3035.28):\n",
    "cf.pvfv(nrate =     7.2, # tasa de interes\n",
    "        pval  = -2000,   # valor presente\n",
    "        nper  = 6)       # numero de periodos"
   ]
  },
  {
   "cell_type": "markdown",
   "metadata": {},
   "source": [
    "**Ejemplo.--** Cuál será el valor futuro de \\$100, \\$ 200, \\$ 300 y \\$ 400 en 5 años a una tasa de interés de 3% anual? "
   ]
  },
  {
   "cell_type": "code",
   "execution_count": 48,
   "metadata": {
    "scrolled": false
   },
   "outputs": [
    {
     "data": {
      "text/plain": [
       "[-115.92740796091358,\n",
       " -231.8548153909136,\n",
       " -347.78222282091355,\n",
       " -463.70963025091356]"
      ]
     },
     "execution_count": 48,
     "metadata": {},
     "output_type": "execute_result"
    }
   ],
   "source": [
    "cf.pvfv(pval  =  [100, 200, 300, 400], # una de las variables puede ser un vector\n",
    "        nper  =  5,\n",
    "        nrate =  3.0)"
   ]
  },
  {
   "cell_type": "markdown",
   "metadata": {},
   "source": [
    "**Ejemplo.--** Cuál será el valor futuro de \\$100 en 1, 2, 3 y 4 años a una tasa de interés de 3% anual? "
   ]
  },
  {
   "cell_type": "code",
   "execution_count": 49,
   "metadata": {},
   "outputs": [
    {
     "data": {
      "text/plain": [
       "[-103.0000001, -106.09000020299999, -109.27270030909, -112.55088141836272]"
      ]
     },
     "execution_count": 49,
     "metadata": {},
     "output_type": "execute_result"
    }
   ],
   "source": [
    "cf.pvfv(pval  =  100, # una de las variables puede ser un vector\n",
    "        nper  =    [1, 2, 3, 4],\n",
    "        nrate =    3.0)"
   ]
  },
  {
   "cell_type": "markdown",
   "metadata": {},
   "source": [
    "# Función `pvpmt`"
   ]
  },
  {
   "cell_type": "markdown",
   "metadata": {},
   "source": [
    "`pvpmt(pmt=None, pval=None, nrate=None, nper=None, pyr=1, noprint=True)`"
   ]
  },
  {
   "cell_type": "markdown",
   "metadata": {},
   "source": [
    "<img src=\"images/pvpmt.png\" width=400>"
   ]
  },
  {
   "cell_type": "markdown",
   "metadata": {},
   "source": [
    "Nomenclatura para los parámetros:"
   ]
  },
  {
   "cell_type": "markdown",
   "metadata": {},
   "source": [
    "* `pval` -- valor presente."
   ]
  },
  {
   "cell_type": "markdown",
   "metadata": {},
   "source": [
    "* `pmt` -- pago periodico."
   ]
  },
  {
   "cell_type": "markdown",
   "metadata": {},
   "source": [
    "* `nper` -- cantidad de periodos."
   ]
  },
  {
   "cell_type": "markdown",
   "metadata": {},
   "source": [
    "* `nrate` -- tasa de interés por periodo."
   ]
  },
  {
   "cell_type": "markdown",
   "metadata": {},
   "source": [
    "* `pyr` -- número de periodos por año."
   ]
  },
  {
   "cell_type": "code",
   "execution_count": null,
   "metadata": {
    "collapsed": true
   },
   "outputs": [],
   "source": []
  },
  {
   "cell_type": "markdown",
   "metadata": {},
   "source": [
    "**Ejemplo.--** [2, pág. 57] Si se va a realizar un leasing a una tasa de interés de (5.9%/12) y se deben realizar 48 pagos de \\$ 450 y un pago inicial de \\$ 1500 al constituirse el crédito, cuál es el monto del préstamo?"
   ]
  },
  {
   "cell_type": "code",
   "execution_count": 23,
   "metadata": {},
   "outputs": [
    {
     "data": {
      "text/plain": [
       "19198.600408593771"
      ]
     },
     "execution_count": 23,
     "metadata": {},
     "output_type": "execute_result"
    }
   ],
   "source": [
    "cf.pvpmt(pmt   =  -450,      # pago mensual\n",
    "         nrate =     5.9/12, # tasa de interés\n",
    "         nper  =    48)      # numero de periodos"
   ]
  },
  {
   "cell_type": "code",
   "execution_count": 24,
   "metadata": {},
   "outputs": [
    {
     "data": {
      "text/plain": [
       "20698.600408593771"
      ]
     },
     "execution_count": 24,
     "metadata": {},
     "output_type": "execute_result"
    }
   ],
   "source": [
    "_ + 1500"
   ]
  },
  {
   "cell_type": "markdown",
   "metadata": {},
   "source": [
    "**Ejemplo.--** [2, pág. 59] Calcule el pago mensual de una hipoteca por \\$ 243400 pagada en 348 meses a una tasa del 5.25%/12."
   ]
  },
  {
   "cell_type": "code",
   "execution_count": 26,
   "metadata": {},
   "outputs": [
    {
     "data": {
      "text/plain": [
       "-1363.2868774076235"
      ]
     },
     "execution_count": 26,
     "metadata": {},
     "output_type": "execute_result"
    }
   ],
   "source": [
    "cf.pvpmt(pval  = 243400,       # monto\n",
    "         nrate =      5.25/12, # tasa de interés\n",
    "         nper  =    348)       # numero de periodos"
   ]
  },
  {
   "cell_type": "markdown",
   "metadata": {},
   "source": [
    "**Ejemplo.--** [3, pág. 81] Se está financiando la compra de un carro nuevo con un leasing a tres años a una tasa de interés del 10.5%/12. El precio del carro es de \\$ 7250. Se debe realizar un pago inicial de \\$ 1500. Cuánto es el pago mensual si los pagos se hacen al final del mes? "
   ]
  },
  {
   "cell_type": "code",
   "execution_count": 31,
   "metadata": {},
   "outputs": [
    {
     "data": {
      "text/plain": [
       "-186.88905015194925"
      ]
     },
     "execution_count": 31,
     "metadata": {},
     "output_type": "execute_result"
    }
   ],
   "source": [
    "cf.pvpmt(pval  = 7250-1500,\n",
    "         nrate =   10.5/12,   \n",
    "         nper  =   36)"
   ]
  },
  {
   "cell_type": "code",
   "execution_count": 32,
   "metadata": {},
   "outputs": [
    {
     "data": {
      "text/plain": [
       "0.56260172700844047"
      ]
     },
     "execution_count": 32,
     "metadata": {},
     "output_type": "execute_result"
    }
   ],
   "source": [
    "# si se desea reducir el pago periodico en $ 10, cual tasa de interés debería obtenerse.\n",
    "cf.pvpmt(pval = 7250-1500,\n",
    "         pmt  = -176.89,   \n",
    "         nper =   36)"
   ]
  },
  {
   "cell_type": "markdown",
   "metadata": {},
   "source": [
    "**Ejemplo.--** [3, pág. 82] El pago máximo mensual por una hipoteca a 30 años es de \\$ 630. Si usted puede realizar un pago inicial de \\$ 12.000 y la tasa es de 11.5%/12, cuál es el precio máximo de la propiedad?"
   ]
  },
  {
   "cell_type": "code",
   "execution_count": 33,
   "metadata": {},
   "outputs": [
    {
     "data": {
      "text/plain": [
       "75617.636073352623"
      ]
     },
     "execution_count": 33,
     "metadata": {},
     "output_type": "execute_result"
    }
   ],
   "source": [
    "cf.pvpmt(pmt   =  -630,   \n",
    "         nrate =    11.5/12,\n",
    "         nper  = 30*12) + 12000"
   ]
  },
  {
   "cell_type": "markdown",
   "metadata": {},
   "source": [
    "**Ejemplo.--** [3, pág. 83] Se constituye una hipoteca a 25 años por un monto de \\$ 75250 y una tasa de interés mensual de 13.8%/12. (a) cuál es el pago mensual; (b) Si se anticipa la venta de la propiedad al final de 4 años, cuánto debe pagarse para cancelar la deuda?   "
   ]
  },
  {
   "cell_type": "code",
   "execution_count": 34,
   "metadata": {},
   "outputs": [
    {
     "data": {
      "text/plain": [
       "-894.33055797115355"
      ]
     },
     "execution_count": 34,
     "metadata": {},
     "output_type": "execute_result"
    }
   ],
   "source": [
    "# (a) R/ $ 894.33\n",
    "cf.pvpmt(pval = 75250,   \n",
    "         nrate =   13.8/12,\n",
    "         nper = 25*12) "
   ]
  },
  {
   "cell_type": "code",
   "execution_count": null,
   "metadata": {
    "collapsed": true
   },
   "outputs": [],
   "source": []
  },
  {
   "cell_type": "markdown",
   "metadata": {},
   "source": [
    "# Función `pmtfv`"
   ]
  },
  {
   "cell_type": "markdown",
   "metadata": {},
   "source": [
    "`pmtfv(pmt=None, fval=None, nrate=None, nper=None, pyr=1, noprint=True)`"
   ]
  },
  {
   "cell_type": "markdown",
   "metadata": {},
   "source": [
    "<img src=\"images/pmtfv.png\" width=400>"
   ]
  },
  {
   "cell_type": "markdown",
   "metadata": {},
   "source": [
    "Nomenclatura para los parámetros:"
   ]
  },
  {
   "cell_type": "markdown",
   "metadata": {},
   "source": [
    "* `pmt` -- pago periodico."
   ]
  },
  {
   "cell_type": "markdown",
   "metadata": {},
   "source": [
    "* `fval` -- valor futuro."
   ]
  },
  {
   "cell_type": "markdown",
   "metadata": {},
   "source": [
    "* `nper` -- cantidad de periodos."
   ]
  },
  {
   "cell_type": "markdown",
   "metadata": {},
   "source": [
    "* `nrate` -- tasa de interés por periodo."
   ]
  },
  {
   "cell_type": "markdown",
   "metadata": {},
   "source": [
    "* `pyr` -- número de periodos por año."
   ]
  },
  {
   "cell_type": "code",
   "execution_count": null,
   "metadata": {
    "collapsed": true
   },
   "outputs": [],
   "source": []
  },
  {
   "cell_type": "markdown",
   "metadata": {},
   "source": [
    "# Función `tvmm`"
   ]
  },
  {
   "cell_type": "markdown",
   "metadata": {},
   "source": [
    "`tvmm(pval=None, fval=None, pmt=None, nrate=None, nper=None, due=0, pyr=1, noprint=True)`"
   ]
  },
  {
   "cell_type": "markdown",
   "metadata": {},
   "source": [
    "**`tvm`** es un modelo para la realización de cálculos simples del valor del dinero en el tiempo. Este modelo usa variables internas para almacenar la información y funciones para realizar los cálculos."
   ]
  },
  {
   "cell_type": "markdown",
   "metadata": {},
   "source": [
    "Nomenclatura para los parámetros:"
   ]
  },
  {
   "cell_type": "markdown",
   "metadata": {},
   "source": [
    "* `pval` -- valor presente."
   ]
  },
  {
   "cell_type": "markdown",
   "metadata": {},
   "source": [
    "* `fval` -- valor futuro."
   ]
  },
  {
   "cell_type": "markdown",
   "metadata": {},
   "source": [
    "* `pmt` -- pago periodico."
   ]
  },
  {
   "cell_type": "markdown",
   "metadata": {},
   "source": [
    "* `nper` -- cantidad de periodos."
   ]
  },
  {
   "cell_type": "markdown",
   "metadata": {},
   "source": [
    "* `nrate` -- tasa de interés por periodo."
   ]
  },
  {
   "cell_type": "markdown",
   "metadata": {},
   "source": [
    "* `pyr` -- número de periodos por año."
   ]
  },
  {
   "cell_type": "markdown",
   "metadata": {},
   "source": [
    "* `due` -- momento del periodo en que se paga la anualidad: `'end'` (o 0) indica el pago al final del periodo; `'begin'` (o 1) indica el pago al principio del periodo."
   ]
  },
  {
   "cell_type": "markdown",
   "metadata": {},
   "source": [
    "Nomenclatura para las funciones de equivalencia financiera:"
   ]
  },
  {
   "cell_type": "markdown",
   "metadata": {},
   "source": []
  },
  {
   "cell_type": "code",
   "execution_count": null,
   "metadata": {
    "collapsed": true
   },
   "outputs": [],
   "source": []
  },
  {
   "cell_type": "code",
   "execution_count": null,
   "metadata": {
    "collapsed": true
   },
   "outputs": [],
   "source": []
  },
  {
   "cell_type": "code",
   "execution_count": null,
   "metadata": {
    "collapsed": true
   },
   "outputs": [],
   "source": []
  },
  {
   "cell_type": "markdown",
   "metadata": {},
   "source": [
    "# Función `amortize`"
   ]
  },
  {
   "cell_type": "markdown",
   "metadata": {},
   "source": [
    "`amortize(pval=None, fval=None, pmt=None, nrate=None, nper=None, due=0, pyr=1, noprint=True)`"
   ]
  },
  {
   "cell_type": "markdown",
   "metadata": {},
   "source": [
    "Imprime la tabla de amortizaciones para los cálculos realizados."
   ]
  },
  {
   "cell_type": "markdown",
   "metadata": {},
   "source": [
    "A continuación se presentan varios ejemplos de su uso."
   ]
  },
  {
   "cell_type": "markdown",
   "metadata": {},
   "source": [
    "**Ejemplo (hipoteca).--** [2, pág. 50] Se hará un préstamo de \\$ 35000 con un interes del (10.5% / 12). Si se hacen pagos mensuales de \\$ 325 al final de cada mes, cuánto tiempo se requiere para cancelar la deuda?  "
   ]
  },
  {
   "cell_type": "code",
   "execution_count": 14,
   "metadata": {},
   "outputs": [
    {
     "data": {
      "text/plain": [
       "327.43926528279928"
      ]
     },
     "execution_count": 14,
     "metadata": {},
     "output_type": "execute_result"
    }
   ],
   "source": [
    "## crea una instancia del modelo y se almacena en una variable\n",
    "m = cf.tvmm(nrate =    10.5/12, # tasa de interes\n",
    "             pval = 35000,      # valor presente  \n",
    "             pmt  =  -325,\n",
    "             fval =     0,\n",
    "             due  =     0)      # 'end' \n",
    "m"
   ]
  },
  {
   "cell_type": "markdown",
   "metadata": {},
   "source": [
    "Si se hacen 327 pagos de \\$ 325, cuánto será el pago No. 328? "
   ]
  },
  {
   "cell_type": "code",
   "execution_count": 15,
   "metadata": {},
   "outputs": [
    {
     "data": {
      "text/plain": [
       "-141.86862789513543"
      ]
     },
     "execution_count": 15,
     "metadata": {},
     "output_type": "execute_result"
    }
   ],
   "source": [
    "# pago en exceso el valor de la deuda\n",
    "m = cf.tvmm(nrate =    10.5/12, # tasa de interes\n",
    "             pval = 35000,      # valor presente  \n",
    "             pmt  =  -325,\n",
    "             nper =   327,\n",
    "             due  =     0)      # 'end' \n",
    "m"
   ]
  },
  {
   "cell_type": "code",
   "execution_count": 16,
   "metadata": {},
   "outputs": [
    {
     "data": {
      "text/plain": [
       "181.89002161078213"
      ]
     },
     "execution_count": 16,
     "metadata": {},
     "output_type": "execute_result"
    }
   ],
   "source": [
    "# pago en exceso el valor de la deuda\n",
    "m * (1 + 10.5/12/100) + 325"
   ]
  },
  {
   "cell_type": "markdown",
   "metadata": {},
   "source": [
    "Se se hacen únicamente 327 pagos, cuál es el valor del pago final para cancelar completamente la deuda?"
   ]
  },
  {
   "cell_type": "code",
   "execution_count": 17,
   "metadata": {},
   "outputs": [
    {
     "data": {
      "text/plain": [
       "-141.86862789513543"
      ]
     },
     "execution_count": 17,
     "metadata": {},
     "output_type": "execute_result"
    }
   ],
   "source": [
    "m = cf.tvmm(nrate =    10.5/12, # tasa de interes\n",
    "             pval = 35000,      # valor presente  \n",
    "             pmt  =  -325,\n",
    "             nper =   327,\n",
    "             due  =     0)      # 'end' \n",
    "m"
   ]
  },
  {
   "cell_type": "code",
   "execution_count": 18,
   "metadata": {},
   "outputs": [
    {
     "data": {
      "text/plain": [
       "-466.86862789513543"
      ]
     },
     "execution_count": 18,
     "metadata": {},
     "output_type": "execute_result"
    }
   ],
   "source": [
    "-325 + m"
   ]
  },
  {
   "cell_type": "markdown",
   "metadata": {},
   "source": [
    "**Ejemplo.--** [2, pág. 53] Se abre una cuenta hoy con un depósito de \\$ 775. La tasa de interés es de (6.25%/24). Si se siguen realizando depósitos de \\$ 50, cuánto tiempo se requiere para alcanzar un saldo de \\$ 4000?   "
   ]
  },
  {
   "cell_type": "code",
   "execution_count": 19,
   "metadata": {},
   "outputs": [
    {
     "data": {
      "text/plain": [
       "57.548385170743252"
      ]
     },
     "execution_count": 19,
     "metadata": {},
     "output_type": "execute_result"
    }
   ],
   "source": [
    "cf.tvmm(nrate =  6.25/24, # tasa de interes\n",
    "        pval   = -775,    # deposito inicial  \n",
    "        pmt    =  -50,    # depositos periodicos\n",
    "        fval   = 4000,    # saldo final\n",
    "        due    = 0)       # depositos al final del periodo \n"
   ]
  },
  {
   "cell_type": "code",
   "execution_count": 20,
   "metadata": {},
   "outputs": [
    {
     "data": {
      "text/plain": [
       "4027.2656060308091"
      ]
     },
     "execution_count": 20,
     "metadata": {},
     "output_type": "execute_result"
    }
   ],
   "source": [
    "# saldo al final de 58 periodos\n",
    "cf.tvmm(nrate  =    6.25/24, # tasa de interes\n",
    "        nper   =   58,       # numero de periodos\n",
    "        pval   = -775,       # deposito inicial  \n",
    "        pmt    =  -50,       # depositos periodicos\n",
    "        due    = 0)          # depositos al final del periodo "
   ]
  },
  {
   "cell_type": "markdown",
   "metadata": {},
   "source": [
    "**Ejemplo.--** [2, pág. 55] Qué tasa de interés debe obtenerse para acumular \\$ 10000 en 32 periodos si se hace una inversión de \\$ 6000? R/ 1.61%"
   ]
  },
  {
   "cell_type": "code",
   "execution_count": 21,
   "metadata": {},
   "outputs": [
    {
     "data": {
      "text/plain": [
       "1.6091394935432066"
      ]
     },
     "execution_count": 21,
     "metadata": {},
     "output_type": "execute_result"
    }
   ],
   "source": [
    "cf.pvfv(pval = -6000,         # deposito inicial\n",
    "        nper =    32,         # numero de periodos\n",
    "        fval = 10000)         # saldo final"
   ]
  },
  {
   "cell_type": "code",
   "execution_count": 22,
   "metadata": {},
   "outputs": [
    {
     "data": {
      "text/plain": [
       "1.6091394935432066"
      ]
     },
     "execution_count": 22,
     "metadata": {},
     "output_type": "execute_result"
    }
   ],
   "source": [
    "cf.tvmm(pval = -6000,     # deposito inicial\n",
    "        nper =    32,     # numero de periodos\n",
    "        pmt  = 0,         # pago periodico\n",
    "        fval = 10000)     # saldo final"
   ]
  },
  {
   "cell_type": "markdown",
   "metadata": {},
   "source": [
    "**Ejemplo.--** [2, pág. 58] Cuánto se puede pagar por una propiedad que generará un flujo neto anual de \\$ 17500 durante 5 años, si al final la propiedad se puede vender en \\$ 540.000? (la tasa de interés es del 12%)  "
   ]
  },
  {
   "cell_type": "code",
   "execution_count": 25,
   "metadata": {},
   "outputs": [
    {
     "data": {
      "text/plain": [
       "-369494.08562908118"
      ]
     },
     "execution_count": 25,
     "metadata": {},
     "output_type": "execute_result"
    }
   ],
   "source": [
    "cf.tvmm(pmt   =  17500,   # pago periodico anual\n",
    "        fval  = 540000,   # valor de venta\n",
    "        nrate =     12.0, # tasa de interés\n",
    "        nper  =      5)   # numero de periodos"
   ]
  },
  {
   "cell_type": "markdown",
   "metadata": {},
   "source": [
    "**Ejemplo.--** [2, pág. 59] Cuánto es el monto periodico que debe consignarse mensualmente en una cuenta de ahorros si el saldo inicial es de \\$ 3200, el saldo final es de \\$ 60000, la tasa es de 9.75%/2 y plazo es de 30 meses? "
   ]
  },
  {
   "cell_type": "code",
   "execution_count": 27,
   "metadata": {},
   "outputs": [
    {
     "data": {
      "text/plain": [
       "-717.44030300066242"
      ]
     },
     "execution_count": 27,
     "metadata": {},
     "output_type": "execute_result"
    }
   ],
   "source": [
    "cf.tvmm(pval  = -3200,      # apertura\n",
    "        fval  = 60000,      # saldo futuro\n",
    "        nper  =    30,      # numero de periodos\n",
    "        nrate =     9.75/2) # tasa de interés"
   ]
  },
  {
   "cell_type": "markdown",
   "metadata": {},
   "source": [
    "**Ejemplo.--** [2, pág. 61] Si se tiene una hipoteca de \\$ 243400 con un pago mensual de \\$ 1363.29 en 348 meses a una tasa del 5.25%/12, cuál es el pago que debe realizarse en la cuota 60 para cancelar completamente la deuda?"
   ]
  },
  {
   "cell_type": "code",
   "execution_count": 28,
   "metadata": {},
   "outputs": [
    {
     "data": {
      "text/plain": [
       "-222975.98179576019"
      ]
     },
     "execution_count": 28,
     "metadata": {},
     "output_type": "execute_result"
    }
   ],
   "source": [
    "cf.tvmm(pval  = 243400,        # monto\n",
    "        nrate =      5.25/12,  # tasa de interés\n",
    "        pmt   =  -1363.29,     # pago mensual\n",
    "        nper  =     60)        # numero de periodos"
   ]
  },
  {
   "cell_type": "markdown",
   "metadata": {},
   "source": [
    "**Ejemplo.--** [2, pág. 61] Si se consignan \\$ 50 al principio de cada mes en una nueva cuenta que paga 6.25%/12, cuál es el saldo al final de 24 meses?   "
   ]
  },
  {
   "cell_type": "code",
   "execution_count": 29,
   "metadata": {},
   "outputs": [
    {
     "data": {
      "text/plain": [
       "1281.3359267030764"
      ]
     },
     "execution_count": 29,
     "metadata": {},
     "output_type": "execute_result"
    }
   ],
   "source": [
    "cf.tvmm(pval  =   0,        # monto\n",
    "        nrate =   6.25/12,  # tasa de interés\n",
    "        pmt   = -50.0,      # pago mensual\n",
    "        due   =   1,        # pago al principio del periodo\n",
    "        nper  =  24)        # numero de periodos"
   ]
  },
  {
   "cell_type": "markdown",
   "metadata": {},
   "source": [
    "**Ejemplo.--** [2, 62] Se compra una propiedad por \\$ 32000. Si se presenta una depreciación del 2% por año, cuál será el valor de la propiedad al final de 6 años? R/ \\$ 28346.96"
   ]
  },
  {
   "cell_type": "code",
   "execution_count": 30,
   "metadata": {},
   "outputs": [
    {
     "data": {
      "text/plain": [
       "28346.956187077209"
      ]
     },
     "execution_count": 30,
     "metadata": {},
     "output_type": "execute_result"
    }
   ],
   "source": [
    "cf.pvfv(pval  = -32000,\n",
    "        nrate =     -2.0,   \n",
    "        nper  =      6)"
   ]
  },
  {
   "cell_type": "code",
   "execution_count": 35,
   "metadata": {
    "scrolled": true
   },
   "outputs": [
    {
     "data": {
      "text/plain": [
       "-73408.811623403832"
      ]
     },
     "execution_count": 35,
     "metadata": {},
     "output_type": "execute_result"
    }
   ],
   "source": [
    "# (b) R/ $ -73408.81\n",
    "cf.tvmm(pval  = 75250, \n",
    "        pmt   =  -894.33,\n",
    "        nrate =    13.8/12,\n",
    "        nper  =  4*12) "
   ]
  },
  {
   "cell_type": "markdown",
   "metadata": {},
   "source": [
    " **Ejemplo (leasing).--** [3, pág 02] Se hace un leasing por una maquinaria por 4 años (48 meses) con pagos mensuales de \\$ 2400; se debe pagar una cuota adicional de \\$ 2400 al principio del leasing para reemplazar la última cuota (que ocurre al principio del mes 48). El contrato incluye una opción de compra al final del periodo de leasing por \\$ 15000. Cual valor capitalizado del leasing para una tasa del 1.5% mensual? "
   ]
  },
  {
   "cell_type": "markdown",
   "metadata": {},
   "source": [
    "<img src=\"images/sesion-1-ejemplo-5.png\" width=350>"
   ]
  },
  {
   "cell_type": "code",
   "execution_count": 11,
   "metadata": {},
   "outputs": [
    {
     "data": {
      "text/plain": [
       "81735.575590862747"
      ]
     },
     "execution_count": 11,
     "metadata": {},
     "output_type": "execute_result"
    }
   ],
   "source": [
    "# se pagan 47 cuotas de $ 2400 al principio del mes.\n",
    "cf.tvmm(nper  =     47,\n",
    "        pmt   =  -2400,\n",
    "        due   =      1,\n",
    "        fval  =      0,\n",
    "        nrate =      1.5)\n",
    "# valor presente de las 47 cuotas al principio del periodo R/ $ 81735.58"
   ]
  },
  {
   "cell_type": "code",
   "execution_count": 12,
   "metadata": {
    "scrolled": true
   },
   "outputs": [
    {
     "data": {
      "text/plain": [
       "84135.575590862747"
      ]
     },
     "execution_count": 12,
     "metadata": {},
     "output_type": "execute_result"
    }
   ],
   "source": [
    "x = _ + 2400 # + cuota adicional al principio del leasing  R/ $ 84135.58\n",
    "x"
   ]
  },
  {
   "cell_type": "code",
   "execution_count": 13,
   "metadata": {},
   "outputs": [
    {
     "data": {
      "text/plain": [
       "91476.001017201139"
      ]
     },
     "execution_count": 13,
     "metadata": {},
     "output_type": "execute_result"
    }
   ],
   "source": [
    "x + cf.pvfv(nper  =     48,\n",
    "            fval  = -15000,\n",
    "            nrate =      1.5)  # opcion de compra R/ $ 91476.00\n",
    "\n"
   ]
  },
  {
   "cell_type": "markdown",
   "metadata": {},
   "source": [
    "**Ejemplo (ahorro programado).--** Se abre una cuenta ahorros con un depósito inicial de \\$ 2000, y posteriormente se hacen depósitos quincenales de \\$ 80 durante 15 años. La cuenta paga un interés del 0.346% quincenal. Cuánto dinero habrá en la cuenta después del último depósito? R/ 63988.44 "
   ]
  },
  {
   "cell_type": "code",
   "execution_count": 36,
   "metadata": {},
   "outputs": [
    {
     "data": {
      "text/plain": [
       "63988.433987522512"
      ]
     },
     "execution_count": 36,
     "metadata": {},
     "output_type": "execute_result"
    }
   ],
   "source": [
    "cf.tvmm(pval  =   -2000,\n",
    "        pmt   =     -80,\n",
    "        nper  = 15*12*2,\n",
    "        nrate =       0.346)"
   ]
  },
  {
   "cell_type": "markdown",
   "metadata": {},
   "source": [
    "**Ejemplo (leasing).--** Se hace un leasing por 3 años para un carro nuevo que vale hoy \\$ 13500, con la opción de comprar el carro por \\$ 7500 al final del leasing. Cuánto es el pago mensual si el interés es del 1.16% mensual? (tenga en cuenta que en el leasing se paga la cuota al principio del periodo) R/ $ 288.49"
   ]
  },
  {
   "cell_type": "code",
   "execution_count": 37,
   "metadata": {},
   "outputs": [
    {
     "data": {
      "text/plain": [
       "-288.4862833217752"
      ]
     },
     "execution_count": 37,
     "metadata": {},
     "output_type": "execute_result"
    }
   ],
   "source": [
    "cf.tvmm(pval  =   13500,\n",
    "        fval  =   -7500,\n",
    "        nper  =      36,\n",
    "        due   =       1,\n",
    "        nrate =       1.16)"
   ]
  },
  {
   "cell_type": "markdown",
   "metadata": {},
   "source": [
    "**Ejemplo (préstamo).--** Se va a comprar un equipo con un préstamo por \\$ 35000 con pagos mensuales de \\$ 325 mensuales. Si la tasa de interés es del 0.88% mensual, cuántos periodos se requieren para realizar el pago de la deuda?"
   ]
  },
  {
   "cell_type": "code",
   "execution_count": 38,
   "metadata": {},
   "outputs": [
    {
     "data": {
      "text/plain": [
       "336.76995140884333"
      ]
     },
     "execution_count": 38,
     "metadata": {},
     "output_type": "execute_result"
    }
   ],
   "source": [
    "x = cf.pvpmt(pval  = 35000,\n",
    "             nrate =     0.88,\n",
    "             pmt   =  -325)\n",
    "x # R/ 336.77"
   ]
  },
  {
   "cell_type": "code",
   "execution_count": 39,
   "metadata": {},
   "outputs": [
    {
     "data": {
      "text/plain": [
       "74.513808694551699"
      ]
     },
     "execution_count": 39,
     "metadata": {},
     "output_type": "execute_result"
    }
   ],
   "source": [
    "# OPCION 1: se hace nper = 337 para calcular cuanto se paga \n",
    "# como excedente en la última cuota. R/ $ 74.51\n",
    "cf.tvmm(pval = 35000,\n",
    "        pmt   = -325,\n",
    "        nrate =    0.88,\n",
    "        nper  =  337)\n"
   ]
  },
  {
   "cell_type": "code",
   "execution_count": 40,
   "metadata": {},
   "outputs": [
    {
     "data": {
      "text/plain": [
       "250.4861913054483"
      ]
     },
     "execution_count": 40,
     "metadata": {},
     "output_type": "execute_result"
    }
   ],
   "source": [
    "325 - _  # Pago final, restando el excedente.  R/ \\$ 250.49"
   ]
  },
  {
   "cell_type": "code",
   "execution_count": 41,
   "metadata": {},
   "outputs": [
    {
     "data": {
      "text/plain": [
       "-248.30114126228727"
      ]
     },
     "execution_count": 41,
     "metadata": {},
     "output_type": "execute_result"
    }
   ],
   "source": [
    "# OPCION 2: Se hace un pago adicional con la \n",
    "# cuota 336 para cancelar el préstamo\n",
    "cf.tvmm(pval = 35000,\n",
    "        pmt   = -325,\n",
    "        nrate =    0.88,\n",
    "        nper  =  336)"
   ]
  },
  {
   "cell_type": "code",
   "execution_count": 42,
   "metadata": {},
   "outputs": [
    {
     "data": {
      "text/plain": [
       "-573.30114126228727"
      ]
     },
     "execution_count": 42,
     "metadata": {},
     "output_type": "execute_result"
    }
   ],
   "source": [
    "-325 + _ # pago final: cuota actual + saldo por cancelar"
   ]
  },
  {
   "cell_type": "markdown",
   "metadata": {},
   "source": [
    "**Ejemplo (inversión).--** Se comprarán unas bodegas para arrendamiento. Si el arriendo es de \\$ 17500 anual, y las bodegas se venden al final del año 5 por \\$ 540000. Cuál es el monto máximo que puede pagarse por las bodegas si la tasa es del 12% anual?  R/ \\$ 369494.09"
   ]
  },
  {
   "cell_type": "code",
   "execution_count": 44,
   "metadata": {},
   "outputs": [
    {
     "data": {
      "text/plain": [
       "-369494.08562908118"
      ]
     },
     "execution_count": 44,
     "metadata": {},
     "output_type": "execute_result"
    }
   ],
   "source": [
    "cf.tvmm(fval  = 540000,\n",
    "        pmt   =  17500,\n",
    "        nrate =     12.0,   \n",
    "        nper  =      5)"
   ]
  },
  {
   "cell_type": "markdown",
   "metadata": {},
   "source": [
    "**Ejemplo (ahorro programado).--** Si al principio de cada mes se ahorran \\$ 100 a una tasa del 2% durante 24 meses, ¿cuánto dinero se tendrá al final del mes 24?."
   ]
  },
  {
   "cell_type": "code",
   "execution_count": 45,
   "metadata": {},
   "outputs": [
    {
     "data": {
      "text/plain": [
       "3103.0299723236531"
      ]
     },
     "execution_count": 45,
     "metadata": {},
     "output_type": "execute_result"
    }
   ],
   "source": [
    "cf.tvmm(nrate =    2.0,\n",
    "        pval  =    0,\n",
    "        nper  =   24,\n",
    "        pmt   = -100,\n",
    "        due   =    1)"
   ]
  },
  {
   "cell_type": "markdown",
   "metadata": {},
   "source": [
    "**Ejemplo (préstamo).--** Se desea determinar el valor de las cuotas mensuales iguales que se deberán pagar por un préstamo de \\$ 16700 financiado a 5 años al 2% mensual"
   ]
  },
  {
   "cell_type": "code",
   "execution_count": 46,
   "metadata": {},
   "outputs": [
    {
     "data": {
      "text/plain": [
       "-480.42502929096554"
      ]
     },
     "execution_count": 46,
     "metadata": {},
     "output_type": "execute_result"
    }
   ],
   "source": [
    "cf.pvpmt(nrate =      2.0,\n",
    "         pval  =  16700,\n",
    "         nper  =   5*12)"
   ]
  },
  {
   "cell_type": "markdown",
   "metadata": {},
   "source": [
    "**Ejemplo (préstamo con pago final adicional).--** Se realiza una hipoteca por \\$ 243400 a 5 años y con una tasa de interes de 0.12% con pagos mensuales de \\$ 4000 y un pago adicional en el último mes. ¿cuál es el valor de dicho pago adicional?"
   ]
  },
  {
   "cell_type": "code",
   "execution_count": 47,
   "metadata": {
    "scrolled": true
   },
   "outputs": [
    {
     "data": {
      "text/plain": [
       "-12863.296612548758"
      ]
     },
     "execution_count": 47,
     "metadata": {},
     "output_type": "execute_result"
    }
   ],
   "source": [
    "cf.tvmm(nrate =       0.12,\n",
    "        pval  =  243400,\n",
    "        nper  =    5*12,\n",
    "        pmt   =   -4000)"
   ]
  },
  {
   "cell_type": "markdown",
   "metadata": {},
   "source": [
    "**Ejemplo.--** Cuál será el valor futuro de \\$100 si se invierte a un año al 1%, a 2 años al 1.5% y a 3 años al 1.7%, con una capitalización anual? "
   ]
  },
  {
   "cell_type": "code",
   "execution_count": 50,
   "metadata": {},
   "outputs": [
    {
     "data": {
      "text/plain": [
       "[-101.0000001, -103.02250020149998, -105.18719160512887]"
      ]
     },
     "execution_count": 50,
     "metadata": {},
     "output_type": "execute_result"
    }
   ],
   "source": [
    "cf.tvmm(pval  =  100,               # si varias variables son listas\n",
    "        pmt   =    0,               # todas ellas deben tener la misma\n",
    "        nper  =    [1,   2,   3],   # longitud\n",
    "        nrate =    [1.0, 1.5, 1.7]) # "
   ]
  },
  {
   "cell_type": "markdown",
   "metadata": {},
   "source": [
    "**Ejemplo.--** Cuál es la amortización para los siguientes préstamos? (`fv` es el pago final residual (como en el leasing)\n",
    "```\n",
    "      plazo    5,        5,       6,       7\n",
    "      pv     100,      110,     110,     105\n",
    "      fv     -20,      -10,     -20,       0\n",
    "      tasa     0.020,    0.017,   0.016,   0.017\n",
    "      \n",
    "```"
   ]
  },
  {
   "cell_type": "code",
   "execution_count": 51,
   "metadata": {},
   "outputs": [
    {
     "data": {
      "text/plain": [
       "[-17.372671528345773,\n",
       " -21.201461428344242,\n",
       " -16.1711096183316,\n",
       " -16.037190189122793]"
      ]
     },
     "execution_count": 51,
     "metadata": {},
     "output_type": "execute_result"
    }
   ],
   "source": [
    "cf.tvmm(pval  = [ 100,   110,   110,   105   ],\n",
    "        fval  = [ -20,   -10,   -20,     0   ],         \n",
    "        nper  = [   5,     5,     6,     7   ], \n",
    "        nrate = [   2.0,   1.7,   1.6,   1.7 ])"
   ]
  },
  {
   "cell_type": "markdown",
   "metadata": {},
   "source": [
    "**Ejemplo (tablas de amortización - Parte 1).--** Construya la tabla de amortización (balance) para un préstamo de  \\$ 1000 a 6 meses con pagos mensuales iguales a una tasa de interés del 1% mensual. "
   ]
  },
  {
   "cell_type": "code",
   "execution_count": 52,
   "metadata": {},
   "outputs": [],
   "source": [
    "# principal, interest, payment, balance\n",
    "ppal, interest, payment, balance = cf.amortize(pval=1000, fval=0, pmt=None, nrate=1.0, nper=6, due=0)"
   ]
  },
  {
   "cell_type": "code",
   "execution_count": 53,
   "metadata": {
    "scrolled": false
   },
   "outputs": [
    {
     "data": {
      "text/plain": [
       "[0,\n",
       " -162.54836671088106,\n",
       " -164.17385037798988,\n",
       " -165.81558888176977,\n",
       " -167.47374477058747,\n",
       " -169.14848221829334,\n",
       " -170.83996704047627]"
      ]
     },
     "execution_count": 53,
     "metadata": {},
     "output_type": "execute_result"
    }
   ],
   "source": [
    "ppal"
   ]
  },
  {
   "cell_type": "code",
   "execution_count": 54,
   "metadata": {},
   "outputs": [
    {
     "data": {
      "text/plain": [
       "-999.99999999999773"
      ]
     },
     "execution_count": 54,
     "metadata": {},
     "output_type": "execute_result"
    }
   ],
   "source": [
    "sum(ppal)"
   ]
  },
  {
   "cell_type": "code",
   "execution_count": 55,
   "metadata": {},
   "outputs": [
    {
     "data": {
      "text/plain": [
       "[0,\n",
       " 10.0,\n",
       " 8.37451633289119,\n",
       " 6.7327778291112912,\n",
       " 5.0746219402935928,\n",
       " 3.3998844925877183,\n",
       " 1.7083996704047848]"
      ]
     },
     "execution_count": 55,
     "metadata": {},
     "output_type": "execute_result"
    }
   ],
   "source": [
    "interest"
   ]
  },
  {
   "cell_type": "code",
   "execution_count": 56,
   "metadata": {},
   "outputs": [
    {
     "data": {
      "text/plain": [
       "35.290200265288583"
      ]
     },
     "execution_count": 56,
     "metadata": {},
     "output_type": "execute_result"
    }
   ],
   "source": [
    "sum(interest)"
   ]
  },
  {
   "cell_type": "code",
   "execution_count": 57,
   "metadata": {},
   "outputs": [
    {
     "data": {
      "text/plain": [
       "[0,\n",
       " -172.54836671088106,\n",
       " -172.54836671088106,\n",
       " -172.54836671088106,\n",
       " -172.54836671088106,\n",
       " -172.54836671088106,\n",
       " -172.54836671088106]"
      ]
     },
     "execution_count": 57,
     "metadata": {},
     "output_type": "execute_result"
    }
   ],
   "source": [
    "payment"
   ]
  },
  {
   "cell_type": "code",
   "execution_count": 58,
   "metadata": {},
   "outputs": [
    {
     "data": {
      "text/plain": [
       "-1035.2902002652863"
      ]
     },
     "execution_count": 58,
     "metadata": {},
     "output_type": "execute_result"
    }
   ],
   "source": [
    "sum(payment)"
   ]
  },
  {
   "cell_type": "markdown",
   "metadata": {},
   "source": [
    "---"
   ]
  },
  {
   "cell_type": "markdown",
   "metadata": {},
   "source": [
    "# Ejercicios"
   ]
  },
  {
   "cell_type": "markdown",
   "metadata": {},
   "source": [
    "**Ejercicio.--** Suponga que usted quiere asegurarse de que puede financiar la educación universitaria de su hija dentro de 14 años a partir de hoy. Su hija retirará \\$ 500 al inicio de cada mes de una cuenta de ahorros durante 4 años. ¿Cuánto se tiene que depositar hoy en la cuenta si el interés es del 1% mensual?"
   ]
  },
  {
   "cell_type": "code",
   "execution_count": null,
   "metadata": {
    "collapsed": true
   },
   "outputs": [],
   "source": []
  },
  {
   "cell_type": "markdown",
   "metadata": {},
   "source": [
    "**Ejercicio.--** Mirando hacia la jubilación, usted desea acumular \\$ 60000 después de 15 años haciendo depósitos en una cuenta que paga 5.3% de interés semestral. Usted abre la cuenta con un depósito de \\$ 3200 con la intención de hacer depósitos semestrales, comenzando seis meses más tarde a partir de sus ingresos. Calcular la cantidad de dinero que se deberá depositar semestralmente (no se consigna al final del último semestre). "
   ]
  },
  {
   "cell_type": "code",
   "execution_count": null,
   "metadata": {
    "collapsed": true
   },
   "outputs": [],
   "source": []
  },
  {
   "cell_type": "markdown",
   "metadata": {
    "collapsed": true
   },
   "source": [
    "---"
   ]
  },
  {
   "cell_type": "code",
   "execution_count": 1,
   "metadata": {
    "collapsed": true
   },
   "outputs": [],
   "source": [
    "import cashflows as cf"
   ]
  },
  {
   "cell_type": "markdown",
   "metadata": {
    "collapsed": true
   },
   "source": [
    "# Conversión de tasas de interés"
   ]
  },
  {
   "cell_type": "markdown",
   "metadata": {},
   "source": [
    "## Interés anticipado e interés vencido"
   ]
  },
  {
   "cell_type": "markdown",
   "metadata": {},
   "source": [
    "[Contenido](#Contenido)"
   ]
  },
  {
   "cell_type": "markdown",
   "metadata": {},
   "source": [
    "<img src=\"images/antxven.png\" width=500>"
   ]
  },
  {
   "cell_type": "markdown",
   "metadata": {},
   "source": [
    "**Interés vencido:** se paga al final del periodo.  "
   ]
  },
  {
   "cell_type": "markdown",
   "metadata": {},
   "source": [
    "$$F=P(1+r)$$"
   ]
  },
  {
   "cell_type": "markdown",
   "metadata": {},
   "source": [
    "**Interés anticipado:** se paga al inicio del periodo (antes de su causación). En este caso surge una paradoja, que el interés se puede reinvertir a la misma tasa de interés (anticipadamente):"
   ]
  },
  {
   "cell_type": "markdown",
   "metadata": {},
   "source": [
    "$$F = P + Pr_*  + Pr_*^2 + ...$$"
   ]
  },
  {
   "cell_type": "markdown",
   "metadata": {},
   "source": [
    "La suma infinita anterior puede reescribirse como:"
   ]
  },
  {
   "cell_type": "markdown",
   "metadata": {},
   "source": [
    "$$F=P \\frac{1}{1 - r_*}$$"
   ]
  },
  {
   "cell_type": "markdown",
   "metadata": {},
   "source": [
    "Igualando las dos ecuaciones anteriores:"
   ]
  },
  {
   "cell_type": "markdown",
   "metadata": {},
   "source": [
    "$$\\frac{1}{1 - r_*}=1+r ~,~~ r=\\frac{r_*}{1 - r_*} ~,~~ r_*=\\frac{r}{1 + r}$$  "
   ]
  },
  {
   "cell_type": "markdown",
   "metadata": {},
   "source": [
    "Interés efectivo anual: "
   ]
  },
  {
   "cell_type": "markdown",
   "metadata": {},
   "source": [
    "$$r_a=\\left[1+\\left (\\frac{r_*}{1-r_*}\\right)\\right]^n-1$$"
   ]
  },
  {
   "cell_type": "markdown",
   "metadata": {},
   "source": [
    "**`cashflow`** tiene las funciones `nom2eff()` y `eff2nom()` para realizar las conversiones entre nominal (anticipado y vencido) y efectivo respectivamente."
   ]
  },
  {
   "cell_type": "markdown",
   "metadata": {},
   "source": [
    "**Ejemplo.--** Se solicita un prestamo a un año con un interés anticipado del 20%. ¿Determine el interés efectivo pagado por el dinero?"
   ]
  },
  {
   "cell_type": "code",
   "execution_count": 2,
   "metadata": {},
   "outputs": [
    {
     "data": {
      "text/plain": [
       "0.25"
      ]
     },
     "execution_count": 2,
     "metadata": {},
     "output_type": "execute_result"
    }
   ],
   "source": [
    "0.2 / (1 - 0.2)"
   ]
  },
  {
   "cell_type": "markdown",
   "metadata": {},
   "source": [
    "**Ejemplo.--** Si se desea obtener una tasa efectiva anual del 36%, ¿cuánto se deberá cobrar en forma anticipada anual para obenerla?"
   ]
  },
  {
   "cell_type": "code",
   "execution_count": 3,
   "metadata": {},
   "outputs": [
    {
     "data": {
      "text/plain": [
       "0.2647058823529412"
      ]
     },
     "execution_count": 3,
     "metadata": {},
     "output_type": "execute_result"
    }
   ],
   "source": [
    "0.36 / (1 + 0.36)"
   ]
  },
  {
   "cell_type": "markdown",
   "metadata": {},
   "source": [
    "## Interés nominal e interés efectivo"
   ]
  },
  {
   "cell_type": "markdown",
   "metadata": {},
   "source": [
    "[Contenido](#Contenido)"
   ]
  },
  {
   "cell_type": "markdown",
   "metadata": {},
   "source": [
    "**Interés nominal** (r): expresado sobre una base anual para un número M de periodos de pago en el año. "
   ]
  },
  {
   "cell_type": "markdown",
   "metadata": {},
   "source": [
    "**Interés efectivo por periodo de pago **($i$): representa el interés real para cada periodo de pago en el año.  "
   ]
  },
  {
   "cell_type": "markdown",
   "metadata": {},
   "source": [
    "**Interés efectivo anual** ($i_a$): interés real para un periodo único de pago de un año.  "
   ]
  },
  {
   "cell_type": "markdown",
   "metadata": {},
   "source": [
    "$$ i= \\frac{r}{M},$$  \n",
    "$$i_\\alpha = \\left( \\displaystyle 1 + \\frac{r}{M}\\right)^M - 1 $$"
   ]
  },
  {
   "cell_type": "markdown",
   "metadata": {},
   "source": [
    "**Ejemplo.--** Se está considerando abrir una cuenta de ahorros en uno de tres bancos. Cuál banco tienen la tasa de interés más favorable?"
   ]
  },
  {
   "cell_type": "markdown",
   "metadata": {},
   "source": [
    "* Banco #1: 6.72% anual, compuesto semestralmente"
   ]
  },
  {
   "cell_type": "markdown",
   "metadata": {},
   "source": [
    "* Banco #1: 6.70% anual, compuesto trimestralmente."
   ]
  },
  {
   "cell_type": "markdown",
   "metadata": {},
   "source": [
    "* Banco #2: 6.65% anual, compuesto mensualmente."
   ]
  },
  {
   "cell_type": "code",
   "execution_count": 4,
   "metadata": {},
   "outputs": [
    {
     "data": {
      "text/plain": [
       "(6.8328960000000105, 3.36)"
      ]
     },
     "execution_count": 4,
     "metadata": {},
     "output_type": "execute_result"
    }
   ],
   "source": [
    "cf.iconv(nrate = 6.72, pyr =  2)  ## Banco 1"
   ]
  },
  {
   "cell_type": "code",
   "execution_count": 5,
   "metadata": {},
   "outputs": [
    {
     "data": {
      "text/plain": [
       "(6.8702251402816605, 1.675)"
      ]
     },
     "execution_count": 5,
     "metadata": {},
     "output_type": "execute_result"
    }
   ],
   "source": [
    "cf.iconv(nrate = 6.70, pyr =  4)  ## Banco 2 -- mejor opción "
   ]
  },
  {
   "cell_type": "code",
   "execution_count": 6,
   "metadata": {},
   "outputs": [
    {
     "data": {
      "text/plain": [
       "(6.85647762811652, 0.5541666666666667)"
      ]
     },
     "execution_count": 6,
     "metadata": {},
     "output_type": "execute_result"
    }
   ],
   "source": [
    "cf.iconv(nrate = 6.65, pyr = 12)  ## Banco 3"
   ]
  },
  {
   "cell_type": "code",
   "execution_count": 7,
   "metadata": {},
   "outputs": [
    {
     "data": {
      "text/plain": [
       "([6.8328960000000105, 6.964855220821997, 6.85647762811652],\n",
       " [3.36, 1.6975, 0.5541666666666667])"
      ]
     },
     "execution_count": 7,
     "metadata": {},
     "output_type": "execute_result"
    }
   ],
   "source": [
    "## Otra forma\n",
    "cf.iconv(nrate = [6.72, 6.79, 6.65], pyr = [2, 4, 12])"
   ]
  },
  {
   "cell_type": "markdown",
   "metadata": {},
   "source": [
    "**Ejemplo.--** Convierta una tasa del 12% anual compuesto semestralmente a anual compuesto mensualmente."
   ]
  },
  {
   "cell_type": "code",
   "execution_count": 8,
   "metadata": {},
   "outputs": [
    {
     "data": {
      "text/plain": [
       "12.360000000000015"
      ]
     },
     "execution_count": 8,
     "metadata": {},
     "output_type": "execute_result"
    }
   ],
   "source": [
    "erate, _ = cf.iconv(nrate = 12.0, pyr = 2) ## efectiva por año \n",
    "erate"
   ]
  },
  {
   "cell_type": "code",
   "execution_count": 9,
   "metadata": {},
   "outputs": [
    {
     "data": {
      "text/plain": [
       "11.710553015030811"
      ]
     },
     "execution_count": 9,
     "metadata": {},
     "output_type": "execute_result"
    }
   ],
   "source": [
    "nrate, _ = cf.iconv(erate = erate, pyr = 12)       ## nominal compuesta mensualmente\n",
    "nrate"
   ]
  },
  {
   "cell_type": "markdown",
   "metadata": {},
   "source": [
    "**Ejemplo.--** Sea un interés nominal del 12% capitalizado mensualmente. Calcule:\n",
    "\n",
    "* Tasa efectiva mensual\n",
    "* Tasa efectiva trimestral\n",
    "* Tasa efectiva anual\n",
    "\n",
    "<img src=\"images/tasa-nominal-efectiva.png\" width=600>"
   ]
  },
  {
   "cell_type": "code",
   "execution_count": 10,
   "metadata": {},
   "outputs": [
    {
     "data": {
      "text/plain": [
       "0.01"
      ]
     },
     "execution_count": 10,
     "metadata": {},
     "output_type": "execute_result"
    }
   ],
   "source": [
    "## tasa efectiva mensual\n",
    "0.12 / 12"
   ]
  },
  {
   "cell_type": "code",
   "execution_count": 11,
   "metadata": {},
   "outputs": [
    {
     "data": {
      "text/plain": [
       "0.030003000099987354"
      ]
     },
     "execution_count": 11,
     "metadata": {},
     "output_type": "execute_result"
    }
   ],
   "source": [
    "## tasa efectiva trimestral\n",
    "erate, _ = cf.iconv(nrate = 3 * 0.12 / 12, pyr = 3)\n",
    "erate"
   ]
  },
  {
   "cell_type": "code",
   "execution_count": 12,
   "metadata": {},
   "outputs": [
    {
     "data": {
      "text/plain": [
       "12.682503013196978"
      ]
     },
     "execution_count": 12,
     "metadata": {},
     "output_type": "execute_result"
    }
   ],
   "source": [
    "## tasa efectiva anual\n",
    "erate, _ = cf.iconv(nrate = 12.0, pyr = 12)\n",
    "erate"
   ]
  },
  {
   "cell_type": "markdown",
   "metadata": {},
   "source": [
    "## Nomenclatura"
   ]
  },
  {
   "cell_type": "markdown",
   "metadata": {},
   "source": [
    "[Contenido](#Contenido)"
   ]
  },
  {
   "cell_type": "markdown",
   "metadata": {},
   "source": [
    "<img src=\"images/nomenclatura.png\" width=600>"
   ]
  },
  {
   "cell_type": "markdown",
   "metadata": {},
   "source": [
    "---"
   ]
  },
  {
   "cell_type": "markdown",
   "metadata": {},
   "source": [
    "## Ejercicios"
   ]
  },
  {
   "cell_type": "markdown",
   "metadata": {},
   "source": [
    "**Ejercicio.--** Cuál es la tasa efectiva anual equivalente a 15% N.A.M.V. (nominal anual mes vencido)?"
   ]
  },
  {
   "cell_type": "code",
   "execution_count": null,
   "metadata": {
    "collapsed": true
   },
   "outputs": [],
   "source": []
  },
  {
   "cell_type": "markdown",
   "metadata": {},
   "source": [
    "**Ejercicio.--** Cuál es la tasa efectiva anual equivalente a 23% N.A.T.A. (nominal anual trimestre anticipado)?"
   ]
  },
  {
   "cell_type": "code",
   "execution_count": null,
   "metadata": {
    "collapsed": true
   },
   "outputs": [],
   "source": []
  },
  {
   "cell_type": "markdown",
   "metadata": {},
   "source": [
    "**Ejercicio.--** Sea un interés nominal del 39.29% capitalizado mensualmente a cuánto equivale en términos semestrales? (R/ 6.15%)"
   ]
  },
  {
   "cell_type": "code",
   "execution_count": null,
   "metadata": {
    "collapsed": true
   },
   "outputs": [],
   "source": []
  },
  {
   "cell_type": "markdown",
   "metadata": {},
   "source": [
    "**Ejercicio.--** ¿Cuál es el valor futuro de \\$ 609 dentro de 2 años a una tasa del 2% NATV? "
   ]
  },
  {
   "cell_type": "code",
   "execution_count": null,
   "metadata": {
    "collapsed": true
   },
   "outputs": [],
   "source": []
  },
  {
   "cell_type": "markdown",
   "metadata": {},
   "source": [
    "**Ejercicio.--** ¿Cuál es el valor presente de un pago único de \\$ 890 recibido dentro de 6 años a una tasa de 2.7% NATA?   "
   ]
  },
  {
   "cell_type": "code",
   "execution_count": null,
   "metadata": {
    "collapsed": true
   },
   "outputs": [],
   "source": []
  },
  {
   "cell_type": "markdown",
   "metadata": {},
   "source": [
    "**Ejercicio.--** ¿Qué cantidad de dinero se poseerá después de prestar \\$ 2300 al 27% NAMA durante 3 años?"
   ]
  },
  {
   "cell_type": "code",
   "execution_count": null,
   "metadata": {
    "collapsed": true
   },
   "outputs": [],
   "source": []
  },
  {
   "cell_type": "markdown",
   "metadata": {},
   "source": [
    "**Ejercicio.--** ¿Cuál es la tasa efectiva semestral equivalente al 14% NMTA?"
   ]
  },
  {
   "cell_type": "code",
   "execution_count": null,
   "metadata": {
    "collapsed": true
   },
   "outputs": [],
   "source": []
  },
  {
   "cell_type": "markdown",
   "metadata": {},
   "source": [
    "**Ejercicio.--** ¿Cuánto dinero mensual se debe empezar a abonar hoy si se desea reunir \\$ 28700 al final de 5 años y los ahorros rentan el 16%?"
   ]
  },
  {
   "cell_type": "code",
   "execution_count": null,
   "metadata": {
    "collapsed": true
   },
   "outputs": [],
   "source": []
  },
  {
   "cell_type": "markdown",
   "metadata": {
    "collapsed": true
   },
   "source": [
    "**Ejercicio.--**  Se decide ahorrar mensualmente \\$ 900 los cuales depositará al principio de cada mes en una entidad financiera que paga un interés del 30%. ¿Cuánto habrá acumulado al cabo de 2 años?"
   ]
  },
  {
   "cell_type": "code",
   "execution_count": null,
   "metadata": {
    "collapsed": true
   },
   "outputs": [],
   "source": []
  },
  {
   "cell_type": "markdown",
   "metadata": {},
   "source": [
    "---"
   ]
  },
  {
   "cell_type": "markdown",
   "metadata": {},
   "source": [
    "[Contenido](#Contenido)"
   ]
  }
 ],
 "metadata": {
  "anaconda-cloud": {},
  "kernelspec": {
   "display_name": "Python 3",
   "language": "python",
   "name": "python3"
  },
  "language_info": {
   "codemirror_mode": {
    "name": "ipython",
    "version": 3
   },
   "file_extension": ".py",
   "mimetype": "text/x-python",
   "name": "python",
   "nbconvert_exporter": "python",
   "pygments_lexer": "ipython3",
   "version": "3.6.1"
  }
 },
 "nbformat": 4,
 "nbformat_minor": 1
}
