{
 "cells": [
  {
   "cell_type": "markdown",
   "metadata": {
    "slideshow": {
     "slide_type": "slide"
    }
   },
   "source": [
    "Librería Cashflows\n",
    "===\n",
    "\n",
    "**Juan David Velásquez Henao**  \n",
    "jdvelasq@unal.edu.co   \n",
    "Universidad Nacional de Colombia, Sede Medellín  \n",
    "Facultad de Minas  \n",
    "Medellín, Colombia\n",
    "\n",
    "---\n",
    "\n",
    "Haga click [aquí](https://github.com/jdvelasq/ingenieria-economica/blob/master/02-cashflows.ipynb) para acceder a la última versión online\n",
    "\n",
    "Haga click [aquí](http://nbviewer.jupyter.org/github/jdvelasq/ingenieria-economica/blob/master/02-cashflows.ipynb) para ver la última versión online en `nbviewer`. \n",
    "\n",
    "---"
   ]
  },
  {
   "cell_type": "markdown",
   "metadata": {
    "slideshow": {
     "slide_type": "slide"
    }
   },
   "source": [
    "### Cashflows\n",
    "\n",
    "**`cashflows`** es una librería para la ejecución de cálculos financieros. Las funciones implementadas son similares a las usadas en Microsoft Excel, las calculadoras financieras y otros softwares similares. \n",
    "\n",
    "**Instalación**:\n",
    "\n",
    "    pip install cashflows\n",
    "    \n",
    "**Uso**:"
   ]
  },
  {
   "cell_type": "code",
   "execution_count": 1,
   "metadata": {
    "collapsed": true,
    "slideshow": {
     "slide_type": "-"
    }
   },
   "outputs": [],
   "source": [
    "# Importa la librería financiera.\n",
    "# Solo es necesario ejecutar la importación una sola vez.\n",
    "import cashflows as cf"
   ]
  },
  {
   "cell_type": "markdown",
   "metadata": {
    "slideshow": {
     "slide_type": "slide"
    }
   },
   "source": [
    "### Tipos de interés\n",
    "\n",
    "**Interés nominal** (`nrate`): expresado sobre una base anual para un número `pyr` de períodos de pago en el año. \n",
    "\n",
    "**Interés efectivo por período de pago (o períodico) **(`prate`): representa el interés real para cada período de pago en el año.  \n",
    "\n",
    "**Interés efectivo anual** (`erate`): interés real para un período único de pago de un año.  \n",
    "\n",
    "$$ prate= \\frac{nrate}{pyr}, \\qquad erate = \\left( \\displaystyle 1 +  prate\\right)^{nper} - 1 = \\left( \\displaystyle 1 + \\frac{nrate}{pyr}\\right)^{nper} - 1 $$"
   ]
  },
  {
   "cell_type": "markdown",
   "metadata": {
    "slideshow": {
     "slide_type": "slide"
    }
   },
   "source": [
    "***Ejemplo.--*** Se está considerando abrir una cuenta de ahorros en uno de tres bancos. ¿Cuál banco tienen la tasa de interés más favorable?\n",
    "\n",
    "* Banco #1: 6.72% anual, compuesto semestralmente.\n",
    "\n",
    "* Banco #2: 6.70% anual, compuesto trimestralmente.\n",
    "\n",
    "* Banco #3: 6.65% anual, compuesto mensualmente."
   ]
  },
  {
   "cell_type": "markdown",
   "metadata": {
    "slideshow": {
     "slide_type": "slide"
    }
   },
   "source": [
    "**Solución manual**"
   ]
  },
  {
   "cell_type": "code",
   "execution_count": 2,
   "metadata": {},
   "outputs": [
    {
     "data": {
      "text/plain": [
       "0.0683289600000001"
      ]
     },
     "execution_count": 2,
     "metadata": {},
     "output_type": "execute_result"
    }
   ],
   "source": [
    "pow(1+0.0672/2, 2) - 1 ## tasa efectiva anual para el Banco #1"
   ]
  },
  {
   "cell_type": "code",
   "execution_count": 3,
   "metadata": {},
   "outputs": [
    {
     "data": {
      "text/plain": [
       "0.0687022514028166"
      ]
     },
     "execution_count": 3,
     "metadata": {},
     "output_type": "execute_result"
    }
   ],
   "source": [
    "pow(1+0.0670/4, 4) - 1 ## tasa efectiva anual para el Banco #2 \n",
    "                       ## tasa mas favorable"
   ]
  },
  {
   "cell_type": "code",
   "execution_count": 4,
   "metadata": {},
   "outputs": [
    {
     "data": {
      "text/plain": [
       "0.0685647762811652"
      ]
     },
     "execution_count": 4,
     "metadata": {},
     "output_type": "execute_result"
    }
   ],
   "source": [
    "pow(1+0.0665/12, 12) - 1 ## tasa efectiva anual para el Banco #3"
   ]
  },
  {
   "cell_type": "markdown",
   "metadata": {
    "slideshow": {
     "slide_type": "slide"
    }
   },
   "source": [
    "### Función `iconv`\n",
    "\n",
    "`iconv(nrate=None, erate=None, prate=None, pyr=1)`      \n",
    "\n",
    "donde:\n",
    "\n",
    "* `nrate` -- tasa nominal.\n",
    "* `prate` -- tasa períodica o tasa efectiva por período de capitalización.\n",
    "* `erate` -- tasa efectiva por año.\n",
    "* `pyr` -- número de períodos de capitalización por año.\n",
    "\n",
    "La función recibe una de las tasa de interés y retorna las otras dos así:\n",
    "\n",
    "* Al especificar `nrate` retorna `(erate, prate)`.\n",
    "* Al especificar `erate` retorna `(nrate, prate)`.\n",
    "* Al especificar `prate` retorna `(nrate, erate)`.\n",
    "\n",
    "Los cálculos son ejecutados usando las siguientes ecuaciones:\n",
    "\n",
    "$$ prate= \\frac{nrate}{pyr}, \\qquad erate = \\left( \\displaystyle 1 +  prate\\right)^{nper} - 1 = \\left( \\displaystyle 1 + \\frac{nrate}{pyr}\\right)^{nper} - 1 $$"
   ]
  },
  {
   "cell_type": "markdown",
   "metadata": {
    "slideshow": {
     "slide_type": "slide"
    }
   },
   "source": [
    "Los cálculos usando `iconv` se realizan de la siguiente manera:"
   ]
  },
  {
   "cell_type": "code",
   "execution_count": 5,
   "metadata": {
    "slideshow": {
     "slide_type": "-"
    }
   },
   "outputs": [
    {
     "data": {
      "text/plain": [
       "(6.8328960000000105, 3.36)"
      ]
     },
     "execution_count": 5,
     "metadata": {},
     "output_type": "execute_result"
    }
   ],
   "source": [
    "cf.iconv(nrate = 6.72, pyr =  2)  ## Banco 1: 6.72% comp semestralmente"
   ]
  },
  {
   "cell_type": "code",
   "execution_count": 6,
   "metadata": {
    "slideshow": {
     "slide_type": "fragment"
    }
   },
   "outputs": [
    {
     "data": {
      "text/plain": [
       "(6.8702251402816605, 1.675)"
      ]
     },
     "execution_count": 6,
     "metadata": {},
     "output_type": "execute_result"
    }
   ],
   "source": [
    "cf.iconv(nrate = 6.70, pyr =  4)  ## Banco 2 6.70% comp trimestralmente"
   ]
  },
  {
   "cell_type": "code",
   "execution_count": 7,
   "metadata": {
    "slideshow": {
     "slide_type": "fragment"
    }
   },
   "outputs": [
    {
     "data": {
      "text/plain": [
       "(6.85647762811652, 0.5541666666666667)"
      ]
     },
     "execution_count": 7,
     "metadata": {},
     "output_type": "execute_result"
    }
   ],
   "source": [
    "cf.iconv(nrate = 6.65, pyr = 12)  ## Banco 3: 6.65% comp mensualmente"
   ]
  },
  {
   "cell_type": "markdown",
   "metadata": {
    "slideshow": {
     "slide_type": "fragment"
    }
   },
   "source": [
    "Los cálculos pueden ejecutarse con una sola llamada a la función."
   ]
  },
  {
   "cell_type": "code",
   "execution_count": 8,
   "metadata": {},
   "outputs": [
    {
     "data": {
      "text/plain": [
       "([6.8328960000000105, 6.964855220821997, 6.85647762811652],\n",
       " [3.36, 1.6975, 0.5541666666666667])"
      ]
     },
     "execution_count": 8,
     "metadata": {},
     "output_type": "execute_result"
    }
   ],
   "source": [
    "## Otra forma\n",
    "cf.iconv(nrate = [6.72, 6.79, 6.65], pyr = [2, 4, 12])"
   ]
  },
  {
   "cell_type": "markdown",
   "metadata": {
    "slideshow": {
     "slide_type": "slide"
    }
   },
   "source": [
    "### Función `pvfv`\n",
    "\n",
    "`pvfv(pval=None, fval=None, nrate=None, nper=None, pyr=1, \n",
    "  noprint=True)` \n",
    "\n",
    "<img src=\"images/pvfv.png\" width=\"300\">\n",
    "\n",
    "La función `pvfv` returna el valor faltante en la siguiente ecuación:\n",
    "\n",
    "$$fval = - pval * \\left(1 + \\frac{nrate}{pyr}\\right) ^ {nper}$$\n",
    "\n",
    "donde:\n",
    "* `pval` -- valor presente.\n",
    "* `fval` -- valor futuro.\n",
    "* `nper` -- cantidad de períodos.\n",
    "* `nrate` -- tasa de interés nominal.\n",
    "* `pyr` -- número de períodos de capitalización por año."
   ]
  },
  {
   "cell_type": "markdown",
   "metadata": {
    "slideshow": {
     "slide_type": "slide"
    }
   },
   "source": [
    "***Ejemplo.--*** [3, pág. 88] Se depositan `$` 2000 en una cuenta de ahorros que paga un interés anual del 7.2% (capitalizado anualmente). Si no se hacen otros depósitos en la cuenta, ¿cuánto tiempo se requiere para que la cuenta tenga `$` 3000? R/ 5.83\n",
    "\n",
    "<img src=\"images/sesion-2-ejemplo-1.png\" width=\"350\">"
   ]
  },
  {
   "cell_type": "code",
   "execution_count": 9,
   "metadata": {},
   "outputs": [
    {
     "data": {
      "text/plain": [
       "5.8318433820838607"
      ]
     },
     "execution_count": 9,
     "metadata": {},
     "output_type": "execute_result"
    }
   ],
   "source": [
    "cf.pvfv(nrate =     7.2,   # tasa de interes\n",
    "        pval  = -2000,     # valor presente\n",
    "        fval  = +3000)     # valor futuro"
   ]
  },
  {
   "cell_type": "code",
   "execution_count": 10,
   "metadata": {
    "scrolled": true
   },
   "outputs": [
    {
     "data": {
      "text/plain": [
       "3035.2796326007801"
      ]
     },
     "execution_count": 10,
     "metadata": {},
     "output_type": "execute_result"
    }
   ],
   "source": [
    "# Ya que nper es un valor entre 5 y 6, se requieren 6 años \n",
    "# para tener un balance de al menos $ 3000.\n",
    "# El balance al final de los seis años es (R/ 3035.28):\n",
    "cf.pvfv(nrate =     7.2, # tasa de interes\n",
    "        pval  = -2000,   # valor presente\n",
    "        nper  =     6)   # numero de periodos"
   ]
  },
  {
   "cell_type": "markdown",
   "metadata": {
    "slideshow": {
     "slide_type": "slide"
    }
   },
   "source": [
    "***Ejemplo.--*** ¿Cuál será el valor futuro de `$` 100, `$` 200, `$` 300 y `$` 400 en 5 años a una tasa de interés del 3% anual? "
   ]
  },
  {
   "cell_type": "code",
   "execution_count": 11,
   "metadata": {
    "scrolled": false
   },
   "outputs": [
    {
     "data": {
      "text/plain": [
       "[-115.92740796091358,\n",
       " -231.8548153909136,\n",
       " -347.78222282091355,\n",
       " -463.70963025091356]"
      ]
     },
     "execution_count": 11,
     "metadata": {},
     "output_type": "execute_result"
    }
   ],
   "source": [
    "# uno de los parámetros puede ser un vector\n",
    "cf.pvfv(pval  =  [100, 200, 300, 400], \n",
    "        nper  =  5,\n",
    "        nrate =  3.0)"
   ]
  },
  {
   "cell_type": "markdown",
   "metadata": {
    "slideshow": {
     "slide_type": "slide"
    }
   },
   "source": [
    "***Ejemplo.--*** ¿Cuál será el valor futuro de `$` 100 en 1, 2, 3 y 4 años a una tasa de interés de 3% anual? "
   ]
  },
  {
   "cell_type": "code",
   "execution_count": 12,
   "metadata": {},
   "outputs": [
    {
     "data": {
      "text/plain": [
       "[-103.0000001, -106.09000020299999, -109.27270030909, -112.55088141836272]"
      ]
     },
     "execution_count": 12,
     "metadata": {},
     "output_type": "execute_result"
    }
   ],
   "source": [
    "cf.pvfv(pval  =  100, \n",
    "        nper  =    [1, 2, 3, 4],\n",
    "        nrate =    3.0)"
   ]
  },
  {
   "cell_type": "markdown",
   "metadata": {
    "slideshow": {
     "slide_type": "slide"
    }
   },
   "source": [
    "***Ejercicio.--*** Se compra un propiedad por `$` 32000. Si se presenta una depreciación del 2% por año, ¿cuál será el valor de la propiedad al final de 6 años?"
   ]
  },
  {
   "cell_type": "markdown",
   "metadata": {
    "slideshow": {
     "slide_type": "slide"
    }
   },
   "source": [
    "### Función `pvpmt`\n",
    "\n",
    "`pvpmt(pmt=None, pval=None, nrate=None, nper=None, pyr=1, \n",
    "  noprint=True)`\n",
    "\n",
    "Calcula el parámetro faltante en el siguiente flujo de efectivo.\n",
    "\n",
    "<img src=\"images/pvpmt.png\" width=\"300\">\n",
    "\n",
    "Nomenclatura para los parámetros:\n",
    "* `pval` -- valor presente.\n",
    "* `pmt` -- pago períodico o anualidad.\n",
    "* `nper` -- cantidad de períodos.\n",
    "* `nrate` -- tasa nominal de interés por año.\n",
    "* `pyr` -- número de períodos por año."
   ]
  },
  {
   "cell_type": "markdown",
   "metadata": {
    "slideshow": {
     "slide_type": "slide"
    }
   },
   "source": [
    "***Ejemplo.--*** [2, pág. 57] Si se va a realizar un leasing a una tasa nominal de 5.9% y se deben realizar 48 pagos mensuales de `$` 450 y un pago inicial de `$` 1500 al constituirse el crédito, ¿cuál es el monto del préstamo?"
   ]
  },
  {
   "cell_type": "code",
   "execution_count": 13,
   "metadata": {},
   "outputs": [
    {
     "data": {
      "text/plain": [
       "19198.600408593771"
      ]
     },
     "execution_count": 13,
     "metadata": {},
     "output_type": "execute_result"
    }
   ],
   "source": [
    "cf.pvpmt(pmt   =  -450,   # pago mensual\n",
    "         nrate =     5.9, # tasa de interés\n",
    "         nper  =    48,   # numero de periodos\n",
    "         pyr   =    12)   # periodos de capitalización por año"
   ]
  },
  {
   "cell_type": "code",
   "execution_count": 14,
   "metadata": {},
   "outputs": [
    {
     "data": {
      "text/plain": [
       "20698.600408593771"
      ]
     },
     "execution_count": 14,
     "metadata": {},
     "output_type": "execute_result"
    }
   ],
   "source": [
    "_ + 1500"
   ]
  },
  {
   "cell_type": "markdown",
   "metadata": {
    "slideshow": {
     "slide_type": "slide"
    }
   },
   "source": [
    "***Ejemplo.--*** [2, pág. 59] Calcule el pago mensual de una hipoteca por `$` 243400 pagada en 348 meses a una tasa nominal de 5.25%."
   ]
  },
  {
   "cell_type": "code",
   "execution_count": 15,
   "metadata": {},
   "outputs": [
    {
     "data": {
      "text/plain": [
       "-1363.286877407623"
      ]
     },
     "execution_count": 15,
     "metadata": {},
     "output_type": "execute_result"
    }
   ],
   "source": [
    "cf.pvpmt(pval  = 243400,    # monto\n",
    "         nrate =      5.25, # tasa de interés\n",
    "         nper  =    348,    # número de períodos\n",
    "         pyr   =     12)    # períodos de capitalización por año"
   ]
  },
  {
   "cell_type": "markdown",
   "metadata": {
    "slideshow": {
     "slide_type": "slide"
    }
   },
   "source": [
    "***Ejemplo.--*** [3, pág. 81] Se está financiando la compra de un carro nuevo con un leasing a tres años a una tasa nominal del 10.5%. El precio del carro es de `$` 7250. Se debe realizar un pago inicial de `$` 1500. ¿Cuánto es el pago mensual si los pagos se hacen al final del mes? "
   ]
  },
  {
   "cell_type": "code",
   "execution_count": 16,
   "metadata": {},
   "outputs": [
    {
     "data": {
      "text/plain": [
       "-186.88905015194922"
      ]
     },
     "execution_count": 16,
     "metadata": {},
     "output_type": "execute_result"
    }
   ],
   "source": [
    "cf.pvpmt(pval  = 5750,  # = 7250 - 1500\n",
    "         nrate =   10.5,   \n",
    "         nper  =   36,\n",
    "         pyr   =   12)"
   ]
  },
  {
   "cell_type": "code",
   "execution_count": 17,
   "metadata": {},
   "outputs": [
    {
     "data": {
      "text/plain": [
       "6.7512207241012856"
      ]
     },
     "execution_count": 17,
     "metadata": {},
     "output_type": "execute_result"
    }
   ],
   "source": [
    "## Si se desea reducir el pago períodico en $ 10, \n",
    "## ¿cuál tasa de interés debería obtenerse?\n",
    "cf.pvpmt(pval = 5750,\n",
    "         pmt  = -176.89,   \n",
    "         nper =   36,\n",
    "         pyr  =   12)"
   ]
  },
  {
   "cell_type": "markdown",
   "metadata": {
    "slideshow": {
     "slide_type": "slide"
    }
   },
   "source": [
    "***Ejercicio.--*** Se hará un préstamo de `$` 35000 para la compra de una turbina de generación a gas. Si la tasa nominal es del 10.5% con pagos pagos mensuales de `$` 550 al final de cada mes, ¿cuánto tiempo se requiere para cancelar la deuda?  "
   ]
  },
  {
   "cell_type": "markdown",
   "metadata": {
    "slideshow": {
     "slide_type": "slide"
    }
   },
   "source": [
    "### Función `pmtfv`\n",
    "\n",
    "`pmtfv(pmt=None, fval=None, nrate=None, nper=None, pyr=1, \n",
    "  noprint=True)`\n",
    "\n",
    "Calcula el parámetro faltante para el siguiente flujo de efectivo.\n",
    "\n",
    "<img src=\"images/pmtfv.png\" width=\"300\">\n",
    "\n",
    "Nomenclatura para los parámetros:\n",
    "\n",
    "* `pmt` -- pago períodico.\n",
    "* `fval` -- valor futuro.\n",
    "* `nper` -- cantidad de períodos.\n",
    "* `nrate` -- tasa nominal.\n",
    "* `pyr` -- número de períodos de capitalización por año."
   ]
  },
  {
   "cell_type": "markdown",
   "metadata": {
    "slideshow": {
     "slide_type": "slide"
    }
   },
   "source": [
    "***Ejemplo.--*** Si al principio de cada mes se ahorran `$` 1000, a una tasa nominal del 12% con capitalización mensual, ¿Cuánto se tendrá ahorrado al final del mes 12?"
   ]
  },
  {
   "cell_type": "code",
   "execution_count": 18,
   "metadata": {},
   "outputs": [
    {
     "data": {
      "text/plain": [
       "12809.328043328947"
      ]
     },
     "execution_count": 18,
     "metadata": {},
     "output_type": "execute_result"
    }
   ],
   "source": [
    "cf.pmtfv(pmt=-1000, nrate=12, nper=12, pyr=12, noprint=True)"
   ]
  },
  {
   "cell_type": "code",
   "execution_count": 19,
   "metadata": {
    "slideshow": {
     "slide_type": "fragment"
    }
   },
   "outputs": [
    {
     "name": "stdout",
     "output_type": "stream",
     "text": [
      "Present Value: .......     0.00\n",
      "Future Value: ........ 12809.33\n",
      "Payment: ............. -1000.00\n",
      "Due: .................      BEG\n",
      "No. of Periods: ......    12.00\n",
      "Compoundings per Year:    12\n",
      "Nominal Rate: .......     12.00\n",
      "Effective Rate: .....     12.68\n",
      "Periodic Rate: ......      1.00\n"
     ]
    }
   ],
   "source": [
    "cf.pmtfv(pmt=-1000, nrate=12, nper=12, pyr=12, noprint=False)"
   ]
  },
  {
   "cell_type": "markdown",
   "metadata": {
    "slideshow": {
     "slide_type": "slide"
    }
   },
   "source": [
    "### Función `tvmm`\n",
    "\n",
    "`tvmm(pval=None, fval=None, pmt=None, nrate=None, nper=None, \n",
    "  due=0, pyr=1, noprint=True)`\n",
    "\n",
    "Esta función calcula el parámetro faltante en el flujo de efectivo especificado por el parámetro `due`.\n",
    "\n",
    "<img src=\"images/tvmm.png\" width=\"600\">\n",
    "\n",
    "Nomenclatura para los parámetros:\n",
    "\n",
    "* `pval` -- valor presente.\n",
    "* `fval` -- valor futuro.\n",
    "* `pmt` -- pago períodico.\n",
    "* `nper` -- cantidad de períodos.\n",
    "* `nrate` -- tasa de interés por periodo.\n",
    "* `pyr` -- número de períodos por año.\n",
    "* `due` -- momento del período en que se paga la anualidad: `'end'` (o 0) indica el pago al final del período; `'begin'` (o 1) indica el pago al principio del período."
   ]
  },
  {
   "cell_type": "markdown",
   "metadata": {
    "slideshow": {
     "slide_type": "slide"
    }
   },
   "source": [
    "***Ejemplo.--*** [2, pág. 55] ¿Qué tasa de interés debe obtenerse para acumular `$` 10000 en 32 meses si se hace una inversión de `$` 6000? R/ 1.61%"
   ]
  },
  {
   "cell_type": "code",
   "execution_count": 20,
   "metadata": {},
   "outputs": [
    {
     "data": {
      "text/plain": [
       "19.309673922518478"
      ]
     },
     "execution_count": 20,
     "metadata": {},
     "output_type": "execute_result"
    }
   ],
   "source": [
    "cf.tvmm(pval = -6000,     # depósito inicial\n",
    "        nper =    32,     # número de períodos\n",
    "        pmt  =     0,     # pago períodico\n",
    "        fval = 10000,     # saldo final\n",
    "        pyr  =    12)     # capitalización mensual"
   ]
  },
  {
   "cell_type": "markdown",
   "metadata": {
    "slideshow": {
     "slide_type": "slide"
    }
   },
   "source": [
    "***Ejemplo.--*** [2, pág. 58] ¿Cuánto se puede pagar por una propiedad que generará un flujo neto anual de `$` 17500 durante 5 años, si al final la propiedad se puede vender en `$` 540.000? (la tasa nominal de interés es del 12%)  "
   ]
  },
  {
   "cell_type": "code",
   "execution_count": 21,
   "metadata": {},
   "outputs": [
    {
     "data": {
      "text/plain": [
       "-369494.08562908118"
      ]
     },
     "execution_count": 21,
     "metadata": {},
     "output_type": "execute_result"
    }
   ],
   "source": [
    "cf.tvmm(pmt   =  17500,   # pago períodico anual\n",
    "        fval  = 540000,   # valor de venta\n",
    "        nrate =     12.0, # tasa de interés\n",
    "        nper  =      5)   # numero de periodos"
   ]
  },
  {
   "cell_type": "markdown",
   "metadata": {
    "slideshow": {
     "slide_type": "slide"
    }
   },
   "source": [
    "***Ejemplo.--*** ¿Cuál es la amortización para los siguientes préstamos (`fval` es el pago final residual)? \n",
    "\n",
    "`\n",
    "plazo      5,        5,       6,       7\n",
    "pval     100,      110,     110,     105\n",
    "fval     -20,      -10,     -20,       0\n",
    "tasa       0.020,    0.017,   0.016,   0.017     \n",
    "`"
   ]
  },
  {
   "cell_type": "code",
   "execution_count": 22,
   "metadata": {},
   "outputs": [
    {
     "data": {
      "text/plain": [
       "[-17.372671528345773,\n",
       " -21.201461428344242,\n",
       " -16.1711096183316,\n",
       " -16.037190189122793]"
      ]
     },
     "execution_count": 22,
     "metadata": {},
     "output_type": "execute_result"
    }
   ],
   "source": [
    "cf.tvmm(pval  = [ 100,   110,   110,   105   ],\n",
    "        fval  = [ -20,   -10,   -20,     0   ],         \n",
    "        nper  = [   5,     5,     6,     7   ], \n",
    "        nrate = [   2.0,   1.7,   1.6,   1.7 ])"
   ]
  },
  {
   "cell_type": "markdown",
   "metadata": {
    "slideshow": {
     "slide_type": "slide"
    }
   },
   "source": [
    "***Ejercicio.--*** Se abre una cuenta hoy con un depósito de `$` 775. La tasa nominal es 6.25% con capitalización mensual. ¿Si se desea tener un capital de `$` 4000 en 60 meses, ¿Cuánto se debe depositar mensualmente (al final del mes)?"
   ]
  },
  {
   "cell_type": "markdown",
   "metadata": {
    "slideshow": {
     "slide_type": "slide"
    }
   },
   "source": [
    "### Función `amortize`\n",
    "\n",
    "`amortize(pval=None, fval=None, pmt=None, nrate=None,\n",
    "  nper=None, due=0, pyr=1, noprint=True)`\n",
    "\n",
    "Imprime la tabla de amortizaciones. Esta función usa los mismos parámetros de la función `tvmm`."
   ]
  },
  {
   "cell_type": "markdown",
   "metadata": {},
   "source": [
    "***Ejemplo.--*** Construya la tabla de amortización (balance) para un préstamo de  `$` 1000 a 6 meses con pagos mensuales iguales a una tasa de interés del 1% mensual. "
   ]
  },
  {
   "cell_type": "code",
   "execution_count": 23,
   "metadata": {
    "scrolled": true
   },
   "outputs": [
    {
     "name": "stdout",
     "output_type": "stream",
     "text": [
      "t      Beginning     Periodic     Interest    Principal        Final\n",
      "       Principal      Payment      Payment    Repayment    Principal\n",
      "          Amount       Amount                                 Amount\n",
      "--------------------------------------------------------------------\n",
      "0        1000.00         0.00         0.00         0.00      1000.00\n",
      "1        1000.00      -172.55        10.00      -162.55       837.45\n",
      "2         837.45      -172.55         8.37      -164.17       673.28\n",
      "3         673.28      -172.55         6.73      -165.82       507.46\n",
      "4         507.46      -172.55         5.07      -167.47       339.99\n",
      "5         339.99      -172.55         3.40      -169.15       170.84\n",
      "6         170.84      -172.55         1.71      -170.84         0.00\n"
     ]
    }
   ],
   "source": [
    "cf.amortize(pval=1000, fval=0, pmt=None, nrate=1.0, \n",
    "            nper=6, due=0, noprint=False)"
   ]
  },
  {
   "cell_type": "markdown",
   "metadata": {
    "slideshow": {
     "slide_type": "slide"
    }
   },
   "source": [
    "Las columnas de la tabla anterior pueden obtenerse a través de la llamada a la función."
   ]
  },
  {
   "cell_type": "code",
   "execution_count": 24,
   "metadata": {
    "collapsed": true
   },
   "outputs": [],
   "source": [
    "# principal, interest, payment, balance\n",
    "ppal, interest, payment, balance = cf.amortize(pval=1000, \n",
    "                                               fval=0, \n",
    "                                               pmt=None, \n",
    "                                               nrate=1.0, \n",
    "                                               nper=6, \n",
    "                                               due=0)"
   ]
  },
  {
   "cell_type": "code",
   "execution_count": 25,
   "metadata": {
    "scrolled": false
   },
   "outputs": [
    {
     "data": {
      "text/plain": [
       "[0,\n",
       " -162.54836671088106,\n",
       " -164.17385037798988,\n",
       " -165.81558888176977,\n",
       " -167.47374477058747,\n",
       " -169.14848221829334,\n",
       " -170.83996704047627]"
      ]
     },
     "execution_count": 25,
     "metadata": {},
     "output_type": "execute_result"
    }
   ],
   "source": [
    "ppal"
   ]
  },
  {
   "cell_type": "code",
   "execution_count": 26,
   "metadata": {},
   "outputs": [
    {
     "data": {
      "text/plain": [
       "-999.99999999999773"
      ]
     },
     "execution_count": 26,
     "metadata": {},
     "output_type": "execute_result"
    }
   ],
   "source": [
    "sum(ppal)"
   ]
  },
  {
   "cell_type": "code",
   "execution_count": 27,
   "metadata": {},
   "outputs": [
    {
     "data": {
      "text/plain": [
       "[0,\n",
       " 10.0,\n",
       " 8.37451633289119,\n",
       " 6.7327778291112912,\n",
       " 5.0746219402935928,\n",
       " 3.3998844925877183,\n",
       " 1.7083996704047848]"
      ]
     },
     "execution_count": 27,
     "metadata": {},
     "output_type": "execute_result"
    }
   ],
   "source": [
    "interest"
   ]
  },
  {
   "cell_type": "code",
   "execution_count": 28,
   "metadata": {},
   "outputs": [
    {
     "data": {
      "text/plain": [
       "35.290200265288583"
      ]
     },
     "execution_count": 28,
     "metadata": {},
     "output_type": "execute_result"
    }
   ],
   "source": [
    "sum(interest)"
   ]
  },
  {
   "cell_type": "code",
   "execution_count": 29,
   "metadata": {},
   "outputs": [
    {
     "data": {
      "text/plain": [
       "[0,\n",
       " -172.54836671088106,\n",
       " -172.54836671088106,\n",
       " -172.54836671088106,\n",
       " -172.54836671088106,\n",
       " -172.54836671088106,\n",
       " -172.54836671088106]"
      ]
     },
     "execution_count": 29,
     "metadata": {},
     "output_type": "execute_result"
    }
   ],
   "source": [
    "payment"
   ]
  },
  {
   "cell_type": "code",
   "execution_count": 30,
   "metadata": {},
   "outputs": [
    {
     "data": {
      "text/plain": [
       "-1035.2902002652863"
      ]
     },
     "execution_count": 30,
     "metadata": {},
     "output_type": "execute_result"
    }
   ],
   "source": [
    "sum(payment)"
   ]
  },
  {
   "cell_type": "markdown",
   "metadata": {
    "slideshow": {
     "slide_type": "slide"
    }
   },
   "source": [
    "Librería Cashflows\n",
    "===\n",
    "\n",
    "**Juan David Velásquez Henao**  \n",
    "jdvelasq@unal.edu.co   \n",
    "Universidad Nacional de Colombia, Sede Medellín  \n",
    "Facultad de Minas  \n",
    "Medellín, Colombia\n",
    "\n",
    "---\n",
    "\n",
    "Haga click [aquí](https://github.com/jdvelasq/ingenieria-economica/blob/master/02-cashflows.ipynb) para acceder a la última versión online\n",
    "\n",
    "Haga click [aquí](http://nbviewer.jupyter.org/github/jdvelasq/ingenieria-economica/blob/master/02-cashflows.ipynb) para ver la última versión online en `nbviewer`. \n",
    "\n",
    "---"
   ]
  },
  {
   "cell_type": "markdown",
   "metadata": {
    "slideshow": {
     "slide_type": "slide"
    }
   },
   "source": [
    "### Bibliografía utilizada\n",
    "\n",
    "* [1] SAS/ETS 14.1 User's Guide, 2015.   \n",
    "* [2] **hp** 12c platinum financial calculator. User's guide. \n",
    "* [3] HP Business Consultant II Owner's manual.\n",
    "* [4] C.S. Park and G.P. Sharp-Bette. Advanced Engineering Economics. John Wiley & Sons, Inc., 1990."
   ]
  }
 ],
 "metadata": {
  "anaconda-cloud": {},
  "kernelspec": {
   "display_name": "Python 3",
   "language": "python",
   "name": "python3"
  },
  "language_info": {
   "codemirror_mode": {
    "name": "ipython",
    "version": 3
   },
   "file_extension": ".py",
   "mimetype": "text/x-python",
   "name": "python",
   "nbconvert_exporter": "python",
   "pygments_lexer": "ipython3",
   "version": "3.6.1"
  }
 },
 "nbformat": 4,
 "nbformat_minor": 1
}
